{
 "cells": [
  {
   "cell_type": "code",
   "execution_count": 1,
   "metadata": {},
   "outputs": [],
   "source": [
    "import numpy as np"
   ]
  },
  {
   "cell_type": "code",
   "execution_count": 2,
   "metadata": {},
   "outputs": [],
   "source": [
    "num_filters = 2\n",
    "num_channels = 3\n",
    "filter_height = 3\n",
    "filter_width = 3"
   ]
  },
  {
   "cell_type": "code",
   "execution_count": 3,
   "metadata": {},
   "outputs": [],
   "source": [
    "weights = np.random.randint(0,10,(num_filters, num_channels, filter_height, filter_width))"
   ]
  },
  {
   "cell_type": "code",
   "execution_count": 4,
   "metadata": {},
   "outputs": [
    {
     "data": {
      "text/plain": [
       "array([[[[3, 2, 8],\n",
       "         [1, 1, 1],\n",
       "         [5, 5, 2]],\n",
       "\n",
       "        [[7, 8, 1],\n",
       "         [1, 8, 1],\n",
       "         [2, 7, 3]],\n",
       "\n",
       "        [[6, 3, 1],\n",
       "         [2, 7, 8],\n",
       "         [9, 1, 6]]],\n",
       "\n",
       "\n",
       "       [[[5, 5, 3],\n",
       "         [8, 3, 5],\n",
       "         [0, 6, 3]],\n",
       "\n",
       "        [[3, 3, 6],\n",
       "         [8, 0, 9],\n",
       "         [5, 6, 6]],\n",
       "\n",
       "        [[5, 3, 5],\n",
       "         [4, 3, 2],\n",
       "         [8, 5, 9]]]])"
      ]
     },
     "execution_count": 4,
     "metadata": {},
     "output_type": "execute_result"
    }
   ],
   "source": [
    "weights"
   ]
  },
  {
   "cell_type": "code",
   "execution_count": 5,
   "metadata": {},
   "outputs": [],
   "source": [
    "weights_col = weights.reshape(num_filters, -1)"
   ]
  },
  {
   "cell_type": "code",
   "execution_count": 6,
   "metadata": {},
   "outputs": [
    {
     "data": {
      "text/plain": [
       "array([[3, 2, 8, 1, 1, 1, 5, 5, 2, 7, 8, 1, 1, 8, 1, 2, 7, 3, 6, 3, 1, 2,\n",
       "        7, 8, 9, 1, 6],\n",
       "       [5, 5, 3, 8, 3, 5, 0, 6, 3, 3, 3, 6, 8, 0, 9, 5, 6, 6, 5, 3, 5, 4,\n",
       "        3, 2, 8, 5, 9]])"
      ]
     },
     "execution_count": 6,
     "metadata": {},
     "output_type": "execute_result"
    }
   ],
   "source": [
    "weights_col"
   ]
  },
  {
   "cell_type": "code",
   "execution_count": 7,
   "metadata": {},
   "outputs": [],
   "source": [
    "weights_col2 = weights.reshape((num_filters, -1))"
   ]
  },
  {
   "cell_type": "code",
   "execution_count": 8,
   "metadata": {},
   "outputs": [
    {
     "data": {
      "text/plain": [
       "array([[3, 2, 8, 1, 1, 1, 5, 5, 2, 7, 8, 1, 1, 8, 1, 2, 7, 3, 6, 3, 1, 2,\n",
       "        7, 8, 9, 1, 6],\n",
       "       [5, 5, 3, 8, 3, 5, 0, 6, 3, 3, 3, 6, 8, 0, 9, 5, 6, 6, 5, 3, 5, 4,\n",
       "        3, 2, 8, 5, 9]])"
      ]
     },
     "execution_count": 8,
     "metadata": {},
     "output_type": "execute_result"
    }
   ],
   "source": [
    "weights_col2"
   ]
  },
  {
   "cell_type": "code",
   "execution_count": 9,
   "metadata": {},
   "outputs": [
    {
     "data": {
      "text/plain": [
       "(2, 27)"
      ]
     },
     "execution_count": 9,
     "metadata": {},
     "output_type": "execute_result"
    }
   ],
   "source": [
    "weights_col.shape"
   ]
  },
  {
   "cell_type": "code",
   "execution_count": 10,
   "metadata": {},
   "outputs": [
    {
     "data": {
      "text/plain": [
       "(2, 27)"
      ]
     },
     "execution_count": 10,
     "metadata": {},
     "output_type": "execute_result"
    }
   ],
   "source": [
    "weights_col2.shape"
   ]
  },
  {
   "cell_type": "code",
   "execution_count": 11,
   "metadata": {},
   "outputs": [],
   "source": [
    "bias = np.random.randint(0,10,num_filters)"
   ]
  },
  {
   "cell_type": "code",
   "execution_count": 12,
   "metadata": {},
   "outputs": [
    {
     "data": {
      "text/plain": [
       "array([9, 3])"
      ]
     },
     "execution_count": 12,
     "metadata": {},
     "output_type": "execute_result"
    }
   ],
   "source": [
    "bias"
   ]
  },
  {
   "cell_type": "code",
   "execution_count": 13,
   "metadata": {},
   "outputs": [],
   "source": [
    "bias_col = bias.reshape(-1,1)"
   ]
  },
  {
   "cell_type": "code",
   "execution_count": 14,
   "metadata": {},
   "outputs": [
    {
     "data": {
      "text/plain": [
       "array([[9],\n",
       "       [3]])"
      ]
     },
     "execution_count": 14,
     "metadata": {},
     "output_type": "execute_result"
    }
   ],
   "source": [
    "bias_col"
   ]
  },
  {
   "cell_type": "code",
   "execution_count": 27,
   "metadata": {},
   "outputs": [],
   "source": [
    "batch_size = 2"
   ]
  },
  {
   "cell_type": "code",
   "execution_count": 28,
   "metadata": {},
   "outputs": [
    {
     "data": {
      "text/plain": [
       "array([[[[3, 1, 2, 4, 8],\n",
       "         [3, 3, 3, 5, 7],\n",
       "         [9, 5, 7, 0, 4],\n",
       "         [5, 9, 7, 4, 7],\n",
       "         [7, 7, 1, 7, 0]],\n",
       "\n",
       "        [[6, 2, 1, 2, 2],\n",
       "         [1, 6, 2, 3, 9],\n",
       "         [9, 3, 1, 0, 6],\n",
       "         [1, 5, 8, 5, 1],\n",
       "         [3, 7, 2, 4, 5]],\n",
       "\n",
       "        [[3, 3, 1, 3, 5],\n",
       "         [1, 8, 8, 4, 5],\n",
       "         [9, 9, 7, 5, 3],\n",
       "         [9, 8, 1, 1, 3],\n",
       "         [1, 4, 4, 7, 7]]],\n",
       "\n",
       "\n",
       "       [[[7, 1, 7, 4, 3],\n",
       "         [9, 7, 6, 2, 7],\n",
       "         [6, 5, 2, 6, 1],\n",
       "         [8, 2, 3, 4, 3],\n",
       "         [1, 8, 5, 8, 9]],\n",
       "\n",
       "        [[1, 7, 2, 0, 7],\n",
       "         [3, 3, 4, 9, 4],\n",
       "         [3, 3, 9, 4, 1],\n",
       "         [4, 0, 2, 8, 9],\n",
       "         [8, 9, 8, 0, 2]],\n",
       "\n",
       "        [[0, 5, 5, 8, 9],\n",
       "         [1, 1, 7, 1, 2],\n",
       "         [1, 8, 9, 4, 1],\n",
       "         [5, 7, 5, 1, 3],\n",
       "         [4, 5, 1, 1, 5]]]])"
      ]
     },
     "execution_count": 28,
     "metadata": {},
     "output_type": "execute_result"
    }
   ],
   "source": [
    "X = np.random.randint(0, 10, (batch_size, 3, 5, 5))\n",
    "X"
   ]
  },
  {
   "cell_type": "code",
   "execution_count": 16,
   "metadata": {},
   "outputs": [],
   "source": [
    "filter_h = 3\n",
    "filter_w = 3\n",
    "stride = 2\n",
    "padding = 1"
   ]
  },
  {
   "cell_type": "code",
   "execution_count": 17,
   "metadata": {},
   "outputs": [],
   "source": [
    "from codes.utils import *"
   ]
  },
  {
   "cell_type": "code",
   "execution_count": 29,
   "metadata": {},
   "outputs": [],
   "source": [
    "X_padded = np.pad(X, ((0, 0),\n",
    "                        (0, 0),\n",
    "                        (padding, padding),\n",
    "                        (padding, padding)\n",
    "                        ), 'constant')\n",
    "                        "
   ]
  },
  {
   "cell_type": "code",
   "execution_count": 76,
   "metadata": {},
   "outputs": [
    {
     "data": {
      "text/plain": [
       "array([[[[0, 0, 0, 0, 0, 0, 0],\n",
       "         [0, 3, 1, 2, 4, 8, 0],\n",
       "         [0, 3, 3, 3, 5, 7, 0],\n",
       "         [0, 9, 5, 7, 0, 4, 0],\n",
       "         [0, 5, 9, 7, 4, 7, 0],\n",
       "         [0, 7, 7, 1, 7, 0, 0],\n",
       "         [0, 0, 0, 0, 0, 0, 0]],\n",
       "\n",
       "        [[0, 0, 0, 0, 0, 0, 0],\n",
       "         [0, 6, 2, 1, 2, 2, 0],\n",
       "         [0, 1, 6, 2, 3, 9, 0],\n",
       "         [0, 9, 3, 1, 0, 6, 0],\n",
       "         [0, 1, 5, 8, 5, 1, 0],\n",
       "         [0, 3, 7, 2, 4, 5, 0],\n",
       "         [0, 0, 0, 0, 0, 0, 0]],\n",
       "\n",
       "        [[0, 0, 0, 0, 0, 0, 0],\n",
       "         [0, 3, 3, 1, 3, 5, 0],\n",
       "         [0, 1, 8, 8, 4, 5, 0],\n",
       "         [0, 9, 9, 7, 5, 3, 0],\n",
       "         [0, 9, 8, 1, 1, 3, 0],\n",
       "         [0, 1, 4, 4, 7, 7, 0],\n",
       "         [0, 0, 0, 0, 0, 0, 0]]],\n",
       "\n",
       "\n",
       "       [[[0, 0, 0, 0, 0, 0, 0],\n",
       "         [0, 7, 1, 7, 4, 3, 0],\n",
       "         [0, 9, 7, 6, 2, 7, 0],\n",
       "         [0, 6, 5, 2, 6, 1, 0],\n",
       "         [0, 8, 2, 3, 4, 3, 0],\n",
       "         [0, 1, 8, 5, 8, 9, 0],\n",
       "         [0, 0, 0, 0, 0, 0, 0]],\n",
       "\n",
       "        [[0, 0, 0, 0, 0, 0, 0],\n",
       "         [0, 1, 7, 2, 0, 7, 0],\n",
       "         [0, 3, 3, 4, 9, 4, 0],\n",
       "         [0, 3, 3, 9, 4, 1, 0],\n",
       "         [0, 4, 0, 2, 8, 9, 0],\n",
       "         [0, 8, 9, 8, 0, 2, 0],\n",
       "         [0, 0, 0, 0, 0, 0, 0]],\n",
       "\n",
       "        [[0, 0, 0, 0, 0, 0, 0],\n",
       "         [0, 0, 5, 5, 8, 9, 0],\n",
       "         [0, 1, 1, 7, 1, 2, 0],\n",
       "         [0, 1, 8, 9, 4, 1, 0],\n",
       "         [0, 5, 7, 5, 1, 3, 0],\n",
       "         [0, 4, 5, 1, 1, 5, 0],\n",
       "         [0, 0, 0, 0, 0, 0, 0]]]])"
      ]
     },
     "execution_count": 76,
     "metadata": {},
     "output_type": "execute_result"
    }
   ],
   "source": [
    "X_padded"
   ]
  },
  {
   "cell_type": "code",
   "execution_count": 31,
   "metadata": {},
   "outputs": [],
   "source": [
    "h, w, d = get_indices(X.shape, filter_h, filter_w, stride, padding)"
   ]
  },
  {
   "cell_type": "code",
   "execution_count": 32,
   "metadata": {},
   "outputs": [],
   "source": [
    "X_cols = X_padded[:, d, h, w]"
   ]
  },
  {
   "cell_type": "code",
   "execution_count": 33,
   "metadata": {},
   "outputs": [
    {
     "data": {
      "text/plain": [
       "array([[[0, 0, 0, 0, 3, 5, 0, 9, 4],\n",
       "        [0, 0, 0, 3, 3, 7, 5, 7, 7],\n",
       "        [0, 0, 0, 3, 5, 0, 9, 4, 0],\n",
       "        [0, 1, 4, 0, 5, 0, 0, 7, 7],\n",
       "        [3, 2, 8, 9, 7, 4, 7, 1, 0],\n",
       "        [1, 4, 0, 5, 0, 0, 7, 7, 0],\n",
       "        [0, 3, 5, 0, 9, 4, 0, 0, 0],\n",
       "        [3, 3, 7, 5, 7, 7, 0, 0, 0],\n",
       "        [3, 5, 0, 9, 4, 0, 0, 0, 0],\n",
       "        [0, 0, 0, 0, 6, 3, 0, 5, 5],\n",
       "        [0, 0, 0, 1, 2, 9, 1, 8, 1],\n",
       "        [0, 0, 0, 6, 3, 0, 5, 5, 0],\n",
       "        [0, 2, 2, 0, 3, 0, 0, 7, 4],\n",
       "        [6, 1, 2, 9, 1, 6, 3, 2, 5],\n",
       "        [2, 2, 0, 3, 0, 0, 7, 4, 0],\n",
       "        [0, 6, 3, 0, 5, 5, 0, 0, 0],\n",
       "        [1, 2, 9, 1, 8, 1, 0, 0, 0],\n",
       "        [6, 3, 0, 5, 5, 0, 0, 0, 0],\n",
       "        [0, 0, 0, 0, 8, 4, 0, 8, 1],\n",
       "        [0, 0, 0, 1, 8, 5, 9, 1, 3],\n",
       "        [0, 0, 0, 8, 4, 0, 8, 1, 0],\n",
       "        [0, 3, 3, 0, 9, 5, 0, 4, 7],\n",
       "        [3, 1, 5, 9, 7, 3, 1, 4, 7],\n",
       "        [3, 3, 0, 9, 5, 0, 4, 7, 0],\n",
       "        [0, 8, 4, 0, 8, 1, 0, 0, 0],\n",
       "        [1, 8, 5, 9, 1, 3, 0, 0, 0],\n",
       "        [8, 4, 0, 8, 1, 0, 0, 0, 0]],\n",
       "\n",
       "       [[0, 0, 0, 0, 7, 2, 0, 2, 4],\n",
       "        [0, 0, 0, 9, 6, 7, 8, 3, 3],\n",
       "        [0, 0, 0, 7, 2, 0, 2, 4, 0],\n",
       "        [0, 1, 4, 0, 5, 6, 0, 8, 8],\n",
       "        [7, 7, 3, 6, 2, 1, 1, 5, 9],\n",
       "        [1, 4, 0, 5, 6, 0, 8, 8, 0],\n",
       "        [0, 7, 2, 0, 2, 4, 0, 0, 0],\n",
       "        [9, 6, 7, 8, 3, 3, 0, 0, 0],\n",
       "        [7, 2, 0, 2, 4, 0, 0, 0, 0],\n",
       "        [0, 0, 0, 0, 3, 9, 0, 0, 8],\n",
       "        [0, 0, 0, 3, 4, 4, 4, 2, 9],\n",
       "        [0, 0, 0, 3, 9, 0, 0, 8, 0],\n",
       "        [0, 7, 0, 0, 3, 4, 0, 9, 0],\n",
       "        [1, 2, 7, 3, 9, 1, 8, 8, 2],\n",
       "        [7, 0, 0, 3, 4, 0, 9, 0, 0],\n",
       "        [0, 3, 9, 0, 0, 8, 0, 0, 0],\n",
       "        [3, 4, 4, 4, 2, 9, 0, 0, 0],\n",
       "        [3, 9, 0, 0, 8, 0, 0, 0, 0],\n",
       "        [0, 0, 0, 0, 1, 1, 0, 7, 1],\n",
       "        [0, 0, 0, 1, 7, 2, 5, 5, 3],\n",
       "        [0, 0, 0, 1, 1, 0, 7, 1, 0],\n",
       "        [0, 5, 8, 0, 8, 4, 0, 5, 1],\n",
       "        [0, 5, 9, 1, 9, 1, 4, 1, 5],\n",
       "        [5, 8, 0, 8, 4, 0, 5, 1, 0],\n",
       "        [0, 1, 1, 0, 7, 1, 0, 0, 0],\n",
       "        [1, 7, 2, 5, 5, 3, 0, 0, 0],\n",
       "        [1, 1, 0, 7, 1, 0, 0, 0, 0]]])"
      ]
     },
     "execution_count": 33,
     "metadata": {},
     "output_type": "execute_result"
    }
   ],
   "source": [
    "X_cols"
   ]
  },
  {
   "cell_type": "code",
   "execution_count": 34,
   "metadata": {},
   "outputs": [
    {
     "data": {
      "text/plain": [
       "(2, 27, 9)"
      ]
     },
     "execution_count": 34,
     "metadata": {},
     "output_type": "execute_result"
    }
   ],
   "source": [
    "X_cols.shape"
   ]
  },
  {
   "cell_type": "code",
   "execution_count": 41,
   "metadata": {},
   "outputs": [
    {
     "data": {
      "text/plain": [
       "array([[0, 0, 0, 0, 0, 0, 0, 0, 3, 7, 5, 2, 0, 0, 9, 2, 4, 4],\n",
       "       [0, 0, 0, 0, 0, 0, 3, 9, 3, 6, 7, 7, 5, 8, 7, 3, 7, 3],\n",
       "       [0, 0, 0, 0, 0, 0, 3, 7, 5, 2, 0, 0, 9, 2, 4, 4, 0, 0],\n",
       "       [0, 0, 1, 1, 4, 4, 0, 0, 5, 5, 0, 6, 0, 0, 7, 8, 7, 8],\n",
       "       [3, 7, 2, 7, 8, 3, 9, 6, 7, 2, 4, 1, 7, 1, 1, 5, 0, 9],\n",
       "       [1, 1, 4, 4, 0, 0, 5, 5, 0, 6, 0, 0, 7, 8, 7, 8, 0, 0],\n",
       "       [0, 0, 3, 7, 5, 2, 0, 0, 9, 2, 4, 4, 0, 0, 0, 0, 0, 0],\n",
       "       [3, 9, 3, 6, 7, 7, 5, 8, 7, 3, 7, 3, 0, 0, 0, 0, 0, 0],\n",
       "       [3, 7, 5, 2, 0, 0, 9, 2, 4, 4, 0, 0, 0, 0, 0, 0, 0, 0],\n",
       "       [0, 0, 0, 0, 0, 0, 0, 0, 6, 3, 3, 9, 0, 0, 5, 0, 5, 8],\n",
       "       [0, 0, 0, 0, 0, 0, 1, 3, 2, 4, 9, 4, 1, 4, 8, 2, 1, 9],\n",
       "       [0, 0, 0, 0, 0, 0, 6, 3, 3, 9, 0, 0, 5, 0, 5, 8, 0, 0],\n",
       "       [0, 0, 2, 7, 2, 0, 0, 0, 3, 3, 0, 4, 0, 0, 7, 9, 4, 0],\n",
       "       [6, 1, 1, 2, 2, 7, 9, 3, 1, 9, 6, 1, 3, 8, 2, 8, 5, 2],\n",
       "       [2, 7, 2, 0, 0, 0, 3, 3, 0, 4, 0, 0, 7, 9, 4, 0, 0, 0],\n",
       "       [0, 0, 6, 3, 3, 9, 0, 0, 5, 0, 5, 8, 0, 0, 0, 0, 0, 0],\n",
       "       [1, 3, 2, 4, 9, 4, 1, 4, 8, 2, 1, 9, 0, 0, 0, 0, 0, 0],\n",
       "       [6, 3, 3, 9, 0, 0, 5, 0, 5, 8, 0, 0, 0, 0, 0, 0, 0, 0],\n",
       "       [0, 0, 0, 0, 0, 0, 0, 0, 8, 1, 4, 1, 0, 0, 8, 7, 1, 1],\n",
       "       [0, 0, 0, 0, 0, 0, 1, 1, 8, 7, 5, 2, 9, 5, 1, 5, 3, 3],\n",
       "       [0, 0, 0, 0, 0, 0, 8, 1, 4, 1, 0, 0, 8, 7, 1, 1, 0, 0],\n",
       "       [0, 0, 3, 5, 3, 8, 0, 0, 9, 8, 5, 4, 0, 0, 4, 5, 7, 1],\n",
       "       [3, 0, 1, 5, 5, 9, 9, 1, 7, 9, 3, 1, 1, 4, 4, 1, 7, 5],\n",
       "       [3, 5, 3, 8, 0, 0, 9, 8, 5, 4, 0, 0, 4, 5, 7, 1, 0, 0],\n",
       "       [0, 0, 8, 1, 4, 1, 0, 0, 8, 7, 1, 1, 0, 0, 0, 0, 0, 0],\n",
       "       [1, 1, 8, 7, 5, 2, 9, 5, 1, 5, 3, 3, 0, 0, 0, 0, 0, 0],\n",
       "       [8, 1, 4, 1, 0, 0, 8, 7, 1, 1, 0, 0, 0, 0, 0, 0, 0, 0]])"
      ]
     },
     "execution_count": 41,
     "metadata": {},
     "output_type": "execute_result"
    }
   ],
   "source": [
    "X_cols.transpose(1, 2, 0).reshape(filter_h * filter_w * X.shape[1], -1)"
   ]
  },
  {
   "cell_type": "code",
   "execution_count": 40,
   "metadata": {},
   "outputs": [
    {
     "data": {
      "text/plain": [
       "27"
      ]
     },
     "execution_count": 40,
     "metadata": {},
     "output_type": "execute_result"
    }
   ],
   "source": [
    "filter_h * filter_w * X.shape[1]"
   ]
  },
  {
   "cell_type": "code",
   "execution_count": 35,
   "metadata": {},
   "outputs": [
    {
     "data": {
      "text/plain": [
       "(27, 18)"
      ]
     },
     "execution_count": 35,
     "metadata": {},
     "output_type": "execute_result"
    }
   ],
   "source": [
    "np.concatenate(X_cols, axis=-1).shape"
   ]
  },
  {
   "cell_type": "code",
   "execution_count": 79,
   "metadata": {},
   "outputs": [],
   "source": [
    "X_cols = im2col(X, filter_h, filter_w, stride, padding)"
   ]
  },
  {
   "cell_type": "code",
   "execution_count": null,
   "metadata": {},
   "outputs": [],
   "source": []
  },
  {
   "cell_type": "code",
   "execution_count": 19,
   "metadata": {},
   "outputs": [
    {
     "data": {
      "text/plain": [
       "array([[0, 0, 0, 0, 7, 9, 0, 1, 0],\n",
       "       [0, 0, 0, 6, 4, 6, 5, 3, 4],\n",
       "       [0, 0, 0, 7, 9, 0, 1, 0, 0],\n",
       "       [0, 8, 9, 0, 3, 9, 0, 9, 7],\n",
       "       [3, 9, 7, 0, 7, 8, 9, 2, 9],\n",
       "       [8, 9, 0, 3, 9, 0, 9, 7, 0],\n",
       "       [0, 7, 9, 0, 1, 0, 0, 0, 0],\n",
       "       [6, 4, 6, 5, 3, 4, 0, 0, 0],\n",
       "       [7, 9, 0, 1, 0, 0, 0, 0, 0],\n",
       "       [0, 0, 0, 0, 2, 7, 0, 5, 3],\n",
       "       [0, 0, 0, 2, 8, 8, 8, 1, 7],\n",
       "       [0, 0, 0, 2, 7, 0, 5, 3, 0],\n",
       "       [0, 5, 5, 0, 1, 2, 0, 0, 4],\n",
       "       [1, 2, 9, 8, 6, 5, 2, 7, 1],\n",
       "       [5, 5, 0, 1, 2, 0, 0, 4, 0],\n",
       "       [0, 2, 7, 0, 5, 3, 0, 0, 0],\n",
       "       [2, 8, 8, 8, 1, 7, 0, 0, 0],\n",
       "       [2, 7, 0, 5, 3, 0, 0, 0, 0],\n",
       "       [0, 0, 0, 0, 5, 6, 0, 3, 9],\n",
       "       [0, 0, 0, 4, 1, 9, 1, 4, 0],\n",
       "       [0, 0, 0, 5, 6, 0, 3, 9, 0],\n",
       "       [0, 4, 5, 0, 5, 2, 0, 0, 1],\n",
       "       [7, 6, 6, 0, 0, 0, 0, 7, 4],\n",
       "       [4, 5, 0, 5, 2, 0, 0, 1, 0],\n",
       "       [0, 5, 6, 0, 3, 9, 0, 0, 0],\n",
       "       [4, 1, 9, 1, 4, 0, 0, 0, 0],\n",
       "       [5, 6, 0, 3, 9, 0, 0, 0, 0]])"
      ]
     },
     "execution_count": 19,
     "metadata": {},
     "output_type": "execute_result"
    }
   ],
   "source": [
    "X_cols"
   ]
  },
  {
   "cell_type": "code",
   "execution_count": 84,
   "metadata": {},
   "outputs": [
    {
     "data": {
      "text/plain": [
       "(2, 27)"
      ]
     },
     "execution_count": 84,
     "metadata": {},
     "output_type": "execute_result"
    }
   ],
   "source": [
    "weights_col.shape"
   ]
  },
  {
   "cell_type": "code",
   "execution_count": 85,
   "metadata": {},
   "outputs": [
    {
     "data": {
      "text/plain": [
       "(27, 18)"
      ]
     },
     "execution_count": 85,
     "metadata": {},
     "output_type": "execute_result"
    }
   ],
   "source": [
    "X_cols.shape"
   ]
  },
  {
   "cell_type": "code",
   "execution_count": 86,
   "metadata": {},
   "outputs": [],
   "source": [
    "output_col = np.matmul(weights_col, X_cols) + bias_col"
   ]
  },
  {
   "cell_type": "code",
   "execution_count": 87,
   "metadata": {},
   "outputs": [
    {
     "data": {
      "text/plain": [
       "array([[203, 244, 250, 410, 579, 337, 223, 372, 207, 168, 305, 253, 342,\n",
       "        496, 296, 245, 254, 240],\n",
       "       [196, 325, 270, 443, 561, 271, 285, 440, 227, 227, 346, 232, 359,\n",
       "        563, 335, 257, 365, 213]])"
      ]
     },
     "execution_count": 87,
     "metadata": {},
     "output_type": "execute_result"
    }
   ],
   "source": [
    "output_col"
   ]
  },
  {
   "cell_type": "code",
   "execution_count": 88,
   "metadata": {},
   "outputs": [],
   "source": [
    "batch_size, num_channels, height, width = X.shape"
   ]
  },
  {
   "cell_type": "code",
   "execution_count": 89,
   "metadata": {},
   "outputs": [],
   "source": [
    "num_filters, num_channels, filter_h, filter_w = weights.shape"
   ]
  },
  {
   "cell_type": "code",
   "execution_count": 90,
   "metadata": {},
   "outputs": [],
   "source": [
    "output_height = int((height - filter_h + 2 * padding) / stride + 1)\n",
    "output_width = int((width - filter_w + 2 * padding) / stride + 1)"
   ]
  },
  {
   "cell_type": "code",
   "execution_count": 91,
   "metadata": {},
   "outputs": [],
   "source": [
    "output = np.zeros((batch_size, num_filters, output_height, output_width))"
   ]
  },
  {
   "cell_type": "code",
   "execution_count": 92,
   "metadata": {},
   "outputs": [],
   "source": [
    "X_padded = np.pad(X, ((0, 0),\n",
    "                        (0, 0),\n",
    "                        (padding, padding),\n",
    "                        (padding, padding)\n",
    "                        ), 'constant')"
   ]
  },
  {
   "cell_type": "code",
   "execution_count": 93,
   "metadata": {},
   "outputs": [],
   "source": [
    "biases = np.array([9,3])"
   ]
  },
  {
   "cell_type": "code",
   "execution_count": 94,
   "metadata": {},
   "outputs": [],
   "source": [
    "for sample_index in range(batch_size):\n",
    "            for filter_index in range(num_filters):\n",
    "                for h in range(output_height):\n",
    "                    for w in range(output_width):\n",
    "                        output[sample_index, filter_index, h, w] = np.sum(\n",
    "                            X_padded[sample_index,\n",
    "                                         :,\n",
    "                                         h * stride:h * stride + filter_height,\n",
    "                                         w * stride:w * stride + filter_width\n",
    "                                         ] * weights[filter_index]\n",
    "                        ) + biases[filter_index]"
   ]
  },
  {
   "cell_type": "code",
   "execution_count": 95,
   "metadata": {},
   "outputs": [
    {
     "data": {
      "text/plain": [
       "array([[[[203., 244., 250.],\n",
       "         [410., 579., 337.],\n",
       "         [223., 372., 207.]],\n",
       "\n",
       "        [[196., 325., 270.],\n",
       "         [443., 561., 271.],\n",
       "         [285., 440., 227.]]],\n",
       "\n",
       "\n",
       "       [[[168., 305., 253.],\n",
       "         [342., 496., 296.],\n",
       "         [245., 254., 240.]],\n",
       "\n",
       "        [[227., 346., 232.],\n",
       "         [359., 563., 335.],\n",
       "         [257., 365., 213.]]]])"
      ]
     },
     "execution_count": 95,
     "metadata": {},
     "output_type": "execute_result"
    }
   ],
   "source": [
    "output"
   ]
  },
  {
   "cell_type": "code",
   "execution_count": 96,
   "metadata": {},
   "outputs": [],
   "source": [
    "output_2 = output_col.reshape(batch_size, num_filters, output_height, output_width)"
   ]
  },
  {
   "cell_type": "code",
   "execution_count": 33,
   "metadata": {},
   "outputs": [
    {
     "data": {
      "text/plain": [
       "(1, 2, 3, 3)"
      ]
     },
     "execution_count": 33,
     "metadata": {},
     "output_type": "execute_result"
    }
   ],
   "source": [
    "output.shape"
   ]
  },
  {
   "cell_type": "code",
   "execution_count": 34,
   "metadata": {},
   "outputs": [
    {
     "data": {
      "text/plain": [
       "(1, 2, 3, 3)"
      ]
     },
     "execution_count": 34,
     "metadata": {},
     "output_type": "execute_result"
    }
   ],
   "source": [
    "output_2.shape"
   ]
  },
  {
   "cell_type": "code",
   "execution_count": 97,
   "metadata": {},
   "outputs": [
    {
     "data": {
      "text/plain": [
       "array([[[[203, 244, 250],\n",
       "         [410, 579, 337],\n",
       "         [223, 372, 207]],\n",
       "\n",
       "        [[168, 305, 253],\n",
       "         [342, 496, 296],\n",
       "         [245, 254, 240]]],\n",
       "\n",
       "\n",
       "       [[[196, 325, 270],\n",
       "         [443, 561, 271],\n",
       "         [285, 440, 227]],\n",
       "\n",
       "        [[227, 346, 232],\n",
       "         [359, 563, 335],\n",
       "         [257, 365, 213]]]])"
      ]
     },
     "execution_count": 97,
     "metadata": {},
     "output_type": "execute_result"
    }
   ],
   "source": [
    "output_2"
   ]
  },
  {
   "cell_type": "code",
   "execution_count": 36,
   "metadata": {},
   "outputs": [
    {
     "data": {
      "text/plain": [
       "(2, 9)"
      ]
     },
     "execution_count": 36,
     "metadata": {},
     "output_type": "execute_result"
    }
   ],
   "source": [
    "output_col.shape"
   ]
  },
  {
   "cell_type": "code",
   "execution_count": 40,
   "metadata": {},
   "outputs": [
    {
     "data": {
      "text/plain": [
       "(2, 9)"
      ]
     },
     "execution_count": 40,
     "metadata": {},
     "output_type": "execute_result"
    }
   ],
   "source": [
    "output_col.shape"
   ]
  },
  {
   "cell_type": "code",
   "execution_count": 42,
   "metadata": {},
   "outputs": [
    {
     "data": {
      "text/plain": [
       "array([[[208, 315, 247, 242, 374, 323, 110, 170, 165],\n",
       "        [192, 423, 343, 326, 483, 521, 160, 281, 269]]])"
      ]
     },
     "execution_count": 42,
     "metadata": {},
     "output_type": "execute_result"
    }
   ],
   "source": [
    "np.array(np.hsplit(output_col, batch_size))"
   ]
  },
  {
   "cell_type": "code",
   "execution_count": 44,
   "metadata": {},
   "outputs": [],
   "source": [
    "output_final = np.array(np.hsplit(output_col, batch_size)).reshape(batch_size, num_filters, output_height, output_width)"
   ]
  },
  {
   "cell_type": "code",
   "execution_count": 45,
   "metadata": {},
   "outputs": [
    {
     "data": {
      "text/plain": [
       "(1, 2, 3, 3)"
      ]
     },
     "execution_count": 45,
     "metadata": {},
     "output_type": "execute_result"
    }
   ],
   "source": [
    "output_final.shape"
   ]
  },
  {
   "cell_type": "code",
   "execution_count": 42,
   "metadata": {},
   "outputs": [],
   "source": [
    "from numpy.lib.stride_tricks import as_strided"
   ]
  },
  {
   "cell_type": "code",
   "execution_count": 43,
   "metadata": {},
   "outputs": [],
   "source": [
    "\n",
    "arr = np.arange(1, 25).reshape(4, 6) % 10\n"
   ]
  },
  {
   "cell_type": "code",
   "execution_count": 44,
   "metadata": {},
   "outputs": [
    {
     "data": {
      "text/plain": [
       "array([[1, 2, 3, 4, 5, 6],\n",
       "       [7, 8, 9, 0, 1, 2],\n",
       "       [3, 4, 5, 6, 7, 8],\n",
       "       [9, 0, 1, 2, 3, 4]], dtype=int32)"
      ]
     },
     "execution_count": 44,
     "metadata": {},
     "output_type": "execute_result"
    }
   ],
   "source": [
    "arr"
   ]
  },
  {
   "cell_type": "code",
   "execution_count": 48,
   "metadata": {},
   "outputs": [
    {
     "data": {
      "text/plain": [
       "(4, 6)"
      ]
     },
     "execution_count": 48,
     "metadata": {},
     "output_type": "execute_result"
    }
   ],
   "source": [
    "arr.shape"
   ]
  },
  {
   "cell_type": "code",
   "execution_count": 45,
   "metadata": {},
   "outputs": [],
   "source": [
    "sub_shape = (3, 3)"
   ]
  },
  {
   "cell_type": "code",
   "execution_count": 46,
   "metadata": {},
   "outputs": [],
   "source": [
    "\n",
    "view_shape = tuple(np.subtract(arr.shape, sub_shape) + 1) + sub_shape"
   ]
  },
  {
   "cell_type": "code",
   "execution_count": 47,
   "metadata": {},
   "outputs": [
    {
     "data": {
      "text/plain": [
       "(2, 4, 3, 3)"
      ]
     },
     "execution_count": 47,
     "metadata": {},
     "output_type": "execute_result"
    }
   ],
   "source": [
    "view_shape"
   ]
  },
  {
   "cell_type": "code",
   "execution_count": 56,
   "metadata": {},
   "outputs": [
    {
     "data": {
      "text/plain": [
       "(2, 4, 3, 3)"
      ]
     },
     "execution_count": 56,
     "metadata": {},
     "output_type": "execute_result"
    }
   ],
   "source": [
    "as_strided(arr, view_shape, arr.strides * 2).shape"
   ]
  },
  {
   "cell_type": "code",
   "execution_count": 51,
   "metadata": {},
   "outputs": [],
   "source": [
    "arr_view = as_strided(arr, view_shape, arr.strides * 2)"
   ]
  },
  {
   "cell_type": "code",
   "execution_count": 52,
   "metadata": {},
   "outputs": [
    {
     "data": {
      "text/plain": [
       "array([[[[1, 2, 3],\n",
       "         [7, 8, 9],\n",
       "         [3, 4, 5]],\n",
       "\n",
       "        [[2, 3, 4],\n",
       "         [8, 9, 0],\n",
       "         [4, 5, 6]],\n",
       "\n",
       "        [[3, 4, 5],\n",
       "         [9, 0, 1],\n",
       "         [5, 6, 7]],\n",
       "\n",
       "        [[4, 5, 6],\n",
       "         [0, 1, 2],\n",
       "         [6, 7, 8]]],\n",
       "\n",
       "\n",
       "       [[[7, 8, 9],\n",
       "         [3, 4, 5],\n",
       "         [9, 0, 1]],\n",
       "\n",
       "        [[8, 9, 0],\n",
       "         [4, 5, 6],\n",
       "         [0, 1, 2]],\n",
       "\n",
       "        [[9, 0, 1],\n",
       "         [5, 6, 7],\n",
       "         [1, 2, 3]],\n",
       "\n",
       "        [[0, 1, 2],\n",
       "         [6, 7, 8],\n",
       "         [2, 3, 4]]]], dtype=int32)"
      ]
     },
     "execution_count": 52,
     "metadata": {},
     "output_type": "execute_result"
    }
   ],
   "source": [
    "arr_view"
   ]
  },
  {
   "cell_type": "code",
   "execution_count": 53,
   "metadata": {},
   "outputs": [],
   "source": [
    "\n",
    "arr_view = arr_view.reshape((-1,) + sub_shape)"
   ]
  },
  {
   "cell_type": "code",
   "execution_count": 54,
   "metadata": {},
   "outputs": [
    {
     "data": {
      "text/plain": [
       "array([[[1, 2, 3],\n",
       "        [7, 8, 9],\n",
       "        [3, 4, 5]],\n",
       "\n",
       "       [[2, 3, 4],\n",
       "        [8, 9, 0],\n",
       "        [4, 5, 6]],\n",
       "\n",
       "       [[3, 4, 5],\n",
       "        [9, 0, 1],\n",
       "        [5, 6, 7]],\n",
       "\n",
       "       [[4, 5, 6],\n",
       "        [0, 1, 2],\n",
       "        [6, 7, 8]],\n",
       "\n",
       "       [[7, 8, 9],\n",
       "        [3, 4, 5],\n",
       "        [9, 0, 1]],\n",
       "\n",
       "       [[8, 9, 0],\n",
       "        [4, 5, 6],\n",
       "        [0, 1, 2]],\n",
       "\n",
       "       [[9, 0, 1],\n",
       "        [5, 6, 7],\n",
       "        [1, 2, 3]],\n",
       "\n",
       "       [[0, 1, 2],\n",
       "        [6, 7, 8],\n",
       "        [2, 3, 4]]], dtype=int32)"
      ]
     },
     "execution_count": 54,
     "metadata": {},
     "output_type": "execute_result"
    }
   ],
   "source": [
    "arr_view"
   ]
  },
  {
   "cell_type": "code",
   "execution_count": 55,
   "metadata": {},
   "outputs": [
    {
     "data": {
      "text/plain": [
       "(8, 3, 3)"
      ]
     },
     "execution_count": 55,
     "metadata": {},
     "output_type": "execute_result"
    }
   ],
   "source": [
    "arr_view.shape"
   ]
  },
  {
   "cell_type": "code",
   "execution_count": 58,
   "metadata": {},
   "outputs": [],
   "source": [
    "arr = np.arange(1, 26).reshape(5, 5)"
   ]
  },
  {
   "cell_type": "code",
   "execution_count": 59,
   "metadata": {},
   "outputs": [
    {
     "data": {
      "text/plain": [
       "array([[ 1,  2,  3,  4,  5],\n",
       "       [ 6,  7,  8,  9, 10],\n",
       "       [11, 12, 13, 14, 15],\n",
       "       [16, 17, 18, 19, 20],\n",
       "       [21, 22, 23, 24, 25]])"
      ]
     },
     "execution_count": 59,
     "metadata": {},
     "output_type": "execute_result"
    }
   ],
   "source": [
    "arr"
   ]
  },
  {
   "cell_type": "code",
   "execution_count": 73,
   "metadata": {},
   "outputs": [],
   "source": [
    "stride_count = 3"
   ]
  },
  {
   "cell_type": "code",
   "execution_count": 74,
   "metadata": {},
   "outputs": [],
   "source": [
    "new_stride = (arr.strides[0] * stride_count,arr.strides[1] * stride_count,arr.strides[0],arr.strides[1])"
   ]
  },
  {
   "cell_type": "code",
   "execution_count": 68,
   "metadata": {},
   "outputs": [
    {
     "data": {
      "text/plain": [
       "(40, 8, 20, 4)"
      ]
     },
     "execution_count": 68,
     "metadata": {},
     "output_type": "execute_result"
    }
   ],
   "source": [
    "new_stride"
   ]
  },
  {
   "cell_type": "code",
   "execution_count": 75,
   "metadata": {},
   "outputs": [
    {
     "data": {
      "text/plain": [
       "array([[[[          1,           2,           3],\n",
       "         [          6,           7,           8],\n",
       "         [         11,          12,          13]],\n",
       "\n",
       "        [[          4,           5,           6],\n",
       "         [          9,          10,          11],\n",
       "         [         14,          15,          16]]],\n",
       "\n",
       "\n",
       "       [[[         16,          17,          18],\n",
       "         [         21,          22,          23],\n",
       "         [  859202354,  1116456951, -1879046912]],\n",
       "\n",
       "        [[         19,          20,          21],\n",
       "         [         24,          25,   859202354],\n",
       "         [ -563353952,       32764, -2023983936]]]])"
      ]
     },
     "execution_count": 75,
     "metadata": {},
     "output_type": "execute_result"
    }
   ],
   "source": [
    "as_strided(arr, shape=(2,2,3,3), strides=new_stride)"
   ]
  }
 ],
 "metadata": {
  "kernelspec": {
   "display_name": "Python 3.10.5 64-bit",
   "language": "python",
   "name": "python3"
  },
  "language_info": {
   "codemirror_mode": {
    "name": "ipython",
    "version": 3
   },
   "file_extension": ".py",
   "mimetype": "text/x-python",
   "name": "python",
   "nbconvert_exporter": "python",
   "pygments_lexer": "ipython3",
   "version": "3.10.5"
  },
  "orig_nbformat": 4,
  "vscode": {
   "interpreter": {
    "hash": "df95319d8ce4e1d89f5365ae10992bc1f65da593082b1d264e8f529830ec2f02"
   }
  }
 },
 "nbformat": 4,
 "nbformat_minor": 2
}
