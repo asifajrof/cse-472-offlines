{
 "cells": [
  {
   "cell_type": "code",
   "execution_count": 1,
   "metadata": {},
   "outputs": [],
   "source": [
    "import numpy as np"
   ]
  },
  {
   "cell_type": "code",
   "execution_count": 2,
   "metadata": {},
   "outputs": [],
   "source": [
    "num_filters = 2\n",
    "num_channels = 3\n",
    "filter_height = 3\n",
    "filter_width = 3"
   ]
  },
  {
   "cell_type": "code",
   "execution_count": 3,
   "metadata": {},
   "outputs": [],
   "source": [
    "weights = np.random.randint(0,10,(num_filters, num_channels, filter_height, filter_width))"
   ]
  },
  {
   "cell_type": "code",
   "execution_count": 4,
   "metadata": {},
   "outputs": [
    {
     "data": {
      "text/plain": [
       "array([[[[0, 4, 8],\n",
       "         [4, 3, 0],\n",
       "         [0, 6, 7]],\n",
       "\n",
       "        [[9, 4, 0],\n",
       "         [7, 1, 1],\n",
       "         [0, 0, 1]],\n",
       "\n",
       "        [[0, 6, 2],\n",
       "         [1, 0, 5],\n",
       "         [4, 8, 9]]],\n",
       "\n",
       "\n",
       "       [[[3, 7, 7],\n",
       "         [4, 3, 3],\n",
       "         [0, 0, 4]],\n",
       "\n",
       "        [[9, 5, 0],\n",
       "         [7, 9, 6],\n",
       "         [0, 9, 1]],\n",
       "\n",
       "        [[8, 3, 0],\n",
       "         [4, 2, 4],\n",
       "         [9, 1, 7]]]])"
      ]
     },
     "execution_count": 4,
     "metadata": {},
     "output_type": "execute_result"
    }
   ],
   "source": [
    "weights"
   ]
  },
  {
   "cell_type": "code",
   "execution_count": 5,
   "metadata": {},
   "outputs": [],
   "source": [
    "weights_col = weights.reshape(num_filters, -1)"
   ]
  },
  {
   "cell_type": "code",
   "execution_count": 6,
   "metadata": {},
   "outputs": [
    {
     "data": {
      "text/plain": [
       "array([[0, 4, 8, 4, 3, 0, 0, 6, 7, 9, 4, 0, 7, 1, 1, 0, 0, 1, 0, 6, 2, 1,\n",
       "        0, 5, 4, 8, 9],\n",
       "       [3, 7, 7, 4, 3, 3, 0, 0, 4, 9, 5, 0, 7, 9, 6, 0, 9, 1, 8, 3, 0, 4,\n",
       "        2, 4, 9, 1, 7]])"
      ]
     },
     "execution_count": 6,
     "metadata": {},
     "output_type": "execute_result"
    }
   ],
   "source": [
    "weights_col"
   ]
  },
  {
   "cell_type": "code",
   "execution_count": 7,
   "metadata": {},
   "outputs": [],
   "source": [
    "weights_col2 = weights.reshape((num_filters, -1))"
   ]
  },
  {
   "cell_type": "code",
   "execution_count": 8,
   "metadata": {},
   "outputs": [
    {
     "data": {
      "text/plain": [
       "array([[0, 4, 8, 4, 3, 0, 0, 6, 7, 9, 4, 0, 7, 1, 1, 0, 0, 1, 0, 6, 2, 1,\n",
       "        0, 5, 4, 8, 9],\n",
       "       [3, 7, 7, 4, 3, 3, 0, 0, 4, 9, 5, 0, 7, 9, 6, 0, 9, 1, 8, 3, 0, 4,\n",
       "        2, 4, 9, 1, 7]])"
      ]
     },
     "execution_count": 8,
     "metadata": {},
     "output_type": "execute_result"
    }
   ],
   "source": [
    "weights_col2"
   ]
  },
  {
   "cell_type": "code",
   "execution_count": 9,
   "metadata": {},
   "outputs": [
    {
     "data": {
      "text/plain": [
       "(2, 27)"
      ]
     },
     "execution_count": 9,
     "metadata": {},
     "output_type": "execute_result"
    }
   ],
   "source": [
    "weights_col.shape"
   ]
  },
  {
   "cell_type": "code",
   "execution_count": 10,
   "metadata": {},
   "outputs": [
    {
     "data": {
      "text/plain": [
       "(2, 27)"
      ]
     },
     "execution_count": 10,
     "metadata": {},
     "output_type": "execute_result"
    }
   ],
   "source": [
    "weights_col2.shape"
   ]
  },
  {
   "cell_type": "code",
   "execution_count": 11,
   "metadata": {},
   "outputs": [],
   "source": [
    "bias = np.random.randint(0,10,num_filters)"
   ]
  },
  {
   "cell_type": "code",
   "execution_count": 12,
   "metadata": {},
   "outputs": [
    {
     "data": {
      "text/plain": [
       "array([9, 3])"
      ]
     },
     "execution_count": 12,
     "metadata": {},
     "output_type": "execute_result"
    }
   ],
   "source": [
    "bias"
   ]
  },
  {
   "cell_type": "code",
   "execution_count": 13,
   "metadata": {},
   "outputs": [],
   "source": [
    "bias_col = bias.reshape(-1,1)"
   ]
  },
  {
   "cell_type": "code",
   "execution_count": 14,
   "metadata": {},
   "outputs": [
    {
     "data": {
      "text/plain": [
       "array([[9],\n",
       "       [3]])"
      ]
     },
     "execution_count": 14,
     "metadata": {},
     "output_type": "execute_result"
    }
   ],
   "source": [
    "bias_col"
   ]
  },
  {
   "cell_type": "code",
   "execution_count": 15,
   "metadata": {},
   "outputs": [
    {
     "data": {
      "text/plain": [
       "array([[[[3, 8, 9, 9, 7],\n",
       "         [6, 7, 4, 9, 6],\n",
       "         [0, 3, 7, 9, 8],\n",
       "         [5, 1, 3, 0, 4],\n",
       "         [9, 9, 2, 7, 9]],\n",
       "\n",
       "        [[1, 5, 2, 5, 9],\n",
       "         [2, 2, 8, 7, 8],\n",
       "         [8, 1, 6, 2, 5],\n",
       "         [8, 5, 1, 3, 7],\n",
       "         [2, 0, 7, 4, 1]],\n",
       "\n",
       "        [[7, 4, 6, 5, 6],\n",
       "         [4, 5, 1, 6, 9],\n",
       "         [0, 5, 0, 2, 0],\n",
       "         [1, 3, 4, 9, 0],\n",
       "         [0, 0, 7, 1, 4]]]])"
      ]
     },
     "execution_count": 15,
     "metadata": {},
     "output_type": "execute_result"
    }
   ],
   "source": [
    "X = np.random.randint(0, 10, (1, 3, 5, 5))\n",
    "X"
   ]
  },
  {
   "cell_type": "code",
   "execution_count": 16,
   "metadata": {},
   "outputs": [],
   "source": [
    "filter_h = 3\n",
    "filter_w = 3\n",
    "stride = 2\n",
    "padding = 1"
   ]
  },
  {
   "cell_type": "code",
   "execution_count": 17,
   "metadata": {},
   "outputs": [],
   "source": [
    "from codes.utils import *"
   ]
  },
  {
   "cell_type": "code",
   "execution_count": 18,
   "metadata": {},
   "outputs": [],
   "source": [
    "X_cols = im2col(X, filter_h, filter_w, stride, padding)"
   ]
  },
  {
   "cell_type": "code",
   "execution_count": 19,
   "metadata": {},
   "outputs": [
    {
     "data": {
      "text/plain": [
       "array([[0, 0, 0, 0, 7, 9, 0, 1, 0],\n",
       "       [0, 0, 0, 6, 4, 6, 5, 3, 4],\n",
       "       [0, 0, 0, 7, 9, 0, 1, 0, 0],\n",
       "       [0, 8, 9, 0, 3, 9, 0, 9, 7],\n",
       "       [3, 9, 7, 0, 7, 8, 9, 2, 9],\n",
       "       [8, 9, 0, 3, 9, 0, 9, 7, 0],\n",
       "       [0, 7, 9, 0, 1, 0, 0, 0, 0],\n",
       "       [6, 4, 6, 5, 3, 4, 0, 0, 0],\n",
       "       [7, 9, 0, 1, 0, 0, 0, 0, 0],\n",
       "       [0, 0, 0, 0, 2, 7, 0, 5, 3],\n",
       "       [0, 0, 0, 2, 8, 8, 8, 1, 7],\n",
       "       [0, 0, 0, 2, 7, 0, 5, 3, 0],\n",
       "       [0, 5, 5, 0, 1, 2, 0, 0, 4],\n",
       "       [1, 2, 9, 8, 6, 5, 2, 7, 1],\n",
       "       [5, 5, 0, 1, 2, 0, 0, 4, 0],\n",
       "       [0, 2, 7, 0, 5, 3, 0, 0, 0],\n",
       "       [2, 8, 8, 8, 1, 7, 0, 0, 0],\n",
       "       [2, 7, 0, 5, 3, 0, 0, 0, 0],\n",
       "       [0, 0, 0, 0, 5, 6, 0, 3, 9],\n",
       "       [0, 0, 0, 4, 1, 9, 1, 4, 0],\n",
       "       [0, 0, 0, 5, 6, 0, 3, 9, 0],\n",
       "       [0, 4, 5, 0, 5, 2, 0, 0, 1],\n",
       "       [7, 6, 6, 0, 0, 0, 0, 7, 4],\n",
       "       [4, 5, 0, 5, 2, 0, 0, 1, 0],\n",
       "       [0, 5, 6, 0, 3, 9, 0, 0, 0],\n",
       "       [4, 1, 9, 1, 4, 0, 0, 0, 0],\n",
       "       [5, 6, 0, 3, 9, 0, 0, 0, 0]])"
      ]
     },
     "execution_count": 19,
     "metadata": {},
     "output_type": "execute_result"
    }
   ],
   "source": [
    "X_cols"
   ]
  },
  {
   "cell_type": "code",
   "execution_count": 20,
   "metadata": {},
   "outputs": [
    {
     "data": {
      "text/plain": [
       "(2, 27)"
      ]
     },
     "execution_count": 20,
     "metadata": {},
     "output_type": "execute_result"
    }
   ],
   "source": [
    "weights_col.shape"
   ]
  },
  {
   "cell_type": "code",
   "execution_count": 21,
   "metadata": {},
   "outputs": [
    {
     "data": {
      "text/plain": [
       "(27, 9)"
      ]
     },
     "execution_count": 21,
     "metadata": {},
     "output_type": "execute_result"
    }
   ],
   "source": [
    "X_cols.shape"
   ]
  },
  {
   "cell_type": "code",
   "execution_count": 22,
   "metadata": {},
   "outputs": [],
   "source": [
    "output_col = np.matmul(weights_col, X_cols) + bias_col"
   ]
  },
  {
   "cell_type": "code",
   "execution_count": 23,
   "metadata": {},
   "outputs": [
    {
     "data": {
      "text/plain": [
       "array([[208, 315, 247, 242, 374, 323, 110, 170, 165],\n",
       "       [192, 423, 343, 326, 483, 521, 160, 281, 269]])"
      ]
     },
     "execution_count": 23,
     "metadata": {},
     "output_type": "execute_result"
    }
   ],
   "source": [
    "output_col"
   ]
  },
  {
   "cell_type": "code",
   "execution_count": 24,
   "metadata": {},
   "outputs": [],
   "source": [
    "batch_size, num_channels, height, width = X.shape"
   ]
  },
  {
   "cell_type": "code",
   "execution_count": 25,
   "metadata": {},
   "outputs": [],
   "source": [
    "num_filters, num_channels, filter_h, filter_w = weights.shape"
   ]
  },
  {
   "cell_type": "code",
   "execution_count": 26,
   "metadata": {},
   "outputs": [],
   "source": [
    "output_height = int((height - filter_h + 2 * padding) / stride + 1)\n",
    "output_width = int((width - filter_w + 2 * padding) / stride + 1)"
   ]
  },
  {
   "cell_type": "code",
   "execution_count": 27,
   "metadata": {},
   "outputs": [],
   "source": [
    "output = np.zeros((batch_size, num_filters, output_height, output_width))"
   ]
  },
  {
   "cell_type": "code",
   "execution_count": 28,
   "metadata": {},
   "outputs": [],
   "source": [
    "X_padded = np.pad(X, ((0, 0),\n",
    "                        (0, 0),\n",
    "                        (padding, padding),\n",
    "                        (padding, padding)\n",
    "                        ), 'constant')"
   ]
  },
  {
   "cell_type": "code",
   "execution_count": 29,
   "metadata": {},
   "outputs": [],
   "source": [
    "biases = np.array([3,0])"
   ]
  },
  {
   "cell_type": "code",
   "execution_count": 30,
   "metadata": {},
   "outputs": [],
   "source": [
    "for sample_index in range(batch_size):\n",
    "            for filter_index in range(num_filters):\n",
    "                for h in range(output_height):\n",
    "                    for w in range(output_width):\n",
    "                        output[sample_index, filter_index, h, w] = np.sum(\n",
    "                            X_padded[sample_index,\n",
    "                                         :,\n",
    "                                         h * stride:h * stride + filter_height,\n",
    "                                         w * stride:w * stride + filter_width\n",
    "                                         ] * weights[filter_index]\n",
    "                        ) + biases[filter_index]"
   ]
  },
  {
   "cell_type": "code",
   "execution_count": 31,
   "metadata": {},
   "outputs": [
    {
     "data": {
      "text/plain": [
       "array([[[[202., 309., 241.],\n",
       "         [236., 368., 317.],\n",
       "         [104., 164., 159.]],\n",
       "\n",
       "        [[189., 420., 340.],\n",
       "         [323., 480., 518.],\n",
       "         [157., 278., 266.]]]])"
      ]
     },
     "execution_count": 31,
     "metadata": {},
     "output_type": "execute_result"
    }
   ],
   "source": [
    "output"
   ]
  },
  {
   "cell_type": "code",
   "execution_count": 32,
   "metadata": {},
   "outputs": [],
   "source": [
    "output_2 = output_col.reshape(batch_size, num_filters, output_height, output_width)"
   ]
  },
  {
   "cell_type": "code",
   "execution_count": 33,
   "metadata": {},
   "outputs": [
    {
     "data": {
      "text/plain": [
       "(1, 2, 3, 3)"
      ]
     },
     "execution_count": 33,
     "metadata": {},
     "output_type": "execute_result"
    }
   ],
   "source": [
    "output.shape"
   ]
  },
  {
   "cell_type": "code",
   "execution_count": 34,
   "metadata": {},
   "outputs": [
    {
     "data": {
      "text/plain": [
       "(1, 2, 3, 3)"
      ]
     },
     "execution_count": 34,
     "metadata": {},
     "output_type": "execute_result"
    }
   ],
   "source": [
    "output_2.shape"
   ]
  },
  {
   "cell_type": "code",
   "execution_count": 35,
   "metadata": {},
   "outputs": [
    {
     "data": {
      "text/plain": [
       "array([[[[208, 315, 247],\n",
       "         [242, 374, 323],\n",
       "         [110, 170, 165]],\n",
       "\n",
       "        [[192, 423, 343],\n",
       "         [326, 483, 521],\n",
       "         [160, 281, 269]]]])"
      ]
     },
     "execution_count": 35,
     "metadata": {},
     "output_type": "execute_result"
    }
   ],
   "source": [
    "output_2"
   ]
  },
  {
   "cell_type": "code",
   "execution_count": 36,
   "metadata": {},
   "outputs": [
    {
     "data": {
      "text/plain": [
       "(2, 9)"
      ]
     },
     "execution_count": 36,
     "metadata": {},
     "output_type": "execute_result"
    }
   ],
   "source": [
    "output_col.shape"
   ]
  },
  {
   "cell_type": "code",
   "execution_count": 40,
   "metadata": {},
   "outputs": [
    {
     "data": {
      "text/plain": [
       "(2, 9)"
      ]
     },
     "execution_count": 40,
     "metadata": {},
     "output_type": "execute_result"
    }
   ],
   "source": [
    "output_col.shape"
   ]
  },
  {
   "cell_type": "code",
   "execution_count": 42,
   "metadata": {},
   "outputs": [
    {
     "data": {
      "text/plain": [
       "array([[[208, 315, 247, 242, 374, 323, 110, 170, 165],\n",
       "        [192, 423, 343, 326, 483, 521, 160, 281, 269]]])"
      ]
     },
     "execution_count": 42,
     "metadata": {},
     "output_type": "execute_result"
    }
   ],
   "source": [
    "np.array(np.hsplit(output_col, batch_size))"
   ]
  },
  {
   "cell_type": "code",
   "execution_count": 44,
   "metadata": {},
   "outputs": [],
   "source": [
    "output_final = np.array(np.hsplit(output_col, batch_size)).reshape(batch_size, num_filters, output_height, output_width)"
   ]
  },
  {
   "cell_type": "code",
   "execution_count": 45,
   "metadata": {},
   "outputs": [
    {
     "data": {
      "text/plain": [
       "(1, 2, 3, 3)"
      ]
     },
     "execution_count": 45,
     "metadata": {},
     "output_type": "execute_result"
    }
   ],
   "source": [
    "output_final.shape"
   ]
  }
 ],
 "metadata": {
  "kernelspec": {
   "display_name": "Python 3.10.5 64-bit",
   "language": "python",
   "name": "python3"
  },
  "language_info": {
   "codemirror_mode": {
    "name": "ipython",
    "version": 3
   },
   "file_extension": ".py",
   "mimetype": "text/x-python",
   "name": "python",
   "nbconvert_exporter": "python",
   "pygments_lexer": "ipython3",
   "version": "3.10.5"
  },
  "orig_nbformat": 4,
  "vscode": {
   "interpreter": {
    "hash": "df95319d8ce4e1d89f5365ae10992bc1f65da593082b1d264e8f529830ec2f02"
   }
  }
 },
 "nbformat": 4,
 "nbformat_minor": 2
}
