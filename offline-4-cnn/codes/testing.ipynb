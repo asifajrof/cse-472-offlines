{
 "cells": [
  {
   "cell_type": "markdown",
   "metadata": {},
   "source": [
    "# imports"
   ]
  },
  {
   "cell_type": "code",
   "execution_count": 1,
   "metadata": {},
   "outputs": [],
   "source": [
    "import numpy as np"
   ]
  },
  {
   "cell_type": "markdown",
   "metadata": {},
   "source": [
    "# value initialization"
   ]
  },
  {
   "cell_type": "code",
   "execution_count": 2,
   "metadata": {},
   "outputs": [],
   "source": [
    "num_filters = 2\n",
    "num_channels = 3\n",
    "filter_height = 3\n",
    "filter_width = 3"
   ]
  },
  {
   "cell_type": "code",
   "execution_count": 3,
   "metadata": {},
   "outputs": [],
   "source": [
    "batch_size = 2\n",
    "height = 5\n",
    "width = 5"
   ]
  },
  {
   "cell_type": "code",
   "execution_count": 4,
   "metadata": {},
   "outputs": [],
   "source": [
    "filter_h = 3\n",
    "filter_w = 3\n",
    "stride = 2\n",
    "padding = 1"
   ]
  },
  {
   "cell_type": "code",
   "execution_count": 5,
   "metadata": {},
   "outputs": [],
   "source": [
    "output_height = int((height - filter_h + 2 * padding) / stride + 1)\n",
    "output_width = int((width - filter_w + 2 * padding) / stride + 1)"
   ]
  },
  {
   "cell_type": "markdown",
   "metadata": {},
   "source": [
    "# matrices initialization"
   ]
  },
  {
   "cell_type": "markdown",
   "metadata": {},
   "source": [
    "## weights"
   ]
  },
  {
   "cell_type": "code",
   "execution_count": 6,
   "metadata": {},
   "outputs": [],
   "source": [
    "weights = np.random.randint(0,10,(num_filters, num_channels, filter_height, filter_width))"
   ]
  },
  {
   "cell_type": "code",
   "execution_count": 7,
   "metadata": {},
   "outputs": [
    {
     "data": {
      "text/plain": [
       "array([[[[7, 3, 1],\n",
       "         [2, 6, 7],\n",
       "         [9, 8, 4]],\n",
       "\n",
       "        [[9, 5, 0],\n",
       "         [9, 1, 8],\n",
       "         [9, 8, 2]],\n",
       "\n",
       "        [[1, 4, 5],\n",
       "         [6, 7, 8],\n",
       "         [4, 6, 3]]],\n",
       "\n",
       "\n",
       "       [[[5, 1, 8],\n",
       "         [7, 6, 8],\n",
       "         [5, 4, 0]],\n",
       "\n",
       "        [[7, 0, 3],\n",
       "         [8, 7, 2],\n",
       "         [1, 8, 6]],\n",
       "\n",
       "        [[2, 5, 1],\n",
       "         [9, 2, 9],\n",
       "         [6, 8, 4]]]])"
      ]
     },
     "execution_count": 7,
     "metadata": {},
     "output_type": "execute_result"
    }
   ],
   "source": [
    "weights"
   ]
  },
  {
   "cell_type": "code",
   "execution_count": 8,
   "metadata": {},
   "outputs": [],
   "source": [
    "weights_col = weights.reshape((num_filters, -1))"
   ]
  },
  {
   "cell_type": "code",
   "execution_count": 9,
   "metadata": {},
   "outputs": [
    {
     "data": {
      "text/plain": [
       "array([[7, 3, 1, 2, 6, 7, 9, 8, 4, 9, 5, 0, 9, 1, 8, 9, 8, 2, 1, 4, 5, 6,\n",
       "        7, 8, 4, 6, 3],\n",
       "       [5, 1, 8, 7, 6, 8, 5, 4, 0, 7, 0, 3, 8, 7, 2, 1, 8, 6, 2, 5, 1, 9,\n",
       "        2, 9, 6, 8, 4]])"
      ]
     },
     "execution_count": 9,
     "metadata": {},
     "output_type": "execute_result"
    }
   ],
   "source": [
    "weights_col"
   ]
  },
  {
   "cell_type": "code",
   "execution_count": 10,
   "metadata": {},
   "outputs": [
    {
     "data": {
      "text/plain": [
       "(2, 27)"
      ]
     },
     "execution_count": 10,
     "metadata": {},
     "output_type": "execute_result"
    }
   ],
   "source": [
    "weights_col.shape"
   ]
  },
  {
   "cell_type": "markdown",
   "metadata": {},
   "source": [
    "## bias"
   ]
  },
  {
   "cell_type": "code",
   "execution_count": 11,
   "metadata": {},
   "outputs": [],
   "source": [
    "bias = np.random.randint(0,10,num_filters)"
   ]
  },
  {
   "cell_type": "code",
   "execution_count": 12,
   "metadata": {},
   "outputs": [
    {
     "data": {
      "text/plain": [
       "array([9, 4])"
      ]
     },
     "execution_count": 12,
     "metadata": {},
     "output_type": "execute_result"
    }
   ],
   "source": [
    "bias"
   ]
  },
  {
   "cell_type": "code",
   "execution_count": 13,
   "metadata": {},
   "outputs": [],
   "source": [
    "bias_col = bias.reshape(-1,1)"
   ]
  },
  {
   "cell_type": "code",
   "execution_count": 14,
   "metadata": {},
   "outputs": [
    {
     "data": {
      "text/plain": [
       "array([[9],\n",
       "       [4]])"
      ]
     },
     "execution_count": 14,
     "metadata": {},
     "output_type": "execute_result"
    }
   ],
   "source": [
    "bias_col"
   ]
  },
  {
   "cell_type": "markdown",
   "metadata": {},
   "source": [
    "## input"
   ]
  },
  {
   "cell_type": "code",
   "execution_count": 15,
   "metadata": {},
   "outputs": [
    {
     "data": {
      "text/plain": [
       "array([[[[4, 1, 1, 5, 9],\n",
       "         [1, 9, 9, 3, 9],\n",
       "         [8, 7, 3, 2, 3],\n",
       "         [1, 6, 2, 4, 9],\n",
       "         [7, 9, 4, 3, 7]],\n",
       "\n",
       "        [[4, 3, 9, 0, 9],\n",
       "         [9, 8, 6, 5, 3],\n",
       "         [5, 3, 5, 2, 9],\n",
       "         [1, 6, 9, 2, 0],\n",
       "         [5, 3, 1, 3, 2]],\n",
       "\n",
       "        [[1, 4, 7, 5, 6],\n",
       "         [3, 8, 9, 8, 4],\n",
       "         [8, 8, 3, 0, 4],\n",
       "         [6, 4, 8, 3, 1],\n",
       "         [1, 2, 2, 3, 9]]],\n",
       "\n",
       "\n",
       "       [[[7, 8, 7, 2, 2],\n",
       "         [5, 5, 1, 3, 8],\n",
       "         [7, 0, 7, 9, 3],\n",
       "         [0, 7, 4, 3, 2],\n",
       "         [6, 2, 6, 7, 8]],\n",
       "\n",
       "        [[7, 6, 6, 6, 0],\n",
       "         [1, 3, 1, 4, 3],\n",
       "         [9, 5, 2, 8, 9],\n",
       "         [7, 5, 5, 1, 3],\n",
       "         [8, 2, 5, 7, 6]],\n",
       "\n",
       "        [[4, 3, 5, 2, 1],\n",
       "         [0, 7, 8, 6, 1],\n",
       "         [1, 3, 8, 4, 1],\n",
       "         [7, 3, 6, 8, 9],\n",
       "         [1, 6, 5, 5, 2]]]])"
      ]
     },
     "execution_count": 15,
     "metadata": {},
     "output_type": "execute_result"
    }
   ],
   "source": [
    "X = np.random.randint(0, 10, (batch_size, num_channels, height, width))\n",
    "X"
   ]
  },
  {
   "cell_type": "markdown",
   "metadata": {},
   "source": [
    "# operations"
   ]
  },
  {
   "cell_type": "markdown",
   "metadata": {},
   "source": [
    "## convolve using im2col"
   ]
  },
  {
   "cell_type": "code",
   "execution_count": 16,
   "metadata": {},
   "outputs": [],
   "source": [
    "import utils"
   ]
  },
  {
   "cell_type": "code",
   "execution_count": 18,
   "metadata": {},
   "outputs": [],
   "source": [
    "X_cols = utils.im2col(X, filter_h, filter_w, stride, padding)"
   ]
  },
  {
   "cell_type": "code",
   "execution_count": 19,
   "metadata": {},
   "outputs": [
    {
     "data": {
      "text/plain": [
       "array([[0, 0, 0, 0, 0, 6, 0, 0, 7, 0, 0, 0, 0, 3, 9, 0, 0, 8],\n",
       "       [0, 0, 0, 5, 7, 1, 4, 0, 8, 0, 0, 0, 0, 9, 3, 5, 9, 0],\n",
       "       [0, 0, 0, 0, 6, 0, 0, 7, 0, 0, 0, 0, 3, 9, 0, 0, 8, 0],\n",
       "       [0, 0, 3, 0, 6, 9, 0, 1, 1, 0, 2, 0, 0, 4, 4, 0, 2, 0],\n",
       "       [6, 0, 4, 2, 0, 8, 8, 0, 8, 4, 8, 7, 8, 8, 1, 5, 6, 2],\n",
       "       [0, 3, 0, 6, 9, 0, 1, 1, 0, 2, 0, 0, 4, 4, 0, 2, 0, 0],\n",
       "       [0, 0, 6, 0, 0, 7, 0, 0, 0, 0, 3, 9, 0, 0, 8, 0, 0, 0],\n",
       "       [5, 7, 1, 4, 0, 8, 0, 0, 0, 0, 9, 3, 5, 9, 0, 0, 0, 0],\n",
       "       [0, 6, 0, 0, 7, 0, 0, 0, 0, 3, 9, 0, 0, 8, 0, 0, 0, 0],\n",
       "       [0, 0, 0, 0, 9, 1, 0, 4, 7, 0, 0, 0, 0, 0, 9, 0, 9, 9],\n",
       "       [0, 0, 0, 8, 2, 1, 9, 7, 4, 0, 0, 0, 8, 4, 6, 0, 6, 4],\n",
       "       [0, 0, 0, 9, 1, 0, 4, 7, 0, 0, 0, 0, 0, 9, 0, 9, 9, 0],\n",
       "       [0, 8, 0, 0, 6, 7, 0, 8, 6, 0, 7, 8, 0, 9, 3, 0, 6, 5],\n",
       "       [6, 7, 5, 1, 8, 0, 9, 9, 7, 3, 8, 8, 7, 4, 9, 5, 0, 2],\n",
       "       [8, 0, 0, 6, 7, 0, 8, 6, 0, 7, 8, 0, 9, 3, 0, 6, 5, 0],\n",
       "       [0, 9, 1, 0, 4, 7, 0, 0, 0, 0, 0, 9, 0, 9, 9, 0, 0, 0],\n",
       "       [8, 2, 1, 9, 7, 4, 0, 0, 0, 8, 4, 6, 0, 6, 4, 0, 0, 0],\n",
       "       [9, 1, 0, 4, 7, 0, 0, 0, 0, 0, 9, 0, 9, 9, 0, 0, 0, 0],\n",
       "       [0, 0, 0, 0, 9, 3, 0, 0, 4, 0, 0, 0, 0, 4, 5, 0, 8, 5],\n",
       "       [0, 0, 0, 8, 3, 0, 6, 7, 3, 0, 0, 0, 5, 6, 2, 4, 6, 6],\n",
       "       [0, 0, 0, 9, 3, 0, 0, 4, 0, 0, 0, 0, 4, 5, 0, 8, 5, 0],\n",
       "       [0, 8, 2, 0, 2, 6, 0, 0, 8, 0, 0, 1, 0, 9, 9, 0, 4, 1],\n",
       "       [5, 5, 6, 6, 4, 4, 0, 3, 4, 4, 2, 1, 4, 4, 5, 1, 5, 0],\n",
       "       [8, 2, 0, 2, 6, 0, 0, 8, 0, 0, 1, 0, 9, 9, 0, 4, 1, 0],\n",
       "       [0, 9, 3, 0, 0, 4, 0, 0, 0, 0, 4, 5, 0, 8, 5, 0, 0, 0],\n",
       "       [8, 3, 0, 6, 7, 3, 0, 0, 0, 5, 6, 2, 4, 6, 6, 0, 0, 0],\n",
       "       [9, 3, 0, 0, 4, 0, 0, 0, 0, 4, 5, 0, 8, 5, 0, 0, 0, 0]])"
      ]
     },
     "execution_count": 19,
     "metadata": {},
     "output_type": "execute_result"
    }
   ],
   "source": [
    "X_cols"
   ]
  },
  {
   "cell_type": "code",
   "execution_count": 20,
   "metadata": {},
   "outputs": [
    {
     "data": {
      "text/plain": [
       "(2, 27)"
      ]
     },
     "execution_count": 20,
     "metadata": {},
     "output_type": "execute_result"
    }
   ],
   "source": [
    "weights_col.shape"
   ]
  },
  {
   "cell_type": "code",
   "execution_count": 21,
   "metadata": {},
   "outputs": [
    {
     "data": {
      "text/plain": [
       "(27, 18)"
      ]
     },
     "execution_count": 21,
     "metadata": {},
     "output_type": "execute_result"
    }
   ],
   "source": [
    "X_cols.shape"
   ]
  },
  {
   "cell_type": "code",
   "execution_count": 22,
   "metadata": {},
   "outputs": [],
   "source": [
    "output_col = np.matmul(weights_col, X_cols) + bias_col"
   ]
  },
  {
   "cell_type": "code",
   "execution_count": 23,
   "metadata": {},
   "outputs": [
    {
     "data": {
      "text/plain": [
       "array([[260, 274, 177, 327, 514, 304, 177, 232, 267, 202, 324, 250, 267,\n",
       "        573, 388, 219, 345, 122],\n",
       "       [374, 318, 161, 415, 611, 288, 211, 336, 248, 238, 432, 210, 388,\n",
       "        668, 381, 272, 387, 168]])"
      ]
     },
     "execution_count": 23,
     "metadata": {},
     "output_type": "execute_result"
    }
   ],
   "source": [
    "output_col"
   ]
  },
  {
   "cell_type": "code",
   "execution_count": 30,
   "metadata": {},
   "outputs": [],
   "source": [
    "# output_im2col = output_col.reshape(batch_size, num_filters, output_height, output_width)"
   ]
  },
  {
   "cell_type": "code",
   "execution_count": 24,
   "metadata": {},
   "outputs": [],
   "source": [
    "output_im2col = np.array(np.hsplit(output_col, batch_size)).reshape(batch_size, num_filters, output_height, output_width)"
   ]
  },
  {
   "cell_type": "markdown",
   "metadata": {},
   "source": [
    "## convolve using loops"
   ]
  },
  {
   "cell_type": "code",
   "execution_count": 25,
   "metadata": {},
   "outputs": [],
   "source": [
    "batch_size, num_channels, height, width = X.shape"
   ]
  },
  {
   "cell_type": "code",
   "execution_count": 26,
   "metadata": {},
   "outputs": [],
   "source": [
    "num_filters, num_channels, filter_h, filter_w = weights.shape"
   ]
  },
  {
   "cell_type": "code",
   "execution_count": 28,
   "metadata": {},
   "outputs": [],
   "source": [
    "output = np.zeros((batch_size, num_filters, output_height, output_width))"
   ]
  },
  {
   "cell_type": "code",
   "execution_count": 16,
   "metadata": {},
   "outputs": [],
   "source": [
    "X_padded = np.pad(X, ((0, 0),\n",
    "                        (0, 0),\n",
    "                        (padding, padding),\n",
    "                        (padding, padding)\n",
    "                        ), 'constant')"
   ]
  },
  {
   "cell_type": "code",
   "execution_count": 17,
   "metadata": {},
   "outputs": [
    {
     "data": {
      "text/plain": [
       "array([[[[0, 0, 0, 0, 0, 0, 0],\n",
       "         [0, 4, 1, 1, 5, 9, 0],\n",
       "         [0, 1, 9, 9, 3, 9, 0],\n",
       "         [0, 8, 7, 3, 2, 3, 0],\n",
       "         [0, 1, 6, 2, 4, 9, 0],\n",
       "         [0, 7, 9, 4, 3, 7, 0],\n",
       "         [0, 0, 0, 0, 0, 0, 0]],\n",
       "\n",
       "        [[0, 0, 0, 0, 0, 0, 0],\n",
       "         [0, 4, 3, 9, 0, 9, 0],\n",
       "         [0, 9, 8, 6, 5, 3, 0],\n",
       "         [0, 5, 3, 5, 2, 9, 0],\n",
       "         [0, 1, 6, 9, 2, 0, 0],\n",
       "         [0, 5, 3, 1, 3, 2, 0],\n",
       "         [0, 0, 0, 0, 0, 0, 0]],\n",
       "\n",
       "        [[0, 0, 0, 0, 0, 0, 0],\n",
       "         [0, 1, 4, 7, 5, 6, 0],\n",
       "         [0, 3, 8, 9, 8, 4, 0],\n",
       "         [0, 8, 8, 3, 0, 4, 0],\n",
       "         [0, 6, 4, 8, 3, 1, 0],\n",
       "         [0, 1, 2, 2, 3, 9, 0],\n",
       "         [0, 0, 0, 0, 0, 0, 0]]],\n",
       "\n",
       "\n",
       "       [[[0, 0, 0, 0, 0, 0, 0],\n",
       "         [0, 7, 8, 7, 2, 2, 0],\n",
       "         [0, 5, 5, 1, 3, 8, 0],\n",
       "         [0, 7, 0, 7, 9, 3, 0],\n",
       "         [0, 0, 7, 4, 3, 2, 0],\n",
       "         [0, 6, 2, 6, 7, 8, 0],\n",
       "         [0, 0, 0, 0, 0, 0, 0]],\n",
       "\n",
       "        [[0, 0, 0, 0, 0, 0, 0],\n",
       "         [0, 7, 6, 6, 6, 0, 0],\n",
       "         [0, 1, 3, 1, 4, 3, 0],\n",
       "         [0, 9, 5, 2, 8, 9, 0],\n",
       "         [0, 7, 5, 5, 1, 3, 0],\n",
       "         [0, 8, 2, 5, 7, 6, 0],\n",
       "         [0, 0, 0, 0, 0, 0, 0]],\n",
       "\n",
       "        [[0, 0, 0, 0, 0, 0, 0],\n",
       "         [0, 4, 3, 5, 2, 1, 0],\n",
       "         [0, 0, 7, 8, 6, 1, 0],\n",
       "         [0, 1, 3, 8, 4, 1, 0],\n",
       "         [0, 7, 3, 6, 8, 9, 0],\n",
       "         [0, 1, 6, 5, 5, 2, 0],\n",
       "         [0, 0, 0, 0, 0, 0, 0]]]])"
      ]
     },
     "execution_count": 17,
     "metadata": {},
     "output_type": "execute_result"
    }
   ],
   "source": [
    "X_padded"
   ]
  },
  {
   "cell_type": "code",
   "execution_count": 18,
   "metadata": {},
   "outputs": [
    {
     "data": {
      "text/plain": [
       "(2, 3, 5, 5)"
      ]
     },
     "execution_count": 18,
     "metadata": {},
     "output_type": "execute_result"
    }
   ],
   "source": [
    "X.shape"
   ]
  },
  {
   "cell_type": "code",
   "execution_count": 19,
   "metadata": {},
   "outputs": [
    {
     "data": {
      "text/plain": [
       "(2, 3, 7, 7)"
      ]
     },
     "execution_count": 19,
     "metadata": {},
     "output_type": "execute_result"
    }
   ],
   "source": [
    "X_padded.shape"
   ]
  },
  {
   "cell_type": "code",
   "execution_count": 30,
   "metadata": {},
   "outputs": [
    {
     "data": {
      "text/plain": [
       "array([3, 2])"
      ]
     },
     "execution_count": 30,
     "metadata": {},
     "output_type": "execute_result"
    }
   ],
   "source": [
    "bias"
   ]
  },
  {
   "cell_type": "code",
   "execution_count": 25,
   "metadata": {},
   "outputs": [],
   "source": [
    "biases = bias"
   ]
  },
  {
   "cell_type": "code",
   "execution_count": 26,
   "metadata": {},
   "outputs": [
    {
     "data": {
      "text/plain": [
       "array([9, 4])"
      ]
     },
     "execution_count": 26,
     "metadata": {},
     "output_type": "execute_result"
    }
   ],
   "source": [
    "biases"
   ]
  },
  {
   "cell_type": "code",
   "execution_count": 29,
   "metadata": {},
   "outputs": [
    {
     "data": {
      "text/plain": [
       "(2, 2, 3, 3)"
      ]
     },
     "execution_count": 29,
     "metadata": {},
     "output_type": "execute_result"
    }
   ],
   "source": [
    "output.shape"
   ]
  },
  {
   "cell_type": "code",
   "execution_count": 30,
   "metadata": {},
   "outputs": [],
   "source": [
    "for sample_index in range(batch_size):\n",
    "            for filter_index in range(num_filters):\n",
    "                for h in range(output_height):\n",
    "                    for w in range(output_width):\n",
    "                        output[sample_index, filter_index, h, w] = np.sum(\n",
    "                            X_padded[sample_index,\n",
    "                                         :,\n",
    "                                         h * stride:h * stride + filter_height,\n",
    "                                         w * stride:w * stride + filter_width\n",
    "                                         ] * weights[filter_index]\n",
    "                        ) + biases[filter_index]"
   ]
  },
  {
   "cell_type": "code",
   "execution_count": 34,
   "metadata": {},
   "outputs": [
    {
     "data": {
      "text/plain": [
       "array([[[[260., 274., 177.],\n",
       "         [327., 514., 304.],\n",
       "         [177., 232., 267.]],\n",
       "\n",
       "        [[374., 318., 161.],\n",
       "         [415., 611., 288.],\n",
       "         [211., 336., 248.]]],\n",
       "\n",
       "\n",
       "       [[[202., 324., 250.],\n",
       "         [267., 573., 388.],\n",
       "         [219., 345., 122.]],\n",
       "\n",
       "        [[238., 432., 210.],\n",
       "         [388., 668., 381.],\n",
       "         [272., 387., 168.]]]])"
      ]
     },
     "execution_count": 34,
     "metadata": {},
     "output_type": "execute_result"
    }
   ],
   "source": [
    "output"
   ]
  },
  {
   "cell_type": "code",
   "execution_count": 35,
   "metadata": {},
   "outputs": [
    {
     "data": {
      "text/plain": [
       "(2, 2, 3, 3)"
      ]
     },
     "execution_count": 35,
     "metadata": {},
     "output_type": "execute_result"
    }
   ],
   "source": [
    "output.shape"
   ]
  },
  {
   "cell_type": "code",
   "execution_count": 36,
   "metadata": {},
   "outputs": [
    {
     "data": {
      "text/plain": [
       "(2, 2, 3, 3)"
      ]
     },
     "execution_count": 36,
     "metadata": {},
     "output_type": "execute_result"
    }
   ],
   "source": [
    "output_im2col.shape"
   ]
  },
  {
   "cell_type": "code",
   "execution_count": 37,
   "metadata": {},
   "outputs": [
    {
     "data": {
      "text/plain": [
       "array([[[[260, 274, 177],\n",
       "         [327, 514, 304],\n",
       "         [177, 232, 267]],\n",
       "\n",
       "        [[374, 318, 161],\n",
       "         [415, 611, 288],\n",
       "         [211, 336, 248]]],\n",
       "\n",
       "\n",
       "       [[[202, 324, 250],\n",
       "         [267, 573, 388],\n",
       "         [219, 345, 122]],\n",
       "\n",
       "        [[238, 432, 210],\n",
       "         [388, 668, 381],\n",
       "         [272, 387, 168]]]])"
      ]
     },
     "execution_count": 37,
     "metadata": {},
     "output_type": "execute_result"
    }
   ],
   "source": [
    "output_im2col"
   ]
  },
  {
   "cell_type": "code",
   "execution_count": 38,
   "metadata": {},
   "outputs": [
    {
     "data": {
      "text/plain": [
       "True"
      ]
     },
     "execution_count": 38,
     "metadata": {},
     "output_type": "execute_result"
    }
   ],
   "source": [
    "np.allclose(output, output_im2col)"
   ]
  },
  {
   "cell_type": "markdown",
   "metadata": {},
   "source": [
    "## convolve using as strided"
   ]
  },
  {
   "cell_type": "code",
   "execution_count": 4,
   "metadata": {},
   "outputs": [],
   "source": [
    "import numpy as np"
   ]
  },
  {
   "cell_type": "code",
   "execution_count": 3,
   "metadata": {},
   "outputs": [],
   "source": [
    "from numpy.lib.stride_tricks import as_strided"
   ]
  },
  {
   "cell_type": "code",
   "execution_count": 11,
   "metadata": {},
   "outputs": [],
   "source": [
    "\n",
    "arr = np.arange(1, 17).reshape(4, 4) % 10\n"
   ]
  },
  {
   "cell_type": "code",
   "execution_count": 12,
   "metadata": {},
   "outputs": [
    {
     "data": {
      "text/plain": [
       "array([[1, 2, 3, 4],\n",
       "       [5, 6, 7, 8],\n",
       "       [9, 0, 1, 2],\n",
       "       [3, 4, 5, 6]], dtype=int32)"
      ]
     },
     "execution_count": 12,
     "metadata": {},
     "output_type": "execute_result"
    }
   ],
   "source": [
    "arr"
   ]
  },
  {
   "cell_type": "code",
   "execution_count": 7,
   "metadata": {},
   "outputs": [
    {
     "data": {
      "text/plain": [
       "(24, 4)"
      ]
     },
     "execution_count": 7,
     "metadata": {},
     "output_type": "execute_result"
    }
   ],
   "source": [
    "arr.strides"
   ]
  },
  {
   "cell_type": "code",
   "execution_count": 48,
   "metadata": {},
   "outputs": [
    {
     "data": {
      "text/plain": [
       "(4, 6)"
      ]
     },
     "execution_count": 48,
     "metadata": {},
     "output_type": "execute_result"
    }
   ],
   "source": [
    "arr.shape"
   ]
  },
  {
   "cell_type": "code",
   "execution_count": 45,
   "metadata": {},
   "outputs": [],
   "source": [
    "sub_shape = (3, 3)"
   ]
  },
  {
   "cell_type": "code",
   "execution_count": 46,
   "metadata": {},
   "outputs": [],
   "source": [
    "\n",
    "view_shape = tuple(np.subtract(arr.shape, sub_shape) + 1) + sub_shape"
   ]
  },
  {
   "cell_type": "code",
   "execution_count": 47,
   "metadata": {},
   "outputs": [
    {
     "data": {
      "text/plain": [
       "(2, 4, 3, 3)"
      ]
     },
     "execution_count": 47,
     "metadata": {},
     "output_type": "execute_result"
    }
   ],
   "source": [
    "view_shape"
   ]
  },
  {
   "cell_type": "code",
   "execution_count": 56,
   "metadata": {},
   "outputs": [
    {
     "data": {
      "text/plain": [
       "(2, 4, 3, 3)"
      ]
     },
     "execution_count": 56,
     "metadata": {},
     "output_type": "execute_result"
    }
   ],
   "source": [
    "as_strided(arr, view_shape, arr.strides * 2).shape"
   ]
  },
  {
   "cell_type": "code",
   "execution_count": 51,
   "metadata": {},
   "outputs": [],
   "source": [
    "arr_view = as_strided(arr, view_shape, arr.strides * 2)"
   ]
  },
  {
   "cell_type": "code",
   "execution_count": 52,
   "metadata": {},
   "outputs": [
    {
     "data": {
      "text/plain": [
       "array([[[[1, 2, 3],\n",
       "         [7, 8, 9],\n",
       "         [3, 4, 5]],\n",
       "\n",
       "        [[2, 3, 4],\n",
       "         [8, 9, 0],\n",
       "         [4, 5, 6]],\n",
       "\n",
       "        [[3, 4, 5],\n",
       "         [9, 0, 1],\n",
       "         [5, 6, 7]],\n",
       "\n",
       "        [[4, 5, 6],\n",
       "         [0, 1, 2],\n",
       "         [6, 7, 8]]],\n",
       "\n",
       "\n",
       "       [[[7, 8, 9],\n",
       "         [3, 4, 5],\n",
       "         [9, 0, 1]],\n",
       "\n",
       "        [[8, 9, 0],\n",
       "         [4, 5, 6],\n",
       "         [0, 1, 2]],\n",
       "\n",
       "        [[9, 0, 1],\n",
       "         [5, 6, 7],\n",
       "         [1, 2, 3]],\n",
       "\n",
       "        [[0, 1, 2],\n",
       "         [6, 7, 8],\n",
       "         [2, 3, 4]]]], dtype=int32)"
      ]
     },
     "execution_count": 52,
     "metadata": {},
     "output_type": "execute_result"
    }
   ],
   "source": [
    "arr_view"
   ]
  },
  {
   "cell_type": "code",
   "execution_count": 53,
   "metadata": {},
   "outputs": [],
   "source": [
    "\n",
    "arr_view = arr_view.reshape((-1,) + sub_shape)"
   ]
  },
  {
   "cell_type": "code",
   "execution_count": 54,
   "metadata": {},
   "outputs": [
    {
     "data": {
      "text/plain": [
       "array([[[1, 2, 3],\n",
       "        [7, 8, 9],\n",
       "        [3, 4, 5]],\n",
       "\n",
       "       [[2, 3, 4],\n",
       "        [8, 9, 0],\n",
       "        [4, 5, 6]],\n",
       "\n",
       "       [[3, 4, 5],\n",
       "        [9, 0, 1],\n",
       "        [5, 6, 7]],\n",
       "\n",
       "       [[4, 5, 6],\n",
       "        [0, 1, 2],\n",
       "        [6, 7, 8]],\n",
       "\n",
       "       [[7, 8, 9],\n",
       "        [3, 4, 5],\n",
       "        [9, 0, 1]],\n",
       "\n",
       "       [[8, 9, 0],\n",
       "        [4, 5, 6],\n",
       "        [0, 1, 2]],\n",
       "\n",
       "       [[9, 0, 1],\n",
       "        [5, 6, 7],\n",
       "        [1, 2, 3]],\n",
       "\n",
       "       [[0, 1, 2],\n",
       "        [6, 7, 8],\n",
       "        [2, 3, 4]]], dtype=int32)"
      ]
     },
     "execution_count": 54,
     "metadata": {},
     "output_type": "execute_result"
    }
   ],
   "source": [
    "arr_view"
   ]
  },
  {
   "cell_type": "code",
   "execution_count": 55,
   "metadata": {},
   "outputs": [
    {
     "data": {
      "text/plain": [
       "(8, 3, 3)"
      ]
     },
     "execution_count": 55,
     "metadata": {},
     "output_type": "execute_result"
    }
   ],
   "source": [
    "arr_view.shape"
   ]
  },
  {
   "cell_type": "code",
   "execution_count": 58,
   "metadata": {},
   "outputs": [],
   "source": [
    "arr = np.arange(1, 26).reshape(5, 5)"
   ]
  },
  {
   "cell_type": "code",
   "execution_count": 13,
   "metadata": {},
   "outputs": [
    {
     "data": {
      "text/plain": [
       "array([[1, 2, 3, 4],\n",
       "       [5, 6, 7, 8],\n",
       "       [9, 0, 1, 2],\n",
       "       [3, 4, 5, 6]], dtype=int32)"
      ]
     },
     "execution_count": 13,
     "metadata": {},
     "output_type": "execute_result"
    }
   ],
   "source": [
    "arr"
   ]
  },
  {
   "cell_type": "code",
   "execution_count": 14,
   "metadata": {},
   "outputs": [],
   "source": [
    "stride_count = 2"
   ]
  },
  {
   "cell_type": "code",
   "execution_count": 15,
   "metadata": {},
   "outputs": [],
   "source": [
    "out_h = 2\n",
    "out_w = 2\n",
    "k_h = 2\n",
    "k_w = 2"
   ]
  },
  {
   "cell_type": "code",
   "execution_count": 16,
   "metadata": {},
   "outputs": [],
   "source": [
    "new_shape=(out_h, out_w, k_h, k_w)"
   ]
  },
  {
   "cell_type": "code",
   "execution_count": 17,
   "metadata": {},
   "outputs": [],
   "source": [
    "new_stride = (\n",
    "        arr.strides[0] * stride_count,\n",
    "        arr.strides[1] * stride_count,\n",
    "        arr.strides[0],\n",
    "        arr.strides[1]\n",
    "    )"
   ]
  },
  {
   "cell_type": "code",
   "execution_count": 18,
   "metadata": {},
   "outputs": [
    {
     "data": {
      "text/plain": [
       "(32, 8, 16, 4)"
      ]
     },
     "execution_count": 18,
     "metadata": {},
     "output_type": "execute_result"
    }
   ],
   "source": [
    "new_stride"
   ]
  },
  {
   "cell_type": "code",
   "execution_count": 19,
   "metadata": {},
   "outputs": [
    {
     "data": {
      "text/plain": [
       "array([[[[1, 2],\n",
       "         [5, 6]],\n",
       "\n",
       "        [[3, 4],\n",
       "         [7, 8]]],\n",
       "\n",
       "\n",
       "       [[[9, 0],\n",
       "         [3, 4]],\n",
       "\n",
       "        [[1, 2],\n",
       "         [5, 6]]]], dtype=int32)"
      ]
     },
     "execution_count": 19,
     "metadata": {},
     "output_type": "execute_result"
    }
   ],
   "source": [
    "as_strided(arr, new_shape, new_stride)"
   ]
  },
  {
   "cell_type": "code",
   "execution_count": null,
   "metadata": {},
   "outputs": [],
   "source": [
    "# input_strided -> (batch_size, num_channels, output_height, output_width, filter_height, filter_width)\n",
    "# weights -> (num_filters, num_channels, filter_height, filter_width)\n",
    "# output -> (batch_size, num_filters, output_height, output_width)"
   ]
  },
  {
   "cell_type": "code",
   "execution_count": 75,
   "metadata": {},
   "outputs": [
    {
     "data": {
      "text/plain": [
       "array([[[[          1,           2,           3],\n",
       "         [          6,           7,           8],\n",
       "         [         11,          12,          13]],\n",
       "\n",
       "        [[          4,           5,           6],\n",
       "         [          9,          10,          11],\n",
       "         [         14,          15,          16]]],\n",
       "\n",
       "\n",
       "       [[[         16,          17,          18],\n",
       "         [         21,          22,          23],\n",
       "         [  859202354,  1116456951, -1879046912]],\n",
       "\n",
       "        [[         19,          20,          21],\n",
       "         [         24,          25,   859202354],\n",
       "         [ -563353952,       32764, -2023983936]]]])"
      ]
     },
     "execution_count": 75,
     "metadata": {},
     "output_type": "execute_result"
    }
   ],
   "source": [
    "as_strided(arr, shape=(2,2,3,3), strides=new_stride)"
   ]
  },
  {
   "cell_type": "code",
   "execution_count": 100,
   "metadata": {},
   "outputs": [],
   "source": [
    "arr = np.random.randint(0,100,(batch_size, num_channels, height, width))"
   ]
  },
  {
   "cell_type": "code",
   "execution_count": 101,
   "metadata": {},
   "outputs": [
    {
     "data": {
      "text/plain": [
       "array([[[[85, 17, 40, 10, 77],\n",
       "         [ 3, 91, 82, 19, 29],\n",
       "         [47, 45, 21, 35, 80],\n",
       "         [63, 33, 89, 43, 18],\n",
       "         [94, 73, 32, 71, 15]],\n",
       "\n",
       "        [[87, 78,  2, 99, 29],\n",
       "         [59, 22, 92, 96, 22],\n",
       "         [77, 97, 27, 67, 81],\n",
       "         [88, 49, 91, 45, 54],\n",
       "         [78, 42, 91, 60, 49]],\n",
       "\n",
       "        [[79, 77, 76, 67,  7],\n",
       "         [ 6, 13, 11, 54, 46],\n",
       "         [34, 86, 75, 87, 13],\n",
       "         [12, 31, 84, 10, 53],\n",
       "         [89, 38, 24,  7, 75]]],\n",
       "\n",
       "\n",
       "       [[[81, 81, 45, 38, 49],\n",
       "         [73, 68, 44, 78, 74],\n",
       "         [56, 82, 83, 84, 33],\n",
       "         [86, 65, 68,  8, 75],\n",
       "         [67, 72, 58, 85, 44]],\n",
       "\n",
       "        [[36,  6,  7, 16, 32],\n",
       "         [48, 55, 61, 91, 11],\n",
       "         [15, 91, 64, 49, 81],\n",
       "         [26, 43, 31, 54, 42],\n",
       "         [56, 93, 29, 45,  1]],\n",
       "\n",
       "        [[38,  9, 25, 59, 88],\n",
       "         [ 6, 75, 42, 15, 72],\n",
       "         [56, 91, 74, 19, 75],\n",
       "         [ 0, 62, 98, 74, 94],\n",
       "         [57, 88,  0, 30, 88]]]])"
      ]
     },
     "execution_count": 101,
     "metadata": {},
     "output_type": "execute_result"
    }
   ],
   "source": [
    "arr"
   ]
  },
  {
   "cell_type": "code",
   "execution_count": 105,
   "metadata": {},
   "outputs": [],
   "source": [
    "# flattened array\n",
    "out_arr = arr.reshape(batch_size, -1)"
   ]
  },
  {
   "cell_type": "code",
   "execution_count": 109,
   "metadata": {},
   "outputs": [
    {
     "data": {
      "text/plain": [
       "array([[[[85, 17, 40, 10, 77],\n",
       "         [ 3, 91, 82, 19, 29],\n",
       "         [47, 45, 21, 35, 80],\n",
       "         [63, 33, 89, 43, 18],\n",
       "         [94, 73, 32, 71, 15]],\n",
       "\n",
       "        [[87, 78,  2, 99, 29],\n",
       "         [59, 22, 92, 96, 22],\n",
       "         [77, 97, 27, 67, 81],\n",
       "         [88, 49, 91, 45, 54],\n",
       "         [78, 42, 91, 60, 49]],\n",
       "\n",
       "        [[79, 77, 76, 67,  7],\n",
       "         [ 6, 13, 11, 54, 46],\n",
       "         [34, 86, 75, 87, 13],\n",
       "         [12, 31, 84, 10, 53],\n",
       "         [89, 38, 24,  7, 75]]],\n",
       "\n",
       "\n",
       "       [[[81, 81, 45, 38, 49],\n",
       "         [73, 68, 44, 78, 74],\n",
       "         [56, 82, 83, 84, 33],\n",
       "         [86, 65, 68,  8, 75],\n",
       "         [67, 72, 58, 85, 44]],\n",
       "\n",
       "        [[36,  6,  7, 16, 32],\n",
       "         [48, 55, 61, 91, 11],\n",
       "         [15, 91, 64, 49, 81],\n",
       "         [26, 43, 31, 54, 42],\n",
       "         [56, 93, 29, 45,  1]],\n",
       "\n",
       "        [[38,  9, 25, 59, 88],\n",
       "         [ 6, 75, 42, 15, 72],\n",
       "         [56, 91, 74, 19, 75],\n",
       "         [ 0, 62, 98, 74, 94],\n",
       "         [57, 88,  0, 30, 88]]]])"
      ]
     },
     "execution_count": 109,
     "metadata": {},
     "output_type": "execute_result"
    }
   ],
   "source": [
    "arr"
   ]
  },
  {
   "cell_type": "code",
   "execution_count": 108,
   "metadata": {},
   "outputs": [
    {
     "data": {
      "text/plain": [
       "array([[85, 17, 40, 10, 77,  3, 91, 82, 19, 29, 47, 45, 21, 35, 80, 63,\n",
       "        33, 89, 43, 18, 94, 73, 32, 71, 15, 87, 78,  2, 99, 29, 59, 22,\n",
       "        92, 96, 22, 77, 97, 27, 67, 81, 88, 49, 91, 45, 54, 78, 42, 91,\n",
       "        60, 49, 79, 77, 76, 67,  7,  6, 13, 11, 54, 46, 34, 86, 75, 87,\n",
       "        13, 12, 31, 84, 10, 53, 89, 38, 24,  7, 75],\n",
       "       [81, 81, 45, 38, 49, 73, 68, 44, 78, 74, 56, 82, 83, 84, 33, 86,\n",
       "        65, 68,  8, 75, 67, 72, 58, 85, 44, 36,  6,  7, 16, 32, 48, 55,\n",
       "        61, 91, 11, 15, 91, 64, 49, 81, 26, 43, 31, 54, 42, 56, 93, 29,\n",
       "        45,  1, 38,  9, 25, 59, 88,  6, 75, 42, 15, 72, 56, 91, 74, 19,\n",
       "        75,  0, 62, 98, 74, 94, 57, 88,  0, 30, 88]])"
      ]
     },
     "execution_count": 108,
     "metadata": {},
     "output_type": "execute_result"
    }
   ],
   "source": [
    "np.reshape(arr, (batch_size, np.prod(arr.shape[1:])))"
   ]
  },
  {
   "cell_type": "code",
   "execution_count": 106,
   "metadata": {},
   "outputs": [
    {
     "data": {
      "text/plain": [
       "array([[85, 17, 40, 10, 77,  3, 91, 82, 19, 29, 47, 45, 21, 35, 80, 63,\n",
       "        33, 89, 43, 18, 94, 73, 32, 71, 15, 87, 78,  2, 99, 29, 59, 22,\n",
       "        92, 96, 22, 77, 97, 27, 67, 81, 88, 49, 91, 45, 54, 78, 42, 91,\n",
       "        60, 49, 79, 77, 76, 67,  7,  6, 13, 11, 54, 46, 34, 86, 75, 87,\n",
       "        13, 12, 31, 84, 10, 53, 89, 38, 24,  7, 75],\n",
       "       [81, 81, 45, 38, 49, 73, 68, 44, 78, 74, 56, 82, 83, 84, 33, 86,\n",
       "        65, 68,  8, 75, 67, 72, 58, 85, 44, 36,  6,  7, 16, 32, 48, 55,\n",
       "        61, 91, 11, 15, 91, 64, 49, 81, 26, 43, 31, 54, 42, 56, 93, 29,\n",
       "        45,  1, 38,  9, 25, 59, 88,  6, 75, 42, 15, 72, 56, 91, 74, 19,\n",
       "        75,  0, 62, 98, 74, 94, 57, 88,  0, 30, 88]])"
      ]
     },
     "execution_count": 106,
     "metadata": {},
     "output_type": "execute_result"
    }
   ],
   "source": [
    "out_arr"
   ]
  },
  {
   "cell_type": "code",
   "execution_count": 107,
   "metadata": {},
   "outputs": [
    {
     "data": {
      "text/plain": [
       "(2, 75)"
      ]
     },
     "execution_count": 107,
     "metadata": {},
     "output_type": "execute_result"
    }
   ],
   "source": [
    "out_arr.shape"
   ]
  },
  {
   "cell_type": "code",
   "execution_count": 110,
   "metadata": {},
   "outputs": [
    {
     "data": {
      "text/plain": [
       "array([[85, 81],\n",
       "       [17, 81],\n",
       "       [40, 45],\n",
       "       [10, 38],\n",
       "       [77, 49],\n",
       "       [ 3, 73],\n",
       "       [91, 68],\n",
       "       [82, 44],\n",
       "       [19, 78],\n",
       "       [29, 74],\n",
       "       [47, 56],\n",
       "       [45, 82],\n",
       "       [21, 83],\n",
       "       [35, 84],\n",
       "       [80, 33],\n",
       "       [63, 86],\n",
       "       [33, 65],\n",
       "       [89, 68],\n",
       "       [43,  8],\n",
       "       [18, 75],\n",
       "       [94, 67],\n",
       "       [73, 72],\n",
       "       [32, 58],\n",
       "       [71, 85],\n",
       "       [15, 44],\n",
       "       [87, 36],\n",
       "       [78,  6],\n",
       "       [ 2,  7],\n",
       "       [99, 16],\n",
       "       [29, 32],\n",
       "       [59, 48],\n",
       "       [22, 55],\n",
       "       [92, 61],\n",
       "       [96, 91],\n",
       "       [22, 11],\n",
       "       [77, 15],\n",
       "       [97, 91],\n",
       "       [27, 64],\n",
       "       [67, 49],\n",
       "       [81, 81],\n",
       "       [88, 26],\n",
       "       [49, 43],\n",
       "       [91, 31],\n",
       "       [45, 54],\n",
       "       [54, 42],\n",
       "       [78, 56],\n",
       "       [42, 93],\n",
       "       [91, 29],\n",
       "       [60, 45],\n",
       "       [49,  1],\n",
       "       [79, 38],\n",
       "       [77,  9],\n",
       "       [76, 25],\n",
       "       [67, 59],\n",
       "       [ 7, 88],\n",
       "       [ 6,  6],\n",
       "       [13, 75],\n",
       "       [11, 42],\n",
       "       [54, 15],\n",
       "       [46, 72],\n",
       "       [34, 56],\n",
       "       [86, 91],\n",
       "       [75, 74],\n",
       "       [87, 19],\n",
       "       [13, 75],\n",
       "       [12,  0],\n",
       "       [31, 62],\n",
       "       [84, 98],\n",
       "       [10, 74],\n",
       "       [53, 94],\n",
       "       [89, 57],\n",
       "       [38, 88],\n",
       "       [24,  0],\n",
       "       [ 7, 30],\n",
       "       [75, 88]])"
      ]
     },
     "execution_count": 110,
     "metadata": {},
     "output_type": "execute_result"
    }
   ],
   "source": [
    "out_arr.T"
   ]
  },
  {
   "cell_type": "code",
   "execution_count": 112,
   "metadata": {},
   "outputs": [
    {
     "data": {
      "text/plain": [
       "(2, 3, 5, 5)"
      ]
     },
     "execution_count": 112,
     "metadata": {},
     "output_type": "execute_result"
    }
   ],
   "source": [
    "arr.shape"
   ]
  },
  {
   "cell_type": "code",
   "execution_count": 21,
   "metadata": {},
   "outputs": [],
   "source": [
    "X_strided = as_strided(\n",
    "                    X_padded, shape=(\n",
    "                                    batch_size,\n",
    "                                    num_channels,\n",
    "                                    output_height,\n",
    "                                    output_width,\n",
    "                                    filter_h,\n",
    "                                    filter_w\n",
    "                                ), strides=(\n",
    "                                    X.strides[0],\n",
    "                                    X.strides[1],\n",
    "                                    X.strides[2] * stride,\n",
    "                                    X.strides[3] * stride,\n",
    "                                    X.strides[2],\n",
    "                                    X.strides[3]\n",
    "                                )\n",
    "                    )"
   ]
  },
  {
   "cell_type": "code",
   "execution_count": 22,
   "metadata": {},
   "outputs": [
    {
     "data": {
      "text/plain": [
       "(2, 3, 3, 3, 3, 3)"
      ]
     },
     "execution_count": 22,
     "metadata": {},
     "output_type": "execute_result"
    }
   ],
   "source": [
    "X_strided.shape"
   ]
  },
  {
   "cell_type": "code",
   "execution_count": 23,
   "metadata": {},
   "outputs": [],
   "source": [
    "output_strided = np.einsum('bcklmn,fcmn->bfkl', X_strided, weights)"
   ]
  },
  {
   "cell_type": "code",
   "execution_count": 24,
   "metadata": {},
   "outputs": [
    {
     "data": {
      "text/plain": [
       "(2, 2, 3, 3)"
      ]
     },
     "execution_count": 24,
     "metadata": {},
     "output_type": "execute_result"
    }
   ],
   "source": [
    "output_strided.shape"
   ]
  },
  {
   "cell_type": "code",
   "execution_count": 32,
   "metadata": {},
   "outputs": [
    {
     "data": {
      "text/plain": [
       "array([[[[281., 606., 378.],\n",
       "         [464., 740., 362.],\n",
       "         [224., 376., 247.]],\n",
       "\n",
       "        [[288., 558., 373.],\n",
       "         [469., 674., 302.],\n",
       "         [280., 364., 204.]]],\n",
       "\n",
       "\n",
       "       [[[309., 460., 279.],\n",
       "         [336., 739., 425.],\n",
       "         [223., 489., 279.]],\n",
       "\n",
       "        [[280., 469., 217.],\n",
       "         [363., 610., 486.],\n",
       "         [281., 429., 333.]]]])"
      ]
     },
     "execution_count": 32,
     "metadata": {},
     "output_type": "execute_result"
    }
   ],
   "source": [
    "output"
   ]
  },
  {
   "cell_type": "code",
   "execution_count": 33,
   "metadata": {},
   "outputs": [
    {
     "data": {
      "text/plain": [
       "array([[[[366, 420, 493],\n",
       "         [485, 547, 320],\n",
       "         [261, 361, 401]],\n",
       "\n",
       "        [[327, 393, 447],\n",
       "         [524, 464, 373],\n",
       "         [337, 306, 354]]],\n",
       "\n",
       "\n",
       "       [[[337, 309, 412],\n",
       "         [387, 143, 239],\n",
       "         [316, 309, 369]],\n",
       "\n",
       "        [[253, 368, 395],\n",
       "         [321, 158, 166],\n",
       "         [226, 245, 299]]]])"
      ]
     },
     "execution_count": 33,
     "metadata": {},
     "output_type": "execute_result"
    }
   ],
   "source": [
    "output_strided"
   ]
  },
  {
   "cell_type": "code",
   "execution_count": 31,
   "metadata": {},
   "outputs": [
    {
     "data": {
      "text/plain": [
       "False"
      ]
     },
     "execution_count": 31,
     "metadata": {},
     "output_type": "execute_result"
    }
   ],
   "source": [
    "np.allclose(output, output_strided)"
   ]
  },
  {
   "cell_type": "markdown",
   "metadata": {},
   "source": [
    "# outside codes"
   ]
  },
  {
   "cell_type": "code",
   "execution_count": 65,
   "metadata": {},
   "outputs": [],
   "source": [
    "import numpy as np\n",
    "import math\n",
    "class ConvolutionLayer():\n",
    "    def __init__(self, num_filters, kernel_size, stride=1, padding=0):\n",
    "        self.num_filters = num_filters\n",
    "        self.kernel_size = kernel_size\n",
    "        self.stride = stride\n",
    "        self.padding = padding\n",
    "        self.weights = weights.transpose(0,2,3,1)\n",
    "        self.biases = biases\n",
    "        self.weights_matrix = None\n",
    "        self.biases_vector = None\n",
    "        self.u_pad = None\n",
    "\n",
    "    def __str__(self):\n",
    "        return f'Conv(filter={self.num_filters}, kernel={self.kernel_size}, stride={self.stride}, padding={self.padding})'\n",
    "\n",
    "    def forward(self, u):\n",
    "        num_samples = u.shape[0]\n",
    "        input_dim = u.shape[1]\n",
    "        output_dim = math.floor(\n",
    "            (input_dim - self.kernel_size + 2 * self.padding) / self.stride) + 1\n",
    "        num_channels = u.shape[3]\n",
    "\n",
    "        if self.weights is None:\n",
    "            # ref: https://cs231n.github.io/neural-networks-2/#init\n",
    "            # ref: https://stats.stackexchange.com/questions/198840/cnn-xavier-weight-initialization\n",
    "            self.weights = np.random.randn(self.num_filters, self.kernel_size, self.kernel_size,\n",
    "                                           num_channels) * np.sqrt(2 / (self.kernel_size * self.kernel_size * num_channels))\n",
    "        if self.biases is None:\n",
    "            # ref: https://cs231n.github.io/neural-networks-2/#init\n",
    "            self.biases = np.zeros(self.num_filters)\n",
    "\n",
    "        self.u_pad = np.pad(\n",
    "            u, ((0,), (self.padding,), (self.padding,), (0,)), mode='constant')\n",
    "        v = np.zeros((num_samples, output_dim, output_dim, self.num_filters))\n",
    "\n",
    "        for k in range(num_samples):\n",
    "            for l in range(self.num_filters):\n",
    "                for i in range(output_dim):\n",
    "                    for j in range(output_dim):\n",
    "                        v[k, i, j, l] = np.sum(\n",
    "                            self.u_pad[k,\n",
    "                                       i * self.stride: i * self.stride + self.kernel_size,\n",
    "                                       j * self.stride: j * self.stride + self.kernel_size,\n",
    "                                       :\n",
    "                                       ] * self.weights[l]) + self.biases[l]\n",
    "\n",
    "        return v"
   ]
  },
  {
   "cell_type": "code",
   "execution_count": 66,
   "metadata": {},
   "outputs": [],
   "source": [
    "sahil_conv = ConvolutionLayer(num_filters=num_filters, kernel_size=filter_h, stride=stride, padding=padding)"
   ]
  },
  {
   "cell_type": "code",
   "execution_count": 67,
   "metadata": {},
   "outputs": [
    {
     "name": "stdout",
     "output_type": "stream",
     "text": [
      "Conv(filter=2, kernel=3, stride=2, padding=1)\n"
     ]
    }
   ],
   "source": [
    "print(sahil_conv)"
   ]
  },
  {
   "cell_type": "code",
   "execution_count": 68,
   "metadata": {},
   "outputs": [
    {
     "data": {
      "text/plain": [
       "(2, 3, 3, 3)"
      ]
     },
     "execution_count": 68,
     "metadata": {},
     "output_type": "execute_result"
    }
   ],
   "source": [
    "sahil_conv.weights.shape"
   ]
  },
  {
   "cell_type": "code",
   "execution_count": 59,
   "metadata": {},
   "outputs": [
    {
     "data": {
      "text/plain": [
       "array([[[[136., 143.],\n",
       "         [320., 233.],\n",
       "         [310., 289.]],\n",
       "\n",
       "        [[288., 279.],\n",
       "         [487., 487.],\n",
       "         [468., 453.]],\n",
       "\n",
       "        [[220., 193.],\n",
       "         [328., 281.],\n",
       "         [186., 188.]]],\n",
       "\n",
       "\n",
       "       [[[240., 385.],\n",
       "         [273., 272.],\n",
       "         [334., 326.]],\n",
       "\n",
       "        [[408., 349.],\n",
       "         [534., 508.],\n",
       "         [490., 537.]],\n",
       "\n",
       "        [[346., 266.],\n",
       "         [424., 308.],\n",
       "         [298., 293.]]]])"
      ]
     },
     "execution_count": 59,
     "metadata": {},
     "output_type": "execute_result"
    }
   ],
   "source": [
    "sahil_conv.forward(X.transpose(0,2,3,1))"
   ]
  },
  {
   "cell_type": "code",
   "execution_count": 73,
   "metadata": {},
   "outputs": [
    {
     "data": {
      "text/plain": [
       "array([[[[4, 1, 3],\n",
       "         [0, 7, 5],\n",
       "         [9, 5, 0],\n",
       "         [2, 5, 9],\n",
       "         [0, 9, 6]],\n",
       "\n",
       "        [[0, 0, 7],\n",
       "         [2, 5, 0],\n",
       "         [9, 0, 2],\n",
       "         [4, 9, 4],\n",
       "         [7, 5, 9]],\n",
       "\n",
       "        [[7, 8, 4],\n",
       "         [0, 3, 0],\n",
       "         [4, 7, 7],\n",
       "         [6, 7, 3],\n",
       "         [4, 8, 6]],\n",
       "\n",
       "        [[6, 5, 3],\n",
       "         [3, 4, 4],\n",
       "         [7, 2, 9],\n",
       "         [7, 6, 0],\n",
       "         [4, 2, 5]],\n",
       "\n",
       "        [[4, 6, 0],\n",
       "         [8, 5, 4],\n",
       "         [0, 3, 1],\n",
       "         [2, 8, 4],\n",
       "         [4, 3, 0]]],\n",
       "\n",
       "\n",
       "       [[[9, 9, 9],\n",
       "         [5, 6, 7],\n",
       "         [2, 0, 0],\n",
       "         [5, 4, 3],\n",
       "         [7, 5, 7]],\n",
       "\n",
       "        [[9, 8, 6],\n",
       "         [9, 0, 0],\n",
       "         [5, 3, 4],\n",
       "         [7, 7, 2],\n",
       "         [7, 8, 2]],\n",
       "\n",
       "        [[2, 6, 6],\n",
       "         [0, 1, 6],\n",
       "         [6, 7, 6],\n",
       "         [4, 3, 7],\n",
       "         [0, 9, 9]],\n",
       "\n",
       "        [[5, 7, 1],\n",
       "         [1, 4, 8],\n",
       "         [1, 3, 5],\n",
       "         [8, 6, 5],\n",
       "         [3, 8, 9]],\n",
       "\n",
       "        [[9, 5, 7],\n",
       "         [5, 9, 0],\n",
       "         [3, 6, 7],\n",
       "         [5, 6, 6],\n",
       "         [3, 6, 1]]]])"
      ]
     },
     "execution_count": 73,
     "metadata": {},
     "output_type": "execute_result"
    }
   ],
   "source": [
    "X.transpose(0,2,3,1).reshape(2,5,5,3)"
   ]
  },
  {
   "cell_type": "code",
   "execution_count": 60,
   "metadata": {},
   "outputs": [
    {
     "data": {
      "text/plain": [
       "array([[[[136., 320., 310.],\n",
       "         [288., 487., 468.],\n",
       "         [220., 328., 186.]],\n",
       "\n",
       "        [[143., 233., 289.],\n",
       "         [279., 487., 453.],\n",
       "         [193., 281., 188.]]],\n",
       "\n",
       "\n",
       "       [[[240., 273., 334.],\n",
       "         [408., 534., 490.],\n",
       "         [346., 424., 298.]],\n",
       "\n",
       "        [[385., 272., 326.],\n",
       "         [349., 508., 537.],\n",
       "         [266., 308., 293.]]]])"
      ]
     },
     "execution_count": 60,
     "metadata": {},
     "output_type": "execute_result"
    }
   ],
   "source": [
    "output"
   ]
  },
  {
   "cell_type": "code",
   "execution_count": 61,
   "metadata": {},
   "outputs": [
    {
     "data": {
      "text/plain": [
       "(2, 3, 5, 5)"
      ]
     },
     "execution_count": 61,
     "metadata": {},
     "output_type": "execute_result"
    }
   ],
   "source": [
    "X.shape"
   ]
  },
  {
   "cell_type": "code",
   "execution_count": 62,
   "metadata": {},
   "outputs": [
    {
     "data": {
      "text/plain": [
       "2"
      ]
     },
     "execution_count": 62,
     "metadata": {},
     "output_type": "execute_result"
    }
   ],
   "source": [
    "stride"
   ]
  },
  {
   "cell_type": "code",
   "execution_count": 63,
   "metadata": {},
   "outputs": [
    {
     "data": {
      "text/plain": [
       "(2, 3, 3, 3)"
      ]
     },
     "execution_count": 63,
     "metadata": {},
     "output_type": "execute_result"
    }
   ],
   "source": [
    "weights.shape"
   ]
  },
  {
   "cell_type": "code",
   "execution_count": 64,
   "metadata": {},
   "outputs": [
    {
     "data": {
      "text/plain": [
       "1"
      ]
     },
     "execution_count": 64,
     "metadata": {},
     "output_type": "execute_result"
    }
   ],
   "source": [
    "padding"
   ]
  },
  {
   "cell_type": "code",
   "execution_count": 87,
   "metadata": {},
   "outputs": [],
   "source": [
    "import numpy as np\n",
    "\n",
    "def get_indices_origin(X_shape, HF, WF, stride, pad):\n",
    "    \"\"\"\n",
    "        Returns index matrices in order to transform our input image into a matrix.\n",
    "\n",
    "        Parameters:\n",
    "        -X_shape: Input image shape.\n",
    "        -HF: filter height.\n",
    "        -WF: filter width.\n",
    "        -stride: stride value.\n",
    "        -pad: padding value.\n",
    "\n",
    "        Returns:\n",
    "        -i: matrix of index i.\n",
    "        -j: matrix of index j.\n",
    "        -d: matrix of index d. \n",
    "            (Use to mark delimitation for each channel\n",
    "            during multi-dimensional arrays indexing).\n",
    "    \"\"\"\n",
    "    # get input size\n",
    "    m, n_C, n_H, n_W = X_shape\n",
    "\n",
    "    # get output size\n",
    "    out_h = int((n_H + 2 * pad - HF) / stride) + 1\n",
    "    out_w = int((n_W + 2 * pad - WF) / stride) + 1\n",
    "\n",
    "    # ----Compute matrix of index i----\n",
    "\n",
    "    # Level 1 vector.\n",
    "    level1 = np.repeat(np.arange(HF), WF)\n",
    "    # Duplicate for the other channels.\n",
    "    level1 = np.tile(level1, n_C)\n",
    "    # Create a vector with an increase by 1 at each level.\n",
    "    everyLevels = stride * np.repeat(np.arange(out_h), out_w)\n",
    "    # Create matrix of index i at every levels for each channel.\n",
    "    i = level1.reshape(-1, 1) + everyLevels.reshape(1, -1)\n",
    "\n",
    "    # ----Compute matrix of index j----\n",
    "\n",
    "    # Slide 1 vector.\n",
    "    slide1 = np.tile(np.arange(WF), HF)\n",
    "    # Duplicate for the other channels.\n",
    "    slide1 = np.tile(slide1, n_C)\n",
    "    # Create a vector with an increase by 1 at each slide.\n",
    "    everySlides = stride * np.tile(np.arange(out_w), out_h)\n",
    "    # Create matrix of index j at every slides for each channel.\n",
    "    j = slide1.reshape(-1, 1) + everySlides.reshape(1, -1)\n",
    "\n",
    "    # ----Compute matrix of index d----\n",
    "\n",
    "    # This is to mark delimitation for each channel\n",
    "    # during multi-dimensional arrays indexing.\n",
    "    d = np.repeat(np.arange(n_C), HF * WF).reshape(-1, 1)\n",
    "\n",
    "    return i, j, d\n",
    "\n",
    "\n",
    "def im2col_origin(X, HF, WF, stride, pad):\n",
    "    \"\"\"\n",
    "        Transforms our input image into a matrix.\n",
    "\n",
    "        Parameters:\n",
    "        - X: input image.\n",
    "        - HF: filter height.\n",
    "        - WF: filter width.\n",
    "        - stride: stride value.\n",
    "        - pad: padding value.\n",
    "\n",
    "        Returns:\n",
    "        -cols: output matrix.\n",
    "    \"\"\"\n",
    "    # Padding\n",
    "    X_padded = np.pad(X, ((0, 0), (0, 0), (pad, pad),\n",
    "                      (pad, pad)), mode='constant')\n",
    "    i, j, d = get_indices(X.shape, HF, WF, stride, pad)\n",
    "    # Multi-dimensional arrays indexing.\n",
    "    cols = X_padded[:, d, i, j]\n",
    "    cols = np.concatenate(cols, axis=-1)\n",
    "    return cols"
   ]
  },
  {
   "cell_type": "code",
   "execution_count": 90,
   "metadata": {},
   "outputs": [],
   "source": [
    "import numpy as np\n",
    "\n",
    "\n",
    "def get_indices(X_shape, filter_h, filter_w, stride=1, padding=0):\n",
    "    # X_shape: (batch_size, num_channels, height, width)\n",
    "    # filter_h: int\n",
    "    # filter_w: int\n",
    "    # stride: int\n",
    "    # padding: int\n",
    "    # return:\n",
    "\n",
    "    batch_size, num_channels, height, width = X_shape\n",
    "\n",
    "    # output size\n",
    "    out_h = int((height - filter_h + 2 * padding) / stride + 1)\n",
    "    out_w = int((width - filter_w + 2 * padding) / stride + 1)\n",
    "\n",
    "    # indices\n",
    "\n",
    "    # h\n",
    "    # first level\n",
    "    h_indices = np.repeat(np.arange(filter_h), filter_w)\n",
    "    # duplicate for input channels\n",
    "    h_indices = np.tile(h_indices, num_channels)\n",
    "    # stride\n",
    "    h_init_points = stride * np.repeat(np.arange(out_h), out_w)\n",
    "\n",
    "    h = h_indices.reshape(-1, 1) + h_init_points.reshape(1, -1)\n",
    "\n",
    "    # w\n",
    "    # first level\n",
    "    w_indices = np.tile(np.arange(filter_w), filter_h)\n",
    "    # duplicate for input channels\n",
    "    w_indices = np.tile(w_indices, num_channels)\n",
    "    # stride\n",
    "    w_init_points = stride * np.tile(np.arange(out_w), out_h)\n",
    "\n",
    "    w = w_indices.reshape(-1, 1) + w_init_points.reshape(1, -1)\n",
    "\n",
    "    # d\n",
    "    d = np.repeat(np.arange(num_channels),\n",
    "                  filter_h * filter_w).reshape(-1, 1)\n",
    "\n",
    "    return h, w, d\n",
    "\n",
    "\n",
    "def im2col(X, filter_h, filter_w, stride=1, padding=0):\n",
    "    # X: (batch_size, num_channels, height, width)\n",
    "    # filter_h: int\n",
    "    # filter_w: int\n",
    "    # stride: int\n",
    "    # padding: int\n",
    "    # return:\n",
    "\n",
    "    # padding\n",
    "    X_padded = np.pad(X, ((0, 0),\n",
    "                          (0, 0),\n",
    "                          (padding, padding),\n",
    "                          (padding, padding)\n",
    "                          ), 'constant')\n",
    "    h, w, d = get_indices(X.shape, filter_h, filter_w, stride, padding)\n",
    "\n",
    "    X_cols = X_padded[:, d, h, w]\n",
    "    # X_cols = X_cols.transpose(1, 2, 0).reshape(\n",
    "    #     filter_h * filter_w * X.shape[1], -1)\n",
    "    X_cols = np.concatenate(X_cols, axis=-1)\n",
    "    return X_cols\n",
    "\n",
    "\n",
    "# def convolve(X, Y, stride=1, padding=0):\n",
    "#     # X: (batch_size, num_channels, height, width)\n",
    "#     # Y: (num_filters, num_channels, filter_height, filter_width)\n",
    "#     # stride: int\n",
    "#     # padding: int\n",
    "#     # return: (batch_size, num_filters, height, width)\n"
   ]
  },
  {
   "cell_type": "code",
   "execution_count": 91,
   "metadata": {},
   "outputs": [
    {
     "data": {
      "text/plain": [
       "array([[0, 0, 0, 0, 2, 4, 0, 3, 7, 0, 0, 0, 0, 9, 7, 0, 1, 8],\n",
       "       [0, 0, 0, 0, 9, 7, 6, 7, 4, 0, 0, 0, 9, 5, 7, 5, 1, 3],\n",
       "       [0, 0, 0, 2, 4, 0, 3, 7, 0, 0, 0, 0, 9, 7, 0, 1, 8, 0],\n",
       "       [0, 0, 2, 0, 0, 6, 0, 8, 2, 0, 5, 5, 0, 0, 4, 0, 5, 5],\n",
       "       [4, 9, 0, 7, 4, 4, 4, 0, 4, 9, 2, 7, 2, 6, 0, 9, 3, 3],\n",
       "       [0, 2, 0, 0, 6, 0, 8, 2, 0, 5, 5, 0, 0, 4, 0, 5, 5, 0],\n",
       "       [0, 2, 4, 0, 3, 7, 0, 0, 0, 0, 9, 7, 0, 1, 8, 0, 0, 0],\n",
       "       [0, 9, 7, 6, 7, 4, 0, 0, 0, 9, 5, 7, 5, 1, 3, 0, 0, 0],\n",
       "       [2, 4, 0, 3, 7, 0, 0, 0, 0, 9, 7, 0, 1, 8, 0, 0, 0, 0],\n",
       "       [0, 0, 0, 0, 5, 9, 0, 4, 6, 0, 0, 0, 0, 0, 7, 0, 4, 6],\n",
       "       [0, 0, 0, 0, 0, 5, 5, 2, 2, 0, 0, 0, 8, 3, 8, 7, 3, 8],\n",
       "       [0, 0, 0, 5, 9, 0, 4, 6, 0, 0, 0, 0, 0, 7, 0, 4, 6, 0],\n",
       "       [0, 7, 5, 0, 3, 7, 0, 5, 8, 0, 6, 4, 0, 1, 3, 0, 9, 6],\n",
       "       [1, 5, 9, 8, 7, 8, 6, 3, 3, 9, 0, 5, 6, 7, 9, 5, 6, 6],\n",
       "       [7, 5, 0, 3, 7, 0, 5, 8, 0, 6, 4, 0, 1, 3, 0, 9, 6, 0],\n",
       "       [0, 5, 9, 0, 4, 6, 0, 0, 0, 0, 0, 7, 0, 4, 6, 0, 0, 0],\n",
       "       [0, 0, 5, 5, 2, 2, 0, 0, 0, 8, 3, 8, 7, 3, 8, 0, 0, 0],\n",
       "       [5, 9, 0, 4, 6, 0, 0, 0, 0, 0, 7, 0, 4, 6, 0, 0, 0, 0],\n",
       "       [0, 0, 0, 0, 0, 4, 0, 4, 0, 0, 0, 0, 0, 0, 2, 0, 8, 5],\n",
       "       [0, 0, 0, 7, 2, 9, 3, 9, 5, 0, 0, 0, 6, 4, 2, 1, 5, 9],\n",
       "       [0, 0, 0, 0, 4, 0, 4, 0, 0, 0, 0, 0, 0, 2, 0, 8, 5, 0],\n",
       "       [0, 5, 9, 0, 0, 3, 0, 4, 4, 0, 7, 3, 0, 6, 7, 0, 0, 6],\n",
       "       [3, 0, 6, 4, 7, 6, 0, 1, 0, 9, 0, 7, 6, 6, 9, 7, 7, 1],\n",
       "       [5, 9, 0, 0, 3, 0, 4, 4, 0, 7, 3, 0, 6, 7, 0, 0, 6, 0],\n",
       "       [0, 0, 4, 0, 4, 0, 0, 0, 0, 0, 0, 2, 0, 8, 5, 0, 0, 0],\n",
       "       [7, 2, 9, 3, 9, 5, 0, 0, 0, 6, 4, 2, 1, 5, 9, 0, 0, 0],\n",
       "       [0, 4, 0, 4, 0, 0, 0, 0, 0, 0, 2, 0, 8, 5, 0, 0, 0, 0]])"
      ]
     },
     "execution_count": 91,
     "metadata": {},
     "output_type": "execute_result"
    }
   ],
   "source": [
    "im2col(X, filter_h, filter_w, stride, padding)"
   ]
  },
  {
   "cell_type": "markdown",
   "metadata": {},
   "source": [
    "# flattening & fc"
   ]
  },
  {
   "cell_type": "code",
   "execution_count": 10,
   "metadata": {},
   "outputs": [],
   "source": [
    "# flattening layer, inherits from layer class\n",
    "from layer import Layer\n",
    "import numpy as np\n",
    "\n",
    "\n",
    "class Flattening(Layer):\n",
    "    def __init__(self):\n",
    "        pass\n",
    "\n",
    "    def forward(self, input):\n",
    "        # input: convolutional filter map\n",
    "        # output: flattened input. as row vectors.\n",
    "        self.input_shape = input.shape\n",
    "        output = input.reshape(input.shape[0], -1)\n",
    "        return output\n",
    "\n",
    "    def backward(self, output_error, learning_rate):\n",
    "        # output_error: error of the next layer\n",
    "        # learning_rate: learning rate\n",
    "        input_error = np.transpose(output_error).reshape(self.input_shape)\n",
    "        return input_error\n"
   ]
  },
  {
   "cell_type": "code",
   "execution_count": 2,
   "metadata": {},
   "outputs": [],
   "source": [
    "from layer import Layer\n",
    "import numpy as np\n",
    "\n",
    "\n",
    "class FullyConnected(Layer):\n",
    "    def __init__(self, output_dim):\n",
    "        # self.output_dim = output dimension\n",
    "        self.output_dim = output_dim\n",
    "\n",
    "        # initialize weights and biases\n",
    "        # None, as we don't know the input shape yet\n",
    "        self.weights = None\n",
    "        self.bias = None\n",
    "\n",
    "    def forward(self, input):\n",
    "        # input: (batch_size, input_dim)\n",
    "        batch_size, input_dim = input.shape\n",
    "        self.input = input\n",
    "\n",
    "        # weights: (input_dim, output_dim)\n",
    "        # initialize weights xaiver initialization\n",
    "        if self.weights == None:\n",
    "            self.weights = np.random.randn(input_dim, self.output_dim) * (\n",
    "                np.sqrt(2 / (\n",
    "                    input_dim + self.output_dim\n",
    "                ))\n",
    "            )\n",
    "\n",
    "        # bias: (1, output_dim)\n",
    "        # initialize biases to 0\n",
    "        if self.bias == None:\n",
    "            self.bias = np.zeros((1, self.output_dim))\n",
    "\n",
    "        # output: (batch_size, output_dim)\n",
    "        output = np.matmul(input, self.weights) + self.bias\n",
    "        return output\n",
    "\n",
    "    def backward(self, output_error, learning_rate):\n",
    "        # output_error: (batch_size, output_dim)\n",
    "        # learning_rate: \n",
    "        # self.input: (batch_size, input_dim)\n",
    "        batch_size, output_dim = output_error.shape\n",
    "        \n",
    "        # weights: (input_dim, output_dim)\n",
    "        weights_error = np.matmul(self.input.T, output_error) * 1/batch_size\n",
    "        self.weights -= learning_rate * weights_error\n",
    "\n",
    "        # bias: (1, output_dim)\n",
    "        bias_error = np.sum(output_error, axis=0) * 1/batch_size\n",
    "        self.bias -= learning_rate * bias_error\n",
    "\n",
    "        # input_error: (batch_size, input_dim)\n",
    "        input_error = np.matmul(output_error, self.weights.T)\n",
    "        return input_error\n"
   ]
  },
  {
   "cell_type": "code",
   "execution_count": 3,
   "metadata": {},
   "outputs": [],
   "source": [
    "batch_size = 2\n",
    "num_channels = 3\n",
    "height = 5\n",
    "width = 5\n",
    "stride = 2\n",
    "padding = 1\n",
    "filter_h = 3\n",
    "filter_w = 3\n"
   ]
  },
  {
   "cell_type": "code",
   "execution_count": 4,
   "metadata": {},
   "outputs": [],
   "source": [
    "X = np.random.randint(1,100,(batch_size, num_channels, height, width))"
   ]
  },
  {
   "cell_type": "code",
   "execution_count": 5,
   "metadata": {},
   "outputs": [
    {
     "data": {
      "text/plain": [
       "array([[[[60, 32, 63, 64, 30],\n",
       "         [36, 42, 52,  1, 95],\n",
       "         [18,  8, 35, 13,  2],\n",
       "         [15, 47, 14, 91, 72],\n",
       "         [79, 35, 43, 50, 13]],\n",
       "\n",
       "        [[85, 84, 21, 11, 62],\n",
       "         [43,  6, 45, 89, 14],\n",
       "         [70, 51, 10, 53, 48],\n",
       "         [36, 25, 35,  9, 40],\n",
       "         [24, 49, 74, 26, 71]],\n",
       "\n",
       "        [[ 1, 89, 73, 22, 97],\n",
       "         [74, 82, 76, 95, 47],\n",
       "         [77, 90, 19, 12,  7],\n",
       "         [36, 40, 45, 71, 40],\n",
       "         [41, 32, 65, 43, 58]]],\n",
       "\n",
       "\n",
       "       [[[16, 52, 19, 77,  8],\n",
       "         [57, 93, 13, 45, 85],\n",
       "         [ 7,  8, 57, 36, 69],\n",
       "         [26, 46, 55, 16, 86],\n",
       "         [67, 95, 48, 44, 39]],\n",
       "\n",
       "        [[ 5, 97, 14, 16, 53],\n",
       "         [54, 95, 53, 89, 51],\n",
       "         [69, 91, 48, 87, 81],\n",
       "         [80, 57,  9,  9, 63],\n",
       "         [83, 81, 17, 97, 82]],\n",
       "\n",
       "        [[55, 60, 41, 22, 81],\n",
       "         [22, 35,  1, 70, 11],\n",
       "         [75, 55, 34, 68,  9],\n",
       "         [19, 36, 53, 11, 66],\n",
       "         [73, 11,  5, 88, 45]]]])"
      ]
     },
     "execution_count": 5,
     "metadata": {},
     "output_type": "execute_result"
    }
   ],
   "source": [
    "X"
   ]
  },
  {
   "cell_type": "code",
   "execution_count": 11,
   "metadata": {},
   "outputs": [],
   "source": [
    "flat = Flattening()"
   ]
  },
  {
   "cell_type": "code",
   "execution_count": 12,
   "metadata": {},
   "outputs": [],
   "source": [
    "flat_z = flat.forward(X)"
   ]
  },
  {
   "cell_type": "code",
   "execution_count": 13,
   "metadata": {},
   "outputs": [
    {
     "data": {
      "text/plain": [
       "(2, 3, 5, 5)"
      ]
     },
     "execution_count": 13,
     "metadata": {},
     "output_type": "execute_result"
    }
   ],
   "source": [
    "X.shape"
   ]
  },
  {
   "cell_type": "code",
   "execution_count": 14,
   "metadata": {},
   "outputs": [
    {
     "data": {
      "text/plain": [
       "(2, 75)"
      ]
     },
     "execution_count": 14,
     "metadata": {},
     "output_type": "execute_result"
    }
   ],
   "source": [
    "flat_z.shape"
   ]
  },
  {
   "cell_type": "code",
   "execution_count": 15,
   "metadata": {},
   "outputs": [],
   "source": [
    "fcl = FullyConnected(8)"
   ]
  },
  {
   "cell_type": "code",
   "execution_count": 17,
   "metadata": {},
   "outputs": [],
   "source": [
    "z = fcl.forward(flat_z)"
   ]
  },
  {
   "cell_type": "code",
   "execution_count": 18,
   "metadata": {},
   "outputs": [
    {
     "data": {
      "text/plain": [
       "(2, 8)"
      ]
     },
     "execution_count": 18,
     "metadata": {},
     "output_type": "execute_result"
    }
   ],
   "source": [
    "z.shape"
   ]
  },
  {
   "cell_type": "code",
   "execution_count": 19,
   "metadata": {},
   "outputs": [],
   "source": [
    "dx = fcl.backward(z, 0.01)"
   ]
  },
  {
   "cell_type": "code",
   "execution_count": 20,
   "metadata": {},
   "outputs": [
    {
     "data": {
      "text/plain": [
       "(2, 75)"
      ]
     },
     "execution_count": 20,
     "metadata": {},
     "output_type": "execute_result"
    }
   ],
   "source": [
    "dx.shape"
   ]
  },
  {
   "cell_type": "code",
   "execution_count": 22,
   "metadata": {},
   "outputs": [],
   "source": [
    "dx_flat = flat.backward(dx, 0.01)"
   ]
  },
  {
   "cell_type": "code",
   "execution_count": 27,
   "metadata": {},
   "outputs": [
    {
     "data": {
      "text/plain": [
       "(2, 3, 5, 5)"
      ]
     },
     "execution_count": 27,
     "metadata": {},
     "output_type": "execute_result"
    }
   ],
   "source": [
    "dx.reshape(X.shape).shape"
   ]
  },
  {
   "cell_type": "code",
   "execution_count": 24,
   "metadata": {},
   "outputs": [
    {
     "data": {
      "text/plain": [
       "(2, 3, 5, 5)"
      ]
     },
     "execution_count": 24,
     "metadata": {},
     "output_type": "execute_result"
    }
   ],
   "source": [
    "dx_flat.shape"
   ]
  },
  {
   "cell_type": "code",
   "execution_count": 9,
   "metadata": {},
   "outputs": [
    {
     "data": {
      "text/plain": [
       "False"
      ]
     },
     "execution_count": 9,
     "metadata": {},
     "output_type": "execute_result"
    }
   ],
   "source": [
    "fcl.weights is None"
   ]
  },
  {
   "cell_type": "code",
   "execution_count": 13,
   "metadata": {},
   "outputs": [],
   "source": [
    "fcl2 = FullyConnected(10)"
   ]
  },
  {
   "cell_type": "code",
   "execution_count": 15,
   "metadata": {},
   "outputs": [],
   "source": [
    "z2 = fcl2.forward(z)"
   ]
  },
  {
   "cell_type": "code",
   "execution_count": 16,
   "metadata": {},
   "outputs": [
    {
     "data": {
      "text/plain": [
       "(2, 10)"
      ]
     },
     "execution_count": 16,
     "metadata": {},
     "output_type": "execute_result"
    }
   ],
   "source": [
    "z2.shape"
   ]
  },
  {
   "cell_type": "code",
   "execution_count": 17,
   "metadata": {},
   "outputs": [],
   "source": [
    "dx2 = fcl2.backward(z2, 0.01)"
   ]
  },
  {
   "cell_type": "code",
   "execution_count": 19,
   "metadata": {},
   "outputs": [],
   "source": [
    "dx1 = fcl.backward(dx2, 0.01)"
   ]
  },
  {
   "cell_type": "code",
   "execution_count": 20,
   "metadata": {},
   "outputs": [
    {
     "data": {
      "text/plain": [
       "(2, 10)"
      ]
     },
     "execution_count": 20,
     "metadata": {},
     "output_type": "execute_result"
    }
   ],
   "source": [
    "dx1.shape"
   ]
  },
  {
   "cell_type": "markdown",
   "metadata": {},
   "source": [
    "# max pool"
   ]
  },
  {
   "cell_type": "code",
   "execution_count": 21,
   "metadata": {},
   "outputs": [],
   "source": [
    "batch_size = 2\n",
    "num_channels = 3\n",
    "height = 5\n",
    "width = 5"
   ]
  },
  {
   "cell_type": "code",
   "execution_count": 22,
   "metadata": {},
   "outputs": [],
   "source": [
    "X = np.random.randint(1,100,(batch_size, num_channels, height, width))"
   ]
  },
  {
   "cell_type": "code",
   "execution_count": 23,
   "metadata": {},
   "outputs": [
    {
     "data": {
      "text/plain": [
       "array([[[[46, 39, 75, 29,  7],\n",
       "         [ 5, 65, 11, 38, 37],\n",
       "         [76, 97, 70, 22, 94],\n",
       "         [88, 94, 16,  3, 77],\n",
       "         [89, 16, 41, 47, 87]],\n",
       "\n",
       "        [[87, 71, 48, 17, 42],\n",
       "         [27, 98, 26, 80,  1],\n",
       "         [41, 94, 81, 44, 82],\n",
       "         [54,  2,  8, 45,  1],\n",
       "         [38, 98, 18, 42, 37]],\n",
       "\n",
       "        [[11, 30, 96, 91, 73],\n",
       "         [ 8, 69, 64,  5, 11],\n",
       "         [57, 29, 52, 93, 95],\n",
       "         [75, 38, 37, 30, 82],\n",
       "         [22, 70, 20, 44, 18]]],\n",
       "\n",
       "\n",
       "       [[[30, 53, 74, 71, 40],\n",
       "         [79, 86, 77, 80,  5],\n",
       "         [62, 85, 21, 45, 47],\n",
       "         [86, 86, 55, 73,  4],\n",
       "         [74, 48, 62, 66, 20]],\n",
       "\n",
       "        [[78, 60, 28, 71, 36],\n",
       "         [57, 59, 88, 32, 40],\n",
       "         [ 4, 29, 95, 17, 34],\n",
       "         [83, 78, 31,  3, 33],\n",
       "         [ 2,  7, 93, 68, 46]],\n",
       "\n",
       "        [[90, 24, 59, 54, 66],\n",
       "         [94, 29,  6, 30, 76],\n",
       "         [33, 26, 56, 38, 14],\n",
       "         [47, 68, 29, 30, 45],\n",
       "         [40, 63, 11, 48, 98]]]])"
      ]
     },
     "execution_count": 23,
     "metadata": {},
     "output_type": "execute_result"
    }
   ],
   "source": [
    "X"
   ]
  },
  {
   "cell_type": "code",
   "execution_count": 24,
   "metadata": {},
   "outputs": [
    {
     "data": {
      "text/plain": [
       "array([[[[46, 39],\n",
       "         [ 5, 65]],\n",
       "\n",
       "        [[87, 71],\n",
       "         [27, 98]],\n",
       "\n",
       "        [[11, 30],\n",
       "         [ 8, 69]]],\n",
       "\n",
       "\n",
       "       [[[30, 53],\n",
       "         [79, 86]],\n",
       "\n",
       "        [[78, 60],\n",
       "         [57, 59]],\n",
       "\n",
       "        [[90, 24],\n",
       "         [94, 29]]]])"
      ]
     },
     "execution_count": 24,
     "metadata": {},
     "output_type": "execute_result"
    }
   ],
   "source": [
    "X[:,:,:2,:2]"
   ]
  },
  {
   "cell_type": "code",
   "execution_count": 25,
   "metadata": {},
   "outputs": [],
   "source": [
    "sliced_X = X[:,:,:2,:2]"
   ]
  },
  {
   "cell_type": "code",
   "execution_count": 27,
   "metadata": {},
   "outputs": [],
   "source": [
    "max_pooled = np.max(sliced_X, axis=(2,3))"
   ]
  },
  {
   "cell_type": "code",
   "execution_count": 36,
   "metadata": {},
   "outputs": [
    {
     "data": {
      "text/plain": [
       "array([[[[ 3, 77],\n",
       "         [47, 87]],\n",
       "\n",
       "        [[45,  1],\n",
       "         [42, 37]],\n",
       "\n",
       "        [[30, 82],\n",
       "         [44, 18]]],\n",
       "\n",
       "\n",
       "       [[[73,  4],\n",
       "         [66, 20]],\n",
       "\n",
       "        [[ 3, 33],\n",
       "         [68, 46]],\n",
       "\n",
       "        [[30, 45],\n",
       "         [48, 98]]]])"
      ]
     },
     "execution_count": 36,
     "metadata": {},
     "output_type": "execute_result"
    }
   ],
   "source": [
    "sliced_X"
   ]
  },
  {
   "cell_type": "code",
   "execution_count": 38,
   "metadata": {},
   "outputs": [
    {
     "data": {
      "text/plain": [
       "(1, 2, 1, 1)"
      ]
     },
     "execution_count": 38,
     "metadata": {},
     "output_type": "execute_result"
    }
   ],
   "source": [
    "# np.argmax(sliced_X, axis=(2,3))\n",
    "np.unravel_index(sliced_X.argmax(), sliced_X.shape)"
   ]
  },
  {
   "cell_type": "code",
   "execution_count": 29,
   "metadata": {},
   "outputs": [
    {
     "data": {
      "text/plain": [
       "array([[[65],\n",
       "        [98],\n",
       "        [69]],\n",
       "\n",
       "       [[86],\n",
       "        [78],\n",
       "        [94]]])"
      ]
     },
     "execution_count": 29,
     "metadata": {},
     "output_type": "execute_result"
    }
   ],
   "source": [
    "max_pooled.reshape(2,3,1)"
   ]
  },
  {
   "cell_type": "code",
   "execution_count": 30,
   "metadata": {},
   "outputs": [],
   "source": [
    "stride = 3\n",
    "filter_h = 2\n",
    "filter_w = 2"
   ]
  },
  {
   "cell_type": "code",
   "execution_count": 31,
   "metadata": {},
   "outputs": [],
   "source": [
    "out_h = int((height - filter_h) / stride + 1)\n",
    "out_w = int((width - filter_w) / stride + 1)"
   ]
  },
  {
   "cell_type": "code",
   "execution_count": 32,
   "metadata": {},
   "outputs": [],
   "source": [
    "output = np.zeros((batch_size, num_channels, out_h, out_w))"
   ]
  },
  {
   "cell_type": "code",
   "execution_count": 33,
   "metadata": {},
   "outputs": [],
   "source": [
    "for h_index in range(out_h):\n",
    "    for w_index in range(out_w):\n",
    "        sliced_X = X[\n",
    "            :,\n",
    "            :,\n",
    "            h_index * stride:h_index * stride + filter_h,\n",
    "            w_index * stride:w_index * stride + filter_w\n",
    "        ]\n",
    "        output[:,:, h_index, w_index] = np.max(sliced_X, axis=(2,3))"
   ]
  },
  {
   "cell_type": "code",
   "execution_count": 34,
   "metadata": {},
   "outputs": [
    {
     "data": {
      "text/plain": [
       "(2, 3, 2, 2)"
      ]
     },
     "execution_count": 34,
     "metadata": {},
     "output_type": "execute_result"
    }
   ],
   "source": [
    "output.shape"
   ]
  },
  {
   "cell_type": "code",
   "execution_count": 35,
   "metadata": {},
   "outputs": [
    {
     "data": {
      "text/plain": [
       "array([[[[65., 38.],\n",
       "         [94., 87.]],\n",
       "\n",
       "        [[98., 80.],\n",
       "         [98., 45.]],\n",
       "\n",
       "        [[69., 91.],\n",
       "         [75., 82.]]],\n",
       "\n",
       "\n",
       "       [[[86., 80.],\n",
       "         [86., 73.]],\n",
       "\n",
       "        [[78., 71.],\n",
       "         [83., 68.]],\n",
       "\n",
       "        [[94., 76.],\n",
       "         [68., 98.]]]])"
      ]
     },
     "execution_count": 35,
     "metadata": {},
     "output_type": "execute_result"
    }
   ],
   "source": [
    "output"
   ]
  },
  {
   "cell_type": "code",
   "execution_count": 2,
   "metadata": {},
   "outputs": [],
   "source": [
    "import numpy as np\n",
    "from layer import Layer\n",
    "from maxpooling import MaxPooling"
   ]
  },
  {
   "cell_type": "code",
   "execution_count": 3,
   "metadata": {},
   "outputs": [],
   "source": [
    "filter_h = 2\n",
    "filter_w = 2\n",
    "stride = 2"
   ]
  },
  {
   "cell_type": "code",
   "execution_count": 4,
   "metadata": {},
   "outputs": [],
   "source": [
    "mp = MaxPooling(filter_dim=(filter_h, filter_w), stride=stride)"
   ]
  },
  {
   "cell_type": "code",
   "execution_count": 5,
   "metadata": {},
   "outputs": [],
   "source": [
    "batch_size = 2\n",
    "num_channels = 3\n",
    "height = 24\n",
    "width = 24"
   ]
  },
  {
   "cell_type": "code",
   "execution_count": 6,
   "metadata": {},
   "outputs": [],
   "source": [
    "X = np.random.randint(1,100,(batch_size, num_channels, height, width))"
   ]
  },
  {
   "cell_type": "code",
   "execution_count": 7,
   "metadata": {},
   "outputs": [
    {
     "data": {
      "text/plain": [
       "array([[[[17, 94, 56, ..., 29, 19, 50],\n",
       "         [47, 94, 59, ..., 58, 84, 36],\n",
       "         [47,  1, 93, ..., 39,  3, 69],\n",
       "         ...,\n",
       "         [95, 96, 84, ..., 77, 78,  9],\n",
       "         [48, 38, 10, ..., 43, 26, 71],\n",
       "         [14, 95, 27, ..., 14,  8,  7]],\n",
       "\n",
       "        [[63, 15, 24, ..., 81, 30,  7],\n",
       "         [37, 35, 56, ..., 18, 26, 48],\n",
       "         [76, 52, 84, ..., 51, 71, 74],\n",
       "         ...,\n",
       "         [45,  4, 37, ..., 43, 32, 12],\n",
       "         [88, 15, 66, ..., 41, 78, 60],\n",
       "         [65, 22, 51, ..., 83, 71, 82]],\n",
       "\n",
       "        [[28, 78, 81, ..., 50, 70,  2],\n",
       "         [99, 78, 98, ..., 45,  2, 84],\n",
       "         [23, 62, 71, ..., 40, 60, 36],\n",
       "         ...,\n",
       "         [22, 90, 76, ..., 97, 59, 38],\n",
       "         [ 5, 18, 54, ..., 93, 59, 71],\n",
       "         [36, 40, 79, ..., 96, 52, 90]]],\n",
       "\n",
       "\n",
       "       [[[18, 88, 48, ..., 30, 91, 98],\n",
       "         [98, 25, 99, ..., 12, 35, 69],\n",
       "         [73, 86,  4, ...,  3, 54, 98],\n",
       "         ...,\n",
       "         [42, 52, 34, ..., 53, 36, 60],\n",
       "         [76, 60, 72, ..., 70, 46, 70],\n",
       "         [82, 94, 43, ...,  8,  8, 61]],\n",
       "\n",
       "        [[44, 76, 11, ..., 72, 48, 91],\n",
       "         [16, 63, 59, ..., 18, 41,  6],\n",
       "         [16, 56, 59, ..., 38, 40, 66],\n",
       "         ...,\n",
       "         [44, 55, 79, ..., 25,  3,  9],\n",
       "         [99, 17, 79, ..., 54, 26, 34],\n",
       "         [74, 68, 87, ..., 38, 51, 64]],\n",
       "\n",
       "        [[65, 57, 19, ..., 68, 99, 81],\n",
       "         [42, 50, 57, ..., 75, 18,  9],\n",
       "         [42, 95, 18, ..., 31, 79, 58],\n",
       "         ...,\n",
       "         [85, 31, 19, ...,  7, 13, 11],\n",
       "         [50, 50, 72, ..., 66, 65, 89],\n",
       "         [76, 71, 61, ..., 10, 17, 16]]]])"
      ]
     },
     "execution_count": 7,
     "metadata": {},
     "output_type": "execute_result"
    }
   ],
   "source": [
    "X"
   ]
  },
  {
   "cell_type": "code",
   "execution_count": 8,
   "metadata": {},
   "outputs": [],
   "source": [
    "z_mp = mp.forward(X)"
   ]
  },
  {
   "cell_type": "code",
   "execution_count": 10,
   "metadata": {},
   "outputs": [
    {
     "data": {
      "text/plain": [
       "(2, 3, 12, 12)"
      ]
     },
     "execution_count": 10,
     "metadata": {},
     "output_type": "execute_result"
    }
   ],
   "source": [
    "z_mp.shape"
   ]
  },
  {
   "cell_type": "code",
   "execution_count": 14,
   "metadata": {},
   "outputs": [],
   "source": [
    "output_h = int((height - filter_h) / stride + 1)\n",
    "output_w = int((width - filter_w) / stride + 1)"
   ]
  },
  {
   "cell_type": "code",
   "execution_count": 12,
   "metadata": {},
   "outputs": [],
   "source": [
    "X_strided = np.lib.stride_tricks.as_strided(\n",
    "    X,\n",
    "    shape=(\n",
    "        batch_size,\n",
    "        num_channels,\n",
    "        int((height - filter_h) / stride + 1),\n",
    "        int((width - filter_w) / stride + 1),\n",
    "        filter_h,\n",
    "        filter_w\n",
    "    ),\n",
    "    strides=(\n",
    "        X.strides[0],\n",
    "        X.strides[1],\n",
    "        X.strides[2] * stride,\n",
    "        X.strides[3] * stride,\n",
    "        X.strides[2],\n",
    "        X.strides[3]\n",
    "    )\n",
    ")"
   ]
  },
  {
   "cell_type": "code",
   "execution_count": 13,
   "metadata": {},
   "outputs": [],
   "source": [
    "output = np.max(X_strided, axis=(4,5))"
   ]
  },
  {
   "cell_type": "code",
   "execution_count": 19,
   "metadata": {},
   "outputs": [
    {
     "data": {
      "text/plain": [
       "(2, 3, 12, 12, 2, 2)"
      ]
     },
     "execution_count": 19,
     "metadata": {},
     "output_type": "execute_result"
    }
   ],
   "source": [
    "X_strided.shape"
   ]
  },
  {
   "cell_type": "code",
   "execution_count": 35,
   "metadata": {},
   "outputs": [],
   "source": [
    "# finding the max index\n",
    "max_index_list = []\n",
    "for i in range(batch_size):\n",
    "    for j in range(num_channels):\n",
    "        for h in range(output_h):\n",
    "            for w in range(output_w):\n",
    "                X_window = X[\n",
    "                    i,\n",
    "                    j,\n",
    "                    h*stride:h*stride+filter_h,\n",
    "                    w*stride:w*stride+filter_w\n",
    "                ]\n",
    "                max_index = np.unravel_index(X_window.argmax(), X_window.shape)\n",
    "                max_index = (i, j, h*stride+max_index[0], w*stride+max_index[1])\n",
    "                max_index_list.append(max_index)\n",
    "    "
   ]
  },
  {
   "cell_type": "code",
   "execution_count": 36,
   "metadata": {},
   "outputs": [
    {
     "data": {
      "text/plain": [
       "(2, 3, 12, 12)"
      ]
     },
     "execution_count": 36,
     "metadata": {},
     "output_type": "execute_result"
    }
   ],
   "source": [
    "output.shape"
   ]
  },
  {
   "cell_type": "code",
   "execution_count": 42,
   "metadata": {},
   "outputs": [],
   "source": [
    "for i, max_index in enumerate(max_index_list):\n",
    "    if not X[max_index] == output.reshape(-1)[i]:\n",
    "        print(\"Error\")"
   ]
  },
  {
   "cell_type": "code",
   "execution_count": 28,
   "metadata": {},
   "outputs": [],
   "source": [
    "max_index_list = np.array(max_index_list)"
   ]
  },
  {
   "cell_type": "code",
   "execution_count": 26,
   "metadata": {},
   "outputs": [
    {
     "data": {
      "text/plain": [
       "864"
      ]
     },
     "execution_count": 26,
     "metadata": {},
     "output_type": "execute_result"
    }
   ],
   "source": [
    "2*3*12*12"
   ]
  },
  {
   "cell_type": "code",
   "execution_count": 31,
   "metadata": {},
   "outputs": [
    {
     "data": {
      "text/plain": [
       "array([[ 0,  0,  0,  0,  0,  1],\n",
       "       [ 0,  0,  0,  1,  1,  1],\n",
       "       [ 0,  0,  0,  2,  0,  1],\n",
       "       ...,\n",
       "       [ 1,  2, 11,  9,  0,  1],\n",
       "       [ 1,  2, 11, 10,  0,  0],\n",
       "       [ 1,  2, 11, 11,  0,  1]], dtype=int64)"
      ]
     },
     "execution_count": 31,
     "metadata": {},
     "output_type": "execute_result"
    }
   ],
   "source": [
    "max_index_list"
   ]
  },
  {
   "cell_type": "markdown",
   "metadata": {},
   "source": [
    "## asserting max pool backprop"
   ]
  },
  {
   "cell_type": "code",
   "execution_count": 1,
   "metadata": {},
   "outputs": [],
   "source": [
    "#asif\n",
    "import numpy as np\n",
    "\n",
    "\n",
    "class MaxPooling():\n",
    "    def __init__(self, filter_dim, stride):\n",
    "        # filter_dim: filter dimension. (filter_height, filter_width)\n",
    "\n",
    "        self.filter_height, self.filter_width = filter_dim\n",
    "        self.stride = stride\n",
    "        pass\n",
    "\n",
    "    def forward(self, input):\n",
    "        self.input = input\n",
    "        batch_size, num_channels, height, width = input.shape\n",
    "\n",
    "        output_height = int(\n",
    "            (height - self.filter_height) / self.stride + 1)\n",
    "        output_width = int(\n",
    "            (width - self.filter_width) / self.stride + 1)\n",
    "\n",
    "        # # for loop\n",
    "        # output = np.zeros(\n",
    "        #     (batch_size, num_channels, output_height, output_width))\n",
    "        # for h in range(output_height):\n",
    "        #     for w in range(output_width):\n",
    "        #         strided_window = input[\n",
    "        #             :,\n",
    "        #             :,\n",
    "        #             h * self.stride:h * self.stride + self.filter_height,\n",
    "        #             w * self.stride:w * self.stride + self.filter_width\n",
    "        #         ]\n",
    "        #         output[:, :, h, w] = np.max(strided_window, axis=(2, 3))\n",
    "\n",
    "        # as strided\n",
    "        input_strided = np.lib.stride_tricks.as_strided(\n",
    "            input,\n",
    "            shape=(\n",
    "                batch_size,\n",
    "                num_channels,\n",
    "                output_height,\n",
    "                output_width,\n",
    "                self.filter_height,\n",
    "                self.filter_width\n",
    "            ),\n",
    "            strides=(\n",
    "                input.strides[0],\n",
    "                input.strides[1],\n",
    "                input.strides[2] * self.stride,\n",
    "                input.strides[3] * self.stride,\n",
    "                input.strides[2],\n",
    "                input.strides[3]\n",
    "            )\n",
    "        )\n",
    "        output = np.max(input_strided, axis=(4, 5))\n",
    "\n",
    "        # special case when stride == filter_size\n",
    "        self.max_value_mask = None\n",
    "        # max_value_mask -> (batch_size, num_channels, input_height, input_width)\n",
    "        if self.stride == self.filter_height:\n",
    "            # initialize from output. repeating\n",
    "            self.max_value_mask = output.repeat(\n",
    "                self.stride,\n",
    "                axis=2\n",
    "            ).repeat(\n",
    "                self.stride,\n",
    "                axis=3\n",
    "            )\n",
    "            # pad for non-divisible input size\n",
    "            max_pad_height = height - self.max_value_mask.shape[2]\n",
    "            max_pad_width = width - self.max_value_mask.shape[3]\n",
    "            if max_pad_height > 0 or max_pad_width > 0:\n",
    "                self.max_value_mask = np.pad(\n",
    "                    self.max_value_mask,\n",
    "                    (\n",
    "                        (0, 0),\n",
    "                        (0, 0),\n",
    "                        (0, max_pad_height),\n",
    "                        (0, max_pad_width)\n",
    "                    ),\n",
    "                    'constant',\n",
    "                )\n",
    "            # compare with input\n",
    "            # problem for multiple maxima :(\n",
    "            self.max_value_mask = np.equal(self.max_value_mask, input)\n",
    "\n",
    "        return output\n",
    "\n",
    "    def backward(self, output_error, learning_rate):\n",
    "        # output_error. (batch_size, num_channels, out_height, out_width)\n",
    "        batch_size, num_channels, height, width = self.input.shape\n",
    "        # special case when stride == filter_size\n",
    "        if self.stride == self.filter_height:\n",
    "            # check if max_value_mask is not None\n",
    "            if self.max_value_mask is None:\n",
    "                raise Exception(\n",
    "                    'max_value_mask is None. Check if stride == filter_height')\n",
    "            else:\n",
    "                # output error needs to be tiled\n",
    "                repeated_output_error = output_error.repeat(\n",
    "                    self.stride,\n",
    "                    axis=2\n",
    "                ).repeat(\n",
    "                    self.stride,\n",
    "                    axis=3\n",
    "                )\n",
    "                # pad for non-divisible input size\n",
    "                pad_height = height - repeated_output_error.shape[2]\n",
    "                pad_width = width - repeated_output_error.shape[3]\n",
    "                if pad_height > 0 or pad_width > 0:\n",
    "                    repeated_output_error = np.pad(\n",
    "                        repeated_output_error,\n",
    "                        (\n",
    "                            (0, 0),\n",
    "                            (0, 0),\n",
    "                            (0, pad_height),\n",
    "                            (0, pad_width)\n",
    "                        ),\n",
    "                        'constant',\n",
    "                    )\n",
    "                # element-wise multiplication\n",
    "                input_error = np.einsum(\n",
    "                    'ijkl,ijkl->ijkl',\n",
    "                    self.max_value_mask,\n",
    "                    repeated_output_error\n",
    "                )\n",
    "\n",
    "        else:\n",
    "            # for loop\n",
    "            _, _, output_height, output_width = output_error.shape\n",
    "            input_error = np.zeros(self.input.shape)\n",
    "\n",
    "            for i in range(batch_size):\n",
    "                for j in range(num_channels):\n",
    "                    for h in range(output_height):\n",
    "                        for w in range(output_width):\n",
    "                            input_window = self.input[\n",
    "                                i,\n",
    "                                j,\n",
    "                                h*self.stride:h*self.stride+self.filter_height,\n",
    "                                w*self.stride:w*self.stride+self.filter_width\n",
    "                            ]\n",
    "                            # https://stackoverflow.com/a/9483964\n",
    "                            max_index = np.unravel_index(\n",
    "                                input_window.argmax(), input_window.shape)\n",
    "                            max_index = (i, j, h*self.stride +\n",
    "                                         max_index[0], w*self.stride+max_index[1])\n",
    "\n",
    "                            # add overlapped gradients\n",
    "                            # https://ai.stackexchange.com/a/17109\n",
    "                            input_error[max_index] += output_error[i, j, h, w]\n",
    "\n",
    "        return input_error\n"
   ]
  },
  {
   "cell_type": "code",
   "execution_count": 2,
   "metadata": {},
   "outputs": [],
   "source": [
    "# antik\n",
    "# import numpy as np\n",
    "class PoolingLayer():\n",
    "    def __init__(self, pool_size, stride):\n",
    "        self.pool_size = pool_size\n",
    "        self.stride = stride\n",
    "        self.input = None\n",
    "\n",
    "    def __str__(self):\n",
    "        return f'Pooling Layer (pool_size={self.pool_size}, stride={self.stride})'\n",
    "\n",
    "\n",
    "    def forward(self, input):\n",
    "        self.input = input\n",
    "        n, c, h, w = input.shape\n",
    "        output_height = (h - self.pool_size) // self.stride + 1\n",
    "        output_width = (w - self.pool_size) // self.stride + 1\n",
    "       \n",
    "        batch_stride, channel_stride, height_stride, width_stride = input.strides\n",
    "        input_windows = np.lib.stride_tricks.as_strided(input,\n",
    "            shape = (n, c, output_height, output_width, self.pool_size, self.pool_size),\n",
    "            strides = (batch_stride, channel_stride, height_stride * self.stride, width_stride * self.stride, height_stride, width_stride)\n",
    "        )\n",
    "        output = np.max(input_windows, axis=(4, 5))\n",
    "        \n",
    "        if self.stride == self.pool_size:\n",
    "            mask = output.repeat(\n",
    "                self.stride,\n",
    "                axis=-2\n",
    "            ).repeat(\n",
    "                self.stride,\n",
    "                axis=-1\n",
    "            )\n",
    "            # print(f'shape of mask after repeat: {mask.shape}')\n",
    "            # print(f'mask: {mask}')\n",
    "            # pad for odd shape\n",
    "            h_pad = h - mask.shape[-2]\n",
    "            w_pad = w - mask.shape[-1]\n",
    "            mask = np.pad(\n",
    "                mask,\n",
    "                (\n",
    "                    (0,0),\n",
    "                    (0,0),\n",
    "                    (0, h_pad),\n",
    "                    (0, w_pad)\n",
    "                ),\n",
    "                'constant'\n",
    "            )\n",
    "            # print(f'shape of mask after pad: {mask.shape}')\n",
    "            # print(f'mask: {mask}')\n",
    "            mask = np.equal(input, mask)\n",
    "            # print(f'shape of mask after equal: {mask.shape}')\n",
    "            # print(f'mask: {mask}')\n",
    "\n",
    "            self.cache = mask\n",
    "        return output\n",
    "\n",
    "    def backward(self, dL_dout, learning_rate):\n",
    "        n, c, h, w = self.input.shape\n",
    "        h_out, w_out = dL_dout.shape[-2:]\n",
    "        stride = self.stride\n",
    "        if stride == self.pool_size:\n",
    "            dL_dout = dL_dout.repeat(stride, axis=-2).repeat(stride, axis=-1)\n",
    "            mask = self.cache\n",
    "            # pad for odd shape\n",
    "            h_pad = h - dL_dout.shape[-2]\n",
    "            w_pad = w - dL_dout.shape[-1]\n",
    "            dL_dout = np.pad(dL_dout, ((0,0), (0,0), (0, h_pad), (0, w_pad)), 'constant')\n",
    "\n",
    "            dL_dout = np.multiply(dL_dout, mask)\n",
    "\n",
    "            return dL_dout\n",
    "            \n",
    "        else:\n",
    "            dx = np.zeros(self.input.shape)\n",
    "\n",
    "            for i in range(n):\n",
    "                for j in range(c):\n",
    "                    for k in range(h_out):\n",
    "                        for l in range(w_out):\n",
    "                            # get the index in the region i,j where the value is the maximum\n",
    "                            i_t, j_t = np.where(\n",
    "                                np.max(\n",
    "                                    self.input[\n",
    "                                        i,\n",
    "                                        j,\n",
    "                                        k * self.stride : k * self.stride + self.pool_size,\n",
    "                                        l * self.stride : l * self.stride + self.pool_size\n",
    "                                    ]\n",
    "                                ) == self.input[\n",
    "                                    i,\n",
    "                                    j,\n",
    "                                    k * self.stride : k * self.stride + self.pool_size,\n",
    "                                    l * self.stride : l * self.stride + self.pool_size\n",
    "                                ]\n",
    "                            )\n",
    "                            i_t, j_t = i_t[0], j_t[0]\n",
    "                            # only the position of the maximum element in the region i,j gets the incoming gradient, the other gradients are zero\n",
    "                            dx[i, j, k * self.stride : k * self.stride + self.pool_size, l * self.stride : l * self.stride + self.pool_size][i_t, j_t] = dL_dout[i, j, k, l]\n",
    "           \n",
    "        \n",
    "        return dx"
   ]
  },
  {
   "cell_type": "code",
   "execution_count": 3,
   "metadata": {},
   "outputs": [],
   "source": [
    "batch_size = 2\n",
    "num_channels = 3\n",
    "input_height = 24\n",
    "input_width = 24\n",
    "filter_height = 2\n",
    "filter_width = 2\n",
    "stride = 2"
   ]
  },
  {
   "cell_type": "code",
   "execution_count": 4,
   "metadata": {},
   "outputs": [],
   "source": [
    "X = np.random.randint(1,100,(batch_size, num_channels, input_height, input_width))"
   ]
  },
  {
   "cell_type": "code",
   "execution_count": 5,
   "metadata": {},
   "outputs": [
    {
     "data": {
      "text/plain": [
       "(2, 3, 24, 24)"
      ]
     },
     "execution_count": 5,
     "metadata": {},
     "output_type": "execute_result"
    }
   ],
   "source": [
    "X.shape"
   ]
  },
  {
   "cell_type": "code",
   "execution_count": 6,
   "metadata": {},
   "outputs": [],
   "source": [
    "mp_antik = PoolingLayer(pool_size=filter_height, stride=stride)"
   ]
  },
  {
   "cell_type": "code",
   "execution_count": 7,
   "metadata": {},
   "outputs": [],
   "source": [
    "mp_asif = MaxPooling(filter_dim=(filter_height, filter_width), stride=stride)"
   ]
  },
  {
   "cell_type": "code",
   "execution_count": 8,
   "metadata": {},
   "outputs": [],
   "source": [
    "z_antik = mp_antik.forward(X)"
   ]
  },
  {
   "cell_type": "code",
   "execution_count": 9,
   "metadata": {},
   "outputs": [],
   "source": [
    "z_asif = mp_asif.forward(X)"
   ]
  },
  {
   "cell_type": "code",
   "execution_count": 10,
   "metadata": {},
   "outputs": [
    {
     "data": {
      "text/plain": [
       "True"
      ]
     },
     "execution_count": 10,
     "metadata": {},
     "output_type": "execute_result"
    }
   ],
   "source": [
    "np.allclose(z_antik, z_asif)"
   ]
  },
  {
   "cell_type": "code",
   "execution_count": 52,
   "metadata": {},
   "outputs": [
    {
     "data": {
      "text/plain": [
       "(2, 3, 12, 12)"
      ]
     },
     "execution_count": 52,
     "metadata": {},
     "output_type": "execute_result"
    }
   ],
   "source": [
    "z_asif.shape"
   ]
  },
  {
   "cell_type": "code",
   "execution_count": 11,
   "metadata": {},
   "outputs": [],
   "source": [
    "output_error_antik = z_antik.copy()"
   ]
  },
  {
   "cell_type": "code",
   "execution_count": 12,
   "metadata": {},
   "outputs": [],
   "source": [
    "output_error_asif = z_antik.copy()"
   ]
  },
  {
   "cell_type": "code",
   "execution_count": 13,
   "metadata": {},
   "outputs": [],
   "source": [
    "input_error_antik = mp_antik.backward(dL_dout=output_error_antik, learning_rate=0.1)"
   ]
  },
  {
   "cell_type": "code",
   "execution_count": 14,
   "metadata": {},
   "outputs": [],
   "source": [
    "input_error_asif = mp_asif.backward(output_error=output_error_asif, learning_rate=0.1)"
   ]
  },
  {
   "cell_type": "code",
   "execution_count": 15,
   "metadata": {},
   "outputs": [
    {
     "data": {
      "text/plain": [
       "True"
      ]
     },
     "execution_count": 15,
     "metadata": {},
     "output_type": "execute_result"
    }
   ],
   "source": [
    "np.allclose(input_error_antik, input_error_asif)"
   ]
  },
  {
   "cell_type": "code",
   "execution_count": 60,
   "metadata": {},
   "outputs": [],
   "source": [
    "output_height = 12\n",
    "output_width = 12"
   ]
  },
  {
   "cell_type": "code",
   "execution_count": 64,
   "metadata": {},
   "outputs": [
    {
     "data": {
      "text/plain": [
       "(2, 3, 12, 12, 2)"
      ]
     },
     "execution_count": 64,
     "metadata": {},
     "output_type": "execute_result"
    }
   ],
   "source": [
    "(batch_size, num_channels, output_height, output_width, stride)"
   ]
  },
  {
   "cell_type": "code",
   "execution_count": 62,
   "metadata": {},
   "outputs": [],
   "source": [
    "output_mp = np.random.randint(1,100,(batch_size, num_channels, output_height, output_width))"
   ]
  },
  {
   "cell_type": "code",
   "execution_count": 65,
   "metadata": {},
   "outputs": [],
   "source": [
    "tiled_mp = np.tile(\n",
    "                output_mp,\n",
    "                (\n",
    "                    1,\n",
    "                    1,\n",
    "                    stride,\n",
    "                    stride\n",
    "                )\n",
    "            )"
   ]
  },
  {
   "cell_type": "code",
   "execution_count": 66,
   "metadata": {},
   "outputs": [],
   "source": [
    "repeat_mp = output_mp.repeat(stride, axis=2).repeat(stride, axis=3)"
   ]
  },
  {
   "cell_type": "code",
   "execution_count": 67,
   "metadata": {},
   "outputs": [
    {
     "data": {
      "text/plain": [
       "False"
      ]
     },
     "execution_count": 67,
     "metadata": {},
     "output_type": "execute_result"
    }
   ],
   "source": [
    "np.allclose(tiled_mp, repeat_mp)"
   ]
  },
  {
   "cell_type": "code",
   "execution_count": 68,
   "metadata": {},
   "outputs": [
    {
     "data": {
      "text/plain": [
       "((2, 3, 24, 24), (2, 3, 24, 24))"
      ]
     },
     "execution_count": 68,
     "metadata": {},
     "output_type": "execute_result"
    }
   ],
   "source": [
    "(tiled_mp.shape, repeat_mp.shape)"
   ]
  },
  {
   "cell_type": "code",
   "execution_count": 69,
   "metadata": {},
   "outputs": [
    {
     "data": {
      "text/plain": [
       "array([[77, 40, 43, 83, 50, 74, 39, 22, 60, 42, 14, 71, 77, 40, 43, 83,\n",
       "        50, 74, 39, 22, 60, 42, 14, 71],\n",
       "       [80, 93, 79, 83, 16, 64, 76, 34, 12,  8, 15,  3, 80, 93, 79, 83,\n",
       "        16, 64, 76, 34, 12,  8, 15,  3],\n",
       "       [87, 53, 32, 74, 92, 36,  8, 69, 65, 79, 49, 61, 87, 53, 32, 74,\n",
       "        92, 36,  8, 69, 65, 79, 49, 61],\n",
       "       [17, 45, 62, 76, 25, 30,  7, 13, 95, 38, 70, 62, 17, 45, 62, 76,\n",
       "        25, 30,  7, 13, 95, 38, 70, 62],\n",
       "       [69,  7, 14, 22, 93, 85, 57, 57, 51, 17, 70, 63, 69,  7, 14, 22,\n",
       "        93, 85, 57, 57, 51, 17, 70, 63],\n",
       "       [73, 55, 41, 21, 55, 34,  4, 22, 80, 31, 86, 53, 73, 55, 41, 21,\n",
       "        55, 34,  4, 22, 80, 31, 86, 53],\n",
       "       [49, 97, 60, 72, 49, 81, 13, 20, 68, 93, 45, 79, 49, 97, 60, 72,\n",
       "        49, 81, 13, 20, 68, 93, 45, 79],\n",
       "       [60, 77, 16, 46, 43, 41, 90, 85, 85, 17, 19, 35, 60, 77, 16, 46,\n",
       "        43, 41, 90, 85, 85, 17, 19, 35],\n",
       "       [58, 13, 89, 39, 66, 83, 58, 71, 37,  2, 24, 39, 58, 13, 89, 39,\n",
       "        66, 83, 58, 71, 37,  2, 24, 39],\n",
       "       [90, 72,  8, 97, 41, 71, 97, 39, 13,  1, 37, 39, 90, 72,  8, 97,\n",
       "        41, 71, 97, 39, 13,  1, 37, 39],\n",
       "       [70, 47, 44, 84, 76, 91, 54, 69, 29, 68, 12, 58, 70, 47, 44, 84,\n",
       "        76, 91, 54, 69, 29, 68, 12, 58],\n",
       "       [20, 30, 74, 15, 34, 73, 50, 72, 46, 86, 33, 63, 20, 30, 74, 15,\n",
       "        34, 73, 50, 72, 46, 86, 33, 63],\n",
       "       [77, 40, 43, 83, 50, 74, 39, 22, 60, 42, 14, 71, 77, 40, 43, 83,\n",
       "        50, 74, 39, 22, 60, 42, 14, 71],\n",
       "       [80, 93, 79, 83, 16, 64, 76, 34, 12,  8, 15,  3, 80, 93, 79, 83,\n",
       "        16, 64, 76, 34, 12,  8, 15,  3],\n",
       "       [87, 53, 32, 74, 92, 36,  8, 69, 65, 79, 49, 61, 87, 53, 32, 74,\n",
       "        92, 36,  8, 69, 65, 79, 49, 61],\n",
       "       [17, 45, 62, 76, 25, 30,  7, 13, 95, 38, 70, 62, 17, 45, 62, 76,\n",
       "        25, 30,  7, 13, 95, 38, 70, 62],\n",
       "       [69,  7, 14, 22, 93, 85, 57, 57, 51, 17, 70, 63, 69,  7, 14, 22,\n",
       "        93, 85, 57, 57, 51, 17, 70, 63],\n",
       "       [73, 55, 41, 21, 55, 34,  4, 22, 80, 31, 86, 53, 73, 55, 41, 21,\n",
       "        55, 34,  4, 22, 80, 31, 86, 53],\n",
       "       [49, 97, 60, 72, 49, 81, 13, 20, 68, 93, 45, 79, 49, 97, 60, 72,\n",
       "        49, 81, 13, 20, 68, 93, 45, 79],\n",
       "       [60, 77, 16, 46, 43, 41, 90, 85, 85, 17, 19, 35, 60, 77, 16, 46,\n",
       "        43, 41, 90, 85, 85, 17, 19, 35],\n",
       "       [58, 13, 89, 39, 66, 83, 58, 71, 37,  2, 24, 39, 58, 13, 89, 39,\n",
       "        66, 83, 58, 71, 37,  2, 24, 39],\n",
       "       [90, 72,  8, 97, 41, 71, 97, 39, 13,  1, 37, 39, 90, 72,  8, 97,\n",
       "        41, 71, 97, 39, 13,  1, 37, 39],\n",
       "       [70, 47, 44, 84, 76, 91, 54, 69, 29, 68, 12, 58, 70, 47, 44, 84,\n",
       "        76, 91, 54, 69, 29, 68, 12, 58],\n",
       "       [20, 30, 74, 15, 34, 73, 50, 72, 46, 86, 33, 63, 20, 30, 74, 15,\n",
       "        34, 73, 50, 72, 46, 86, 33, 63]])"
      ]
     },
     "execution_count": 69,
     "metadata": {},
     "output_type": "execute_result"
    }
   ],
   "source": [
    "tiled_mp[0,0]"
   ]
  },
  {
   "cell_type": "code",
   "execution_count": 70,
   "metadata": {},
   "outputs": [
    {
     "data": {
      "text/plain": [
       "array([[77, 40, 43, 83, 50, 74, 39, 22, 60, 42, 14, 71],\n",
       "       [80, 93, 79, 83, 16, 64, 76, 34, 12,  8, 15,  3],\n",
       "       [87, 53, 32, 74, 92, 36,  8, 69, 65, 79, 49, 61],\n",
       "       [17, 45, 62, 76, 25, 30,  7, 13, 95, 38, 70, 62],\n",
       "       [69,  7, 14, 22, 93, 85, 57, 57, 51, 17, 70, 63],\n",
       "       [73, 55, 41, 21, 55, 34,  4, 22, 80, 31, 86, 53],\n",
       "       [49, 97, 60, 72, 49, 81, 13, 20, 68, 93, 45, 79],\n",
       "       [60, 77, 16, 46, 43, 41, 90, 85, 85, 17, 19, 35],\n",
       "       [58, 13, 89, 39, 66, 83, 58, 71, 37,  2, 24, 39],\n",
       "       [90, 72,  8, 97, 41, 71, 97, 39, 13,  1, 37, 39],\n",
       "       [70, 47, 44, 84, 76, 91, 54, 69, 29, 68, 12, 58],\n",
       "       [20, 30, 74, 15, 34, 73, 50, 72, 46, 86, 33, 63]])"
      ]
     },
     "execution_count": 70,
     "metadata": {},
     "output_type": "execute_result"
    }
   ],
   "source": [
    "output_mp[0,0]"
   ]
  },
  {
   "cell_type": "code",
   "execution_count": 71,
   "metadata": {},
   "outputs": [
    {
     "name": "stdout",
     "output_type": "stream",
     "text": [
      "(0, 0, 0, 1 -> 40 != 77\n",
      "(0, 0, 0, 2 -> 43 != 40\n",
      "(0, 0, 0, 3 -> 83 != 40\n",
      "(0, 0, 0, 4 -> 50 != 43\n",
      "(0, 0, 0, 5 -> 74 != 43\n",
      "(0, 0, 0, 6 -> 39 != 83\n",
      "(0, 0, 0, 7 -> 22 != 83\n",
      "(0, 0, 0, 8 -> 60 != 50\n",
      "(0, 0, 0, 9 -> 42 != 50\n",
      "(0, 0, 0, 10 -> 14 != 74\n",
      "(0, 0, 0, 11 -> 71 != 74\n",
      "(0, 0, 0, 12 -> 77 != 39\n",
      "(0, 0, 0, 13 -> 40 != 39\n",
      "(0, 0, 0, 14 -> 43 != 22\n",
      "(0, 0, 0, 15 -> 83 != 22\n",
      "(0, 0, 0, 16 -> 50 != 60\n",
      "(0, 0, 0, 17 -> 74 != 60\n",
      "(0, 0, 0, 18 -> 39 != 42\n",
      "(0, 0, 0, 19 -> 22 != 42\n",
      "(0, 0, 0, 20 -> 60 != 14\n",
      "(0, 0, 0, 21 -> 42 != 14\n",
      "(0, 0, 0, 22 -> 14 != 71\n",
      "(0, 0, 1, 0 -> 80 != 77\n",
      "(0, 0, 1, 1 -> 93 != 77\n",
      "(0, 0, 1, 2 -> 79 != 40\n",
      "(0, 0, 1, 3 -> 83 != 40\n",
      "(0, 0, 1, 4 -> 16 != 43\n",
      "(0, 0, 1, 5 -> 64 != 43\n",
      "(0, 0, 1, 6 -> 76 != 83\n",
      "(0, 0, 1, 7 -> 34 != 83\n",
      "(0, 0, 1, 8 -> 12 != 50\n",
      "(0, 0, 1, 9 -> 8 != 50\n",
      "(0, 0, 1, 10 -> 15 != 74\n",
      "(0, 0, 1, 11 -> 3 != 74\n",
      "(0, 0, 1, 12 -> 80 != 39\n",
      "(0, 0, 1, 13 -> 93 != 39\n",
      "(0, 0, 1, 14 -> 79 != 22\n",
      "(0, 0, 1, 15 -> 83 != 22\n",
      "(0, 0, 1, 16 -> 16 != 60\n",
      "(0, 0, 1, 17 -> 64 != 60\n",
      "(0, 0, 1, 18 -> 76 != 42\n",
      "(0, 0, 1, 19 -> 34 != 42\n",
      "(0, 0, 1, 20 -> 12 != 14\n",
      "(0, 0, 1, 21 -> 8 != 14\n",
      "(0, 0, 1, 22 -> 15 != 71\n",
      "(0, 0, 1, 23 -> 3 != 71\n",
      "(0, 0, 2, 0 -> 87 != 80\n",
      "(0, 0, 2, 1 -> 53 != 80\n",
      "(0, 0, 2, 2 -> 32 != 93\n",
      "(0, 0, 2, 3 -> 74 != 93\n",
      "(0, 0, 2, 4 -> 92 != 79\n",
      "(0, 0, 2, 5 -> 36 != 79\n",
      "(0, 0, 2, 6 -> 8 != 83\n",
      "(0, 0, 2, 7 -> 69 != 83\n",
      "(0, 0, 2, 8 -> 65 != 16\n",
      "(0, 0, 2, 9 -> 79 != 16\n",
      "(0, 0, 2, 10 -> 49 != 64\n",
      "(0, 0, 2, 11 -> 61 != 64\n",
      "(0, 0, 2, 12 -> 87 != 76\n",
      "(0, 0, 2, 13 -> 53 != 76\n",
      "(0, 0, 2, 14 -> 32 != 34\n",
      "(0, 0, 2, 15 -> 74 != 34\n",
      "(0, 0, 2, 16 -> 92 != 12\n",
      "(0, 0, 2, 17 -> 36 != 12\n",
      "(0, 0, 2, 19 -> 69 != 8\n",
      "(0, 0, 2, 20 -> 65 != 15\n",
      "(0, 0, 2, 21 -> 79 != 15\n",
      "(0, 0, 2, 22 -> 49 != 3\n",
      "(0, 0, 2, 23 -> 61 != 3\n",
      "(0, 0, 3, 0 -> 17 != 80\n",
      "(0, 0, 3, 1 -> 45 != 80\n",
      "(0, 0, 3, 2 -> 62 != 93\n",
      "(0, 0, 3, 3 -> 76 != 93\n",
      "(0, 0, 3, 4 -> 25 != 79\n",
      "(0, 0, 3, 5 -> 30 != 79\n",
      "(0, 0, 3, 6 -> 7 != 83\n",
      "(0, 0, 3, 7 -> 13 != 83\n",
      "(0, 0, 3, 8 -> 95 != 16\n",
      "(0, 0, 3, 9 -> 38 != 16\n",
      "(0, 0, 3, 10 -> 70 != 64\n",
      "(0, 0, 3, 11 -> 62 != 64\n",
      "(0, 0, 3, 12 -> 17 != 76\n",
      "(0, 0, 3, 13 -> 45 != 76\n",
      "(0, 0, 3, 14 -> 62 != 34\n",
      "(0, 0, 3, 15 -> 76 != 34\n",
      "(0, 0, 3, 16 -> 25 != 12\n",
      "(0, 0, 3, 17 -> 30 != 12\n",
      "(0, 0, 3, 18 -> 7 != 8\n",
      "(0, 0, 3, 19 -> 13 != 8\n",
      "(0, 0, 3, 20 -> 95 != 15\n",
      "(0, 0, 3, 21 -> 38 != 15\n",
      "(0, 0, 3, 22 -> 70 != 3\n",
      "(0, 0, 3, 23 -> 62 != 3\n",
      "(0, 0, 4, 0 -> 69 != 87\n",
      "(0, 0, 4, 1 -> 7 != 87\n",
      "(0, 0, 4, 2 -> 14 != 53\n",
      "(0, 0, 4, 3 -> 22 != 53\n",
      "(0, 0, 4, 4 -> 93 != 32\n",
      "(0, 0, 4, 5 -> 85 != 32\n",
      "(0, 0, 4, 6 -> 57 != 74\n",
      "(0, 0, 4, 7 -> 57 != 74\n",
      "(0, 0, 4, 8 -> 51 != 92\n",
      "(0, 0, 4, 9 -> 17 != 92\n",
      "(0, 0, 4, 10 -> 70 != 36\n",
      "(0, 0, 4, 11 -> 63 != 36\n",
      "(0, 0, 4, 12 -> 69 != 8\n",
      "(0, 0, 4, 13 -> 7 != 8\n",
      "(0, 0, 4, 14 -> 14 != 69\n",
      "(0, 0, 4, 15 -> 22 != 69\n",
      "(0, 0, 4, 16 -> 93 != 65\n",
      "(0, 0, 4, 17 -> 85 != 65\n",
      "(0, 0, 4, 18 -> 57 != 79\n",
      "(0, 0, 4, 19 -> 57 != 79\n",
      "(0, 0, 4, 20 -> 51 != 49\n",
      "(0, 0, 4, 21 -> 17 != 49\n",
      "(0, 0, 4, 22 -> 70 != 61\n",
      "(0, 0, 4, 23 -> 63 != 61\n",
      "(0, 0, 5, 0 -> 73 != 87\n",
      "(0, 0, 5, 1 -> 55 != 87\n",
      "(0, 0, 5, 2 -> 41 != 53\n",
      "(0, 0, 5, 3 -> 21 != 53\n",
      "(0, 0, 5, 4 -> 55 != 32\n",
      "(0, 0, 5, 5 -> 34 != 32\n",
      "(0, 0, 5, 6 -> 4 != 74\n",
      "(0, 0, 5, 7 -> 22 != 74\n",
      "(0, 0, 5, 8 -> 80 != 92\n",
      "(0, 0, 5, 9 -> 31 != 92\n",
      "(0, 0, 5, 10 -> 86 != 36\n",
      "(0, 0, 5, 11 -> 53 != 36\n",
      "(0, 0, 5, 12 -> 73 != 8\n",
      "(0, 0, 5, 13 -> 55 != 8\n",
      "(0, 0, 5, 14 -> 41 != 69\n",
      "(0, 0, 5, 15 -> 21 != 69\n",
      "(0, 0, 5, 16 -> 55 != 65\n",
      "(0, 0, 5, 17 -> 34 != 65\n",
      "(0, 0, 5, 18 -> 4 != 79\n",
      "(0, 0, 5, 19 -> 22 != 79\n",
      "(0, 0, 5, 20 -> 80 != 49\n",
      "(0, 0, 5, 21 -> 31 != 49\n",
      "(0, 0, 5, 22 -> 86 != 61\n",
      "(0, 0, 5, 23 -> 53 != 61\n",
      "(0, 0, 6, 0 -> 49 != 17\n",
      "(0, 0, 6, 1 -> 97 != 17\n",
      "(0, 0, 6, 2 -> 60 != 45\n",
      "(0, 0, 6, 3 -> 72 != 45\n",
      "(0, 0, 6, 4 -> 49 != 62\n",
      "(0, 0, 6, 5 -> 81 != 62\n",
      "(0, 0, 6, 6 -> 13 != 76\n",
      "(0, 0, 6, 7 -> 20 != 76\n",
      "(0, 0, 6, 8 -> 68 != 25\n",
      "(0, 0, 6, 9 -> 93 != 25\n",
      "(0, 0, 6, 10 -> 45 != 30\n",
      "(0, 0, 6, 11 -> 79 != 30\n",
      "(0, 0, 6, 12 -> 49 != 7\n",
      "(0, 0, 6, 13 -> 97 != 7\n",
      "(0, 0, 6, 14 -> 60 != 13\n",
      "(0, 0, 6, 15 -> 72 != 13\n",
      "(0, 0, 6, 16 -> 49 != 95\n",
      "(0, 0, 6, 17 -> 81 != 95\n",
      "(0, 0, 6, 18 -> 13 != 38\n",
      "(0, 0, 6, 19 -> 20 != 38\n",
      "(0, 0, 6, 20 -> 68 != 70\n",
      "(0, 0, 6, 21 -> 93 != 70\n",
      "(0, 0, 6, 22 -> 45 != 62\n",
      "(0, 0, 6, 23 -> 79 != 62\n",
      "(0, 0, 7, 0 -> 60 != 17\n",
      "(0, 0, 7, 1 -> 77 != 17\n",
      "(0, 0, 7, 2 -> 16 != 45\n",
      "(0, 0, 7, 3 -> 46 != 45\n",
      "(0, 0, 7, 4 -> 43 != 62\n",
      "(0, 0, 7, 5 -> 41 != 62\n",
      "(0, 0, 7, 6 -> 90 != 76\n",
      "(0, 0, 7, 7 -> 85 != 76\n",
      "(0, 0, 7, 8 -> 85 != 25\n",
      "(0, 0, 7, 9 -> 17 != 25\n",
      "(0, 0, 7, 10 -> 19 != 30\n",
      "(0, 0, 7, 11 -> 35 != 30\n",
      "(0, 0, 7, 12 -> 60 != 7\n",
      "(0, 0, 7, 13 -> 77 != 7\n",
      "(0, 0, 7, 14 -> 16 != 13\n",
      "(0, 0, 7, 15 -> 46 != 13\n",
      "(0, 0, 7, 16 -> 43 != 95\n",
      "(0, 0, 7, 17 -> 41 != 95\n",
      "(0, 0, 7, 18 -> 90 != 38\n",
      "(0, 0, 7, 19 -> 85 != 38\n",
      "(0, 0, 7, 20 -> 85 != 70\n",
      "(0, 0, 7, 21 -> 17 != 70\n",
      "(0, 0, 7, 22 -> 19 != 62\n",
      "(0, 0, 7, 23 -> 35 != 62\n",
      "(0, 0, 8, 0 -> 58 != 69\n",
      "(0, 0, 8, 1 -> 13 != 69\n",
      "(0, 0, 8, 2 -> 89 != 7\n",
      "(0, 0, 8, 3 -> 39 != 7\n",
      "(0, 0, 8, 4 -> 66 != 14\n",
      "(0, 0, 8, 5 -> 83 != 14\n",
      "(0, 0, 8, 6 -> 58 != 22\n",
      "(0, 0, 8, 7 -> 71 != 22\n",
      "(0, 0, 8, 8 -> 37 != 93\n",
      "(0, 0, 8, 9 -> 2 != 93\n",
      "(0, 0, 8, 10 -> 24 != 85\n",
      "(0, 0, 8, 11 -> 39 != 85\n",
      "(0, 0, 8, 12 -> 58 != 57\n",
      "(0, 0, 8, 13 -> 13 != 57\n",
      "(0, 0, 8, 14 -> 89 != 57\n",
      "(0, 0, 8, 15 -> 39 != 57\n",
      "(0, 0, 8, 16 -> 66 != 51\n",
      "(0, 0, 8, 17 -> 83 != 51\n",
      "(0, 0, 8, 18 -> 58 != 17\n",
      "(0, 0, 8, 19 -> 71 != 17\n",
      "(0, 0, 8, 20 -> 37 != 70\n",
      "(0, 0, 8, 21 -> 2 != 70\n",
      "(0, 0, 8, 22 -> 24 != 63\n",
      "(0, 0, 8, 23 -> 39 != 63\n",
      "(0, 0, 9, 0 -> 90 != 69\n",
      "(0, 0, 9, 1 -> 72 != 69\n",
      "(0, 0, 9, 2 -> 8 != 7\n",
      "(0, 0, 9, 3 -> 97 != 7\n",
      "(0, 0, 9, 4 -> 41 != 14\n",
      "(0, 0, 9, 5 -> 71 != 14\n",
      "(0, 0, 9, 6 -> 97 != 22\n",
      "(0, 0, 9, 7 -> 39 != 22\n",
      "(0, 0, 9, 8 -> 13 != 93\n",
      "(0, 0, 9, 9 -> 1 != 93\n",
      "(0, 0, 9, 10 -> 37 != 85\n",
      "(0, 0, 9, 11 -> 39 != 85\n",
      "(0, 0, 9, 12 -> 90 != 57\n",
      "(0, 0, 9, 13 -> 72 != 57\n",
      "(0, 0, 9, 14 -> 8 != 57\n",
      "(0, 0, 9, 15 -> 97 != 57\n",
      "(0, 0, 9, 16 -> 41 != 51\n",
      "(0, 0, 9, 17 -> 71 != 51\n",
      "(0, 0, 9, 18 -> 97 != 17\n",
      "(0, 0, 9, 19 -> 39 != 17\n",
      "(0, 0, 9, 20 -> 13 != 70\n",
      "(0, 0, 9, 21 -> 1 != 70\n",
      "(0, 0, 9, 22 -> 37 != 63\n",
      "(0, 0, 9, 23 -> 39 != 63\n",
      "(0, 0, 10, 0 -> 70 != 73\n",
      "(0, 0, 10, 1 -> 47 != 73\n",
      "(0, 0, 10, 2 -> 44 != 55\n",
      "(0, 0, 10, 3 -> 84 != 55\n",
      "(0, 0, 10, 4 -> 76 != 41\n",
      "(0, 0, 10, 5 -> 91 != 41\n",
      "(0, 0, 10, 6 -> 54 != 21\n",
      "(0, 0, 10, 7 -> 69 != 21\n",
      "(0, 0, 10, 8 -> 29 != 55\n",
      "(0, 0, 10, 9 -> 68 != 55\n",
      "(0, 0, 10, 10 -> 12 != 34\n",
      "(0, 0, 10, 11 -> 58 != 34\n",
      "(0, 0, 10, 12 -> 70 != 4\n",
      "(0, 0, 10, 13 -> 47 != 4\n",
      "(0, 0, 10, 14 -> 44 != 22\n",
      "(0, 0, 10, 15 -> 84 != 22\n",
      "(0, 0, 10, 16 -> 76 != 80\n",
      "(0, 0, 10, 17 -> 91 != 80\n",
      "(0, 0, 10, 18 -> 54 != 31\n",
      "(0, 0, 10, 19 -> 69 != 31\n",
      "(0, 0, 10, 20 -> 29 != 86\n",
      "(0, 0, 10, 21 -> 68 != 86\n",
      "(0, 0, 10, 22 -> 12 != 53\n",
      "(0, 0, 10, 23 -> 58 != 53\n",
      "(0, 0, 11, 0 -> 20 != 73\n",
      "(0, 0, 11, 1 -> 30 != 73\n",
      "(0, 0, 11, 2 -> 74 != 55\n",
      "(0, 0, 11, 3 -> 15 != 55\n",
      "(0, 0, 11, 4 -> 34 != 41\n",
      "(0, 0, 11, 5 -> 73 != 41\n",
      "(0, 0, 11, 6 -> 50 != 21\n",
      "(0, 0, 11, 7 -> 72 != 21\n",
      "(0, 0, 11, 8 -> 46 != 55\n",
      "(0, 0, 11, 9 -> 86 != 55\n",
      "(0, 0, 11, 10 -> 33 != 34\n",
      "(0, 0, 11, 11 -> 63 != 34\n",
      "(0, 0, 11, 12 -> 20 != 4\n",
      "(0, 0, 11, 13 -> 30 != 4\n",
      "(0, 0, 11, 14 -> 74 != 22\n",
      "(0, 0, 11, 15 -> 15 != 22\n",
      "(0, 0, 11, 16 -> 34 != 80\n",
      "(0, 0, 11, 17 -> 73 != 80\n",
      "(0, 0, 11, 18 -> 50 != 31\n",
      "(0, 0, 11, 19 -> 72 != 31\n",
      "(0, 0, 11, 20 -> 46 != 86\n",
      "(0, 0, 11, 22 -> 33 != 53\n",
      "(0, 0, 11, 23 -> 63 != 53\n",
      "(0, 0, 12, 0 -> 77 != 49\n",
      "(0, 0, 12, 1 -> 40 != 49\n",
      "(0, 0, 12, 2 -> 43 != 97\n",
      "(0, 0, 12, 3 -> 83 != 97\n",
      "(0, 0, 12, 4 -> 50 != 60\n",
      "(0, 0, 12, 5 -> 74 != 60\n",
      "(0, 0, 12, 6 -> 39 != 72\n",
      "(0, 0, 12, 7 -> 22 != 72\n",
      "(0, 0, 12, 8 -> 60 != 49\n",
      "(0, 0, 12, 9 -> 42 != 49\n",
      "(0, 0, 12, 10 -> 14 != 81\n",
      "(0, 0, 12, 11 -> 71 != 81\n",
      "(0, 0, 12, 12 -> 77 != 13\n",
      "(0, 0, 12, 13 -> 40 != 13\n",
      "(0, 0, 12, 14 -> 43 != 20\n",
      "(0, 0, 12, 15 -> 83 != 20\n",
      "(0, 0, 12, 16 -> 50 != 68\n",
      "(0, 0, 12, 17 -> 74 != 68\n",
      "(0, 0, 12, 18 -> 39 != 93\n",
      "(0, 0, 12, 19 -> 22 != 93\n",
      "(0, 0, 12, 20 -> 60 != 45\n",
      "(0, 0, 12, 21 -> 42 != 45\n",
      "(0, 0, 12, 22 -> 14 != 79\n",
      "(0, 0, 12, 23 -> 71 != 79\n",
      "(0, 0, 13, 0 -> 80 != 49\n",
      "(0, 0, 13, 1 -> 93 != 49\n",
      "(0, 0, 13, 2 -> 79 != 97\n",
      "(0, 0, 13, 3 -> 83 != 97\n",
      "(0, 0, 13, 4 -> 16 != 60\n",
      "(0, 0, 13, 5 -> 64 != 60\n",
      "(0, 0, 13, 6 -> 76 != 72\n",
      "(0, 0, 13, 7 -> 34 != 72\n",
      "(0, 0, 13, 8 -> 12 != 49\n",
      "(0, 0, 13, 9 -> 8 != 49\n",
      "(0, 0, 13, 10 -> 15 != 81\n",
      "(0, 0, 13, 11 -> 3 != 81\n",
      "(0, 0, 13, 12 -> 80 != 13\n",
      "(0, 0, 13, 13 -> 93 != 13\n",
      "(0, 0, 13, 14 -> 79 != 20\n",
      "(0, 0, 13, 15 -> 83 != 20\n",
      "(0, 0, 13, 16 -> 16 != 68\n",
      "(0, 0, 13, 17 -> 64 != 68\n",
      "(0, 0, 13, 18 -> 76 != 93\n",
      "(0, 0, 13, 19 -> 34 != 93\n",
      "(0, 0, 13, 20 -> 12 != 45\n",
      "(0, 0, 13, 21 -> 8 != 45\n",
      "(0, 0, 13, 22 -> 15 != 79\n",
      "(0, 0, 13, 23 -> 3 != 79\n",
      "(0, 0, 14, 0 -> 87 != 60\n",
      "(0, 0, 14, 1 -> 53 != 60\n",
      "(0, 0, 14, 2 -> 32 != 77\n",
      "(0, 0, 14, 3 -> 74 != 77\n",
      "(0, 0, 14, 4 -> 92 != 16\n",
      "(0, 0, 14, 5 -> 36 != 16\n",
      "(0, 0, 14, 6 -> 8 != 46\n",
      "(0, 0, 14, 7 -> 69 != 46\n",
      "(0, 0, 14, 8 -> 65 != 43\n",
      "(0, 0, 14, 9 -> 79 != 43\n",
      "(0, 0, 14, 10 -> 49 != 41\n",
      "(0, 0, 14, 11 -> 61 != 41\n",
      "(0, 0, 14, 12 -> 87 != 90\n",
      "(0, 0, 14, 13 -> 53 != 90\n",
      "(0, 0, 14, 14 -> 32 != 85\n",
      "(0, 0, 14, 15 -> 74 != 85\n",
      "(0, 0, 14, 16 -> 92 != 85\n",
      "(0, 0, 14, 17 -> 36 != 85\n",
      "(0, 0, 14, 18 -> 8 != 17\n",
      "(0, 0, 14, 19 -> 69 != 17\n",
      "(0, 0, 14, 20 -> 65 != 19\n",
      "(0, 0, 14, 21 -> 79 != 19\n",
      "(0, 0, 14, 22 -> 49 != 35\n",
      "(0, 0, 14, 23 -> 61 != 35\n",
      "(0, 0, 15, 0 -> 17 != 60\n",
      "(0, 0, 15, 1 -> 45 != 60\n",
      "(0, 0, 15, 2 -> 62 != 77\n",
      "(0, 0, 15, 3 -> 76 != 77\n",
      "(0, 0, 15, 4 -> 25 != 16\n",
      "(0, 0, 15, 5 -> 30 != 16\n",
      "(0, 0, 15, 6 -> 7 != 46\n",
      "(0, 0, 15, 7 -> 13 != 46\n",
      "(0, 0, 15, 8 -> 95 != 43\n",
      "(0, 0, 15, 9 -> 38 != 43\n",
      "(0, 0, 15, 10 -> 70 != 41\n",
      "(0, 0, 15, 11 -> 62 != 41\n",
      "(0, 0, 15, 12 -> 17 != 90\n",
      "(0, 0, 15, 13 -> 45 != 90\n",
      "(0, 0, 15, 14 -> 62 != 85\n",
      "(0, 0, 15, 15 -> 76 != 85\n",
      "(0, 0, 15, 16 -> 25 != 85\n",
      "(0, 0, 15, 17 -> 30 != 85\n",
      "(0, 0, 15, 18 -> 7 != 17\n",
      "(0, 0, 15, 19 -> 13 != 17\n",
      "(0, 0, 15, 20 -> 95 != 19\n",
      "(0, 0, 15, 21 -> 38 != 19\n",
      "(0, 0, 15, 22 -> 70 != 35\n",
      "(0, 0, 15, 23 -> 62 != 35\n",
      "(0, 0, 16, 0 -> 69 != 58\n",
      "(0, 0, 16, 1 -> 7 != 58\n",
      "(0, 0, 16, 2 -> 14 != 13\n",
      "(0, 0, 16, 3 -> 22 != 13\n",
      "(0, 0, 16, 4 -> 93 != 89\n",
      "(0, 0, 16, 5 -> 85 != 89\n",
      "(0, 0, 16, 6 -> 57 != 39\n",
      "(0, 0, 16, 7 -> 57 != 39\n",
      "(0, 0, 16, 8 -> 51 != 66\n",
      "(0, 0, 16, 9 -> 17 != 66\n",
      "(0, 0, 16, 10 -> 70 != 83\n",
      "(0, 0, 16, 11 -> 63 != 83\n",
      "(0, 0, 16, 12 -> 69 != 58\n",
      "(0, 0, 16, 13 -> 7 != 58\n",
      "(0, 0, 16, 14 -> 14 != 71\n",
      "(0, 0, 16, 15 -> 22 != 71\n",
      "(0, 0, 16, 16 -> 93 != 37\n",
      "(0, 0, 16, 17 -> 85 != 37\n",
      "(0, 0, 16, 18 -> 57 != 2\n",
      "(0, 0, 16, 19 -> 57 != 2\n",
      "(0, 0, 16, 20 -> 51 != 24\n",
      "(0, 0, 16, 21 -> 17 != 24\n",
      "(0, 0, 16, 22 -> 70 != 39\n",
      "(0, 0, 16, 23 -> 63 != 39\n",
      "(0, 0, 17, 0 -> 73 != 58\n",
      "(0, 0, 17, 1 -> 55 != 58\n",
      "(0, 0, 17, 2 -> 41 != 13\n",
      "(0, 0, 17, 3 -> 21 != 13\n",
      "(0, 0, 17, 4 -> 55 != 89\n",
      "(0, 0, 17, 5 -> 34 != 89\n",
      "(0, 0, 17, 6 -> 4 != 39\n",
      "(0, 0, 17, 7 -> 22 != 39\n",
      "(0, 0, 17, 8 -> 80 != 66\n",
      "(0, 0, 17, 9 -> 31 != 66\n",
      "(0, 0, 17, 10 -> 86 != 83\n",
      "(0, 0, 17, 11 -> 53 != 83\n",
      "(0, 0, 17, 12 -> 73 != 58\n",
      "(0, 0, 17, 13 -> 55 != 58\n",
      "(0, 0, 17, 14 -> 41 != 71\n",
      "(0, 0, 17, 15 -> 21 != 71\n",
      "(0, 0, 17, 16 -> 55 != 37\n",
      "(0, 0, 17, 17 -> 34 != 37\n",
      "(0, 0, 17, 18 -> 4 != 2\n",
      "(0, 0, 17, 19 -> 22 != 2\n",
      "(0, 0, 17, 20 -> 80 != 24\n",
      "(0, 0, 17, 21 -> 31 != 24\n",
      "(0, 0, 17, 22 -> 86 != 39\n",
      "(0, 0, 17, 23 -> 53 != 39\n",
      "(0, 0, 18, 0 -> 49 != 90\n",
      "(0, 0, 18, 1 -> 97 != 90\n",
      "(0, 0, 18, 2 -> 60 != 72\n",
      "(0, 0, 18, 4 -> 49 != 8\n",
      "(0, 0, 18, 5 -> 81 != 8\n",
      "(0, 0, 18, 6 -> 13 != 97\n",
      "(0, 0, 18, 7 -> 20 != 97\n",
      "(0, 0, 18, 8 -> 68 != 41\n",
      "(0, 0, 18, 9 -> 93 != 41\n",
      "(0, 0, 18, 10 -> 45 != 71\n",
      "(0, 0, 18, 11 -> 79 != 71\n",
      "(0, 0, 18, 12 -> 49 != 97\n",
      "(0, 0, 18, 14 -> 60 != 39\n",
      "(0, 0, 18, 15 -> 72 != 39\n",
      "(0, 0, 18, 16 -> 49 != 13\n",
      "(0, 0, 18, 17 -> 81 != 13\n",
      "(0, 0, 18, 18 -> 13 != 1\n",
      "(0, 0, 18, 19 -> 20 != 1\n",
      "(0, 0, 18, 20 -> 68 != 37\n",
      "(0, 0, 18, 21 -> 93 != 37\n",
      "(0, 0, 18, 22 -> 45 != 39\n",
      "(0, 0, 18, 23 -> 79 != 39\n",
      "(0, 0, 19, 0 -> 60 != 90\n",
      "(0, 0, 19, 1 -> 77 != 90\n",
      "(0, 0, 19, 2 -> 16 != 72\n",
      "(0, 0, 19, 3 -> 46 != 72\n",
      "(0, 0, 19, 4 -> 43 != 8\n",
      "(0, 0, 19, 5 -> 41 != 8\n",
      "(0, 0, 19, 6 -> 90 != 97\n",
      "(0, 0, 19, 7 -> 85 != 97\n",
      "(0, 0, 19, 8 -> 85 != 41\n",
      "(0, 0, 19, 9 -> 17 != 41\n",
      "(0, 0, 19, 10 -> 19 != 71\n",
      "(0, 0, 19, 11 -> 35 != 71\n",
      "(0, 0, 19, 12 -> 60 != 97\n",
      "(0, 0, 19, 13 -> 77 != 97\n",
      "(0, 0, 19, 14 -> 16 != 39\n",
      "(0, 0, 19, 15 -> 46 != 39\n",
      "(0, 0, 19, 16 -> 43 != 13\n",
      "(0, 0, 19, 17 -> 41 != 13\n",
      "(0, 0, 19, 18 -> 90 != 1\n",
      "(0, 0, 19, 19 -> 85 != 1\n",
      "(0, 0, 19, 20 -> 85 != 37\n",
      "(0, 0, 19, 21 -> 17 != 37\n",
      "(0, 0, 19, 22 -> 19 != 39\n",
      "(0, 0, 19, 23 -> 35 != 39\n",
      "(0, 0, 20, 0 -> 58 != 70\n",
      "(0, 0, 20, 1 -> 13 != 70\n",
      "(0, 0, 20, 2 -> 89 != 47\n",
      "(0, 0, 20, 3 -> 39 != 47\n",
      "(0, 0, 20, 4 -> 66 != 44\n",
      "(0, 0, 20, 5 -> 83 != 44\n",
      "(0, 0, 20, 6 -> 58 != 84\n",
      "(0, 0, 20, 7 -> 71 != 84\n",
      "(0, 0, 20, 8 -> 37 != 76\n",
      "(0, 0, 20, 9 -> 2 != 76\n",
      "(0, 0, 20, 10 -> 24 != 91\n",
      "(0, 0, 20, 11 -> 39 != 91\n",
      "(0, 0, 20, 12 -> 58 != 54\n",
      "(0, 0, 20, 13 -> 13 != 54\n",
      "(0, 0, 20, 14 -> 89 != 69\n",
      "(0, 0, 20, 15 -> 39 != 69\n",
      "(0, 0, 20, 16 -> 66 != 29\n",
      "(0, 0, 20, 17 -> 83 != 29\n",
      "(0, 0, 20, 18 -> 58 != 68\n",
      "(0, 0, 20, 19 -> 71 != 68\n",
      "(0, 0, 20, 20 -> 37 != 12\n",
      "(0, 0, 20, 21 -> 2 != 12\n",
      "(0, 0, 20, 22 -> 24 != 58\n",
      "(0, 0, 20, 23 -> 39 != 58\n",
      "(0, 0, 21, 0 -> 90 != 70\n",
      "(0, 0, 21, 1 -> 72 != 70\n",
      "(0, 0, 21, 2 -> 8 != 47\n",
      "(0, 0, 21, 3 -> 97 != 47\n",
      "(0, 0, 21, 4 -> 41 != 44\n",
      "(0, 0, 21, 5 -> 71 != 44\n",
      "(0, 0, 21, 6 -> 97 != 84\n",
      "(0, 0, 21, 7 -> 39 != 84\n",
      "(0, 0, 21, 8 -> 13 != 76\n",
      "(0, 0, 21, 9 -> 1 != 76\n",
      "(0, 0, 21, 10 -> 37 != 91\n",
      "(0, 0, 21, 11 -> 39 != 91\n",
      "(0, 0, 21, 12 -> 90 != 54\n",
      "(0, 0, 21, 13 -> 72 != 54\n",
      "(0, 0, 21, 14 -> 8 != 69\n",
      "(0, 0, 21, 15 -> 97 != 69\n",
      "(0, 0, 21, 16 -> 41 != 29\n",
      "(0, 0, 21, 17 -> 71 != 29\n",
      "(0, 0, 21, 18 -> 97 != 68\n",
      "(0, 0, 21, 19 -> 39 != 68\n",
      "(0, 0, 21, 20 -> 13 != 12\n",
      "(0, 0, 21, 21 -> 1 != 12\n",
      "(0, 0, 21, 22 -> 37 != 58\n",
      "(0, 0, 21, 23 -> 39 != 58\n",
      "(0, 0, 22, 0 -> 70 != 20\n",
      "(0, 0, 22, 1 -> 47 != 20\n",
      "(0, 0, 22, 2 -> 44 != 30\n",
      "(0, 0, 22, 3 -> 84 != 30\n",
      "(0, 0, 22, 4 -> 76 != 74\n",
      "(0, 0, 22, 5 -> 91 != 74\n",
      "(0, 0, 22, 6 -> 54 != 15\n",
      "(0, 0, 22, 7 -> 69 != 15\n",
      "(0, 0, 22, 8 -> 29 != 34\n",
      "(0, 0, 22, 9 -> 68 != 34\n",
      "(0, 0, 22, 10 -> 12 != 73\n",
      "(0, 0, 22, 11 -> 58 != 73\n",
      "(0, 0, 22, 12 -> 70 != 50\n",
      "(0, 0, 22, 13 -> 47 != 50\n",
      "(0, 0, 22, 14 -> 44 != 72\n",
      "(0, 0, 22, 15 -> 84 != 72\n",
      "(0, 0, 22, 16 -> 76 != 46\n",
      "(0, 0, 22, 17 -> 91 != 46\n",
      "(0, 0, 22, 18 -> 54 != 86\n",
      "(0, 0, 22, 19 -> 69 != 86\n",
      "(0, 0, 22, 20 -> 29 != 33\n",
      "(0, 0, 22, 21 -> 68 != 33\n",
      "(0, 0, 22, 22 -> 12 != 63\n",
      "(0, 0, 22, 23 -> 58 != 63\n",
      "(0, 0, 23, 1 -> 30 != 20\n",
      "(0, 0, 23, 2 -> 74 != 30\n",
      "(0, 0, 23, 3 -> 15 != 30\n",
      "(0, 0, 23, 4 -> 34 != 74\n",
      "(0, 0, 23, 5 -> 73 != 74\n",
      "(0, 0, 23, 6 -> 50 != 15\n",
      "(0, 0, 23, 7 -> 72 != 15\n",
      "(0, 0, 23, 8 -> 46 != 34\n",
      "(0, 0, 23, 9 -> 86 != 34\n",
      "(0, 0, 23, 10 -> 33 != 73\n",
      "(0, 0, 23, 11 -> 63 != 73\n",
      "(0, 0, 23, 12 -> 20 != 50\n",
      "(0, 0, 23, 13 -> 30 != 50\n",
      "(0, 0, 23, 14 -> 74 != 72\n",
      "(0, 0, 23, 15 -> 15 != 72\n",
      "(0, 0, 23, 16 -> 34 != 46\n",
      "(0, 0, 23, 17 -> 73 != 46\n",
      "(0, 0, 23, 18 -> 50 != 86\n",
      "(0, 0, 23, 19 -> 72 != 86\n",
      "(0, 0, 23, 20 -> 46 != 33\n",
      "(0, 0, 23, 21 -> 86 != 33\n",
      "(0, 0, 23, 22 -> 33 != 63\n",
      "(0, 1, 0, 1 -> 25 != 65\n",
      "(0, 1, 0, 2 -> 97 != 25\n",
      "(0, 1, 0, 3 -> 97 != 25\n",
      "(0, 1, 0, 4 -> 80 != 97\n",
      "(0, 1, 0, 5 -> 60 != 97\n",
      "(0, 1, 0, 6 -> 68 != 97\n",
      "(0, 1, 0, 7 -> 50 != 97\n",
      "(0, 1, 0, 8 -> 97 != 80\n",
      "(0, 1, 0, 9 -> 73 != 80\n",
      "(0, 1, 0, 10 -> 15 != 60\n",
      "(0, 1, 0, 11 -> 89 != 60\n",
      "(0, 1, 0, 12 -> 65 != 68\n",
      "(0, 1, 0, 13 -> 25 != 68\n",
      "(0, 1, 0, 14 -> 97 != 50\n",
      "(0, 1, 0, 15 -> 97 != 50\n",
      "(0, 1, 0, 16 -> 80 != 97\n",
      "(0, 1, 0, 17 -> 60 != 97\n",
      "(0, 1, 0, 18 -> 68 != 73\n",
      "(0, 1, 0, 19 -> 50 != 73\n",
      "(0, 1, 0, 20 -> 97 != 15\n",
      "(0, 1, 0, 21 -> 73 != 15\n",
      "(0, 1, 0, 22 -> 15 != 89\n",
      "(0, 1, 1, 0 -> 31 != 65\n",
      "(0, 1, 1, 1 -> 17 != 65\n",
      "(0, 1, 1, 2 -> 30 != 25\n",
      "(0, 1, 1, 3 -> 12 != 25\n",
      "(0, 1, 1, 4 -> 1 != 97\n",
      "(0, 1, 1, 5 -> 81 != 97\n",
      "(0, 1, 1, 6 -> 71 != 97\n",
      "(0, 1, 1, 7 -> 54 != 97\n",
      "(0, 1, 1, 8 -> 24 != 80\n",
      "(0, 1, 1, 9 -> 20 != 80\n",
      "(0, 1, 1, 10 -> 77 != 60\n",
      "(0, 1, 1, 11 -> 84 != 60\n",
      "(0, 1, 1, 12 -> 31 != 68\n",
      "(0, 1, 1, 13 -> 17 != 68\n",
      "(0, 1, 1, 14 -> 30 != 50\n",
      "(0, 1, 1, 15 -> 12 != 50\n",
      "(0, 1, 1, 16 -> 1 != 97\n",
      "(0, 1, 1, 17 -> 81 != 97\n",
      "(0, 1, 1, 18 -> 71 != 73\n",
      "(0, 1, 1, 19 -> 54 != 73\n",
      "(0, 1, 1, 20 -> 24 != 15\n",
      "(0, 1, 1, 21 -> 20 != 15\n",
      "(0, 1, 1, 22 -> 77 != 89\n",
      "(0, 1, 1, 23 -> 84 != 89\n",
      "(0, 1, 2, 0 -> 1 != 31\n",
      "(0, 1, 2, 1 -> 81 != 31\n",
      "(0, 1, 2, 2 -> 36 != 17\n",
      "(0, 1, 2, 3 -> 21 != 17\n",
      "(0, 1, 2, 4 -> 99 != 30\n",
      "(0, 1, 2, 5 -> 54 != 30\n",
      "(0, 1, 2, 6 -> 47 != 12\n",
      "(0, 1, 2, 7 -> 51 != 12\n",
      "(0, 1, 2, 8 -> 43 != 1\n",
      "(0, 1, 2, 9 -> 84 != 1\n",
      "(0, 1, 2, 10 -> 17 != 81\n",
      "(0, 1, 2, 11 -> 55 != 81\n",
      "(0, 1, 2, 12 -> 1 != 71\n",
      "(0, 1, 2, 13 -> 81 != 71\n",
      "(0, 1, 2, 14 -> 36 != 54\n",
      "(0, 1, 2, 15 -> 21 != 54\n",
      "(0, 1, 2, 16 -> 99 != 24\n",
      "(0, 1, 2, 17 -> 54 != 24\n",
      "(0, 1, 2, 18 -> 47 != 20\n",
      "(0, 1, 2, 19 -> 51 != 20\n",
      "(0, 1, 2, 20 -> 43 != 77\n",
      "(0, 1, 2, 21 -> 84 != 77\n",
      "(0, 1, 2, 22 -> 17 != 84\n",
      "(0, 1, 2, 23 -> 55 != 84\n",
      "(0, 1, 3, 0 -> 27 != 31\n",
      "(0, 1, 3, 1 -> 36 != 31\n",
      "(0, 1, 3, 2 -> 44 != 17\n",
      "(0, 1, 3, 3 -> 78 != 17\n",
      "(0, 1, 3, 4 -> 72 != 30\n",
      "(0, 1, 3, 5 -> 58 != 30\n",
      "(0, 1, 3, 6 -> 70 != 12\n",
      "(0, 1, 3, 7 -> 62 != 12\n",
      "(0, 1, 3, 8 -> 10 != 1\n",
      "(0, 1, 3, 9 -> 83 != 1\n",
      "(0, 1, 3, 10 -> 98 != 81\n",
      "(0, 1, 3, 11 -> 70 != 81\n",
      "(0, 1, 3, 12 -> 27 != 71\n",
      "(0, 1, 3, 13 -> 36 != 71\n",
      "(0, 1, 3, 14 -> 44 != 54\n",
      "(0, 1, 3, 15 -> 78 != 54\n",
      "(0, 1, 3, 16 -> 72 != 24\n",
      "(0, 1, 3, 17 -> 58 != 24\n",
      "(0, 1, 3, 18 -> 70 != 20\n",
      "(0, 1, 3, 19 -> 62 != 20\n",
      "(0, 1, 3, 20 -> 10 != 77\n",
      "(0, 1, 3, 21 -> 83 != 77\n",
      "(0, 1, 3, 22 -> 98 != 84\n",
      "(0, 1, 3, 23 -> 70 != 84\n",
      "(0, 1, 4, 0 -> 12 != 1\n",
      "(0, 1, 4, 1 -> 92 != 1\n",
      "(0, 1, 4, 2 -> 72 != 81\n",
      "(0, 1, 4, 3 -> 61 != 81\n",
      "(0, 1, 4, 4 -> 61 != 36\n",
      "(0, 1, 4, 5 -> 50 != 36\n",
      "(0, 1, 4, 6 -> 40 != 21\n",
      "(0, 1, 4, 8 -> 11 != 99\n",
      "(0, 1, 4, 9 -> 47 != 99\n",
      "(0, 1, 4, 10 -> 42 != 54\n",
      "(0, 1, 4, 11 -> 26 != 54\n",
      "(0, 1, 4, 12 -> 12 != 47\n",
      "(0, 1, 4, 13 -> 92 != 47\n",
      "(0, 1, 4, 14 -> 72 != 51\n",
      "(0, 1, 4, 15 -> 61 != 51\n",
      "(0, 1, 4, 16 -> 61 != 43\n",
      "(0, 1, 4, 17 -> 50 != 43\n",
      "(0, 1, 4, 18 -> 40 != 84\n",
      "(0, 1, 4, 19 -> 21 != 84\n",
      "(0, 1, 4, 20 -> 11 != 17\n",
      "(0, 1, 4, 21 -> 47 != 17\n",
      "(0, 1, 4, 22 -> 42 != 55\n",
      "(0, 1, 4, 23 -> 26 != 55\n",
      "(0, 1, 5, 0 -> 24 != 1\n",
      "(0, 1, 5, 1 -> 13 != 1\n",
      "(0, 1, 5, 2 -> 49 != 81\n",
      "(0, 1, 5, 3 -> 67 != 81\n",
      "(0, 1, 5, 4 -> 80 != 36\n",
      "(0, 1, 5, 5 -> 78 != 36\n",
      "(0, 1, 5, 6 -> 56 != 21\n",
      "(0, 1, 5, 7 -> 4 != 21\n",
      "(0, 1, 5, 8 -> 6 != 99\n",
      "(0, 1, 5, 9 -> 93 != 99\n",
      "(0, 1, 5, 10 -> 24 != 54\n",
      "(0, 1, 5, 12 -> 24 != 47\n",
      "(0, 1, 5, 13 -> 13 != 47\n",
      "(0, 1, 5, 14 -> 49 != 51\n",
      "(0, 1, 5, 15 -> 67 != 51\n",
      "(0, 1, 5, 16 -> 80 != 43\n",
      "(0, 1, 5, 17 -> 78 != 43\n",
      "(0, 1, 5, 18 -> 56 != 84\n",
      "(0, 1, 5, 19 -> 4 != 84\n",
      "(0, 1, 5, 20 -> 6 != 17\n",
      "(0, 1, 5, 21 -> 93 != 17\n",
      "(0, 1, 5, 22 -> 24 != 55\n",
      "(0, 1, 5, 23 -> 54 != 55\n",
      "(0, 1, 6, 0 -> 44 != 27\n",
      "(0, 1, 6, 1 -> 49 != 27\n",
      "(0, 1, 6, 2 -> 57 != 36\n",
      "(0, 1, 6, 3 -> 24 != 36\n",
      "(0, 1, 6, 4 -> 7 != 44\n",
      "(0, 1, 6, 5 -> 22 != 44\n",
      "(0, 1, 6, 6 -> 87 != 78\n",
      "(0, 1, 6, 7 -> 73 != 78\n",
      "(0, 1, 6, 8 -> 68 != 72\n",
      "(0, 1, 6, 9 -> 14 != 72\n",
      "(0, 1, 6, 10 -> 49 != 58\n",
      "(0, 1, 6, 11 -> 15 != 58\n",
      "(0, 1, 6, 12 -> 44 != 70\n",
      "(0, 1, 6, 13 -> 49 != 70\n",
      "(0, 1, 6, 14 -> 57 != 62\n",
      "(0, 1, 6, 15 -> 24 != 62\n",
      "(0, 1, 6, 16 -> 7 != 10\n",
      "(0, 1, 6, 17 -> 22 != 10\n",
      "(0, 1, 6, 18 -> 87 != 83\n",
      "(0, 1, 6, 19 -> 73 != 83\n",
      "(0, 1, 6, 20 -> 68 != 98\n",
      "(0, 1, 6, 21 -> 14 != 98\n",
      "(0, 1, 6, 22 -> 49 != 70\n",
      "(0, 1, 6, 23 -> 15 != 70\n",
      "(0, 1, 7, 0 -> 54 != 27\n",
      "(0, 1, 7, 1 -> 82 != 27\n",
      "(0, 1, 7, 2 -> 12 != 36\n",
      "(0, 1, 7, 3 -> 41 != 36\n",
      "(0, 1, 7, 5 -> 40 != 44\n",
      "(0, 1, 7, 6 -> 15 != 78\n",
      "(0, 1, 7, 7 -> 57 != 78\n",
      "(0, 1, 7, 8 -> 69 != 72\n",
      "(0, 1, 7, 9 -> 2 != 72\n",
      "(0, 1, 7, 10 -> 38 != 58\n",
      "(0, 1, 7, 11 -> 23 != 58\n",
      "(0, 1, 7, 12 -> 54 != 70\n",
      "(0, 1, 7, 13 -> 82 != 70\n",
      "(0, 1, 7, 14 -> 12 != 62\n",
      "(0, 1, 7, 15 -> 41 != 62\n",
      "(0, 1, 7, 16 -> 44 != 10\n",
      "(0, 1, 7, 17 -> 40 != 10\n",
      "(0, 1, 7, 18 -> 15 != 83\n",
      "(0, 1, 7, 19 -> 57 != 83\n",
      "(0, 1, 7, 20 -> 69 != 98\n",
      "(0, 1, 7, 21 -> 2 != 98\n",
      "(0, 1, 7, 22 -> 38 != 70\n",
      "(0, 1, 7, 23 -> 23 != 70\n",
      "(0, 1, 8, 0 -> 42 != 12\n",
      "(0, 1, 8, 1 -> 30 != 12\n",
      "(0, 1, 8, 2 -> 75 != 92\n",
      "(0, 1, 8, 3 -> 15 != 92\n",
      "(0, 1, 8, 4 -> 10 != 72\n",
      "(0, 1, 8, 5 -> 37 != 72\n",
      "(0, 1, 8, 6 -> 53 != 61\n",
      "(0, 1, 8, 7 -> 44 != 61\n",
      "(0, 1, 8, 8 -> 4 != 61\n",
      "(0, 1, 8, 9 -> 24 != 61\n",
      "(0, 1, 8, 10 -> 73 != 50\n",
      "(0, 1, 8, 11 -> 94 != 50\n",
      "(0, 1, 8, 12 -> 42 != 40\n",
      "(0, 1, 8, 13 -> 30 != 40\n",
      "(0, 1, 8, 14 -> 75 != 21\n",
      "(0, 1, 8, 15 -> 15 != 21\n",
      "(0, 1, 8, 16 -> 10 != 11\n",
      "(0, 1, 8, 17 -> 37 != 11\n",
      "(0, 1, 8, 18 -> 53 != 47\n",
      "(0, 1, 8, 19 -> 44 != 47\n",
      "(0, 1, 8, 20 -> 4 != 42\n",
      "(0, 1, 8, 21 -> 24 != 42\n",
      "(0, 1, 8, 22 -> 73 != 26\n",
      "(0, 1, 8, 23 -> 94 != 26\n",
      "(0, 1, 9, 0 -> 47 != 12\n",
      "(0, 1, 9, 1 -> 78 != 12\n",
      "(0, 1, 9, 2 -> 91 != 92\n",
      "(0, 1, 9, 3 -> 95 != 92\n",
      "(0, 1, 9, 4 -> 75 != 72\n",
      "(0, 1, 9, 5 -> 38 != 72\n",
      "(0, 1, 9, 6 -> 34 != 61\n",
      "(0, 1, 9, 7 -> 63 != 61\n",
      "(0, 1, 9, 8 -> 90 != 61\n",
      "(0, 1, 9, 9 -> 13 != 61\n",
      "(0, 1, 9, 10 -> 97 != 50\n",
      "(0, 1, 9, 11 -> 90 != 50\n",
      "(0, 1, 9, 12 -> 47 != 40\n",
      "(0, 1, 9, 13 -> 78 != 40\n",
      "(0, 1, 9, 14 -> 91 != 21\n",
      "(0, 1, 9, 15 -> 95 != 21\n",
      "(0, 1, 9, 16 -> 75 != 11\n",
      "(0, 1, 9, 17 -> 38 != 11\n",
      "(0, 1, 9, 18 -> 34 != 47\n",
      "(0, 1, 9, 19 -> 63 != 47\n",
      "(0, 1, 9, 20 -> 90 != 42\n",
      "(0, 1, 9, 21 -> 13 != 42\n",
      "(0, 1, 9, 22 -> 97 != 26\n",
      "(0, 1, 9, 23 -> 90 != 26\n",
      "(0, 1, 10, 0 -> 72 != 24\n",
      "(0, 1, 10, 1 -> 73 != 24\n",
      "(0, 1, 10, 2 -> 81 != 13\n",
      "(0, 1, 10, 3 -> 41 != 13\n",
      "(0, 1, 10, 4 -> 1 != 49\n",
      "(0, 1, 10, 5 -> 84 != 49\n",
      "(0, 1, 10, 6 -> 91 != 67\n",
      "(0, 1, 10, 7 -> 78 != 67\n",
      "(0, 1, 10, 8 -> 65 != 80\n",
      "(0, 1, 10, 9 -> 49 != 80\n",
      "(0, 1, 10, 10 -> 55 != 78\n",
      "(0, 1, 10, 11 -> 95 != 78\n",
      "(0, 1, 10, 12 -> 72 != 56\n",
      "(0, 1, 10, 13 -> 73 != 56\n",
      "(0, 1, 10, 14 -> 81 != 4\n",
      "(0, 1, 10, 15 -> 41 != 4\n",
      "(0, 1, 10, 16 -> 1 != 6\n",
      "(0, 1, 10, 17 -> 84 != 6\n",
      "(0, 1, 10, 18 -> 91 != 93\n",
      "(0, 1, 10, 19 -> 78 != 93\n",
      "(0, 1, 10, 20 -> 65 != 24\n",
      "(0, 1, 10, 21 -> 49 != 24\n",
      "(0, 1, 10, 22 -> 55 != 54\n",
      "(0, 1, 10, 23 -> 95 != 54\n",
      "(0, 1, 11, 0 -> 98 != 24\n",
      "(0, 1, 11, 1 -> 45 != 24\n",
      "(0, 1, 11, 2 -> 8 != 13\n",
      "(0, 1, 11, 3 -> 21 != 13\n",
      "(0, 1, 11, 4 -> 48 != 49\n",
      "(0, 1, 11, 5 -> 40 != 49\n",
      "(0, 1, 11, 6 -> 44 != 67\n",
      "(0, 1, 11, 7 -> 94 != 67\n",
      "(0, 1, 11, 8 -> 32 != 80\n",
      "(0, 1, 11, 9 -> 83 != 80\n",
      "(0, 1, 11, 10 -> 5 != 78\n",
      "(0, 1, 11, 11 -> 84 != 78\n",
      "(0, 1, 11, 12 -> 98 != 56\n",
      "(0, 1, 11, 13 -> 45 != 56\n",
      "(0, 1, 11, 14 -> 8 != 4\n",
      "(0, 1, 11, 15 -> 21 != 4\n",
      "(0, 1, 11, 16 -> 48 != 6\n",
      "(0, 1, 11, 17 -> 40 != 6\n",
      "(0, 1, 11, 18 -> 44 != 93\n",
      "(0, 1, 11, 19 -> 94 != 93\n",
      "(0, 1, 11, 20 -> 32 != 24\n",
      "(0, 1, 11, 21 -> 83 != 24\n",
      "(0, 1, 11, 22 -> 5 != 54\n",
      "(0, 1, 11, 23 -> 84 != 54\n",
      "(0, 1, 12, 0 -> 65 != 44\n",
      "(0, 1, 12, 1 -> 25 != 44\n",
      "(0, 1, 12, 2 -> 97 != 49\n",
      "(0, 1, 12, 3 -> 97 != 49\n",
      "(0, 1, 12, 4 -> 80 != 57\n",
      "(0, 1, 12, 5 -> 60 != 57\n",
      "(0, 1, 12, 6 -> 68 != 24\n",
      "(0, 1, 12, 7 -> 50 != 24\n",
      "(0, 1, 12, 8 -> 97 != 7\n",
      "(0, 1, 12, 9 -> 73 != 7\n",
      "(0, 1, 12, 10 -> 15 != 22\n",
      "(0, 1, 12, 11 -> 89 != 22\n",
      "(0, 1, 12, 12 -> 65 != 87\n",
      "(0, 1, 12, 13 -> 25 != 87\n",
      "(0, 1, 12, 14 -> 97 != 73\n",
      "(0, 1, 12, 15 -> 97 != 73\n",
      "(0, 1, 12, 16 -> 80 != 68\n",
      "(0, 1, 12, 17 -> 60 != 68\n",
      "(0, 1, 12, 18 -> 68 != 14\n",
      "(0, 1, 12, 19 -> 50 != 14\n",
      "(0, 1, 12, 20 -> 97 != 49\n",
      "(0, 1, 12, 21 -> 73 != 49\n",
      "(0, 1, 12, 23 -> 89 != 15\n",
      "(0, 1, 13, 0 -> 31 != 44\n",
      "(0, 1, 13, 1 -> 17 != 44\n",
      "(0, 1, 13, 2 -> 30 != 49\n",
      "(0, 1, 13, 3 -> 12 != 49\n",
      "(0, 1, 13, 4 -> 1 != 57\n",
      "(0, 1, 13, 5 -> 81 != 57\n",
      "(0, 1, 13, 6 -> 71 != 24\n",
      "(0, 1, 13, 7 -> 54 != 24\n",
      "(0, 1, 13, 8 -> 24 != 7\n",
      "(0, 1, 13, 9 -> 20 != 7\n",
      "(0, 1, 13, 10 -> 77 != 22\n",
      "(0, 1, 13, 11 -> 84 != 22\n",
      "(0, 1, 13, 12 -> 31 != 87\n",
      "(0, 1, 13, 13 -> 17 != 87\n",
      "(0, 1, 13, 14 -> 30 != 73\n",
      "(0, 1, 13, 15 -> 12 != 73\n",
      "(0, 1, 13, 16 -> 1 != 68\n",
      "(0, 1, 13, 17 -> 81 != 68\n",
      "(0, 1, 13, 18 -> 71 != 14\n",
      "(0, 1, 13, 19 -> 54 != 14\n",
      "(0, 1, 13, 20 -> 24 != 49\n",
      "(0, 1, 13, 21 -> 20 != 49\n",
      "(0, 1, 13, 22 -> 77 != 15\n",
      "(0, 1, 13, 23 -> 84 != 15\n",
      "(0, 1, 14, 0 -> 1 != 54\n",
      "(0, 1, 14, 1 -> 81 != 54\n",
      "(0, 1, 14, 2 -> 36 != 82\n",
      "(0, 1, 14, 3 -> 21 != 82\n",
      "(0, 1, 14, 4 -> 99 != 12\n",
      "(0, 1, 14, 5 -> 54 != 12\n",
      "(0, 1, 14, 6 -> 47 != 41\n",
      "(0, 1, 14, 7 -> 51 != 41\n",
      "(0, 1, 14, 8 -> 43 != 44\n",
      "(0, 1, 14, 9 -> 84 != 44\n",
      "(0, 1, 14, 10 -> 17 != 40\n",
      "(0, 1, 14, 11 -> 55 != 40\n",
      "(0, 1, 14, 12 -> 1 != 15\n",
      "(0, 1, 14, 13 -> 81 != 15\n",
      "(0, 1, 14, 14 -> 36 != 57\n",
      "(0, 1, 14, 15 -> 21 != 57\n",
      "(0, 1, 14, 16 -> 99 != 69\n",
      "(0, 1, 14, 17 -> 54 != 69\n",
      "(0, 1, 14, 18 -> 47 != 2\n",
      "(0, 1, 14, 19 -> 51 != 2\n",
      "(0, 1, 14, 20 -> 43 != 38\n",
      "(0, 1, 14, 21 -> 84 != 38\n",
      "(0, 1, 14, 22 -> 17 != 23\n",
      "(0, 1, 14, 23 -> 55 != 23\n",
      "(0, 1, 15, 0 -> 27 != 54\n",
      "(0, 1, 15, 1 -> 36 != 54\n",
      "(0, 1, 15, 2 -> 44 != 82\n",
      "(0, 1, 15, 3 -> 78 != 82\n",
      "(0, 1, 15, 4 -> 72 != 12\n",
      "(0, 1, 15, 5 -> 58 != 12\n",
      "(0, 1, 15, 6 -> 70 != 41\n",
      "(0, 1, 15, 7 -> 62 != 41\n",
      "(0, 1, 15, 8 -> 10 != 44\n",
      "(0, 1, 15, 9 -> 83 != 44\n",
      "(0, 1, 15, 10 -> 98 != 40\n",
      "(0, 1, 15, 11 -> 70 != 40\n",
      "(0, 1, 15, 12 -> 27 != 15\n",
      "(0, 1, 15, 13 -> 36 != 15\n",
      "(0, 1, 15, 14 -> 44 != 57\n",
      "(0, 1, 15, 15 -> 78 != 57\n",
      "(0, 1, 15, 16 -> 72 != 69\n",
      "(0, 1, 15, 17 -> 58 != 69\n",
      "(0, 1, 15, 18 -> 70 != 2\n",
      "(0, 1, 15, 19 -> 62 != 2\n",
      "(0, 1, 15, 20 -> 10 != 38\n",
      "(0, 1, 15, 21 -> 83 != 38\n",
      "(0, 1, 15, 22 -> 98 != 23\n",
      "(0, 1, 15, 23 -> 70 != 23\n",
      "(0, 1, 16, 0 -> 12 != 42\n",
      "(0, 1, 16, 1 -> 92 != 42\n",
      "(0, 1, 16, 2 -> 72 != 30\n",
      "(0, 1, 16, 3 -> 61 != 30\n",
      "(0, 1, 16, 4 -> 61 != 75\n",
      "(0, 1, 16, 5 -> 50 != 75\n",
      "(0, 1, 16, 6 -> 40 != 15\n",
      "(0, 1, 16, 7 -> 21 != 15\n",
      "(0, 1, 16, 8 -> 11 != 10\n",
      "(0, 1, 16, 9 -> 47 != 10\n",
      "(0, 1, 16, 10 -> 42 != 37\n",
      "(0, 1, 16, 11 -> 26 != 37\n",
      "(0, 1, 16, 12 -> 12 != 53\n",
      "(0, 1, 16, 13 -> 92 != 53\n",
      "(0, 1, 16, 14 -> 72 != 44\n",
      "(0, 1, 16, 15 -> 61 != 44\n",
      "(0, 1, 16, 16 -> 61 != 4\n",
      "(0, 1, 16, 17 -> 50 != 4\n",
      "(0, 1, 16, 18 -> 40 != 24\n",
      "(0, 1, 16, 19 -> 21 != 24\n",
      "(0, 1, 16, 20 -> 11 != 73\n",
      "(0, 1, 16, 21 -> 47 != 73\n",
      "(0, 1, 16, 22 -> 42 != 94\n",
      "(0, 1, 16, 23 -> 26 != 94\n",
      "(0, 1, 17, 0 -> 24 != 42\n",
      "(0, 1, 17, 1 -> 13 != 42\n",
      "(0, 1, 17, 2 -> 49 != 30\n",
      "(0, 1, 17, 3 -> 67 != 30\n",
      "(0, 1, 17, 4 -> 80 != 75\n",
      "(0, 1, 17, 5 -> 78 != 75\n",
      "(0, 1, 17, 6 -> 56 != 15\n",
      "(0, 1, 17, 7 -> 4 != 15\n",
      "(0, 1, 17, 8 -> 6 != 10\n",
      "(0, 1, 17, 9 -> 93 != 10\n",
      "(0, 1, 17, 10 -> 24 != 37\n",
      "(0, 1, 17, 11 -> 54 != 37\n",
      "(0, 1, 17, 12 -> 24 != 53\n",
      "(0, 1, 17, 13 -> 13 != 53\n",
      "(0, 1, 17, 14 -> 49 != 44\n",
      "(0, 1, 17, 15 -> 67 != 44\n",
      "(0, 1, 17, 16 -> 80 != 4\n",
      "(0, 1, 17, 17 -> 78 != 4\n",
      "(0, 1, 17, 18 -> 56 != 24\n",
      "(0, 1, 17, 19 -> 4 != 24\n",
      "(0, 1, 17, 20 -> 6 != 73\n",
      "(0, 1, 17, 21 -> 93 != 73\n",
      "(0, 1, 17, 22 -> 24 != 94\n",
      "(0, 1, 17, 23 -> 54 != 94\n",
      "(0, 1, 18, 0 -> 44 != 47\n",
      "(0, 1, 18, 1 -> 49 != 47\n",
      "(0, 1, 18, 2 -> 57 != 78\n",
      "(0, 1, 18, 3 -> 24 != 78\n",
      "(0, 1, 18, 4 -> 7 != 91\n",
      "(0, 1, 18, 5 -> 22 != 91\n",
      "(0, 1, 18, 6 -> 87 != 95\n",
      "(0, 1, 18, 7 -> 73 != 95\n",
      "(0, 1, 18, 8 -> 68 != 75\n",
      "(0, 1, 18, 9 -> 14 != 75\n",
      "(0, 1, 18, 10 -> 49 != 38\n",
      "(0, 1, 18, 11 -> 15 != 38\n",
      "(0, 1, 18, 12 -> 44 != 34\n",
      "(0, 1, 18, 13 -> 49 != 34\n",
      "(0, 1, 18, 14 -> 57 != 63\n",
      "(0, 1, 18, 15 -> 24 != 63\n",
      "(0, 1, 18, 16 -> 7 != 90\n",
      "(0, 1, 18, 17 -> 22 != 90\n",
      "(0, 1, 18, 18 -> 87 != 13\n",
      "(0, 1, 18, 19 -> 73 != 13\n",
      "(0, 1, 18, 20 -> 68 != 97\n",
      "(0, 1, 18, 21 -> 14 != 97\n",
      "(0, 1, 18, 22 -> 49 != 90\n",
      "(0, 1, 18, 23 -> 15 != 90\n",
      "(0, 1, 19, 0 -> 54 != 47\n",
      "(0, 1, 19, 1 -> 82 != 47\n",
      "(0, 1, 19, 2 -> 12 != 78\n",
      "(0, 1, 19, 3 -> 41 != 78\n",
      "(0, 1, 19, 4 -> 44 != 91\n",
      "(0, 1, 19, 5 -> 40 != 91\n",
      "(0, 1, 19, 6 -> 15 != 95\n",
      "(0, 1, 19, 7 -> 57 != 95\n",
      "(0, 1, 19, 8 -> 69 != 75\n",
      "(0, 1, 19, 9 -> 2 != 75\n",
      "(0, 1, 19, 11 -> 23 != 38\n",
      "(0, 1, 19, 12 -> 54 != 34\n",
      "(0, 1, 19, 13 -> 82 != 34\n",
      "(0, 1, 19, 14 -> 12 != 63\n",
      "(0, 1, 19, 15 -> 41 != 63\n",
      "(0, 1, 19, 16 -> 44 != 90\n",
      "(0, 1, 19, 17 -> 40 != 90\n",
      "(0, 1, 19, 18 -> 15 != 13\n",
      "(0, 1, 19, 19 -> 57 != 13\n",
      "(0, 1, 19, 20 -> 69 != 97\n",
      "(0, 1, 19, 21 -> 2 != 97\n",
      "(0, 1, 19, 22 -> 38 != 90\n",
      "(0, 1, 19, 23 -> 23 != 90\n",
      "(0, 1, 20, 0 -> 42 != 72\n",
      "(0, 1, 20, 1 -> 30 != 72\n",
      "(0, 1, 20, 2 -> 75 != 73\n",
      "(0, 1, 20, 3 -> 15 != 73\n",
      "(0, 1, 20, 4 -> 10 != 81\n",
      "(0, 1, 20, 5 -> 37 != 81\n",
      "(0, 1, 20, 6 -> 53 != 41\n",
      "(0, 1, 20, 7 -> 44 != 41\n",
      "(0, 1, 20, 8 -> 4 != 1\n",
      "(0, 1, 20, 9 -> 24 != 1\n",
      "(0, 1, 20, 10 -> 73 != 84\n",
      "(0, 1, 20, 11 -> 94 != 84\n",
      "(0, 1, 20, 12 -> 42 != 91\n",
      "(0, 1, 20, 13 -> 30 != 91\n",
      "(0, 1, 20, 14 -> 75 != 78\n",
      "(0, 1, 20, 15 -> 15 != 78\n",
      "(0, 1, 20, 16 -> 10 != 65\n",
      "(0, 1, 20, 17 -> 37 != 65\n",
      "(0, 1, 20, 18 -> 53 != 49\n",
      "(0, 1, 20, 19 -> 44 != 49\n",
      "(0, 1, 20, 20 -> 4 != 55\n",
      "(0, 1, 20, 21 -> 24 != 55\n",
      "(0, 1, 20, 22 -> 73 != 95\n",
      "(0, 1, 20, 23 -> 94 != 95\n",
      "(0, 1, 21, 0 -> 47 != 72\n",
      "(0, 1, 21, 1 -> 78 != 72\n",
      "(0, 1, 21, 2 -> 91 != 73\n",
      "(0, 1, 21, 3 -> 95 != 73\n",
      "(0, 1, 21, 4 -> 75 != 81\n",
      "(0, 1, 21, 5 -> 38 != 81\n",
      "(0, 1, 21, 6 -> 34 != 41\n",
      "(0, 1, 21, 7 -> 63 != 41\n",
      "(0, 1, 21, 8 -> 90 != 1\n",
      "(0, 1, 21, 9 -> 13 != 1\n",
      "(0, 1, 21, 10 -> 97 != 84\n",
      "(0, 1, 21, 11 -> 90 != 84\n",
      "(0, 1, 21, 12 -> 47 != 91\n",
      "(0, 1, 21, 13 -> 78 != 91\n",
      "(0, 1, 21, 14 -> 91 != 78\n",
      "(0, 1, 21, 15 -> 95 != 78\n",
      "(0, 1, 21, 16 -> 75 != 65\n",
      "(0, 1, 21, 17 -> 38 != 65\n",
      "(0, 1, 21, 18 -> 34 != 49\n",
      "(0, 1, 21, 19 -> 63 != 49\n",
      "(0, 1, 21, 20 -> 90 != 55\n",
      "(0, 1, 21, 21 -> 13 != 55\n",
      "(0, 1, 21, 22 -> 97 != 95\n",
      "(0, 1, 21, 23 -> 90 != 95\n",
      "(0, 1, 22, 0 -> 72 != 98\n",
      "(0, 1, 22, 1 -> 73 != 98\n",
      "(0, 1, 22, 2 -> 81 != 45\n",
      "(0, 1, 22, 3 -> 41 != 45\n",
      "(0, 1, 22, 4 -> 1 != 8\n",
      "(0, 1, 22, 5 -> 84 != 8\n",
      "(0, 1, 22, 6 -> 91 != 21\n",
      "(0, 1, 22, 7 -> 78 != 21\n",
      "(0, 1, 22, 8 -> 65 != 48\n",
      "(0, 1, 22, 9 -> 49 != 48\n",
      "(0, 1, 22, 10 -> 55 != 40\n",
      "(0, 1, 22, 11 -> 95 != 40\n",
      "(0, 1, 22, 12 -> 72 != 44\n",
      "(0, 1, 22, 13 -> 73 != 44\n",
      "(0, 1, 22, 14 -> 81 != 94\n",
      "(0, 1, 22, 15 -> 41 != 94\n",
      "(0, 1, 22, 16 -> 1 != 32\n",
      "(0, 1, 22, 17 -> 84 != 32\n",
      "(0, 1, 22, 18 -> 91 != 83\n",
      "(0, 1, 22, 19 -> 78 != 83\n",
      "(0, 1, 22, 20 -> 65 != 5\n",
      "(0, 1, 22, 21 -> 49 != 5\n",
      "(0, 1, 22, 22 -> 55 != 84\n",
      "(0, 1, 22, 23 -> 95 != 84\n",
      "(0, 1, 23, 1 -> 45 != 98\n",
      "(0, 1, 23, 2 -> 8 != 45\n",
      "(0, 1, 23, 3 -> 21 != 45\n",
      "(0, 1, 23, 4 -> 48 != 8\n",
      "(0, 1, 23, 5 -> 40 != 8\n",
      "(0, 1, 23, 6 -> 44 != 21\n",
      "(0, 1, 23, 7 -> 94 != 21\n",
      "(0, 1, 23, 8 -> 32 != 48\n",
      "(0, 1, 23, 9 -> 83 != 48\n",
      "(0, 1, 23, 10 -> 5 != 40\n",
      "(0, 1, 23, 11 -> 84 != 40\n",
      "(0, 1, 23, 12 -> 98 != 44\n",
      "(0, 1, 23, 13 -> 45 != 44\n",
      "(0, 1, 23, 14 -> 8 != 94\n",
      "(0, 1, 23, 15 -> 21 != 94\n",
      "(0, 1, 23, 16 -> 48 != 32\n",
      "(0, 1, 23, 17 -> 40 != 32\n",
      "(0, 1, 23, 18 -> 44 != 83\n",
      "(0, 1, 23, 19 -> 94 != 83\n",
      "(0, 1, 23, 20 -> 32 != 5\n",
      "(0, 1, 23, 21 -> 83 != 5\n",
      "(0, 1, 23, 22 -> 5 != 84\n",
      "(0, 2, 0, 1 -> 53 != 21\n",
      "(0, 2, 0, 2 -> 65 != 53\n",
      "(0, 2, 0, 3 -> 84 != 53\n",
      "(0, 2, 0, 4 -> 33 != 65\n",
      "(0, 2, 0, 5 -> 10 != 65\n",
      "(0, 2, 0, 6 -> 61 != 84\n",
      "(0, 2, 0, 7 -> 91 != 84\n",
      "(0, 2, 0, 8 -> 17 != 33\n",
      "(0, 2, 0, 9 -> 29 != 33\n",
      "(0, 2, 0, 10 -> 72 != 10\n",
      "(0, 2, 0, 11 -> 80 != 10\n",
      "(0, 2, 0, 12 -> 21 != 61\n",
      "(0, 2, 0, 13 -> 53 != 61\n",
      "(0, 2, 0, 14 -> 65 != 91\n",
      "(0, 2, 0, 15 -> 84 != 91\n",
      "(0, 2, 0, 16 -> 33 != 17\n",
      "(0, 2, 0, 17 -> 10 != 17\n",
      "(0, 2, 0, 18 -> 61 != 29\n",
      "(0, 2, 0, 19 -> 91 != 29\n",
      "(0, 2, 0, 20 -> 17 != 72\n",
      "(0, 2, 0, 21 -> 29 != 72\n",
      "(0, 2, 0, 22 -> 72 != 80\n",
      "(0, 2, 1, 0 -> 18 != 21\n",
      "(0, 2, 1, 1 -> 98 != 21\n",
      "(0, 2, 1, 2 -> 72 != 53\n",
      "(0, 2, 1, 3 -> 79 != 53\n",
      "(0, 2, 1, 4 -> 40 != 65\n",
      "(0, 2, 1, 5 -> 95 != 65\n",
      "(0, 2, 1, 6 -> 79 != 84\n",
      "(0, 2, 1, 7 -> 99 != 84\n",
      "(0, 2, 1, 8 -> 7 != 33\n",
      "(0, 2, 1, 9 -> 86 != 33\n",
      "(0, 2, 1, 10 -> 48 != 10\n",
      "(0, 2, 1, 11 -> 3 != 10\n",
      "(0, 2, 1, 12 -> 18 != 61\n",
      "(0, 2, 1, 13 -> 98 != 61\n",
      "(0, 2, 1, 14 -> 72 != 91\n",
      "(0, 2, 1, 15 -> 79 != 91\n",
      "(0, 2, 1, 16 -> 40 != 17\n",
      "(0, 2, 1, 17 -> 95 != 17\n",
      "(0, 2, 1, 18 -> 79 != 29\n",
      "(0, 2, 1, 19 -> 99 != 29\n",
      "(0, 2, 1, 20 -> 7 != 72\n",
      "(0, 2, 1, 21 -> 86 != 72\n",
      "(0, 2, 1, 22 -> 48 != 80\n",
      "(0, 2, 1, 23 -> 3 != 80\n",
      "(0, 2, 2, 0 -> 53 != 18\n",
      "(0, 2, 2, 1 -> 83 != 18\n",
      "(0, 2, 2, 2 -> 72 != 98\n",
      "(0, 2, 2, 3 -> 53 != 98\n",
      "(0, 2, 2, 4 -> 36 != 72\n",
      "(0, 2, 2, 5 -> 54 != 72\n",
      "(0, 2, 2, 6 -> 37 != 79\n",
      "(0, 2, 2, 7 -> 94 != 79\n",
      "(0, 2, 2, 8 -> 85 != 40\n",
      "(0, 2, 2, 9 -> 61 != 40\n",
      "(0, 2, 2, 10 -> 40 != 95\n",
      "(0, 2, 2, 11 -> 82 != 95\n",
      "(0, 2, 2, 12 -> 53 != 79\n",
      "(0, 2, 2, 13 -> 83 != 79\n",
      "(0, 2, 2, 14 -> 72 != 99\n",
      "(0, 2, 2, 15 -> 53 != 99\n",
      "(0, 2, 2, 16 -> 36 != 7\n",
      "(0, 2, 2, 17 -> 54 != 7\n",
      "(0, 2, 2, 18 -> 37 != 86\n",
      "(0, 2, 2, 19 -> 94 != 86\n",
      "(0, 2, 2, 20 -> 85 != 48\n",
      "(0, 2, 2, 21 -> 61 != 48\n",
      "(0, 2, 2, 22 -> 40 != 3\n",
      "(0, 2, 2, 23 -> 82 != 3\n",
      "(0, 2, 3, 0 -> 21 != 18\n",
      "(0, 2, 3, 1 -> 2 != 18\n",
      "(0, 2, 3, 2 -> 97 != 98\n",
      "(0, 2, 3, 3 -> 81 != 98\n",
      "(0, 2, 3, 4 -> 26 != 72\n",
      "(0, 2, 3, 5 -> 7 != 72\n",
      "(0, 2, 3, 6 -> 70 != 79\n",
      "(0, 2, 3, 7 -> 99 != 79\n",
      "(0, 2, 3, 8 -> 24 != 40\n",
      "(0, 2, 3, 9 -> 2 != 40\n",
      "(0, 2, 3, 10 -> 24 != 95\n",
      "(0, 2, 3, 11 -> 93 != 95\n",
      "(0, 2, 3, 12 -> 21 != 79\n",
      "(0, 2, 3, 13 -> 2 != 79\n",
      "(0, 2, 3, 14 -> 97 != 99\n",
      "(0, 2, 3, 15 -> 81 != 99\n",
      "(0, 2, 3, 16 -> 26 != 7\n",
      "(0, 2, 3, 18 -> 70 != 86\n",
      "(0, 2, 3, 19 -> 99 != 86\n",
      "(0, 2, 3, 20 -> 24 != 48\n",
      "(0, 2, 3, 21 -> 2 != 48\n",
      "(0, 2, 3, 22 -> 24 != 3\n",
      "(0, 2, 3, 23 -> 93 != 3\n",
      "(0, 2, 4, 0 -> 71 != 53\n",
      "(0, 2, 4, 1 -> 24 != 53\n",
      "(0, 2, 4, 2 -> 81 != 83\n",
      "(0, 2, 4, 3 -> 53 != 83\n",
      "(0, 2, 4, 4 -> 15 != 72\n",
      "(0, 2, 4, 5 -> 37 != 72\n",
      "(0, 2, 4, 6 -> 37 != 53\n",
      "(0, 2, 4, 7 -> 8 != 53\n",
      "(0, 2, 4, 8 -> 83 != 36\n",
      "(0, 2, 4, 9 -> 53 != 36\n",
      "(0, 2, 4, 10 -> 58 != 54\n",
      "(0, 2, 4, 11 -> 63 != 54\n",
      "(0, 2, 4, 12 -> 71 != 37\n",
      "(0, 2, 4, 13 -> 24 != 37\n",
      "(0, 2, 4, 14 -> 81 != 94\n",
      "(0, 2, 4, 15 -> 53 != 94\n",
      "(0, 2, 4, 16 -> 15 != 85\n",
      "(0, 2, 4, 17 -> 37 != 85\n",
      "(0, 2, 4, 18 -> 37 != 61\n",
      "(0, 2, 4, 19 -> 8 != 61\n",
      "(0, 2, 4, 20 -> 83 != 40\n",
      "(0, 2, 4, 21 -> 53 != 40\n",
      "(0, 2, 4, 22 -> 58 != 82\n",
      "(0, 2, 4, 23 -> 63 != 82\n",
      "(0, 2, 5, 0 -> 55 != 53\n",
      "(0, 2, 5, 1 -> 99 != 53\n",
      "(0, 2, 5, 2 -> 19 != 83\n",
      "(0, 2, 5, 3 -> 72 != 83\n",
      "(0, 2, 5, 4 -> 73 != 72\n",
      "(0, 2, 5, 5 -> 68 != 72\n",
      "(0, 2, 5, 6 -> 6 != 53\n",
      "(0, 2, 5, 7 -> 39 != 53\n",
      "(0, 2, 5, 8 -> 77 != 36\n",
      "(0, 2, 5, 9 -> 59 != 36\n",
      "(0, 2, 5, 10 -> 88 != 54\n",
      "(0, 2, 5, 11 -> 71 != 54\n",
      "(0, 2, 5, 12 -> 55 != 37\n",
      "(0, 2, 5, 13 -> 99 != 37\n",
      "(0, 2, 5, 14 -> 19 != 94\n",
      "(0, 2, 5, 15 -> 72 != 94\n",
      "(0, 2, 5, 16 -> 73 != 85\n",
      "(0, 2, 5, 17 -> 68 != 85\n",
      "(0, 2, 5, 18 -> 6 != 61\n",
      "(0, 2, 5, 19 -> 39 != 61\n",
      "(0, 2, 5, 20 -> 77 != 40\n",
      "(0, 2, 5, 21 -> 59 != 40\n",
      "(0, 2, 5, 22 -> 88 != 82\n",
      "(0, 2, 5, 23 -> 71 != 82\n",
      "(0, 2, 6, 0 -> 33 != 21\n",
      "(0, 2, 6, 1 -> 88 != 21\n",
      "(0, 2, 6, 2 -> 62 != 2\n",
      "(0, 2, 6, 3 -> 87 != 2\n",
      "(0, 2, 6, 4 -> 12 != 97\n",
      "(0, 2, 6, 5 -> 68 != 97\n",
      "(0, 2, 6, 6 -> 51 != 81\n",
      "(0, 2, 6, 7 -> 74 != 81\n",
      "(0, 2, 6, 8 -> 46 != 26\n",
      "(0, 2, 6, 9 -> 61 != 26\n",
      "(0, 2, 6, 10 -> 93 != 7\n",
      "(0, 2, 6, 11 -> 74 != 7\n",
      "(0, 2, 6, 12 -> 33 != 70\n",
      "(0, 2, 6, 13 -> 88 != 70\n",
      "(0, 2, 6, 14 -> 62 != 99\n",
      "(0, 2, 6, 15 -> 87 != 99\n",
      "(0, 2, 6, 16 -> 12 != 24\n",
      "(0, 2, 6, 17 -> 68 != 24\n",
      "(0, 2, 6, 18 -> 51 != 2\n",
      "(0, 2, 6, 19 -> 74 != 2\n",
      "(0, 2, 6, 20 -> 46 != 24\n",
      "(0, 2, 6, 21 -> 61 != 24\n",
      "(0, 2, 6, 23 -> 74 != 93\n",
      "(0, 2, 7, 0 -> 46 != 21\n",
      "(0, 2, 7, 1 -> 85 != 21\n",
      "(0, 2, 7, 2 -> 30 != 2\n",
      "(0, 2, 7, 3 -> 58 != 2\n",
      "(0, 2, 7, 4 -> 86 != 97\n",
      "(0, 2, 7, 5 -> 49 != 97\n",
      "(0, 2, 7, 6 -> 27 != 81\n",
      "(0, 2, 7, 7 -> 52 != 81\n",
      "(0, 2, 7, 8 -> 78 != 26\n",
      "(0, 2, 7, 9 -> 87 != 26\n",
      "(0, 2, 7, 10 -> 66 != 7\n",
      "(0, 2, 7, 11 -> 62 != 7\n",
      "(0, 2, 7, 12 -> 46 != 70\n",
      "(0, 2, 7, 13 -> 85 != 70\n",
      "(0, 2, 7, 14 -> 30 != 99\n",
      "(0, 2, 7, 15 -> 58 != 99\n",
      "(0, 2, 7, 16 -> 86 != 24\n",
      "(0, 2, 7, 17 -> 49 != 24\n",
      "(0, 2, 7, 18 -> 27 != 2\n",
      "(0, 2, 7, 19 -> 52 != 2\n",
      "(0, 2, 7, 20 -> 78 != 24\n",
      "(0, 2, 7, 21 -> 87 != 24\n",
      "(0, 2, 7, 22 -> 66 != 93\n",
      "(0, 2, 7, 23 -> 62 != 93\n",
      "(0, 2, 8, 0 -> 53 != 71\n",
      "(0, 2, 8, 1 -> 61 != 71\n",
      "(0, 2, 8, 2 -> 55 != 24\n",
      "(0, 2, 8, 3 -> 66 != 24\n",
      "(0, 2, 8, 4 -> 54 != 81\n",
      "(0, 2, 8, 5 -> 29 != 81\n",
      "(0, 2, 8, 6 -> 52 != 53\n",
      "(0, 2, 8, 7 -> 79 != 53\n",
      "(0, 2, 8, 8 -> 86 != 15\n",
      "(0, 2, 8, 9 -> 92 != 15\n",
      "(0, 2, 8, 10 -> 28 != 37\n",
      "(0, 2, 8, 11 -> 10 != 37\n",
      "(0, 2, 8, 12 -> 53 != 37\n",
      "(0, 2, 8, 13 -> 61 != 37\n",
      "(0, 2, 8, 14 -> 55 != 8\n",
      "(0, 2, 8, 15 -> 66 != 8\n",
      "(0, 2, 8, 16 -> 54 != 83\n",
      "(0, 2, 8, 17 -> 29 != 83\n",
      "(0, 2, 8, 18 -> 52 != 53\n",
      "(0, 2, 8, 19 -> 79 != 53\n",
      "(0, 2, 8, 20 -> 86 != 58\n",
      "(0, 2, 8, 21 -> 92 != 58\n",
      "(0, 2, 8, 22 -> 28 != 63\n",
      "(0, 2, 8, 23 -> 10 != 63\n",
      "(0, 2, 9, 0 -> 10 != 71\n",
      "(0, 2, 9, 1 -> 91 != 71\n",
      "(0, 2, 9, 2 -> 58 != 24\n",
      "(0, 2, 9, 3 -> 79 != 24\n",
      "(0, 2, 9, 4 -> 41 != 81\n",
      "(0, 2, 9, 5 -> 96 != 81\n",
      "(0, 2, 9, 6 -> 44 != 53\n",
      "(0, 2, 9, 7 -> 45 != 53\n",
      "(0, 2, 9, 8 -> 88 != 15\n",
      "(0, 2, 9, 9 -> 22 != 15\n",
      "(0, 2, 9, 10 -> 51 != 37\n",
      "(0, 2, 9, 11 -> 70 != 37\n",
      "(0, 2, 9, 12 -> 10 != 37\n",
      "(0, 2, 9, 13 -> 91 != 37\n",
      "(0, 2, 9, 14 -> 58 != 8\n",
      "(0, 2, 9, 15 -> 79 != 8\n",
      "(0, 2, 9, 16 -> 41 != 83\n",
      "(0, 2, 9, 17 -> 96 != 83\n",
      "(0, 2, 9, 18 -> 44 != 53\n",
      "(0, 2, 9, 19 -> 45 != 53\n",
      "(0, 2, 9, 20 -> 88 != 58\n",
      "(0, 2, 9, 21 -> 22 != 58\n",
      "(0, 2, 9, 22 -> 51 != 63\n",
      "(0, 2, 9, 23 -> 70 != 63\n",
      "(0, 2, 10, 0 -> 70 != 55\n",
      "(0, 2, 10, 1 -> 8 != 55\n",
      "(0, 2, 10, 2 -> 29 != 99\n",
      "(0, 2, 10, 3 -> 83 != 99\n",
      "(0, 2, 10, 4 -> 34 != 19\n",
      "(0, 2, 10, 5 -> 62 != 19\n",
      "(0, 2, 10, 6 -> 70 != 72\n",
      "(0, 2, 10, 7 -> 67 != 72\n",
      "(0, 2, 10, 8 -> 33 != 73\n",
      "(0, 2, 10, 9 -> 41 != 73\n",
      "(0, 2, 10, 10 -> 53 != 68\n",
      "(0, 2, 10, 11 -> 96 != 68\n",
      "(0, 2, 10, 12 -> 70 != 6\n",
      "(0, 2, 10, 13 -> 8 != 6\n",
      "(0, 2, 10, 14 -> 29 != 39\n",
      "(0, 2, 10, 15 -> 83 != 39\n",
      "(0, 2, 10, 16 -> 34 != 77\n",
      "(0, 2, 10, 17 -> 62 != 77\n",
      "(0, 2, 10, 18 -> 70 != 59\n",
      "(0, 2, 10, 19 -> 67 != 59\n",
      "(0, 2, 10, 20 -> 33 != 88\n",
      "(0, 2, 10, 21 -> 41 != 88\n",
      "(0, 2, 10, 22 -> 53 != 71\n",
      "(0, 2, 10, 23 -> 96 != 71\n",
      "(0, 2, 11, 0 -> 85 != 55\n",
      "(0, 2, 11, 1 -> 10 != 55\n",
      "(0, 2, 11, 2 -> 59 != 99\n",
      "(0, 2, 11, 3 -> 18 != 99\n",
      "(0, 2, 11, 4 -> 71 != 19\n",
      "(0, 2, 11, 5 -> 32 != 19\n",
      "(0, 2, 11, 6 -> 39 != 72\n",
      "(0, 2, 11, 7 -> 58 != 72\n",
      "(0, 2, 11, 8 -> 59 != 73\n",
      "(0, 2, 11, 9 -> 76 != 73\n",
      "(0, 2, 11, 10 -> 62 != 68\n",
      "(0, 2, 11, 11 -> 23 != 68\n",
      "(0, 2, 11, 12 -> 85 != 6\n",
      "(0, 2, 11, 13 -> 10 != 6\n",
      "(0, 2, 11, 14 -> 59 != 39\n",
      "(0, 2, 11, 15 -> 18 != 39\n",
      "(0, 2, 11, 16 -> 71 != 77\n",
      "(0, 2, 11, 17 -> 32 != 77\n",
      "(0, 2, 11, 18 -> 39 != 59\n",
      "(0, 2, 11, 19 -> 58 != 59\n",
      "(0, 2, 11, 20 -> 59 != 88\n",
      "(0, 2, 11, 21 -> 76 != 88\n",
      "(0, 2, 11, 22 -> 62 != 71\n",
      "(0, 2, 11, 23 -> 23 != 71\n",
      "(0, 2, 12, 0 -> 21 != 33\n",
      "(0, 2, 12, 1 -> 53 != 33\n",
      "(0, 2, 12, 2 -> 65 != 88\n",
      "(0, 2, 12, 3 -> 84 != 88\n",
      "(0, 2, 12, 4 -> 33 != 62\n",
      "(0, 2, 12, 5 -> 10 != 62\n",
      "(0, 2, 12, 6 -> 61 != 87\n",
      "(0, 2, 12, 7 -> 91 != 87\n",
      "(0, 2, 12, 8 -> 17 != 12\n",
      "(0, 2, 12, 9 -> 29 != 12\n",
      "(0, 2, 12, 10 -> 72 != 68\n",
      "(0, 2, 12, 11 -> 80 != 68\n",
      "(0, 2, 12, 12 -> 21 != 51\n",
      "(0, 2, 12, 13 -> 53 != 51\n",
      "(0, 2, 12, 14 -> 65 != 74\n",
      "(0, 2, 12, 15 -> 84 != 74\n",
      "(0, 2, 12, 16 -> 33 != 46\n",
      "(0, 2, 12, 17 -> 10 != 46\n",
      "(0, 2, 12, 19 -> 91 != 61\n",
      "(0, 2, 12, 20 -> 17 != 93\n",
      "(0, 2, 12, 21 -> 29 != 93\n",
      "(0, 2, 12, 22 -> 72 != 74\n",
      "(0, 2, 12, 23 -> 80 != 74\n",
      "(0, 2, 13, 0 -> 18 != 33\n",
      "(0, 2, 13, 1 -> 98 != 33\n",
      "(0, 2, 13, 2 -> 72 != 88\n",
      "(0, 2, 13, 3 -> 79 != 88\n",
      "(0, 2, 13, 4 -> 40 != 62\n",
      "(0, 2, 13, 5 -> 95 != 62\n",
      "(0, 2, 13, 6 -> 79 != 87\n",
      "(0, 2, 13, 7 -> 99 != 87\n",
      "(0, 2, 13, 8 -> 7 != 12\n",
      "(0, 2, 13, 9 -> 86 != 12\n",
      "(0, 2, 13, 10 -> 48 != 68\n",
      "(0, 2, 13, 11 -> 3 != 68\n",
      "(0, 2, 13, 12 -> 18 != 51\n",
      "(0, 2, 13, 13 -> 98 != 51\n",
      "(0, 2, 13, 14 -> 72 != 74\n",
      "(0, 2, 13, 15 -> 79 != 74\n",
      "(0, 2, 13, 16 -> 40 != 46\n",
      "(0, 2, 13, 17 -> 95 != 46\n",
      "(0, 2, 13, 18 -> 79 != 61\n",
      "(0, 2, 13, 19 -> 99 != 61\n",
      "(0, 2, 13, 20 -> 7 != 93\n",
      "(0, 2, 13, 21 -> 86 != 93\n",
      "(0, 2, 13, 22 -> 48 != 74\n",
      "(0, 2, 13, 23 -> 3 != 74\n",
      "(0, 2, 14, 0 -> 53 != 46\n",
      "(0, 2, 14, 1 -> 83 != 46\n",
      "(0, 2, 14, 2 -> 72 != 85\n",
      "(0, 2, 14, 3 -> 53 != 85\n",
      "(0, 2, 14, 4 -> 36 != 30\n",
      "(0, 2, 14, 5 -> 54 != 30\n",
      "(0, 2, 14, 6 -> 37 != 58\n",
      "(0, 2, 14, 7 -> 94 != 58\n",
      "(0, 2, 14, 8 -> 85 != 86\n",
      "(0, 2, 14, 9 -> 61 != 86\n",
      "(0, 2, 14, 10 -> 40 != 49\n",
      "(0, 2, 14, 11 -> 82 != 49\n",
      "(0, 2, 14, 12 -> 53 != 27\n",
      "(0, 2, 14, 13 -> 83 != 27\n",
      "(0, 2, 14, 14 -> 72 != 52\n",
      "(0, 2, 14, 15 -> 53 != 52\n",
      "(0, 2, 14, 16 -> 36 != 78\n",
      "(0, 2, 14, 17 -> 54 != 78\n",
      "(0, 2, 14, 18 -> 37 != 87\n",
      "(0, 2, 14, 19 -> 94 != 87\n",
      "(0, 2, 14, 20 -> 85 != 66\n",
      "(0, 2, 14, 21 -> 61 != 66\n",
      "(0, 2, 14, 22 -> 40 != 62\n",
      "(0, 2, 14, 23 -> 82 != 62\n",
      "(0, 2, 15, 0 -> 21 != 46\n",
      "(0, 2, 15, 1 -> 2 != 46\n",
      "(0, 2, 15, 2 -> 97 != 85\n",
      "(0, 2, 15, 3 -> 81 != 85\n",
      "(0, 2, 15, 4 -> 26 != 30\n",
      "(0, 2, 15, 5 -> 7 != 30\n",
      "(0, 2, 15, 6 -> 70 != 58\n",
      "(0, 2, 15, 7 -> 99 != 58\n",
      "(0, 2, 15, 8 -> 24 != 86\n",
      "(0, 2, 15, 9 -> 2 != 86\n",
      "(0, 2, 15, 10 -> 24 != 49\n",
      "(0, 2, 15, 11 -> 93 != 49\n",
      "(0, 2, 15, 12 -> 21 != 27\n",
      "(0, 2, 15, 13 -> 2 != 27\n",
      "(0, 2, 15, 14 -> 97 != 52\n",
      "(0, 2, 15, 15 -> 81 != 52\n",
      "(0, 2, 15, 16 -> 26 != 78\n",
      "(0, 2, 15, 17 -> 7 != 78\n",
      "(0, 2, 15, 18 -> 70 != 87\n",
      "(0, 2, 15, 19 -> 99 != 87\n",
      "(0, 2, 15, 20 -> 24 != 66\n",
      "(0, 2, 15, 21 -> 2 != 66\n",
      "(0, 2, 15, 22 -> 24 != 62\n",
      "(0, 2, 15, 23 -> 93 != 62\n",
      "(0, 2, 16, 0 -> 71 != 53\n",
      "(0, 2, 16, 1 -> 24 != 53\n",
      "(0, 2, 16, 2 -> 81 != 61\n",
      "(0, 2, 16, 3 -> 53 != 61\n",
      "(0, 2, 16, 4 -> 15 != 55\n",
      "(0, 2, 16, 5 -> 37 != 55\n",
      "(0, 2, 16, 6 -> 37 != 66\n",
      "(0, 2, 16, 7 -> 8 != 66\n",
      "(0, 2, 16, 8 -> 83 != 54\n",
      "(0, 2, 16, 9 -> 53 != 54\n",
      "(0, 2, 16, 10 -> 58 != 29\n",
      "(0, 2, 16, 11 -> 63 != 29\n",
      "(0, 2, 16, 12 -> 71 != 52\n",
      "(0, 2, 16, 13 -> 24 != 52\n",
      "(0, 2, 16, 14 -> 81 != 79\n",
      "(0, 2, 16, 15 -> 53 != 79\n",
      "(0, 2, 16, 16 -> 15 != 86\n",
      "(0, 2, 16, 17 -> 37 != 86\n",
      "(0, 2, 16, 18 -> 37 != 92\n",
      "(0, 2, 16, 19 -> 8 != 92\n",
      "(0, 2, 16, 20 -> 83 != 28\n",
      "(0, 2, 16, 21 -> 53 != 28\n",
      "(0, 2, 16, 22 -> 58 != 10\n",
      "(0, 2, 16, 23 -> 63 != 10\n",
      "(0, 2, 17, 0 -> 55 != 53\n",
      "(0, 2, 17, 1 -> 99 != 53\n",
      "(0, 2, 17, 2 -> 19 != 61\n",
      "(0, 2, 17, 3 -> 72 != 61\n",
      "(0, 2, 17, 4 -> 73 != 55\n",
      "(0, 2, 17, 5 -> 68 != 55\n",
      "(0, 2, 17, 6 -> 6 != 66\n",
      "(0, 2, 17, 7 -> 39 != 66\n",
      "(0, 2, 17, 8 -> 77 != 54\n",
      "(0, 2, 17, 9 -> 59 != 54\n",
      "(0, 2, 17, 10 -> 88 != 29\n",
      "(0, 2, 17, 11 -> 71 != 29\n",
      "(0, 2, 17, 12 -> 55 != 52\n",
      "(0, 2, 17, 13 -> 99 != 52\n",
      "(0, 2, 17, 14 -> 19 != 79\n",
      "(0, 2, 17, 15 -> 72 != 79\n",
      "(0, 2, 17, 16 -> 73 != 86\n",
      "(0, 2, 17, 17 -> 68 != 86\n",
      "(0, 2, 17, 18 -> 6 != 92\n",
      "(0, 2, 17, 19 -> 39 != 92\n",
      "(0, 2, 17, 20 -> 77 != 28\n",
      "(0, 2, 17, 21 -> 59 != 28\n",
      "(0, 2, 17, 22 -> 88 != 10\n",
      "(0, 2, 17, 23 -> 71 != 10\n",
      "(0, 2, 18, 0 -> 33 != 10\n",
      "(0, 2, 18, 1 -> 88 != 10\n",
      "(0, 2, 18, 2 -> 62 != 91\n",
      "(0, 2, 18, 3 -> 87 != 91\n",
      "(0, 2, 18, 4 -> 12 != 58\n",
      "(0, 2, 18, 5 -> 68 != 58\n",
      "(0, 2, 18, 6 -> 51 != 79\n",
      "(0, 2, 18, 7 -> 74 != 79\n",
      "(0, 2, 18, 8 -> 46 != 41\n",
      "(0, 2, 18, 9 -> 61 != 41\n",
      "(0, 2, 18, 10 -> 93 != 96\n",
      "(0, 2, 18, 11 -> 74 != 96\n",
      "(0, 2, 18, 12 -> 33 != 44\n",
      "(0, 2, 18, 13 -> 88 != 44\n",
      "(0, 2, 18, 14 -> 62 != 45\n",
      "(0, 2, 18, 15 -> 87 != 45\n",
      "(0, 2, 18, 16 -> 12 != 88\n",
      "(0, 2, 18, 17 -> 68 != 88\n",
      "(0, 2, 18, 18 -> 51 != 22\n",
      "(0, 2, 18, 19 -> 74 != 22\n",
      "(0, 2, 18, 20 -> 46 != 51\n",
      "(0, 2, 18, 21 -> 61 != 51\n",
      "(0, 2, 18, 22 -> 93 != 70\n",
      "(0, 2, 18, 23 -> 74 != 70\n",
      "(0, 2, 19, 0 -> 46 != 10\n",
      "(0, 2, 19, 1 -> 85 != 10\n",
      "(0, 2, 19, 2 -> 30 != 91\n",
      "(0, 2, 19, 3 -> 58 != 91\n",
      "(0, 2, 19, 4 -> 86 != 58\n",
      "(0, 2, 19, 5 -> 49 != 58\n",
      "(0, 2, 19, 6 -> 27 != 79\n",
      "(0, 2, 19, 7 -> 52 != 79\n",
      "(0, 2, 19, 8 -> 78 != 41\n",
      "(0, 2, 19, 9 -> 87 != 41\n",
      "(0, 2, 19, 10 -> 66 != 96\n",
      "(0, 2, 19, 11 -> 62 != 96\n",
      "(0, 2, 19, 12 -> 46 != 44\n",
      "(0, 2, 19, 13 -> 85 != 44\n",
      "(0, 2, 19, 14 -> 30 != 45\n",
      "(0, 2, 19, 15 -> 58 != 45\n",
      "(0, 2, 19, 16 -> 86 != 88\n",
      "(0, 2, 19, 17 -> 49 != 88\n",
      "(0, 2, 19, 18 -> 27 != 22\n",
      "(0, 2, 19, 19 -> 52 != 22\n",
      "(0, 2, 19, 20 -> 78 != 51\n",
      "(0, 2, 19, 21 -> 87 != 51\n",
      "(0, 2, 19, 22 -> 66 != 70\n",
      "(0, 2, 19, 23 -> 62 != 70\n",
      "(0, 2, 20, 0 -> 53 != 70\n",
      "(0, 2, 20, 1 -> 61 != 70\n",
      "(0, 2, 20, 2 -> 55 != 8\n",
      "(0, 2, 20, 3 -> 66 != 8\n",
      "(0, 2, 20, 4 -> 54 != 29\n",
      "(0, 2, 20, 6 -> 52 != 83\n",
      "(0, 2, 20, 7 -> 79 != 83\n",
      "(0, 2, 20, 8 -> 86 != 34\n",
      "(0, 2, 20, 9 -> 92 != 34\n",
      "(0, 2, 20, 10 -> 28 != 62\n",
      "(0, 2, 20, 11 -> 10 != 62\n",
      "(0, 2, 20, 12 -> 53 != 70\n",
      "(0, 2, 20, 13 -> 61 != 70\n",
      "(0, 2, 20, 14 -> 55 != 67\n",
      "(0, 2, 20, 15 -> 66 != 67\n",
      "(0, 2, 20, 16 -> 54 != 33\n",
      "(0, 2, 20, 17 -> 29 != 33\n",
      "(0, 2, 20, 18 -> 52 != 41\n",
      "(0, 2, 20, 19 -> 79 != 41\n",
      "(0, 2, 20, 20 -> 86 != 53\n",
      "(0, 2, 20, 21 -> 92 != 53\n",
      "(0, 2, 20, 22 -> 28 != 96\n",
      "(0, 2, 20, 23 -> 10 != 96\n",
      "(0, 2, 21, 0 -> 10 != 70\n",
      "(0, 2, 21, 1 -> 91 != 70\n",
      "(0, 2, 21, 2 -> 58 != 8\n",
      "(0, 2, 21, 3 -> 79 != 8\n",
      "(0, 2, 21, 4 -> 41 != 29\n",
      "(0, 2, 21, 5 -> 96 != 29\n",
      "(0, 2, 21, 6 -> 44 != 83\n",
      "(0, 2, 21, 7 -> 45 != 83\n",
      "(0, 2, 21, 8 -> 88 != 34\n",
      "(0, 2, 21, 9 -> 22 != 34\n",
      "(0, 2, 21, 10 -> 51 != 62\n",
      "(0, 2, 21, 11 -> 70 != 62\n",
      "(0, 2, 21, 12 -> 10 != 70\n",
      "(0, 2, 21, 13 -> 91 != 70\n",
      "(0, 2, 21, 14 -> 58 != 67\n",
      "(0, 2, 21, 15 -> 79 != 67\n",
      "(0, 2, 21, 16 -> 41 != 33\n",
      "(0, 2, 21, 17 -> 96 != 33\n",
      "(0, 2, 21, 18 -> 44 != 41\n",
      "(0, 2, 21, 19 -> 45 != 41\n",
      "(0, 2, 21, 20 -> 88 != 53\n",
      "(0, 2, 21, 21 -> 22 != 53\n",
      "(0, 2, 21, 22 -> 51 != 96\n",
      "(0, 2, 21, 23 -> 70 != 96\n",
      "(0, 2, 22, 0 -> 70 != 85\n",
      "(0, 2, 22, 1 -> 8 != 85\n",
      "(0, 2, 22, 2 -> 29 != 10\n",
      "(0, 2, 22, 3 -> 83 != 10\n",
      "(0, 2, 22, 4 -> 34 != 59\n",
      "(0, 2, 22, 5 -> 62 != 59\n",
      "(0, 2, 22, 6 -> 70 != 18\n",
      "(0, 2, 22, 7 -> 67 != 18\n",
      "(0, 2, 22, 8 -> 33 != 71\n",
      "(0, 2, 22, 9 -> 41 != 71\n",
      "(0, 2, 22, 10 -> 53 != 32\n",
      "(0, 2, 22, 11 -> 96 != 32\n",
      "(0, 2, 22, 12 -> 70 != 39\n",
      "(0, 2, 22, 13 -> 8 != 39\n",
      "(0, 2, 22, 14 -> 29 != 58\n",
      "(0, 2, 22, 15 -> 83 != 58\n",
      "(0, 2, 22, 16 -> 34 != 59\n",
      "(0, 2, 22, 17 -> 62 != 59\n",
      "(0, 2, 22, 18 -> 70 != 76\n",
      "(0, 2, 22, 19 -> 67 != 76\n",
      "(0, 2, 22, 20 -> 33 != 62\n",
      "(0, 2, 22, 21 -> 41 != 62\n",
      "(0, 2, 22, 22 -> 53 != 23\n",
      "(0, 2, 22, 23 -> 96 != 23\n",
      "(0, 2, 23, 1 -> 10 != 85\n",
      "(0, 2, 23, 2 -> 59 != 10\n",
      "(0, 2, 23, 3 -> 18 != 10\n",
      "(0, 2, 23, 4 -> 71 != 59\n",
      "(0, 2, 23, 5 -> 32 != 59\n",
      "(0, 2, 23, 6 -> 39 != 18\n",
      "(0, 2, 23, 7 -> 58 != 18\n",
      "(0, 2, 23, 8 -> 59 != 71\n",
      "(0, 2, 23, 9 -> 76 != 71\n",
      "(0, 2, 23, 10 -> 62 != 32\n",
      "(0, 2, 23, 11 -> 23 != 32\n",
      "(0, 2, 23, 12 -> 85 != 39\n",
      "(0, 2, 23, 13 -> 10 != 39\n",
      "(0, 2, 23, 14 -> 59 != 58\n",
      "(0, 2, 23, 15 -> 18 != 58\n",
      "(0, 2, 23, 16 -> 71 != 59\n",
      "(0, 2, 23, 17 -> 32 != 59\n",
      "(0, 2, 23, 18 -> 39 != 76\n",
      "(0, 2, 23, 19 -> 58 != 76\n",
      "(0, 2, 23, 20 -> 59 != 62\n",
      "(0, 2, 23, 21 -> 76 != 62\n",
      "(0, 2, 23, 22 -> 62 != 23\n",
      "(1, 0, 0, 1 -> 16 != 2\n",
      "(1, 0, 0, 2 -> 37 != 16\n",
      "(1, 0, 0, 3 -> 11 != 16\n",
      "(1, 0, 0, 4 -> 5 != 37\n",
      "(1, 0, 0, 5 -> 7 != 37\n",
      "(1, 0, 0, 6 -> 98 != 11\n",
      "(1, 0, 0, 7 -> 35 != 11\n",
      "(1, 0, 0, 8 -> 30 != 5\n",
      "(1, 0, 0, 9 -> 36 != 5\n",
      "(1, 0, 0, 10 -> 24 != 7\n",
      "(1, 0, 0, 11 -> 70 != 7\n",
      "(1, 0, 0, 12 -> 2 != 98\n",
      "(1, 0, 0, 13 -> 16 != 98\n",
      "(1, 0, 0, 14 -> 37 != 35\n",
      "(1, 0, 0, 15 -> 11 != 35\n",
      "(1, 0, 0, 16 -> 5 != 30\n",
      "(1, 0, 0, 17 -> 7 != 30\n",
      "(1, 0, 0, 18 -> 98 != 36\n",
      "(1, 0, 0, 19 -> 35 != 36\n",
      "(1, 0, 0, 20 -> 30 != 24\n",
      "(1, 0, 0, 21 -> 36 != 24\n",
      "(1, 0, 0, 22 -> 24 != 70\n",
      "(1, 0, 1, 0 -> 22 != 2\n",
      "(1, 0, 1, 1 -> 95 != 2\n",
      "(1, 0, 1, 2 -> 39 != 16\n",
      "(1, 0, 1, 3 -> 42 != 16\n",
      "(1, 0, 1, 4 -> 94 != 37\n",
      "(1, 0, 1, 5 -> 51 != 37\n",
      "(1, 0, 1, 6 -> 23 != 11\n",
      "(1, 0, 1, 7 -> 54 != 11\n",
      "(1, 0, 1, 8 -> 60 != 5\n",
      "(1, 0, 1, 9 -> 2 != 5\n",
      "(1, 0, 1, 10 -> 52 != 7\n",
      "(1, 0, 1, 11 -> 63 != 7\n",
      "(1, 0, 1, 12 -> 22 != 98\n",
      "(1, 0, 1, 13 -> 95 != 98\n",
      "(1, 0, 1, 14 -> 39 != 35\n",
      "(1, 0, 1, 15 -> 42 != 35\n",
      "(1, 0, 1, 16 -> 94 != 30\n",
      "(1, 0, 1, 17 -> 51 != 30\n",
      "(1, 0, 1, 18 -> 23 != 36\n",
      "(1, 0, 1, 19 -> 54 != 36\n",
      "(1, 0, 1, 20 -> 60 != 24\n",
      "(1, 0, 1, 21 -> 2 != 24\n",
      "(1, 0, 1, 22 -> 52 != 70\n",
      "(1, 0, 1, 23 -> 63 != 70\n",
      "(1, 0, 2, 0 -> 80 != 22\n",
      "(1, 0, 2, 1 -> 86 != 22\n",
      "(1, 0, 2, 2 -> 56 != 95\n",
      "(1, 0, 2, 3 -> 73 != 95\n",
      "(1, 0, 2, 4 -> 96 != 39\n",
      "(1, 0, 2, 5 -> 24 != 39\n",
      "(1, 0, 2, 6 -> 66 != 42\n",
      "(1, 0, 2, 7 -> 68 != 42\n",
      "(1, 0, 2, 8 -> 6 != 94\n",
      "(1, 0, 2, 9 -> 7 != 94\n",
      "(1, 0, 2, 10 -> 72 != 51\n",
      "(1, 0, 2, 11 -> 75 != 51\n",
      "(1, 0, 2, 12 -> 80 != 23\n",
      "(1, 0, 2, 13 -> 86 != 23\n",
      "(1, 0, 2, 14 -> 56 != 54\n",
      "(1, 0, 2, 15 -> 73 != 54\n",
      "(1, 0, 2, 16 -> 96 != 60\n",
      "(1, 0, 2, 17 -> 24 != 60\n",
      "(1, 0, 2, 18 -> 66 != 2\n",
      "(1, 0, 2, 19 -> 68 != 2\n",
      "(1, 0, 2, 20 -> 6 != 52\n",
      "(1, 0, 2, 21 -> 7 != 52\n",
      "(1, 0, 2, 22 -> 72 != 63\n",
      "(1, 0, 2, 23 -> 75 != 63\n",
      "(1, 0, 3, 0 -> 92 != 22\n",
      "(1, 0, 3, 1 -> 16 != 22\n",
      "(1, 0, 3, 2 -> 61 != 95\n",
      "(1, 0, 3, 3 -> 83 != 95\n",
      "(1, 0, 3, 4 -> 90 != 39\n",
      "(1, 0, 3, 5 -> 60 != 39\n",
      "(1, 0, 3, 6 -> 47 != 42\n",
      "(1, 0, 3, 7 -> 20 != 42\n",
      "(1, 0, 3, 8 -> 33 != 94\n",
      "(1, 0, 3, 9 -> 38 != 94\n",
      "(1, 0, 3, 10 -> 44 != 51\n",
      "(1, 0, 3, 11 -> 96 != 51\n",
      "(1, 0, 3, 12 -> 92 != 23\n",
      "(1, 0, 3, 13 -> 16 != 23\n",
      "(1, 0, 3, 14 -> 61 != 54\n",
      "(1, 0, 3, 15 -> 83 != 54\n",
      "(1, 0, 3, 16 -> 90 != 60\n",
      "(1, 0, 3, 18 -> 47 != 2\n",
      "(1, 0, 3, 19 -> 20 != 2\n",
      "(1, 0, 3, 20 -> 33 != 52\n",
      "(1, 0, 3, 21 -> 38 != 52\n",
      "(1, 0, 3, 22 -> 44 != 63\n",
      "(1, 0, 3, 23 -> 96 != 63\n",
      "(1, 0, 4, 0 -> 18 != 80\n",
      "(1, 0, 4, 1 -> 16 != 80\n",
      "(1, 0, 4, 2 -> 94 != 86\n",
      "(1, 0, 4, 3 -> 79 != 86\n",
      "(1, 0, 4, 4 -> 21 != 56\n",
      "(1, 0, 4, 6 -> 33 != 73\n",
      "(1, 0, 4, 7 -> 91 != 73\n",
      "(1, 0, 4, 8 -> 1 != 96\n",
      "(1, 0, 4, 9 -> 39 != 96\n",
      "(1, 0, 4, 10 -> 14 != 24\n",
      "(1, 0, 4, 11 -> 13 != 24\n",
      "(1, 0, 4, 12 -> 18 != 66\n",
      "(1, 0, 4, 13 -> 16 != 66\n",
      "(1, 0, 4, 14 -> 94 != 68\n",
      "(1, 0, 4, 15 -> 79 != 68\n",
      "(1, 0, 4, 16 -> 21 != 6\n",
      "(1, 0, 4, 17 -> 56 != 6\n",
      "(1, 0, 4, 18 -> 33 != 7\n",
      "(1, 0, 4, 19 -> 91 != 7\n",
      "(1, 0, 4, 20 -> 1 != 72\n",
      "(1, 0, 4, 21 -> 39 != 72\n",
      "(1, 0, 4, 22 -> 14 != 75\n",
      "(1, 0, 4, 23 -> 13 != 75\n",
      "(1, 0, 5, 0 -> 93 != 80\n",
      "(1, 0, 5, 1 -> 56 != 80\n",
      "(1, 0, 5, 2 -> 39 != 86\n",
      "(1, 0, 5, 3 -> 31 != 86\n",
      "(1, 0, 5, 4 -> 28 != 56\n",
      "(1, 0, 5, 5 -> 93 != 56\n",
      "(1, 0, 5, 6 -> 4 != 73\n",
      "(1, 0, 5, 7 -> 29 != 73\n",
      "(1, 0, 5, 8 -> 16 != 96\n",
      "(1, 0, 5, 9 -> 61 != 96\n",
      "(1, 0, 5, 10 -> 37 != 24\n",
      "(1, 0, 5, 11 -> 52 != 24\n",
      "(1, 0, 5, 12 -> 93 != 66\n",
      "(1, 0, 5, 13 -> 56 != 66\n",
      "(1, 0, 5, 14 -> 39 != 68\n",
      "(1, 0, 5, 15 -> 31 != 68\n",
      "(1, 0, 5, 16 -> 28 != 6\n",
      "(1, 0, 5, 17 -> 93 != 6\n",
      "(1, 0, 5, 18 -> 4 != 7\n",
      "(1, 0, 5, 19 -> 29 != 7\n",
      "(1, 0, 5, 20 -> 16 != 72\n",
      "(1, 0, 5, 21 -> 61 != 72\n",
      "(1, 0, 5, 22 -> 37 != 75\n",
      "(1, 0, 5, 23 -> 52 != 75\n",
      "(1, 0, 6, 0 -> 90 != 92\n",
      "(1, 0, 6, 1 -> 1 != 92\n",
      "(1, 0, 6, 2 -> 90 != 16\n",
      "(1, 0, 6, 3 -> 28 != 16\n",
      "(1, 0, 6, 4 -> 76 != 61\n",
      "(1, 0, 6, 5 -> 93 != 61\n",
      "(1, 0, 6, 6 -> 49 != 83\n",
      "(1, 0, 6, 7 -> 27 != 83\n",
      "(1, 0, 6, 8 -> 39 != 90\n",
      "(1, 0, 6, 9 -> 76 != 90\n",
      "(1, 0, 6, 10 -> 67 != 60\n",
      "(1, 0, 6, 11 -> 98 != 60\n",
      "(1, 0, 6, 12 -> 90 != 47\n",
      "(1, 0, 6, 13 -> 1 != 47\n",
      "(1, 0, 6, 14 -> 90 != 20\n",
      "(1, 0, 6, 15 -> 28 != 20\n",
      "(1, 0, 6, 16 -> 76 != 33\n",
      "(1, 0, 6, 17 -> 93 != 33\n",
      "(1, 0, 6, 18 -> 49 != 38\n",
      "(1, 0, 6, 19 -> 27 != 38\n",
      "(1, 0, 6, 20 -> 39 != 44\n",
      "(1, 0, 6, 21 -> 76 != 44\n",
      "(1, 0, 6, 22 -> 67 != 96\n",
      "(1, 0, 6, 23 -> 98 != 96\n",
      "(1, 0, 7, 0 -> 83 != 92\n",
      "(1, 0, 7, 1 -> 3 != 92\n",
      "(1, 0, 7, 2 -> 19 != 16\n",
      "(1, 0, 7, 3 -> 6 != 16\n",
      "(1, 0, 7, 4 -> 68 != 61\n",
      "(1, 0, 7, 5 -> 54 != 61\n",
      "(1, 0, 7, 6 -> 58 != 83\n",
      "(1, 0, 7, 7 -> 55 != 83\n",
      "(1, 0, 7, 8 -> 17 != 90\n",
      "(1, 0, 7, 9 -> 7 != 90\n",
      "(1, 0, 7, 10 -> 54 != 60\n",
      "(1, 0, 7, 11 -> 35 != 60\n",
      "(1, 0, 7, 12 -> 83 != 47\n",
      "(1, 0, 7, 13 -> 3 != 47\n",
      "(1, 0, 7, 14 -> 19 != 20\n",
      "(1, 0, 7, 15 -> 6 != 20\n",
      "(1, 0, 7, 16 -> 68 != 33\n",
      "(1, 0, 7, 17 -> 54 != 33\n",
      "(1, 0, 7, 18 -> 58 != 38\n",
      "(1, 0, 7, 19 -> 55 != 38\n",
      "(1, 0, 7, 20 -> 17 != 44\n",
      "(1, 0, 7, 21 -> 7 != 44\n",
      "(1, 0, 7, 22 -> 54 != 96\n",
      "(1, 0, 7, 23 -> 35 != 96\n",
      "(1, 0, 8, 0 -> 27 != 18\n",
      "(1, 0, 8, 1 -> 32 != 18\n",
      "(1, 0, 8, 2 -> 5 != 16\n",
      "(1, 0, 8, 3 -> 59 != 16\n",
      "(1, 0, 8, 4 -> 24 != 94\n",
      "(1, 0, 8, 5 -> 21 != 94\n",
      "(1, 0, 8, 6 -> 90 != 79\n",
      "(1, 0, 8, 7 -> 99 != 79\n",
      "(1, 0, 8, 8 -> 9 != 21\n",
      "(1, 0, 8, 9 -> 69 != 21\n",
      "(1, 0, 8, 10 -> 87 != 56\n",
      "(1, 0, 8, 11 -> 95 != 56\n",
      "(1, 0, 8, 12 -> 27 != 33\n",
      "(1, 0, 8, 13 -> 32 != 33\n",
      "(1, 0, 8, 14 -> 5 != 91\n",
      "(1, 0, 8, 15 -> 59 != 91\n",
      "(1, 0, 8, 16 -> 24 != 1\n",
      "(1, 0, 8, 17 -> 21 != 1\n",
      "(1, 0, 8, 18 -> 90 != 39\n",
      "(1, 0, 8, 19 -> 99 != 39\n",
      "(1, 0, 8, 20 -> 9 != 14\n",
      "(1, 0, 8, 21 -> 69 != 14\n",
      "(1, 0, 8, 22 -> 87 != 13\n",
      "(1, 0, 8, 23 -> 95 != 13\n",
      "(1, 0, 9, 0 -> 4 != 18\n",
      "(1, 0, 9, 1 -> 4 != 18\n",
      "(1, 0, 9, 2 -> 10 != 16\n",
      "(1, 0, 9, 3 -> 84 != 16\n",
      "(1, 0, 9, 4 -> 5 != 94\n",
      "(1, 0, 9, 5 -> 24 != 94\n",
      "(1, 0, 9, 6 -> 14 != 79\n",
      "(1, 0, 9, 7 -> 41 != 79\n",
      "(1, 0, 9, 8 -> 29 != 21\n",
      "(1, 0, 9, 9 -> 65 != 21\n",
      "(1, 0, 9, 10 -> 88 != 56\n",
      "(1, 0, 9, 11 -> 85 != 56\n",
      "(1, 0, 9, 12 -> 4 != 33\n",
      "(1, 0, 9, 13 -> 4 != 33\n",
      "(1, 0, 9, 14 -> 10 != 91\n",
      "(1, 0, 9, 15 -> 84 != 91\n",
      "(1, 0, 9, 16 -> 5 != 1\n",
      "(1, 0, 9, 17 -> 24 != 1\n",
      "(1, 0, 9, 18 -> 14 != 39\n",
      "(1, 0, 9, 19 -> 41 != 39\n",
      "(1, 0, 9, 20 -> 29 != 14\n",
      "(1, 0, 9, 21 -> 65 != 14\n",
      "(1, 0, 9, 22 -> 88 != 13\n",
      "(1, 0, 9, 23 -> 85 != 13\n",
      "(1, 0, 10, 0 -> 38 != 93\n",
      "(1, 0, 10, 1 -> 70 != 93\n",
      "(1, 0, 10, 2 -> 47 != 56\n",
      "(1, 0, 10, 3 -> 91 != 56\n",
      "(1, 0, 10, 4 -> 5 != 39\n",
      "(1, 0, 10, 5 -> 6 != 39\n",
      "(1, 0, 10, 6 -> 44 != 31\n",
      "(1, 0, 10, 7 -> 88 != 31\n",
      "(1, 0, 10, 8 -> 47 != 28\n",
      "(1, 0, 10, 9 -> 99 != 28\n",
      "(1, 0, 10, 10 -> 4 != 93\n",
      "(1, 0, 10, 11 -> 6 != 93\n",
      "(1, 0, 10, 12 -> 38 != 4\n",
      "(1, 0, 10, 13 -> 70 != 4\n",
      "(1, 0, 10, 14 -> 47 != 29\n",
      "(1, 0, 10, 15 -> 91 != 29\n",
      "(1, 0, 10, 16 -> 5 != 16\n",
      "(1, 0, 10, 17 -> 6 != 16\n",
      "(1, 0, 10, 18 -> 44 != 61\n",
      "(1, 0, 10, 19 -> 88 != 61\n",
      "(1, 0, 10, 20 -> 47 != 37\n",
      "(1, 0, 10, 21 -> 99 != 37\n",
      "(1, 0, 10, 22 -> 4 != 52\n",
      "(1, 0, 10, 23 -> 6 != 52\n",
      "(1, 0, 11, 0 -> 64 != 93\n",
      "(1, 0, 11, 1 -> 70 != 93\n",
      "(1, 0, 11, 2 -> 1 != 56\n",
      "(1, 0, 11, 3 -> 52 != 56\n",
      "(1, 0, 11, 4 -> 33 != 39\n",
      "(1, 0, 11, 5 -> 89 != 39\n",
      "(1, 0, 11, 6 -> 79 != 31\n",
      "(1, 0, 11, 7 -> 36 != 31\n",
      "(1, 0, 11, 8 -> 11 != 28\n",
      "(1, 0, 11, 9 -> 50 != 28\n",
      "(1, 0, 11, 10 -> 72 != 93\n",
      "(1, 0, 11, 11 -> 45 != 93\n",
      "(1, 0, 11, 12 -> 64 != 4\n",
      "(1, 0, 11, 13 -> 70 != 4\n",
      "(1, 0, 11, 14 -> 1 != 29\n",
      "(1, 0, 11, 15 -> 52 != 29\n",
      "(1, 0, 11, 16 -> 33 != 16\n",
      "(1, 0, 11, 17 -> 89 != 16\n",
      "(1, 0, 11, 18 -> 79 != 61\n",
      "(1, 0, 11, 19 -> 36 != 61\n",
      "(1, 0, 11, 20 -> 11 != 37\n",
      "(1, 0, 11, 21 -> 50 != 37\n",
      "(1, 0, 11, 22 -> 72 != 52\n",
      "(1, 0, 11, 23 -> 45 != 52\n",
      "(1, 0, 12, 0 -> 2 != 90\n",
      "(1, 0, 12, 1 -> 16 != 90\n",
      "(1, 0, 12, 2 -> 37 != 1\n",
      "(1, 0, 12, 3 -> 11 != 1\n",
      "(1, 0, 12, 4 -> 5 != 90\n",
      "(1, 0, 12, 5 -> 7 != 90\n",
      "(1, 0, 12, 6 -> 98 != 28\n",
      "(1, 0, 12, 7 -> 35 != 28\n",
      "(1, 0, 12, 8 -> 30 != 76\n",
      "(1, 0, 12, 9 -> 36 != 76\n",
      "(1, 0, 12, 10 -> 24 != 93\n",
      "(1, 0, 12, 11 -> 70 != 93\n",
      "(1, 0, 12, 12 -> 2 != 49\n",
      "(1, 0, 12, 13 -> 16 != 49\n",
      "(1, 0, 12, 14 -> 37 != 27\n",
      "(1, 0, 12, 15 -> 11 != 27\n",
      "(1, 0, 12, 16 -> 5 != 39\n",
      "(1, 0, 12, 17 -> 7 != 39\n",
      "(1, 0, 12, 18 -> 98 != 76\n",
      "(1, 0, 12, 19 -> 35 != 76\n",
      "(1, 0, 12, 20 -> 30 != 67\n",
      "(1, 0, 12, 21 -> 36 != 67\n",
      "(1, 0, 12, 22 -> 24 != 98\n",
      "(1, 0, 12, 23 -> 70 != 98\n",
      "(1, 0, 13, 0 -> 22 != 90\n",
      "(1, 0, 13, 1 -> 95 != 90\n",
      "(1, 0, 13, 2 -> 39 != 1\n",
      "(1, 0, 13, 3 -> 42 != 1\n",
      "(1, 0, 13, 4 -> 94 != 90\n",
      "(1, 0, 13, 5 -> 51 != 90\n",
      "(1, 0, 13, 6 -> 23 != 28\n",
      "(1, 0, 13, 7 -> 54 != 28\n",
      "(1, 0, 13, 8 -> 60 != 76\n",
      "(1, 0, 13, 9 -> 2 != 76\n",
      "(1, 0, 13, 10 -> 52 != 93\n",
      "(1, 0, 13, 11 -> 63 != 93\n",
      "(1, 0, 13, 12 -> 22 != 49\n",
      "(1, 0, 13, 13 -> 95 != 49\n",
      "(1, 0, 13, 14 -> 39 != 27\n",
      "(1, 0, 13, 15 -> 42 != 27\n",
      "(1, 0, 13, 16 -> 94 != 39\n",
      "(1, 0, 13, 17 -> 51 != 39\n",
      "(1, 0, 13, 18 -> 23 != 76\n",
      "(1, 0, 13, 19 -> 54 != 76\n",
      "(1, 0, 13, 20 -> 60 != 67\n",
      "(1, 0, 13, 21 -> 2 != 67\n",
      "(1, 0, 13, 22 -> 52 != 98\n",
      "(1, 0, 13, 23 -> 63 != 98\n",
      "(1, 0, 14, 0 -> 80 != 83\n",
      "(1, 0, 14, 1 -> 86 != 83\n",
      "(1, 0, 14, 2 -> 56 != 3\n",
      "(1, 0, 14, 3 -> 73 != 3\n",
      "(1, 0, 14, 4 -> 96 != 19\n",
      "(1, 0, 14, 5 -> 24 != 19\n",
      "(1, 0, 14, 6 -> 66 != 6\n",
      "(1, 0, 14, 7 -> 68 != 6\n",
      "(1, 0, 14, 8 -> 6 != 68\n",
      "(1, 0, 14, 9 -> 7 != 68\n",
      "(1, 0, 14, 10 -> 72 != 54\n",
      "(1, 0, 14, 11 -> 75 != 54\n",
      "(1, 0, 14, 12 -> 80 != 58\n",
      "(1, 0, 14, 13 -> 86 != 58\n",
      "(1, 0, 14, 14 -> 56 != 55\n",
      "(1, 0, 14, 15 -> 73 != 55\n",
      "(1, 0, 14, 16 -> 96 != 17\n",
      "(1, 0, 14, 17 -> 24 != 17\n",
      "(1, 0, 14, 18 -> 66 != 7\n",
      "(1, 0, 14, 19 -> 68 != 7\n",
      "(1, 0, 14, 20 -> 6 != 54\n",
      "(1, 0, 14, 21 -> 7 != 54\n",
      "(1, 0, 14, 22 -> 72 != 35\n",
      "(1, 0, 14, 23 -> 75 != 35\n",
      "(1, 0, 15, 0 -> 92 != 83\n",
      "(1, 0, 15, 1 -> 16 != 83\n",
      "(1, 0, 15, 2 -> 61 != 3\n",
      "(1, 0, 15, 3 -> 83 != 3\n",
      "(1, 0, 15, 4 -> 90 != 19\n",
      "(1, 0, 15, 5 -> 60 != 19\n",
      "(1, 0, 15, 6 -> 47 != 6\n",
      "(1, 0, 15, 7 -> 20 != 6\n",
      "(1, 0, 15, 8 -> 33 != 68\n",
      "(1, 0, 15, 9 -> 38 != 68\n",
      "(1, 0, 15, 10 -> 44 != 54\n",
      "(1, 0, 15, 11 -> 96 != 54\n",
      "(1, 0, 15, 12 -> 92 != 58\n",
      "(1, 0, 15, 13 -> 16 != 58\n",
      "(1, 0, 15, 14 -> 61 != 55\n",
      "(1, 0, 15, 15 -> 83 != 55\n",
      "(1, 0, 15, 16 -> 90 != 17\n",
      "(1, 0, 15, 17 -> 60 != 17\n",
      "(1, 0, 15, 18 -> 47 != 7\n",
      "(1, 0, 15, 19 -> 20 != 7\n",
      "(1, 0, 15, 20 -> 33 != 54\n",
      "(1, 0, 15, 21 -> 38 != 54\n",
      "(1, 0, 15, 22 -> 44 != 35\n",
      "(1, 0, 15, 23 -> 96 != 35\n",
      "(1, 0, 16, 0 -> 18 != 27\n",
      "(1, 0, 16, 1 -> 16 != 27\n",
      "(1, 0, 16, 2 -> 94 != 32\n",
      "(1, 0, 16, 3 -> 79 != 32\n",
      "(1, 0, 16, 4 -> 21 != 5\n",
      "(1, 0, 16, 5 -> 56 != 5\n",
      "(1, 0, 16, 6 -> 33 != 59\n",
      "(1, 0, 16, 7 -> 91 != 59\n",
      "(1, 0, 16, 8 -> 1 != 24\n",
      "(1, 0, 16, 9 -> 39 != 24\n",
      "(1, 0, 16, 10 -> 14 != 21\n",
      "(1, 0, 16, 11 -> 13 != 21\n",
      "(1, 0, 16, 12 -> 18 != 90\n",
      "(1, 0, 16, 13 -> 16 != 90\n",
      "(1, 0, 16, 14 -> 94 != 99\n",
      "(1, 0, 16, 15 -> 79 != 99\n",
      "(1, 0, 16, 16 -> 21 != 9\n",
      "(1, 0, 16, 17 -> 56 != 9\n",
      "(1, 0, 16, 18 -> 33 != 69\n",
      "(1, 0, 16, 19 -> 91 != 69\n",
      "(1, 0, 16, 20 -> 1 != 87\n",
      "(1, 0, 16, 21 -> 39 != 87\n",
      "(1, 0, 16, 22 -> 14 != 95\n",
      "(1, 0, 16, 23 -> 13 != 95\n",
      "(1, 0, 17, 0 -> 93 != 27\n",
      "(1, 0, 17, 1 -> 56 != 27\n",
      "(1, 0, 17, 2 -> 39 != 32\n",
      "(1, 0, 17, 3 -> 31 != 32\n",
      "(1, 0, 17, 4 -> 28 != 5\n",
      "(1, 0, 17, 5 -> 93 != 5\n",
      "(1, 0, 17, 6 -> 4 != 59\n",
      "(1, 0, 17, 7 -> 29 != 59\n",
      "(1, 0, 17, 8 -> 16 != 24\n",
      "(1, 0, 17, 9 -> 61 != 24\n",
      "(1, 0, 17, 10 -> 37 != 21\n",
      "(1, 0, 17, 11 -> 52 != 21\n",
      "(1, 0, 17, 12 -> 93 != 90\n",
      "(1, 0, 17, 13 -> 56 != 90\n",
      "(1, 0, 17, 14 -> 39 != 99\n",
      "(1, 0, 17, 15 -> 31 != 99\n",
      "(1, 0, 17, 16 -> 28 != 9\n",
      "(1, 0, 17, 17 -> 93 != 9\n",
      "(1, 0, 17, 18 -> 4 != 69\n",
      "(1, 0, 17, 19 -> 29 != 69\n",
      "(1, 0, 17, 20 -> 16 != 87\n",
      "(1, 0, 17, 21 -> 61 != 87\n",
      "(1, 0, 17, 22 -> 37 != 95\n",
      "(1, 0, 17, 23 -> 52 != 95\n",
      "(1, 0, 18, 0 -> 90 != 4\n",
      "(1, 0, 18, 1 -> 1 != 4\n",
      "(1, 0, 18, 2 -> 90 != 4\n",
      "(1, 0, 18, 3 -> 28 != 4\n",
      "(1, 0, 18, 4 -> 76 != 10\n",
      "(1, 0, 18, 5 -> 93 != 10\n",
      "(1, 0, 18, 6 -> 49 != 84\n",
      "(1, 0, 18, 7 -> 27 != 84\n",
      "(1, 0, 18, 8 -> 39 != 5\n",
      "(1, 0, 18, 9 -> 76 != 5\n",
      "(1, 0, 18, 10 -> 67 != 24\n",
      "(1, 0, 18, 11 -> 98 != 24\n",
      "(1, 0, 18, 12 -> 90 != 14\n",
      "(1, 0, 18, 13 -> 1 != 14\n",
      "(1, 0, 18, 14 -> 90 != 41\n",
      "(1, 0, 18, 15 -> 28 != 41\n",
      "(1, 0, 18, 16 -> 76 != 29\n",
      "(1, 0, 18, 17 -> 93 != 29\n",
      "(1, 0, 18, 18 -> 49 != 65\n",
      "(1, 0, 18, 19 -> 27 != 65\n",
      "(1, 0, 18, 20 -> 39 != 88\n",
      "(1, 0, 18, 21 -> 76 != 88\n",
      "(1, 0, 18, 22 -> 67 != 85\n",
      "(1, 0, 18, 23 -> 98 != 85\n",
      "(1, 0, 19, 0 -> 83 != 4\n",
      "(1, 0, 19, 1 -> 3 != 4\n",
      "(1, 0, 19, 2 -> 19 != 4\n",
      "(1, 0, 19, 3 -> 6 != 4\n",
      "(1, 0, 19, 4 -> 68 != 10\n",
      "(1, 0, 19, 5 -> 54 != 10\n",
      "(1, 0, 19, 6 -> 58 != 84\n",
      "(1, 0, 19, 7 -> 55 != 84\n",
      "(1, 0, 19, 8 -> 17 != 5\n",
      "(1, 0, 19, 9 -> 7 != 5\n",
      "(1, 0, 19, 10 -> 54 != 24\n",
      "(1, 0, 19, 11 -> 35 != 24\n",
      "(1, 0, 19, 12 -> 83 != 14\n",
      "(1, 0, 19, 13 -> 3 != 14\n",
      "(1, 0, 19, 14 -> 19 != 41\n",
      "(1, 0, 19, 15 -> 6 != 41\n",
      "(1, 0, 19, 16 -> 68 != 29\n",
      "(1, 0, 19, 17 -> 54 != 29\n",
      "(1, 0, 19, 18 -> 58 != 65\n",
      "(1, 0, 19, 19 -> 55 != 65\n",
      "(1, 0, 19, 20 -> 17 != 88\n",
      "(1, 0, 19, 21 -> 7 != 88\n",
      "(1, 0, 19, 22 -> 54 != 85\n",
      "(1, 0, 19, 23 -> 35 != 85\n",
      "(1, 0, 20, 0 -> 27 != 38\n",
      "(1, 0, 20, 1 -> 32 != 38\n",
      "(1, 0, 20, 2 -> 5 != 70\n",
      "(1, 0, 20, 3 -> 59 != 70\n",
      "(1, 0, 20, 4 -> 24 != 47\n",
      "(1, 0, 20, 5 -> 21 != 47\n",
      "(1, 0, 20, 6 -> 90 != 91\n",
      "(1, 0, 20, 7 -> 99 != 91\n",
      "(1, 0, 20, 8 -> 9 != 5\n",
      "(1, 0, 20, 9 -> 69 != 5\n",
      "(1, 0, 20, 10 -> 87 != 6\n",
      "(1, 0, 20, 11 -> 95 != 6\n",
      "(1, 0, 20, 12 -> 27 != 44\n",
      "(1, 0, 20, 13 -> 32 != 44\n",
      "(1, 0, 20, 14 -> 5 != 88\n",
      "(1, 0, 20, 15 -> 59 != 88\n",
      "(1, 0, 20, 16 -> 24 != 47\n",
      "(1, 0, 20, 17 -> 21 != 47\n",
      "(1, 0, 20, 18 -> 90 != 99\n",
      "(1, 0, 20, 20 -> 9 != 4\n",
      "(1, 0, 20, 21 -> 69 != 4\n",
      "(1, 0, 20, 22 -> 87 != 6\n",
      "(1, 0, 20, 23 -> 95 != 6\n",
      "(1, 0, 21, 0 -> 4 != 38\n",
      "(1, 0, 21, 1 -> 4 != 38\n",
      "(1, 0, 21, 2 -> 10 != 70\n",
      "(1, 0, 21, 3 -> 84 != 70\n",
      "(1, 0, 21, 4 -> 5 != 47\n",
      "(1, 0, 21, 5 -> 24 != 47\n",
      "(1, 0, 21, 6 -> 14 != 91\n",
      "(1, 0, 21, 7 -> 41 != 91\n",
      "(1, 0, 21, 8 -> 29 != 5\n",
      "(1, 0, 21, 9 -> 65 != 5\n",
      "(1, 0, 21, 10 -> 88 != 6\n",
      "(1, 0, 21, 11 -> 85 != 6\n",
      "(1, 0, 21, 12 -> 4 != 44\n",
      "(1, 0, 21, 13 -> 4 != 44\n",
      "(1, 0, 21, 14 -> 10 != 88\n",
      "(1, 0, 21, 15 -> 84 != 88\n",
      "(1, 0, 21, 16 -> 5 != 47\n",
      "(1, 0, 21, 17 -> 24 != 47\n",
      "(1, 0, 21, 18 -> 14 != 99\n",
      "(1, 0, 21, 19 -> 41 != 99\n",
      "(1, 0, 21, 20 -> 29 != 4\n",
      "(1, 0, 21, 21 -> 65 != 4\n",
      "(1, 0, 21, 22 -> 88 != 6\n",
      "(1, 0, 21, 23 -> 85 != 6\n",
      "(1, 0, 22, 0 -> 38 != 64\n",
      "(1, 0, 22, 1 -> 70 != 64\n",
      "(1, 0, 22, 2 -> 47 != 70\n",
      "(1, 0, 22, 3 -> 91 != 70\n",
      "(1, 0, 22, 4 -> 5 != 1\n",
      "(1, 0, 22, 5 -> 6 != 1\n",
      "(1, 0, 22, 6 -> 44 != 52\n",
      "(1, 0, 22, 7 -> 88 != 52\n",
      "(1, 0, 22, 8 -> 47 != 33\n",
      "(1, 0, 22, 9 -> 99 != 33\n",
      "(1, 0, 22, 10 -> 4 != 89\n",
      "(1, 0, 22, 11 -> 6 != 89\n",
      "(1, 0, 22, 12 -> 38 != 79\n",
      "(1, 0, 22, 13 -> 70 != 79\n",
      "(1, 0, 22, 14 -> 47 != 36\n",
      "(1, 0, 22, 15 -> 91 != 36\n",
      "(1, 0, 22, 16 -> 5 != 11\n",
      "(1, 0, 22, 17 -> 6 != 11\n",
      "(1, 0, 22, 18 -> 44 != 50\n",
      "(1, 0, 22, 19 -> 88 != 50\n",
      "(1, 0, 22, 20 -> 47 != 72\n",
      "(1, 0, 22, 21 -> 99 != 72\n",
      "(1, 0, 22, 22 -> 4 != 45\n",
      "(1, 0, 22, 23 -> 6 != 45\n",
      "(1, 0, 23, 1 -> 70 != 64\n",
      "(1, 0, 23, 2 -> 1 != 70\n",
      "(1, 0, 23, 3 -> 52 != 70\n",
      "(1, 0, 23, 4 -> 33 != 1\n",
      "(1, 0, 23, 5 -> 89 != 1\n",
      "(1, 0, 23, 6 -> 79 != 52\n",
      "(1, 0, 23, 7 -> 36 != 52\n",
      "(1, 0, 23, 8 -> 11 != 33\n",
      "(1, 0, 23, 9 -> 50 != 33\n",
      "(1, 0, 23, 10 -> 72 != 89\n",
      "(1, 0, 23, 11 -> 45 != 89\n",
      "(1, 0, 23, 12 -> 64 != 79\n",
      "(1, 0, 23, 13 -> 70 != 79\n",
      "(1, 0, 23, 14 -> 1 != 36\n",
      "(1, 0, 23, 15 -> 52 != 36\n",
      "(1, 0, 23, 16 -> 33 != 11\n",
      "(1, 0, 23, 17 -> 89 != 11\n",
      "(1, 0, 23, 18 -> 79 != 50\n",
      "(1, 0, 23, 19 -> 36 != 50\n",
      "(1, 0, 23, 20 -> 11 != 72\n",
      "(1, 0, 23, 21 -> 50 != 72\n",
      "(1, 0, 23, 22 -> 72 != 45\n",
      "(1, 1, 0, 1 -> 4 != 5\n",
      "(1, 1, 0, 2 -> 81 != 4\n",
      "(1, 1, 0, 3 -> 12 != 4\n",
      "(1, 1, 0, 4 -> 36 != 81\n",
      "(1, 1, 0, 5 -> 32 != 81\n",
      "(1, 1, 0, 6 -> 21 != 12\n",
      "(1, 1, 0, 7 -> 92 != 12\n",
      "(1, 1, 0, 8 -> 41 != 36\n",
      "(1, 1, 0, 9 -> 16 != 36\n",
      "(1, 1, 0, 10 -> 16 != 32\n",
      "(1, 1, 0, 11 -> 31 != 32\n",
      "(1, 1, 0, 12 -> 5 != 21\n",
      "(1, 1, 0, 13 -> 4 != 21\n",
      "(1, 1, 0, 14 -> 81 != 92\n",
      "(1, 1, 0, 15 -> 12 != 92\n",
      "(1, 1, 0, 16 -> 36 != 41\n",
      "(1, 1, 0, 17 -> 32 != 41\n",
      "(1, 1, 0, 18 -> 21 != 16\n",
      "(1, 1, 0, 19 -> 92 != 16\n",
      "(1, 1, 0, 20 -> 41 != 16\n",
      "(1, 1, 0, 22 -> 16 != 31\n",
      "(1, 1, 1, 0 -> 57 != 5\n",
      "(1, 1, 1, 1 -> 17 != 5\n",
      "(1, 1, 1, 2 -> 59 != 4\n",
      "(1, 1, 1, 3 -> 99 != 4\n",
      "(1, 1, 1, 4 -> 41 != 81\n",
      "(1, 1, 1, 5 -> 37 != 81\n",
      "(1, 1, 1, 6 -> 56 != 12\n",
      "(1, 1, 1, 7 -> 48 != 12\n",
      "(1, 1, 1, 8 -> 7 != 36\n",
      "(1, 1, 1, 9 -> 25 != 36\n",
      "(1, 1, 1, 10 -> 77 != 32\n",
      "(1, 1, 1, 11 -> 98 != 32\n",
      "(1, 1, 1, 12 -> 57 != 21\n",
      "(1, 1, 1, 13 -> 17 != 21\n",
      "(1, 1, 1, 14 -> 59 != 92\n",
      "(1, 1, 1, 15 -> 99 != 92\n",
      "(1, 1, 1, 17 -> 37 != 41\n",
      "(1, 1, 1, 18 -> 56 != 16\n",
      "(1, 1, 1, 19 -> 48 != 16\n",
      "(1, 1, 1, 20 -> 7 != 16\n",
      "(1, 1, 1, 21 -> 25 != 16\n",
      "(1, 1, 1, 22 -> 77 != 31\n",
      "(1, 1, 1, 23 -> 98 != 31\n",
      "(1, 1, 2, 0 -> 63 != 57\n",
      "(1, 1, 2, 1 -> 98 != 57\n",
      "(1, 1, 2, 2 -> 18 != 17\n",
      "(1, 1, 2, 3 -> 88 != 17\n",
      "(1, 1, 2, 4 -> 94 != 59\n",
      "(1, 1, 2, 5 -> 34 != 59\n",
      "(1, 1, 2, 6 -> 63 != 99\n",
      "(1, 1, 2, 7 -> 31 != 99\n",
      "(1, 1, 2, 8 -> 31 != 41\n",
      "(1, 1, 2, 9 -> 30 != 41\n",
      "(1, 1, 2, 10 -> 86 != 37\n",
      "(1, 1, 2, 11 -> 24 != 37\n",
      "(1, 1, 2, 12 -> 63 != 56\n",
      "(1, 1, 2, 13 -> 98 != 56\n",
      "(1, 1, 2, 14 -> 18 != 48\n",
      "(1, 1, 2, 15 -> 88 != 48\n",
      "(1, 1, 2, 16 -> 94 != 7\n",
      "(1, 1, 2, 17 -> 34 != 7\n",
      "(1, 1, 2, 18 -> 63 != 25\n",
      "(1, 1, 2, 19 -> 31 != 25\n",
      "(1, 1, 2, 20 -> 31 != 77\n",
      "(1, 1, 2, 21 -> 30 != 77\n",
      "(1, 1, 2, 22 -> 86 != 98\n",
      "(1, 1, 2, 23 -> 24 != 98\n",
      "(1, 1, 3, 0 -> 90 != 57\n",
      "(1, 1, 3, 1 -> 21 != 57\n",
      "(1, 1, 3, 2 -> 29 != 17\n",
      "(1, 1, 3, 3 -> 9 != 17\n",
      "(1, 1, 3, 4 -> 88 != 59\n",
      "(1, 1, 3, 6 -> 46 != 99\n",
      "(1, 1, 3, 7 -> 71 != 99\n",
      "(1, 1, 3, 8 -> 11 != 41\n",
      "(1, 1, 3, 10 -> 22 != 37\n",
      "(1, 1, 3, 11 -> 28 != 37\n",
      "(1, 1, 3, 12 -> 90 != 56\n",
      "(1, 1, 3, 13 -> 21 != 56\n",
      "(1, 1, 3, 14 -> 29 != 48\n",
      "(1, 1, 3, 15 -> 9 != 48\n",
      "(1, 1, 3, 16 -> 88 != 7\n",
      "(1, 1, 3, 17 -> 59 != 7\n",
      "(1, 1, 3, 18 -> 46 != 25\n",
      "(1, 1, 3, 19 -> 71 != 25\n",
      "(1, 1, 3, 20 -> 11 != 77\n",
      "(1, 1, 3, 21 -> 41 != 77\n",
      "(1, 1, 3, 22 -> 22 != 98\n",
      "(1, 1, 3, 23 -> 28 != 98\n",
      "(1, 1, 4, 0 -> 73 != 63\n",
      "(1, 1, 4, 1 -> 82 != 63\n",
      "(1, 1, 4, 2 -> 85 != 98\n",
      "(1, 1, 4, 3 -> 90 != 98\n",
      "(1, 1, 4, 4 -> 44 != 18\n",
      "(1, 1, 4, 5 -> 32 != 18\n",
      "(1, 1, 4, 6 -> 19 != 88\n",
      "(1, 1, 4, 7 -> 73 != 88\n",
      "(1, 1, 4, 8 -> 99 != 94\n",
      "(1, 1, 4, 9 -> 38 != 94\n",
      "(1, 1, 4, 10 -> 76 != 34\n",
      "(1, 1, 4, 11 -> 29 != 34\n",
      "(1, 1, 4, 12 -> 73 != 63\n",
      "(1, 1, 4, 13 -> 82 != 63\n",
      "(1, 1, 4, 14 -> 85 != 31\n",
      "(1, 1, 4, 15 -> 90 != 31\n",
      "(1, 1, 4, 16 -> 44 != 31\n",
      "(1, 1, 4, 17 -> 32 != 31\n",
      "(1, 1, 4, 18 -> 19 != 30\n",
      "(1, 1, 4, 19 -> 73 != 30\n",
      "(1, 1, 4, 20 -> 99 != 86\n",
      "(1, 1, 4, 21 -> 38 != 86\n",
      "(1, 1, 4, 22 -> 76 != 24\n",
      "(1, 1, 4, 23 -> 29 != 24\n",
      "(1, 1, 5, 0 -> 11 != 63\n",
      "(1, 1, 5, 1 -> 42 != 63\n",
      "(1, 1, 5, 2 -> 36 != 98\n",
      "(1, 1, 5, 3 -> 49 != 98\n",
      "(1, 1, 5, 4 -> 32 != 18\n",
      "(1, 1, 5, 5 -> 96 != 18\n",
      "(1, 1, 5, 6 -> 65 != 88\n",
      "(1, 1, 5, 7 -> 8 != 88\n",
      "(1, 1, 5, 8 -> 73 != 94\n",
      "(1, 1, 5, 9 -> 54 != 94\n",
      "(1, 1, 5, 10 -> 79 != 34\n",
      "(1, 1, 5, 11 -> 50 != 34\n",
      "(1, 1, 5, 12 -> 11 != 63\n",
      "(1, 1, 5, 13 -> 42 != 63\n",
      "(1, 1, 5, 14 -> 36 != 31\n",
      "(1, 1, 5, 15 -> 49 != 31\n",
      "(1, 1, 5, 16 -> 32 != 31\n",
      "(1, 1, 5, 17 -> 96 != 31\n",
      "(1, 1, 5, 18 -> 65 != 30\n",
      "(1, 1, 5, 19 -> 8 != 30\n",
      "(1, 1, 5, 20 -> 73 != 86\n",
      "(1, 1, 5, 21 -> 54 != 86\n",
      "(1, 1, 5, 22 -> 79 != 24\n",
      "(1, 1, 5, 23 -> 50 != 24\n",
      "(1, 1, 6, 0 -> 76 != 90\n",
      "(1, 1, 6, 1 -> 70 != 90\n",
      "(1, 1, 6, 2 -> 90 != 21\n",
      "(1, 1, 6, 3 -> 74 != 21\n",
      "(1, 1, 6, 4 -> 15 != 29\n",
      "(1, 1, 6, 5 -> 84 != 29\n",
      "(1, 1, 6, 6 -> 88 != 9\n",
      "(1, 1, 6, 7 -> 73 != 9\n",
      "(1, 1, 6, 8 -> 55 != 88\n",
      "(1, 1, 6, 9 -> 22 != 88\n",
      "(1, 1, 6, 10 -> 71 != 59\n",
      "(1, 1, 6, 11 -> 72 != 59\n",
      "(1, 1, 6, 12 -> 76 != 46\n",
      "(1, 1, 6, 13 -> 70 != 46\n",
      "(1, 1, 6, 14 -> 90 != 71\n",
      "(1, 1, 6, 15 -> 74 != 71\n",
      "(1, 1, 6, 16 -> 15 != 11\n",
      "(1, 1, 6, 17 -> 84 != 11\n",
      "(1, 1, 6, 18 -> 88 != 41\n",
      "(1, 1, 6, 19 -> 73 != 41\n",
      "(1, 1, 6, 20 -> 55 != 22\n",
      "(1, 1, 6, 22 -> 71 != 28\n",
      "(1, 1, 6, 23 -> 72 != 28\n",
      "(1, 1, 7, 0 -> 58 != 90\n",
      "(1, 1, 7, 1 -> 17 != 90\n",
      "(1, 1, 7, 2 -> 73 != 21\n",
      "(1, 1, 7, 3 -> 66 != 21\n",
      "(1, 1, 7, 4 -> 80 != 29\n",
      "(1, 1, 7, 5 -> 14 != 29\n",
      "(1, 1, 7, 6 -> 48 != 9\n",
      "(1, 1, 7, 7 -> 53 != 9\n",
      "(1, 1, 7, 8 -> 20 != 88\n",
      "(1, 1, 7, 9 -> 31 != 88\n",
      "(1, 1, 7, 10 -> 67 != 59\n",
      "(1, 1, 7, 11 -> 61 != 59\n",
      "(1, 1, 7, 12 -> 58 != 46\n",
      "(1, 1, 7, 13 -> 17 != 46\n",
      "(1, 1, 7, 14 -> 73 != 71\n",
      "(1, 1, 7, 15 -> 66 != 71\n",
      "(1, 1, 7, 16 -> 80 != 11\n",
      "(1, 1, 7, 17 -> 14 != 11\n",
      "(1, 1, 7, 18 -> 48 != 41\n",
      "(1, 1, 7, 19 -> 53 != 41\n",
      "(1, 1, 7, 20 -> 20 != 22\n",
      "(1, 1, 7, 21 -> 31 != 22\n",
      "(1, 1, 7, 22 -> 67 != 28\n",
      "(1, 1, 7, 23 -> 61 != 28\n",
      "(1, 1, 8, 0 -> 17 != 73\n",
      "(1, 1, 8, 1 -> 82 != 73\n",
      "(1, 1, 8, 2 -> 6 != 82\n",
      "(1, 1, 8, 3 -> 9 != 82\n",
      "(1, 1, 8, 4 -> 41 != 85\n",
      "(1, 1, 8, 5 -> 60 != 85\n",
      "(1, 1, 8, 6 -> 25 != 90\n",
      "(1, 1, 8, 7 -> 58 != 90\n",
      "(1, 1, 8, 8 -> 56 != 44\n",
      "(1, 1, 8, 9 -> 17 != 44\n",
      "(1, 1, 8, 10 -> 14 != 32\n",
      "(1, 1, 8, 11 -> 98 != 32\n",
      "(1, 1, 8, 12 -> 17 != 19\n",
      "(1, 1, 8, 13 -> 82 != 19\n",
      "(1, 1, 8, 14 -> 6 != 73\n",
      "(1, 1, 8, 15 -> 9 != 73\n",
      "(1, 1, 8, 16 -> 41 != 99\n",
      "(1, 1, 8, 17 -> 60 != 99\n",
      "(1, 1, 8, 18 -> 25 != 38\n",
      "(1, 1, 8, 19 -> 58 != 38\n",
      "(1, 1, 8, 20 -> 56 != 76\n",
      "(1, 1, 8, 21 -> 17 != 76\n",
      "(1, 1, 8, 22 -> 14 != 29\n",
      "(1, 1, 8, 23 -> 98 != 29\n",
      "(1, 1, 9, 0 -> 87 != 73\n",
      "(1, 1, 9, 1 -> 65 != 73\n",
      "(1, 1, 9, 2 -> 87 != 82\n",
      "(1, 1, 9, 3 -> 39 != 82\n",
      "(1, 1, 9, 4 -> 8 != 85\n",
      "(1, 1, 9, 5 -> 89 != 85\n",
      "(1, 1, 9, 6 -> 79 != 90\n",
      "(1, 1, 9, 7 -> 13 != 90\n",
      "(1, 1, 9, 8 -> 12 != 44\n",
      "(1, 1, 9, 9 -> 65 != 44\n",
      "(1, 1, 9, 10 -> 73 != 32\n",
      "(1, 1, 9, 11 -> 13 != 32\n",
      "(1, 1, 9, 12 -> 87 != 19\n",
      "(1, 1, 9, 13 -> 65 != 19\n",
      "(1, 1, 9, 14 -> 87 != 73\n",
      "(1, 1, 9, 15 -> 39 != 73\n",
      "(1, 1, 9, 16 -> 8 != 99\n",
      "(1, 1, 9, 17 -> 89 != 99\n",
      "(1, 1, 9, 18 -> 79 != 38\n",
      "(1, 1, 9, 19 -> 13 != 38\n",
      "(1, 1, 9, 20 -> 12 != 76\n",
      "(1, 1, 9, 21 -> 65 != 76\n",
      "(1, 1, 9, 22 -> 73 != 29\n",
      "(1, 1, 9, 23 -> 13 != 29\n",
      "(1, 1, 10, 0 -> 36 != 11\n",
      "(1, 1, 10, 1 -> 55 != 11\n",
      "(1, 1, 10, 2 -> 33 != 42\n",
      "(1, 1, 10, 3 -> 21 != 42\n",
      "(1, 1, 10, 4 -> 80 != 36\n",
      "(1, 1, 10, 5 -> 30 != 36\n",
      "(1, 1, 10, 6 -> 1 != 49\n",
      "(1, 1, 10, 7 -> 13 != 49\n",
      "(1, 1, 10, 8 -> 76 != 32\n",
      "(1, 1, 10, 10 -> 29 != 96\n",
      "(1, 1, 10, 11 -> 63 != 96\n",
      "(1, 1, 10, 12 -> 36 != 65\n",
      "(1, 1, 10, 13 -> 55 != 65\n",
      "(1, 1, 10, 14 -> 33 != 8\n",
      "(1, 1, 10, 15 -> 21 != 8\n",
      "(1, 1, 10, 16 -> 80 != 73\n",
      "(1, 1, 10, 17 -> 30 != 73\n",
      "(1, 1, 10, 18 -> 1 != 54\n",
      "(1, 1, 10, 19 -> 13 != 54\n",
      "(1, 1, 10, 20 -> 76 != 79\n",
      "(1, 1, 10, 21 -> 32 != 79\n",
      "(1, 1, 10, 22 -> 29 != 50\n",
      "(1, 1, 10, 23 -> 63 != 50\n",
      "(1, 1, 11, 0 -> 27 != 11\n",
      "(1, 1, 11, 1 -> 98 != 11\n",
      "(1, 1, 11, 2 -> 23 != 42\n",
      "(1, 1, 11, 3 -> 33 != 42\n",
      "(1, 1, 11, 4 -> 51 != 36\n",
      "(1, 1, 11, 5 -> 29 != 36\n",
      "(1, 1, 11, 6 -> 32 != 49\n",
      "(1, 1, 11, 7 -> 50 != 49\n",
      "(1, 1, 11, 8 -> 47 != 32\n",
      "(1, 1, 11, 9 -> 76 != 32\n",
      "(1, 1, 11, 10 -> 13 != 96\n",
      "(1, 1, 11, 11 -> 92 != 96\n",
      "(1, 1, 11, 12 -> 27 != 65\n",
      "(1, 1, 11, 13 -> 98 != 65\n",
      "(1, 1, 11, 14 -> 23 != 8\n",
      "(1, 1, 11, 15 -> 33 != 8\n",
      "(1, 1, 11, 16 -> 51 != 73\n",
      "(1, 1, 11, 17 -> 29 != 73\n",
      "(1, 1, 11, 18 -> 32 != 54\n",
      "(1, 1, 11, 19 -> 50 != 54\n",
      "(1, 1, 11, 20 -> 47 != 79\n",
      "(1, 1, 11, 21 -> 76 != 79\n",
      "(1, 1, 11, 22 -> 13 != 50\n",
      "(1, 1, 11, 23 -> 92 != 50\n",
      "(1, 1, 12, 0 -> 5 != 76\n",
      "(1, 1, 12, 1 -> 4 != 76\n",
      "(1, 1, 12, 2 -> 81 != 70\n",
      "(1, 1, 12, 3 -> 12 != 70\n",
      "(1, 1, 12, 4 -> 36 != 90\n",
      "(1, 1, 12, 5 -> 32 != 90\n",
      "(1, 1, 12, 6 -> 21 != 74\n",
      "(1, 1, 12, 7 -> 92 != 74\n",
      "(1, 1, 12, 8 -> 41 != 15\n",
      "(1, 1, 12, 9 -> 16 != 15\n",
      "(1, 1, 12, 10 -> 16 != 84\n",
      "(1, 1, 12, 11 -> 31 != 84\n",
      "(1, 1, 12, 12 -> 5 != 88\n",
      "(1, 1, 12, 13 -> 4 != 88\n",
      "(1, 1, 12, 14 -> 81 != 73\n",
      "(1, 1, 12, 15 -> 12 != 73\n",
      "(1, 1, 12, 16 -> 36 != 55\n",
      "(1, 1, 12, 17 -> 32 != 55\n",
      "(1, 1, 12, 18 -> 21 != 22\n",
      "(1, 1, 12, 19 -> 92 != 22\n",
      "(1, 1, 12, 20 -> 41 != 71\n",
      "(1, 1, 12, 21 -> 16 != 71\n",
      "(1, 1, 12, 22 -> 16 != 72\n",
      "(1, 1, 12, 23 -> 31 != 72\n",
      "(1, 1, 13, 0 -> 57 != 76\n",
      "(1, 1, 13, 1 -> 17 != 76\n",
      "(1, 1, 13, 2 -> 59 != 70\n",
      "(1, 1, 13, 3 -> 99 != 70\n",
      "(1, 1, 13, 4 -> 41 != 90\n",
      "(1, 1, 13, 5 -> 37 != 90\n",
      "(1, 1, 13, 6 -> 56 != 74\n",
      "(1, 1, 13, 7 -> 48 != 74\n",
      "(1, 1, 13, 8 -> 7 != 15\n",
      "(1, 1, 13, 9 -> 25 != 15\n",
      "(1, 1, 13, 10 -> 77 != 84\n",
      "(1, 1, 13, 11 -> 98 != 84\n",
      "(1, 1, 13, 12 -> 57 != 88\n",
      "(1, 1, 13, 13 -> 17 != 88\n",
      "(1, 1, 13, 14 -> 59 != 73\n",
      "(1, 1, 13, 15 -> 99 != 73\n",
      "(1, 1, 13, 16 -> 41 != 55\n",
      "(1, 1, 13, 17 -> 37 != 55\n",
      "(1, 1, 13, 18 -> 56 != 22\n",
      "(1, 1, 13, 19 -> 48 != 22\n",
      "(1, 1, 13, 20 -> 7 != 71\n",
      "(1, 1, 13, 21 -> 25 != 71\n",
      "(1, 1, 13, 22 -> 77 != 72\n",
      "(1, 1, 13, 23 -> 98 != 72\n",
      "(1, 1, 14, 0 -> 63 != 58\n",
      "(1, 1, 14, 1 -> 98 != 58\n",
      "(1, 1, 14, 2 -> 18 != 17\n",
      "(1, 1, 14, 3 -> 88 != 17\n",
      "(1, 1, 14, 4 -> 94 != 73\n",
      "(1, 1, 14, 5 -> 34 != 73\n",
      "(1, 1, 14, 6 -> 63 != 66\n",
      "(1, 1, 14, 7 -> 31 != 66\n",
      "(1, 1, 14, 8 -> 31 != 80\n",
      "(1, 1, 14, 9 -> 30 != 80\n",
      "(1, 1, 14, 10 -> 86 != 14\n",
      "(1, 1, 14, 11 -> 24 != 14\n",
      "(1, 1, 14, 12 -> 63 != 48\n",
      "(1, 1, 14, 13 -> 98 != 48\n",
      "(1, 1, 14, 14 -> 18 != 53\n",
      "(1, 1, 14, 15 -> 88 != 53\n",
      "(1, 1, 14, 16 -> 94 != 20\n",
      "(1, 1, 14, 17 -> 34 != 20\n",
      "(1, 1, 14, 18 -> 63 != 31\n",
      "(1, 1, 14, 20 -> 31 != 67\n",
      "(1, 1, 14, 21 -> 30 != 67\n",
      "(1, 1, 14, 22 -> 86 != 61\n",
      "(1, 1, 14, 23 -> 24 != 61\n",
      "(1, 1, 15, 0 -> 90 != 58\n",
      "(1, 1, 15, 1 -> 21 != 58\n",
      "(1, 1, 15, 2 -> 29 != 17\n",
      "(1, 1, 15, 3 -> 9 != 17\n",
      "(1, 1, 15, 4 -> 88 != 73\n",
      "(1, 1, 15, 5 -> 59 != 73\n",
      "(1, 1, 15, 6 -> 46 != 66\n",
      "(1, 1, 15, 7 -> 71 != 66\n",
      "(1, 1, 15, 8 -> 11 != 80\n",
      "(1, 1, 15, 9 -> 41 != 80\n",
      "(1, 1, 15, 10 -> 22 != 14\n",
      "(1, 1, 15, 11 -> 28 != 14\n",
      "(1, 1, 15, 12 -> 90 != 48\n",
      "(1, 1, 15, 13 -> 21 != 48\n",
      "(1, 1, 15, 14 -> 29 != 53\n",
      "(1, 1, 15, 15 -> 9 != 53\n",
      "(1, 1, 15, 16 -> 88 != 20\n",
      "(1, 1, 15, 17 -> 59 != 20\n",
      "(1, 1, 15, 18 -> 46 != 31\n",
      "(1, 1, 15, 19 -> 71 != 31\n",
      "(1, 1, 15, 20 -> 11 != 67\n",
      "(1, 1, 15, 21 -> 41 != 67\n",
      "(1, 1, 15, 22 -> 22 != 61\n",
      "(1, 1, 15, 23 -> 28 != 61\n",
      "(1, 1, 16, 0 -> 73 != 17\n",
      "(1, 1, 16, 1 -> 82 != 17\n",
      "(1, 1, 16, 2 -> 85 != 82\n",
      "(1, 1, 16, 3 -> 90 != 82\n",
      "(1, 1, 16, 4 -> 44 != 6\n",
      "(1, 1, 16, 5 -> 32 != 6\n",
      "(1, 1, 16, 6 -> 19 != 9\n",
      "(1, 1, 16, 7 -> 73 != 9\n",
      "(1, 1, 16, 8 -> 99 != 41\n",
      "(1, 1, 16, 9 -> 38 != 41\n",
      "(1, 1, 16, 10 -> 76 != 60\n",
      "(1, 1, 16, 11 -> 29 != 60\n",
      "(1, 1, 16, 12 -> 73 != 25\n",
      "(1, 1, 16, 13 -> 82 != 25\n",
      "(1, 1, 16, 14 -> 85 != 58\n",
      "(1, 1, 16, 15 -> 90 != 58\n",
      "(1, 1, 16, 16 -> 44 != 56\n",
      "(1, 1, 16, 17 -> 32 != 56\n",
      "(1, 1, 16, 18 -> 19 != 17\n",
      "(1, 1, 16, 19 -> 73 != 17\n",
      "(1, 1, 16, 20 -> 99 != 14\n",
      "(1, 1, 16, 21 -> 38 != 14\n",
      "(1, 1, 16, 22 -> 76 != 98\n",
      "(1, 1, 16, 23 -> 29 != 98\n",
      "(1, 1, 17, 0 -> 11 != 17\n",
      "(1, 1, 17, 1 -> 42 != 17\n",
      "(1, 1, 17, 2 -> 36 != 82\n",
      "(1, 1, 17, 3 -> 49 != 82\n",
      "(1, 1, 17, 4 -> 32 != 6\n",
      "(1, 1, 17, 5 -> 96 != 6\n",
      "(1, 1, 17, 6 -> 65 != 9\n",
      "(1, 1, 17, 7 -> 8 != 9\n",
      "(1, 1, 17, 8 -> 73 != 41\n",
      "(1, 1, 17, 9 -> 54 != 41\n",
      "(1, 1, 17, 10 -> 79 != 60\n",
      "(1, 1, 17, 11 -> 50 != 60\n",
      "(1, 1, 17, 12 -> 11 != 25\n",
      "(1, 1, 17, 13 -> 42 != 25\n",
      "(1, 1, 17, 14 -> 36 != 58\n",
      "(1, 1, 17, 15 -> 49 != 58\n",
      "(1, 1, 17, 16 -> 32 != 56\n",
      "(1, 1, 17, 17 -> 96 != 56\n",
      "(1, 1, 17, 18 -> 65 != 17\n",
      "(1, 1, 17, 19 -> 8 != 17\n",
      "(1, 1, 17, 20 -> 73 != 14\n",
      "(1, 1, 17, 21 -> 54 != 14\n",
      "(1, 1, 17, 22 -> 79 != 98\n",
      "(1, 1, 17, 23 -> 50 != 98\n",
      "(1, 1, 18, 0 -> 76 != 87\n",
      "(1, 1, 18, 1 -> 70 != 87\n",
      "(1, 1, 18, 2 -> 90 != 65\n",
      "(1, 1, 18, 3 -> 74 != 65\n",
      "(1, 1, 18, 4 -> 15 != 87\n",
      "(1, 1, 18, 5 -> 84 != 87\n",
      "(1, 1, 18, 6 -> 88 != 39\n",
      "(1, 1, 18, 7 -> 73 != 39\n",
      "(1, 1, 18, 8 -> 55 != 8\n",
      "(1, 1, 18, 9 -> 22 != 8\n",
      "(1, 1, 18, 10 -> 71 != 89\n",
      "(1, 1, 18, 11 -> 72 != 89\n",
      "(1, 1, 18, 12 -> 76 != 79\n",
      "(1, 1, 18, 13 -> 70 != 79\n",
      "(1, 1, 18, 14 -> 90 != 13\n",
      "(1, 1, 18, 15 -> 74 != 13\n",
      "(1, 1, 18, 16 -> 15 != 12\n",
      "(1, 1, 18, 17 -> 84 != 12\n",
      "(1, 1, 18, 18 -> 88 != 65\n",
      "(1, 1, 18, 19 -> 73 != 65\n",
      "(1, 1, 18, 20 -> 55 != 73\n",
      "(1, 1, 18, 21 -> 22 != 73\n",
      "(1, 1, 18, 22 -> 71 != 13\n",
      "(1, 1, 18, 23 -> 72 != 13\n",
      "(1, 1, 19, 0 -> 58 != 87\n",
      "(1, 1, 19, 1 -> 17 != 87\n",
      "(1, 1, 19, 2 -> 73 != 65\n",
      "(1, 1, 19, 3 -> 66 != 65\n",
      "(1, 1, 19, 4 -> 80 != 87\n",
      "(1, 1, 19, 5 -> 14 != 87\n",
      "(1, 1, 19, 6 -> 48 != 39\n",
      "(1, 1, 19, 7 -> 53 != 39\n",
      "(1, 1, 19, 8 -> 20 != 8\n",
      "(1, 1, 19, 9 -> 31 != 8\n",
      "(1, 1, 19, 10 -> 67 != 89\n",
      "(1, 1, 19, 11 -> 61 != 89\n",
      "(1, 1, 19, 12 -> 58 != 79\n",
      "(1, 1, 19, 13 -> 17 != 79\n",
      "(1, 1, 19, 14 -> 73 != 13\n",
      "(1, 1, 19, 15 -> 66 != 13\n",
      "(1, 1, 19, 16 -> 80 != 12\n",
      "(1, 1, 19, 17 -> 14 != 12\n",
      "(1, 1, 19, 18 -> 48 != 65\n",
      "(1, 1, 19, 19 -> 53 != 65\n",
      "(1, 1, 19, 20 -> 20 != 73\n",
      "(1, 1, 19, 21 -> 31 != 73\n",
      "(1, 1, 19, 22 -> 67 != 13\n",
      "(1, 1, 19, 23 -> 61 != 13\n",
      "(1, 1, 20, 0 -> 17 != 36\n",
      "(1, 1, 20, 1 -> 82 != 36\n",
      "(1, 1, 20, 2 -> 6 != 55\n",
      "(1, 1, 20, 3 -> 9 != 55\n",
      "(1, 1, 20, 4 -> 41 != 33\n",
      "(1, 1, 20, 5 -> 60 != 33\n",
      "(1, 1, 20, 6 -> 25 != 21\n",
      "(1, 1, 20, 7 -> 58 != 21\n",
      "(1, 1, 20, 8 -> 56 != 80\n",
      "(1, 1, 20, 9 -> 17 != 80\n",
      "(1, 1, 20, 10 -> 14 != 30\n",
      "(1, 1, 20, 11 -> 98 != 30\n",
      "(1, 1, 20, 12 -> 17 != 1\n",
      "(1, 1, 20, 13 -> 82 != 1\n",
      "(1, 1, 20, 14 -> 6 != 13\n",
      "(1, 1, 20, 15 -> 9 != 13\n",
      "(1, 1, 20, 16 -> 41 != 76\n",
      "(1, 1, 20, 17 -> 60 != 76\n",
      "(1, 1, 20, 18 -> 25 != 32\n",
      "(1, 1, 20, 19 -> 58 != 32\n",
      "(1, 1, 20, 20 -> 56 != 29\n",
      "(1, 1, 20, 21 -> 17 != 29\n",
      "(1, 1, 20, 22 -> 14 != 63\n",
      "(1, 1, 20, 23 -> 98 != 63\n",
      "(1, 1, 21, 0 -> 87 != 36\n",
      "(1, 1, 21, 1 -> 65 != 36\n",
      "(1, 1, 21, 2 -> 87 != 55\n",
      "(1, 1, 21, 3 -> 39 != 55\n",
      "(1, 1, 21, 4 -> 8 != 33\n",
      "(1, 1, 21, 5 -> 89 != 33\n",
      "(1, 1, 21, 6 -> 79 != 21\n",
      "(1, 1, 21, 7 -> 13 != 21\n",
      "(1, 1, 21, 8 -> 12 != 80\n",
      "(1, 1, 21, 9 -> 65 != 80\n",
      "(1, 1, 21, 10 -> 73 != 30\n",
      "(1, 1, 21, 11 -> 13 != 30\n",
      "(1, 1, 21, 12 -> 87 != 1\n",
      "(1, 1, 21, 13 -> 65 != 1\n",
      "(1, 1, 21, 14 -> 87 != 13\n",
      "(1, 1, 21, 15 -> 39 != 13\n",
      "(1, 1, 21, 16 -> 8 != 76\n",
      "(1, 1, 21, 17 -> 89 != 76\n",
      "(1, 1, 21, 18 -> 79 != 32\n",
      "(1, 1, 21, 19 -> 13 != 32\n",
      "(1, 1, 21, 20 -> 12 != 29\n",
      "(1, 1, 21, 21 -> 65 != 29\n",
      "(1, 1, 21, 22 -> 73 != 63\n",
      "(1, 1, 21, 23 -> 13 != 63\n",
      "(1, 1, 22, 0 -> 36 != 27\n",
      "(1, 1, 22, 1 -> 55 != 27\n",
      "(1, 1, 22, 2 -> 33 != 98\n",
      "(1, 1, 22, 3 -> 21 != 98\n",
      "(1, 1, 22, 4 -> 80 != 23\n",
      "(1, 1, 22, 5 -> 30 != 23\n",
      "(1, 1, 22, 6 -> 1 != 33\n",
      "(1, 1, 22, 7 -> 13 != 33\n",
      "(1, 1, 22, 8 -> 76 != 51\n",
      "(1, 1, 22, 9 -> 32 != 51\n",
      "(1, 1, 22, 11 -> 63 != 29\n",
      "(1, 1, 22, 12 -> 36 != 32\n",
      "(1, 1, 22, 13 -> 55 != 32\n",
      "(1, 1, 22, 14 -> 33 != 50\n",
      "(1, 1, 22, 15 -> 21 != 50\n",
      "(1, 1, 22, 16 -> 80 != 47\n",
      "(1, 1, 22, 17 -> 30 != 47\n",
      "(1, 1, 22, 18 -> 1 != 76\n",
      "(1, 1, 22, 19 -> 13 != 76\n",
      "(1, 1, 22, 20 -> 76 != 13\n",
      "(1, 1, 22, 21 -> 32 != 13\n",
      "(1, 1, 22, 22 -> 29 != 92\n",
      "(1, 1, 22, 23 -> 63 != 92\n",
      "(1, 1, 23, 1 -> 98 != 27\n",
      "(1, 1, 23, 2 -> 23 != 98\n",
      "(1, 1, 23, 3 -> 33 != 98\n",
      "(1, 1, 23, 4 -> 51 != 23\n",
      "(1, 1, 23, 5 -> 29 != 23\n",
      "(1, 1, 23, 6 -> 32 != 33\n",
      "(1, 1, 23, 7 -> 50 != 33\n",
      "(1, 1, 23, 8 -> 47 != 51\n",
      "(1, 1, 23, 9 -> 76 != 51\n",
      "(1, 1, 23, 10 -> 13 != 29\n",
      "(1, 1, 23, 11 -> 92 != 29\n",
      "(1, 1, 23, 12 -> 27 != 32\n",
      "(1, 1, 23, 13 -> 98 != 32\n",
      "(1, 1, 23, 14 -> 23 != 50\n",
      "(1, 1, 23, 15 -> 33 != 50\n",
      "(1, 1, 23, 16 -> 51 != 47\n",
      "(1, 1, 23, 17 -> 29 != 47\n",
      "(1, 1, 23, 18 -> 32 != 76\n",
      "(1, 1, 23, 19 -> 50 != 76\n",
      "(1, 1, 23, 20 -> 47 != 13\n",
      "(1, 1, 23, 21 -> 76 != 13\n",
      "(1, 1, 23, 22 -> 13 != 92\n",
      "(1, 2, 0, 1 -> 98 != 57\n",
      "(1, 2, 0, 2 -> 57 != 98\n",
      "(1, 2, 0, 3 -> 79 != 98\n",
      "(1, 2, 0, 4 -> 45 != 57\n",
      "(1, 2, 0, 5 -> 42 != 57\n",
      "(1, 2, 0, 6 -> 97 != 79\n",
      "(1, 2, 0, 8 -> 81 != 45\n",
      "(1, 2, 0, 9 -> 43 != 45\n",
      "(1, 2, 0, 10 -> 52 != 42\n",
      "(1, 2, 0, 11 -> 55 != 42\n",
      "(1, 2, 0, 12 -> 57 != 97\n",
      "(1, 2, 0, 13 -> 98 != 97\n",
      "(1, 2, 0, 14 -> 57 != 79\n",
      "(1, 2, 0, 16 -> 45 != 81\n",
      "(1, 2, 0, 17 -> 42 != 81\n",
      "(1, 2, 0, 18 -> 97 != 43\n",
      "(1, 2, 0, 19 -> 79 != 43\n",
      "(1, 2, 0, 20 -> 81 != 52\n",
      "(1, 2, 0, 21 -> 43 != 52\n",
      "(1, 2, 0, 22 -> 52 != 55\n",
      "(1, 2, 1, 0 -> 2 != 57\n",
      "(1, 2, 1, 1 -> 65 != 57\n",
      "(1, 2, 1, 2 -> 10 != 98\n",
      "(1, 2, 1, 3 -> 59 != 98\n",
      "(1, 2, 1, 4 -> 35 != 57\n",
      "(1, 2, 1, 5 -> 93 != 57\n",
      "(1, 2, 1, 6 -> 26 != 79\n",
      "(1, 2, 1, 7 -> 13 != 79\n",
      "(1, 2, 1, 8 -> 5 != 45\n",
      "(1, 2, 1, 9 -> 85 != 45\n",
      "(1, 2, 1, 10 -> 87 != 42\n",
      "(1, 2, 1, 11 -> 89 != 42\n",
      "(1, 2, 1, 12 -> 2 != 97\n",
      "(1, 2, 1, 13 -> 65 != 97\n",
      "(1, 2, 1, 14 -> 10 != 79\n",
      "(1, 2, 1, 15 -> 59 != 79\n",
      "(1, 2, 1, 16 -> 35 != 81\n",
      "(1, 2, 1, 17 -> 93 != 81\n",
      "(1, 2, 1, 18 -> 26 != 43\n",
      "(1, 2, 1, 19 -> 13 != 43\n",
      "(1, 2, 1, 20 -> 5 != 52\n",
      "(1, 2, 1, 21 -> 85 != 52\n",
      "(1, 2, 1, 22 -> 87 != 55\n",
      "(1, 2, 1, 23 -> 89 != 55\n",
      "(1, 2, 2, 0 -> 51 != 2\n",
      "(1, 2, 2, 1 -> 66 != 2\n",
      "(1, 2, 2, 2 -> 39 != 65\n",
      "(1, 2, 2, 3 -> 11 != 65\n",
      "(1, 2, 2, 4 -> 60 != 10\n",
      "(1, 2, 2, 5 -> 73 != 10\n",
      "(1, 2, 2, 6 -> 7 != 59\n",
      "(1, 2, 2, 7 -> 11 != 59\n",
      "(1, 2, 2, 8 -> 82 != 35\n",
      "(1, 2, 2, 9 -> 75 != 35\n",
      "(1, 2, 2, 11 -> 45 != 93\n",
      "(1, 2, 2, 12 -> 51 != 26\n",
      "(1, 2, 2, 13 -> 66 != 26\n",
      "(1, 2, 2, 14 -> 39 != 13\n",
      "(1, 2, 2, 15 -> 11 != 13\n",
      "(1, 2, 2, 16 -> 60 != 5\n",
      "(1, 2, 2, 17 -> 73 != 5\n",
      "(1, 2, 2, 18 -> 7 != 85\n",
      "(1, 2, 2, 19 -> 11 != 85\n",
      "(1, 2, 2, 20 -> 82 != 87\n",
      "(1, 2, 2, 21 -> 75 != 87\n",
      "(1, 2, 2, 22 -> 93 != 89\n",
      "(1, 2, 2, 23 -> 45 != 89\n",
      "(1, 2, 3, 0 -> 53 != 2\n",
      "(1, 2, 3, 1 -> 11 != 2\n",
      "(1, 2, 3, 2 -> 78 != 65\n",
      "(1, 2, 3, 3 -> 8 != 65\n",
      "(1, 2, 3, 4 -> 43 != 10\n",
      "(1, 2, 3, 5 -> 82 != 10\n",
      "(1, 2, 3, 6 -> 28 != 59\n",
      "(1, 2, 3, 7 -> 58 != 59\n",
      "(1, 2, 3, 8 -> 39 != 35\n",
      "(1, 2, 3, 9 -> 28 != 35\n",
      "(1, 2, 3, 10 -> 84 != 93\n",
      "(1, 2, 3, 11 -> 14 != 93\n",
      "(1, 2, 3, 12 -> 53 != 26\n",
      "(1, 2, 3, 13 -> 11 != 26\n",
      "(1, 2, 3, 14 -> 78 != 13\n",
      "(1, 2, 3, 15 -> 8 != 13\n",
      "(1, 2, 3, 16 -> 43 != 5\n",
      "(1, 2, 3, 17 -> 82 != 5\n",
      "(1, 2, 3, 18 -> 28 != 85\n",
      "(1, 2, 3, 19 -> 58 != 85\n",
      "(1, 2, 3, 20 -> 39 != 87\n",
      "(1, 2, 3, 21 -> 28 != 87\n",
      "(1, 2, 3, 22 -> 84 != 89\n",
      "(1, 2, 3, 23 -> 14 != 89\n",
      "(1, 2, 4, 0 -> 97 != 51\n",
      "(1, 2, 4, 1 -> 55 != 51\n",
      "(1, 2, 4, 2 -> 70 != 66\n",
      "(1, 2, 4, 3 -> 7 != 66\n",
      "(1, 2, 4, 4 -> 41 != 39\n",
      "(1, 2, 4, 5 -> 55 != 39\n",
      "(1, 2, 4, 6 -> 13 != 11\n",
      "(1, 2, 4, 7 -> 25 != 11\n",
      "(1, 2, 4, 8 -> 27 != 60\n",
      "(1, 2, 4, 9 -> 66 != 60\n",
      "(1, 2, 4, 10 -> 89 != 73\n",
      "(1, 2, 4, 11 -> 87 != 73\n",
      "(1, 2, 4, 12 -> 97 != 7\n",
      "(1, 2, 4, 13 -> 55 != 7\n",
      "(1, 2, 4, 14 -> 70 != 11\n",
      "(1, 2, 4, 15 -> 7 != 11\n",
      "(1, 2, 4, 16 -> 41 != 82\n",
      "(1, 2, 4, 17 -> 55 != 82\n",
      "(1, 2, 4, 18 -> 13 != 75\n",
      "(1, 2, 4, 19 -> 25 != 75\n",
      "(1, 2, 4, 20 -> 27 != 93\n",
      "(1, 2, 4, 21 -> 66 != 93\n",
      "(1, 2, 4, 22 -> 89 != 45\n",
      "(1, 2, 4, 23 -> 87 != 45\n",
      "(1, 2, 5, 0 -> 25 != 51\n",
      "(1, 2, 5, 1 -> 99 != 51\n",
      "(1, 2, 5, 2 -> 78 != 66\n",
      "(1, 2, 5, 4 -> 91 != 39\n",
      "(1, 2, 5, 5 -> 73 != 39\n",
      "(1, 2, 5, 6 -> 67 != 11\n",
      "(1, 2, 5, 7 -> 5 != 11\n",
      "(1, 2, 5, 8 -> 7 != 60\n",
      "(1, 2, 5, 9 -> 99 != 60\n",
      "(1, 2, 5, 10 -> 33 != 73\n",
      "(1, 2, 5, 11 -> 89 != 73\n",
      "(1, 2, 5, 12 -> 25 != 7\n",
      "(1, 2, 5, 13 -> 99 != 7\n",
      "(1, 2, 5, 14 -> 78 != 11\n",
      "(1, 2, 5, 15 -> 66 != 11\n",
      "(1, 2, 5, 16 -> 91 != 82\n",
      "(1, 2, 5, 17 -> 73 != 82\n",
      "(1, 2, 5, 18 -> 67 != 75\n",
      "(1, 2, 5, 19 -> 5 != 75\n",
      "(1, 2, 5, 20 -> 7 != 93\n",
      "(1, 2, 5, 21 -> 99 != 93\n",
      "(1, 2, 5, 22 -> 33 != 45\n",
      "(1, 2, 5, 23 -> 89 != 45\n",
      "(1, 2, 6, 0 -> 58 != 53\n",
      "(1, 2, 6, 1 -> 87 != 53\n",
      "(1, 2, 6, 2 -> 59 != 11\n",
      "(1, 2, 6, 3 -> 3 != 11\n",
      "(1, 2, 6, 4 -> 71 != 78\n",
      "(1, 2, 6, 5 -> 31 != 78\n",
      "(1, 2, 6, 6 -> 3 != 8\n",
      "(1, 2, 6, 7 -> 10 != 8\n",
      "(1, 2, 6, 8 -> 57 != 43\n",
      "(1, 2, 6, 10 -> 94 != 82\n",
      "(1, 2, 6, 11 -> 84 != 82\n",
      "(1, 2, 6, 12 -> 58 != 28\n",
      "(1, 2, 6, 13 -> 87 != 28\n",
      "(1, 2, 6, 14 -> 59 != 58\n",
      "(1, 2, 6, 15 -> 3 != 58\n",
      "(1, 2, 6, 16 -> 71 != 39\n",
      "(1, 2, 6, 17 -> 31 != 39\n",
      "(1, 2, 6, 18 -> 3 != 28\n",
      "(1, 2, 6, 19 -> 10 != 28\n",
      "(1, 2, 6, 20 -> 57 != 84\n",
      "(1, 2, 6, 21 -> 43 != 84\n",
      "(1, 2, 6, 22 -> 94 != 14\n",
      "(1, 2, 6, 23 -> 84 != 14\n",
      "(1, 2, 7, 0 -> 76 != 53\n",
      "(1, 2, 7, 1 -> 7 != 53\n",
      "(1, 2, 7, 2 -> 6 != 11\n",
      "(1, 2, 7, 3 -> 69 != 11\n",
      "(1, 2, 7, 4 -> 74 != 78\n",
      "(1, 2, 7, 5 -> 89 != 78\n",
      "(1, 2, 7, 6 -> 16 != 8\n",
      "(1, 2, 7, 7 -> 30 != 8\n",
      "(1, 2, 7, 8 -> 96 != 43\n",
      "(1, 2, 7, 9 -> 64 != 43\n",
      "(1, 2, 7, 10 -> 21 != 82\n",
      "(1, 2, 7, 11 -> 98 != 82\n",
      "(1, 2, 7, 12 -> 76 != 28\n",
      "(1, 2, 7, 13 -> 7 != 28\n",
      "(1, 2, 7, 14 -> 6 != 58\n",
      "(1, 2, 7, 15 -> 69 != 58\n",
      "(1, 2, 7, 16 -> 74 != 39\n",
      "(1, 2, 7, 17 -> 89 != 39\n",
      "(1, 2, 7, 18 -> 16 != 28\n",
      "(1, 2, 7, 19 -> 30 != 28\n",
      "(1, 2, 7, 20 -> 96 != 84\n",
      "(1, 2, 7, 21 -> 64 != 84\n",
      "(1, 2, 7, 22 -> 21 != 14\n",
      "(1, 2, 7, 23 -> 98 != 14\n",
      "(1, 2, 8, 0 -> 11 != 97\n",
      "(1, 2, 8, 1 -> 80 != 97\n",
      "(1, 2, 8, 2 -> 13 != 55\n",
      "(1, 2, 8, 3 -> 77 != 55\n",
      "(1, 2, 8, 4 -> 59 != 70\n",
      "(1, 2, 8, 5 -> 25 != 70\n",
      "(1, 2, 8, 6 -> 85 != 7\n",
      "(1, 2, 8, 7 -> 17 != 7\n",
      "(1, 2, 8, 8 -> 27 != 41\n",
      "(1, 2, 8, 9 -> 56 != 41\n",
      "(1, 2, 8, 10 -> 30 != 55\n",
      "(1, 2, 8, 11 -> 95 != 55\n",
      "(1, 2, 8, 12 -> 11 != 13\n",
      "(1, 2, 8, 13 -> 80 != 13\n",
      "(1, 2, 8, 14 -> 13 != 25\n",
      "(1, 2, 8, 15 -> 77 != 25\n",
      "(1, 2, 8, 16 -> 59 != 27\n",
      "(1, 2, 8, 17 -> 25 != 27\n",
      "(1, 2, 8, 18 -> 85 != 66\n",
      "(1, 2, 8, 19 -> 17 != 66\n",
      "(1, 2, 8, 20 -> 27 != 89\n",
      "(1, 2, 8, 21 -> 56 != 89\n",
      "(1, 2, 8, 22 -> 30 != 87\n",
      "(1, 2, 8, 23 -> 95 != 87\n",
      "(1, 2, 9, 0 -> 69 != 97\n",
      "(1, 2, 9, 1 -> 7 != 97\n",
      "(1, 2, 9, 2 -> 64 != 55\n",
      "(1, 2, 9, 3 -> 16 != 55\n",
      "(1, 2, 9, 4 -> 46 != 70\n",
      "(1, 2, 9, 5 -> 52 != 70\n",
      "(1, 2, 9, 6 -> 53 != 7\n",
      "(1, 2, 9, 7 -> 49 != 7\n",
      "(1, 2, 9, 8 -> 29 != 41\n",
      "(1, 2, 9, 9 -> 58 != 41\n",
      "(1, 2, 9, 10 -> 13 != 55\n",
      "(1, 2, 9, 11 -> 94 != 55\n",
      "(1, 2, 9, 12 -> 69 != 13\n",
      "(1, 2, 9, 13 -> 7 != 13\n",
      "(1, 2, 9, 14 -> 64 != 25\n",
      "(1, 2, 9, 15 -> 16 != 25\n",
      "(1, 2, 9, 16 -> 46 != 27\n",
      "(1, 2, 9, 17 -> 52 != 27\n",
      "(1, 2, 9, 18 -> 53 != 66\n",
      "(1, 2, 9, 19 -> 49 != 66\n",
      "(1, 2, 9, 20 -> 29 != 89\n",
      "(1, 2, 9, 21 -> 58 != 89\n",
      "(1, 2, 9, 22 -> 13 != 87\n",
      "(1, 2, 9, 23 -> 94 != 87\n",
      "(1, 2, 10, 0 -> 30 != 25\n",
      "(1, 2, 10, 1 -> 76 != 25\n",
      "(1, 2, 10, 2 -> 73 != 99\n",
      "(1, 2, 10, 3 -> 50 != 99\n",
      "(1, 2, 10, 4 -> 70 != 78\n",
      "(1, 2, 10, 5 -> 73 != 78\n",
      "(1, 2, 10, 6 -> 47 != 66\n",
      "(1, 2, 10, 7 -> 61 != 66\n",
      "(1, 2, 10, 8 -> 75 != 91\n",
      "(1, 2, 10, 9 -> 86 != 91\n",
      "(1, 2, 10, 10 -> 77 != 73\n",
      "(1, 2, 10, 11 -> 29 != 73\n",
      "(1, 2, 10, 12 -> 30 != 67\n",
      "(1, 2, 10, 13 -> 76 != 67\n",
      "(1, 2, 10, 14 -> 73 != 5\n",
      "(1, 2, 10, 15 -> 50 != 5\n",
      "(1, 2, 10, 16 -> 70 != 7\n",
      "(1, 2, 10, 17 -> 73 != 7\n",
      "(1, 2, 10, 18 -> 47 != 99\n",
      "(1, 2, 10, 19 -> 61 != 99\n",
      "(1, 2, 10, 20 -> 75 != 33\n",
      "(1, 2, 10, 21 -> 86 != 33\n",
      "(1, 2, 10, 22 -> 77 != 89\n",
      "(1, 2, 10, 23 -> 29 != 89\n",
      "(1, 2, 11, 0 -> 44 != 25\n",
      "(1, 2, 11, 1 -> 31 != 25\n",
      "(1, 2, 11, 2 -> 6 != 99\n",
      "(1, 2, 11, 3 -> 69 != 99\n",
      "(1, 2, 11, 4 -> 9 != 78\n",
      "(1, 2, 11, 5 -> 77 != 78\n",
      "(1, 2, 11, 6 -> 6 != 66\n",
      "(1, 2, 11, 7 -> 32 != 66\n",
      "(1, 2, 11, 8 -> 62 != 91\n",
      "(1, 2, 11, 9 -> 98 != 91\n",
      "(1, 2, 11, 10 -> 43 != 73\n",
      "(1, 2, 11, 11 -> 23 != 73\n",
      "(1, 2, 11, 12 -> 44 != 67\n",
      "(1, 2, 11, 13 -> 31 != 67\n",
      "(1, 2, 11, 14 -> 6 != 5\n",
      "(1, 2, 11, 15 -> 69 != 5\n",
      "(1, 2, 11, 16 -> 9 != 7\n",
      "(1, 2, 11, 17 -> 77 != 7\n",
      "(1, 2, 11, 18 -> 6 != 99\n",
      "(1, 2, 11, 19 -> 32 != 99\n",
      "(1, 2, 11, 20 -> 62 != 33\n",
      "(1, 2, 11, 21 -> 98 != 33\n",
      "(1, 2, 11, 22 -> 43 != 89\n",
      "(1, 2, 11, 23 -> 23 != 89\n",
      "(1, 2, 12, 0 -> 57 != 58\n",
      "(1, 2, 12, 1 -> 98 != 58\n",
      "(1, 2, 12, 2 -> 57 != 87\n",
      "(1, 2, 12, 3 -> 79 != 87\n",
      "(1, 2, 12, 4 -> 45 != 59\n",
      "(1, 2, 12, 5 -> 42 != 59\n",
      "(1, 2, 12, 6 -> 97 != 3\n",
      "(1, 2, 12, 7 -> 79 != 3\n",
      "(1, 2, 12, 8 -> 81 != 71\n",
      "(1, 2, 12, 9 -> 43 != 71\n",
      "(1, 2, 12, 10 -> 52 != 31\n",
      "(1, 2, 12, 11 -> 55 != 31\n",
      "(1, 2, 12, 12 -> 57 != 3\n",
      "(1, 2, 12, 13 -> 98 != 3\n",
      "(1, 2, 12, 14 -> 57 != 10\n",
      "(1, 2, 12, 15 -> 79 != 10\n",
      "(1, 2, 12, 16 -> 45 != 57\n",
      "(1, 2, 12, 17 -> 42 != 57\n",
      "(1, 2, 12, 18 -> 97 != 43\n",
      "(1, 2, 12, 19 -> 79 != 43\n",
      "(1, 2, 12, 20 -> 81 != 94\n",
      "(1, 2, 12, 21 -> 43 != 94\n",
      "(1, 2, 12, 22 -> 52 != 84\n",
      "(1, 2, 12, 23 -> 55 != 84\n",
      "(1, 2, 13, 0 -> 2 != 58\n",
      "(1, 2, 13, 1 -> 65 != 58\n",
      "(1, 2, 13, 2 -> 10 != 87\n",
      "(1, 2, 13, 3 -> 59 != 87\n",
      "(1, 2, 13, 4 -> 35 != 59\n",
      "(1, 2, 13, 5 -> 93 != 59\n",
      "(1, 2, 13, 6 -> 26 != 3\n",
      "(1, 2, 13, 7 -> 13 != 3\n",
      "(1, 2, 13, 8 -> 5 != 71\n",
      "(1, 2, 13, 9 -> 85 != 71\n",
      "(1, 2, 13, 10 -> 87 != 31\n",
      "(1, 2, 13, 11 -> 89 != 31\n",
      "(1, 2, 13, 12 -> 2 != 3\n",
      "(1, 2, 13, 13 -> 65 != 3\n",
      "(1, 2, 13, 15 -> 59 != 10\n",
      "(1, 2, 13, 16 -> 35 != 57\n",
      "(1, 2, 13, 17 -> 93 != 57\n",
      "(1, 2, 13, 18 -> 26 != 43\n",
      "(1, 2, 13, 19 -> 13 != 43\n",
      "(1, 2, 13, 20 -> 5 != 94\n",
      "(1, 2, 13, 21 -> 85 != 94\n",
      "(1, 2, 13, 22 -> 87 != 84\n",
      "(1, 2, 13, 23 -> 89 != 84\n",
      "(1, 2, 14, 0 -> 51 != 76\n",
      "(1, 2, 14, 1 -> 66 != 76\n",
      "(1, 2, 14, 2 -> 39 != 7\n",
      "(1, 2, 14, 3 -> 11 != 7\n",
      "(1, 2, 14, 4 -> 60 != 6\n",
      "(1, 2, 14, 5 -> 73 != 6\n",
      "(1, 2, 14, 6 -> 7 != 69\n",
      "(1, 2, 14, 7 -> 11 != 69\n",
      "(1, 2, 14, 8 -> 82 != 74\n",
      "(1, 2, 14, 9 -> 75 != 74\n",
      "(1, 2, 14, 10 -> 93 != 89\n",
      "(1, 2, 14, 11 -> 45 != 89\n",
      "(1, 2, 14, 12 -> 51 != 16\n",
      "(1, 2, 14, 13 -> 66 != 16\n",
      "(1, 2, 14, 14 -> 39 != 30\n",
      "(1, 2, 14, 15 -> 11 != 30\n",
      "(1, 2, 14, 16 -> 60 != 96\n",
      "(1, 2, 14, 17 -> 73 != 96\n",
      "(1, 2, 14, 18 -> 7 != 64\n",
      "(1, 2, 14, 19 -> 11 != 64\n",
      "(1, 2, 14, 20 -> 82 != 21\n",
      "(1, 2, 14, 21 -> 75 != 21\n",
      "(1, 2, 14, 22 -> 93 != 98\n",
      "(1, 2, 14, 23 -> 45 != 98\n",
      "(1, 2, 15, 0 -> 53 != 76\n",
      "(1, 2, 15, 1 -> 11 != 76\n",
      "(1, 2, 15, 2 -> 78 != 7\n",
      "(1, 2, 15, 3 -> 8 != 7\n",
      "(1, 2, 15, 4 -> 43 != 6\n",
      "(1, 2, 15, 5 -> 82 != 6\n",
      "(1, 2, 15, 6 -> 28 != 69\n",
      "(1, 2, 15, 7 -> 58 != 69\n",
      "(1, 2, 15, 8 -> 39 != 74\n",
      "(1, 2, 15, 9 -> 28 != 74\n",
      "(1, 2, 15, 10 -> 84 != 89\n",
      "(1, 2, 15, 11 -> 14 != 89\n",
      "(1, 2, 15, 12 -> 53 != 16\n",
      "(1, 2, 15, 13 -> 11 != 16\n",
      "(1, 2, 15, 14 -> 78 != 30\n",
      "(1, 2, 15, 15 -> 8 != 30\n",
      "(1, 2, 15, 16 -> 43 != 96\n",
      "(1, 2, 15, 17 -> 82 != 96\n",
      "(1, 2, 15, 18 -> 28 != 64\n",
      "(1, 2, 15, 19 -> 58 != 64\n",
      "(1, 2, 15, 20 -> 39 != 21\n",
      "(1, 2, 15, 21 -> 28 != 21\n",
      "(1, 2, 15, 22 -> 84 != 98\n",
      "(1, 2, 15, 23 -> 14 != 98\n",
      "(1, 2, 16, 0 -> 97 != 11\n",
      "(1, 2, 16, 1 -> 55 != 11\n",
      "(1, 2, 16, 2 -> 70 != 80\n",
      "(1, 2, 16, 3 -> 7 != 80\n",
      "(1, 2, 16, 4 -> 41 != 13\n",
      "(1, 2, 16, 5 -> 55 != 13\n",
      "(1, 2, 16, 6 -> 13 != 77\n",
      "(1, 2, 16, 7 -> 25 != 77\n",
      "(1, 2, 16, 8 -> 27 != 59\n",
      "(1, 2, 16, 9 -> 66 != 59\n",
      "(1, 2, 16, 10 -> 89 != 25\n",
      "(1, 2, 16, 11 -> 87 != 25\n",
      "(1, 2, 16, 12 -> 97 != 85\n",
      "(1, 2, 16, 13 -> 55 != 85\n",
      "(1, 2, 16, 14 -> 70 != 17\n",
      "(1, 2, 16, 15 -> 7 != 17\n",
      "(1, 2, 16, 16 -> 41 != 27\n",
      "(1, 2, 16, 17 -> 55 != 27\n",
      "(1, 2, 16, 18 -> 13 != 56\n",
      "(1, 2, 16, 19 -> 25 != 56\n",
      "(1, 2, 16, 20 -> 27 != 30\n",
      "(1, 2, 16, 21 -> 66 != 30\n",
      "(1, 2, 16, 22 -> 89 != 95\n",
      "(1, 2, 16, 23 -> 87 != 95\n",
      "(1, 2, 17, 0 -> 25 != 11\n",
      "(1, 2, 17, 1 -> 99 != 11\n",
      "(1, 2, 17, 2 -> 78 != 80\n",
      "(1, 2, 17, 3 -> 66 != 80\n",
      "(1, 2, 17, 4 -> 91 != 13\n",
      "(1, 2, 17, 5 -> 73 != 13\n",
      "(1, 2, 17, 6 -> 67 != 77\n",
      "(1, 2, 17, 7 -> 5 != 77\n",
      "(1, 2, 17, 8 -> 7 != 59\n",
      "(1, 2, 17, 9 -> 99 != 59\n",
      "(1, 2, 17, 10 -> 33 != 25\n",
      "(1, 2, 17, 11 -> 89 != 25\n",
      "(1, 2, 17, 12 -> 25 != 85\n",
      "(1, 2, 17, 13 -> 99 != 85\n",
      "(1, 2, 17, 14 -> 78 != 17\n",
      "(1, 2, 17, 15 -> 66 != 17\n",
      "(1, 2, 17, 16 -> 91 != 27\n",
      "(1, 2, 17, 17 -> 73 != 27\n",
      "(1, 2, 17, 18 -> 67 != 56\n",
      "(1, 2, 17, 19 -> 5 != 56\n",
      "(1, 2, 17, 20 -> 7 != 30\n",
      "(1, 2, 17, 21 -> 99 != 30\n",
      "(1, 2, 17, 22 -> 33 != 95\n",
      "(1, 2, 17, 23 -> 89 != 95\n",
      "(1, 2, 18, 0 -> 58 != 69\n",
      "(1, 2, 18, 1 -> 87 != 69\n",
      "(1, 2, 18, 2 -> 59 != 7\n",
      "(1, 2, 18, 3 -> 3 != 7\n",
      "(1, 2, 18, 4 -> 71 != 64\n",
      "(1, 2, 18, 5 -> 31 != 64\n",
      "(1, 2, 18, 6 -> 3 != 16\n",
      "(1, 2, 18, 7 -> 10 != 16\n",
      "(1, 2, 18, 8 -> 57 != 46\n",
      "(1, 2, 18, 9 -> 43 != 46\n",
      "(1, 2, 18, 10 -> 94 != 52\n",
      "(1, 2, 18, 11 -> 84 != 52\n",
      "(1, 2, 18, 12 -> 58 != 53\n",
      "(1, 2, 18, 13 -> 87 != 53\n",
      "(1, 2, 18, 14 -> 59 != 49\n",
      "(1, 2, 18, 15 -> 3 != 49\n",
      "(1, 2, 18, 16 -> 71 != 29\n",
      "(1, 2, 18, 17 -> 31 != 29\n",
      "(1, 2, 18, 18 -> 3 != 58\n",
      "(1, 2, 18, 19 -> 10 != 58\n",
      "(1, 2, 18, 20 -> 57 != 13\n",
      "(1, 2, 18, 21 -> 43 != 13\n",
      "(1, 2, 18, 23 -> 84 != 94\n",
      "(1, 2, 19, 0 -> 76 != 69\n",
      "(1, 2, 19, 1 -> 7 != 69\n",
      "(1, 2, 19, 2 -> 6 != 7\n",
      "(1, 2, 19, 3 -> 69 != 7\n",
      "(1, 2, 19, 4 -> 74 != 64\n",
      "(1, 2, 19, 5 -> 89 != 64\n",
      "(1, 2, 19, 7 -> 30 != 16\n",
      "(1, 2, 19, 8 -> 96 != 46\n",
      "(1, 2, 19, 9 -> 64 != 46\n",
      "(1, 2, 19, 10 -> 21 != 52\n",
      "(1, 2, 19, 11 -> 98 != 52\n",
      "(1, 2, 19, 12 -> 76 != 53\n",
      "(1, 2, 19, 13 -> 7 != 53\n",
      "(1, 2, 19, 14 -> 6 != 49\n",
      "(1, 2, 19, 15 -> 69 != 49\n",
      "(1, 2, 19, 16 -> 74 != 29\n",
      "(1, 2, 19, 17 -> 89 != 29\n",
      "(1, 2, 19, 18 -> 16 != 58\n",
      "(1, 2, 19, 19 -> 30 != 58\n",
      "(1, 2, 19, 20 -> 96 != 13\n",
      "(1, 2, 19, 21 -> 64 != 13\n",
      "(1, 2, 19, 22 -> 21 != 94\n",
      "(1, 2, 19, 23 -> 98 != 94\n",
      "(1, 2, 20, 0 -> 11 != 30\n",
      "(1, 2, 20, 1 -> 80 != 30\n",
      "(1, 2, 20, 2 -> 13 != 76\n",
      "(1, 2, 20, 3 -> 77 != 76\n",
      "(1, 2, 20, 4 -> 59 != 73\n",
      "(1, 2, 20, 5 -> 25 != 73\n",
      "(1, 2, 20, 6 -> 85 != 50\n",
      "(1, 2, 20, 7 -> 17 != 50\n",
      "(1, 2, 20, 8 -> 27 != 70\n",
      "(1, 2, 20, 9 -> 56 != 70\n",
      "(1, 2, 20, 10 -> 30 != 73\n",
      "(1, 2, 20, 11 -> 95 != 73\n",
      "(1, 2, 20, 12 -> 11 != 47\n",
      "(1, 2, 20, 13 -> 80 != 47\n",
      "(1, 2, 20, 14 -> 13 != 61\n",
      "(1, 2, 20, 15 -> 77 != 61\n",
      "(1, 2, 20, 16 -> 59 != 75\n",
      "(1, 2, 20, 17 -> 25 != 75\n",
      "(1, 2, 20, 18 -> 85 != 86\n",
      "(1, 2, 20, 19 -> 17 != 86\n",
      "(1, 2, 20, 20 -> 27 != 77\n",
      "(1, 2, 20, 21 -> 56 != 77\n",
      "(1, 2, 20, 22 -> 30 != 29\n",
      "(1, 2, 20, 23 -> 95 != 29\n",
      "(1, 2, 21, 0 -> 69 != 30\n",
      "(1, 2, 21, 1 -> 7 != 30\n",
      "(1, 2, 21, 2 -> 64 != 76\n",
      "(1, 2, 21, 3 -> 16 != 76\n",
      "(1, 2, 21, 4 -> 46 != 73\n",
      "(1, 2, 21, 5 -> 52 != 73\n",
      "(1, 2, 21, 6 -> 53 != 50\n",
      "(1, 2, 21, 7 -> 49 != 50\n",
      "(1, 2, 21, 8 -> 29 != 70\n",
      "(1, 2, 21, 9 -> 58 != 70\n",
      "(1, 2, 21, 10 -> 13 != 73\n",
      "(1, 2, 21, 11 -> 94 != 73\n",
      "(1, 2, 21, 12 -> 69 != 47\n",
      "(1, 2, 21, 13 -> 7 != 47\n",
      "(1, 2, 21, 14 -> 64 != 61\n",
      "(1, 2, 21, 15 -> 16 != 61\n",
      "(1, 2, 21, 16 -> 46 != 75\n",
      "(1, 2, 21, 17 -> 52 != 75\n",
      "(1, 2, 21, 18 -> 53 != 86\n",
      "(1, 2, 21, 19 -> 49 != 86\n",
      "(1, 2, 21, 20 -> 29 != 77\n",
      "(1, 2, 21, 21 -> 58 != 77\n",
      "(1, 2, 21, 22 -> 13 != 29\n",
      "(1, 2, 21, 23 -> 94 != 29\n",
      "(1, 2, 22, 0 -> 30 != 44\n",
      "(1, 2, 22, 1 -> 76 != 44\n",
      "(1, 2, 22, 2 -> 73 != 31\n",
      "(1, 2, 22, 3 -> 50 != 31\n",
      "(1, 2, 22, 4 -> 70 != 6\n",
      "(1, 2, 22, 5 -> 73 != 6\n",
      "(1, 2, 22, 6 -> 47 != 69\n",
      "(1, 2, 22, 7 -> 61 != 69\n",
      "(1, 2, 22, 8 -> 75 != 9\n",
      "(1, 2, 22, 9 -> 86 != 9\n",
      "(1, 2, 22, 11 -> 29 != 77\n",
      "(1, 2, 22, 12 -> 30 != 6\n",
      "(1, 2, 22, 13 -> 76 != 6\n",
      "(1, 2, 22, 14 -> 73 != 32\n",
      "(1, 2, 22, 15 -> 50 != 32\n",
      "(1, 2, 22, 16 -> 70 != 62\n",
      "(1, 2, 22, 17 -> 73 != 62\n",
      "(1, 2, 22, 18 -> 47 != 98\n",
      "(1, 2, 22, 19 -> 61 != 98\n",
      "(1, 2, 22, 20 -> 75 != 43\n",
      "(1, 2, 22, 21 -> 86 != 43\n",
      "(1, 2, 22, 22 -> 77 != 23\n",
      "(1, 2, 22, 23 -> 29 != 23\n",
      "(1, 2, 23, 1 -> 31 != 44\n",
      "(1, 2, 23, 2 -> 6 != 31\n",
      "(1, 2, 23, 3 -> 69 != 31\n",
      "(1, 2, 23, 4 -> 9 != 6\n",
      "(1, 2, 23, 5 -> 77 != 6\n",
      "(1, 2, 23, 6 -> 6 != 69\n",
      "(1, 2, 23, 7 -> 32 != 69\n",
      "(1, 2, 23, 8 -> 62 != 9\n",
      "(1, 2, 23, 9 -> 98 != 9\n",
      "(1, 2, 23, 10 -> 43 != 77\n",
      "(1, 2, 23, 11 -> 23 != 77\n",
      "(1, 2, 23, 12 -> 44 != 6\n",
      "(1, 2, 23, 13 -> 31 != 6\n",
      "(1, 2, 23, 14 -> 6 != 32\n",
      "(1, 2, 23, 15 -> 69 != 32\n",
      "(1, 2, 23, 16 -> 9 != 62\n",
      "(1, 2, 23, 17 -> 77 != 62\n",
      "(1, 2, 23, 18 -> 6 != 98\n",
      "(1, 2, 23, 19 -> 32 != 98\n",
      "(1, 2, 23, 20 -> 62 != 43\n",
      "(1, 2, 23, 21 -> 98 != 43\n",
      "(1, 2, 23, 22 -> 43 != 23\n"
     ]
    }
   ],
   "source": [
    "for i in range(batch_size):\n",
    "    for j in range(num_channels):\n",
    "        for h in range(height):\n",
    "            for w in range(width):\n",
    "                if tiled_mp[i, j, h, w] != repeat_mp[i, j, h, w]:\n",
    "                    print(f\"({i}, {j}, {h}, {w} -> {tiled_mp[i, j, h, w]} != {repeat_mp[i, j, h, w]}\")"
   ]
  },
  {
   "cell_type": "markdown",
   "metadata": {},
   "source": [
    "# convolution"
   ]
  },
  {
   "cell_type": "code",
   "execution_count": 10,
   "metadata": {},
   "outputs": [],
   "source": [
    "from layer import Layer\n",
    "from utils import *\n",
    "import numpy as np\n",
    "\n",
    "\n",
    "class Convolution(Layer):\n",
    "    def __init__(self, num_filters, filter_dim, stride=1, padding=0):\n",
    "        # num_filters: number of output channels\n",
    "        # filter_dim: filter dimension (height, width)\n",
    "        # stride: stride of the convolution. default: 1\n",
    "        # padding: padding of the input (assuming zero padding and square padding). default: 0\n",
    "\n",
    "        self.num_filters = num_filters\n",
    "        self.filter_height, self.filter_width = filter_dim\n",
    "        self.stride = stride\n",
    "        self.padding = padding\n",
    "\n",
    "        # initialize weights and biases\n",
    "        # None, as we don't know the input shape yet\n",
    "        self.weights = None\n",
    "        self.biases = None\n",
    "\n",
    "    def forward(self, input):\n",
    "        # input: (batch_size, num_channels, input_height, input_width)\n",
    "        batch_size, num_channels, input_height, input_width = input.shape\n",
    "\n",
    "        # weights: (num_filters, num_channels, filter_height, filter_width)\n",
    "        # initialize weights xaiver initialization\n",
    "        if self.weights is None:\n",
    "            self.weights = np.random.randn(self.num_filters, num_channels, self.filter_height, self.filter_width) * (\n",
    "                np.sqrt(2 / (\n",
    "                    self.filter_height * self.filter_width\n",
    "                ))\n",
    "            )\n",
    "\n",
    "        # biases: (num_filters, 1)\n",
    "        # initialize biases to 0\n",
    "        if self.biases is None:\n",
    "            self.biases = np.zeros(self.num_filters)\n",
    "\n",
    "        # output: (batch_size, num_filters, output_height, output_width)\n",
    "        output_height = int((input_height - self.filter_height +\n",
    "                            2 * self.padding) / self.stride + 1)\n",
    "        output_width = int((input_width - self.filter_width + 2 *\n",
    "                           self.padding) / self.stride + 1)\n",
    "\n",
    "        output = np.zeros((batch_size, self.num_filters,\n",
    "                          output_height, output_width))\n",
    "\n",
    "        # np.pad: Number of values padded to the edges of each axis.\n",
    "        # ((before_1, after_1), ... (before_N, after_N)) unique pad widths for each axis.\n",
    "        # pad with 'constant' values. default: 0\n",
    "        input_padded = np.pad(input, ((0, 0),\n",
    "                                      (0, 0),\n",
    "                                      (self.padding, self.padding),\n",
    "                                      (self.padding, self.padding)\n",
    "                                      ), 'constant')\n",
    "\n",
    "        for sample_index in range(batch_size):\n",
    "            for filter_index in range(self.num_filters):\n",
    "                for h in range(output_height):\n",
    "                    for w in range(output_width):\n",
    "                        output[sample_index, filter_index, h, w] = np.sum(\n",
    "                            input_padded[sample_index,\n",
    "                                         :,\n",
    "                                         h * self.stride:h * self.stride + self.filter_height,\n",
    "                                         w * self.stride:w * self.stride + self.filter_width\n",
    "                                         ] * self.weights[filter_index]\n",
    "                        ) + self.biases[filter_index]\n",
    "\n",
    "        # vectorized implementation\n",
    "        input_col = im2col(input, self.filter_height,\n",
    "                           self.filter_width, self.stride, self.padding)\n",
    "        weights_col = self.weights.reshape(self.num_filters, -1)\n",
    "        bias_col = self.biases.reshape(-1, 1)\n",
    "\n",
    "        output_col = np.matmul(weights_col, input_col) + bias_col\n",
    "\n",
    "        output_im2col = np.array(np.hsplit(output_col, batch_size)).reshape(\n",
    "            (batch_size, self.num_filters, output_height, output_width))\n",
    "        \n",
    "        # as strided\n",
    "        X_strided = np.lib.stride_tricks.as_strided(\n",
    "            input_padded,\n",
    "            shape=(\n",
    "                batch_size,\n",
    "                num_channels,\n",
    "                output_height,\n",
    "                output_width,\n",
    "                self.filter_height,\n",
    "                self.filter_width\n",
    "                ),\n",
    "            strides=(\n",
    "                input_padded.strides[0],\n",
    "                input_padded.strides[1],\n",
    "                input_padded.strides[2] * self.stride,\n",
    "                input_padded.strides[3] * self.stride,\n",
    "                input_padded.strides[2],\n",
    "                input_padded.strides[3]\n",
    "            )\n",
    "        )\n",
    "        # einsum\n",
    "        output_einsum = np.einsum(\n",
    "            'bcijkl,fckl->bfij',\n",
    "            X_strided, self.weights\n",
    "        )\n",
    "\n",
    "        return output, output_im2col, output_einsum"
   ]
  },
  {
   "cell_type": "code",
   "execution_count": 11,
   "metadata": {},
   "outputs": [],
   "source": [
    "batch_size = 2\n",
    "num_channels = 3\n",
    "height = 5\n",
    "width = 5\n",
    "num_filters = 2\n",
    "filter_dim = (3, 3)\n",
    "stride = 2\n",
    "padding = 1"
   ]
  },
  {
   "cell_type": "code",
   "execution_count": 12,
   "metadata": {},
   "outputs": [],
   "source": [
    "conv = Convolution(num_filters, filter_dim, stride, padding)"
   ]
  },
  {
   "cell_type": "code",
   "execution_count": 13,
   "metadata": {},
   "outputs": [],
   "source": [
    "X = np.random.randint(1,100,(batch_size, num_channels, height, width))"
   ]
  },
  {
   "cell_type": "code",
   "execution_count": 14,
   "metadata": {},
   "outputs": [
    {
     "data": {
      "text/plain": [
       "(2, 3, 5, 5)"
      ]
     },
     "execution_count": 14,
     "metadata": {},
     "output_type": "execute_result"
    }
   ],
   "source": [
    "X.shape"
   ]
  },
  {
   "cell_type": "code",
   "execution_count": 15,
   "metadata": {},
   "outputs": [],
   "source": [
    "output, output_im2col, output_einsum = conv.forward(X)"
   ]
  },
  {
   "cell_type": "code",
   "execution_count": 16,
   "metadata": {},
   "outputs": [
    {
     "data": {
      "text/plain": [
       "(2, 2, 3, 3)"
      ]
     },
     "execution_count": 16,
     "metadata": {},
     "output_type": "execute_result"
    }
   ],
   "source": [
    "output.shape"
   ]
  },
  {
   "cell_type": "code",
   "execution_count": 17,
   "metadata": {},
   "outputs": [
    {
     "data": {
      "text/plain": [
       "(2, 2, 3, 3)"
      ]
     },
     "execution_count": 17,
     "metadata": {},
     "output_type": "execute_result"
    }
   ],
   "source": [
    "output_im2col.shape"
   ]
  },
  {
   "cell_type": "code",
   "execution_count": 18,
   "metadata": {},
   "outputs": [
    {
     "data": {
      "text/plain": [
       "(2, 2, 3, 3)"
      ]
     },
     "execution_count": 18,
     "metadata": {},
     "output_type": "execute_result"
    }
   ],
   "source": [
    "output_einsum.shape"
   ]
  },
  {
   "cell_type": "code",
   "execution_count": 19,
   "metadata": {},
   "outputs": [
    {
     "data": {
      "text/plain": [
       "True"
      ]
     },
     "execution_count": 19,
     "metadata": {},
     "output_type": "execute_result"
    }
   ],
   "source": [
    "np.allclose(output, output_im2col)"
   ]
  },
  {
   "cell_type": "code",
   "execution_count": 20,
   "metadata": {},
   "outputs": [
    {
     "data": {
      "text/plain": [
       "True"
      ]
     },
     "execution_count": 20,
     "metadata": {},
     "output_type": "execute_result"
    }
   ],
   "source": [
    "np.allclose(output, output_einsum)"
   ]
  },
  {
   "cell_type": "code",
   "execution_count": 21,
   "metadata": {},
   "outputs": [
    {
     "data": {
      "text/plain": [
       "True"
      ]
     },
     "execution_count": 21,
     "metadata": {},
     "output_type": "execute_result"
    }
   ],
   "source": [
    "np.allclose(output_im2col, output_einsum)"
   ]
  },
  {
   "cell_type": "markdown",
   "metadata": {},
   "source": [
    "# read"
   ]
  },
  {
   "cell_type": "code",
   "execution_count": 23,
   "metadata": {},
   "outputs": [],
   "source": [
    "import cv2"
   ]
  },
  {
   "cell_type": "code",
   "execution_count": 24,
   "metadata": {},
   "outputs": [],
   "source": [
    "from pathlib import Path"
   ]
  },
  {
   "cell_type": "code",
   "execution_count": 26,
   "metadata": {},
   "outputs": [
    {
     "data": {
      "text/plain": [
       "[WindowsPath('basic_components.py'),\n",
       " WindowsPath('convolution.py'),\n",
       " WindowsPath('flattening.py'),\n",
       " WindowsPath('fullyconnected.py'),\n",
       " WindowsPath('layer.py'),\n",
       " WindowsPath('maxpooling.py'),\n",
       " WindowsPath('model.py'),\n",
       " WindowsPath('relu.py'),\n",
       " WindowsPath('softmax.py'),\n",
       " WindowsPath('testing.ipynb'),\n",
       " WindowsPath('testing.py'),\n",
       " WindowsPath('utils.py'),\n",
       " WindowsPath('__pycache__')]"
      ]
     },
     "execution_count": 26,
     "metadata": {},
     "output_type": "execute_result"
    }
   ],
   "source": [
    "list(Path('.').iterdir())"
   ]
  },
  {
   "cell_type": "code",
   "execution_count": 61,
   "metadata": {},
   "outputs": [],
   "source": [
    "def load_image(folder_path, count):\n",
    "    image_size = (28,28)\n",
    "    folder_path = Path(folder_path)\n",
    "    file_list = list(folder_path.iterdir())\n",
    "    # print(file_list)\n",
    "    images = []\n",
    "    for i, filename in enumerate(file_list):\n",
    "        # print(filename)\n",
    "        # read image\n",
    "        image = cv2.imread(str(filename))\n",
    "        # resize\n",
    "        image = cv2.resize(image, image_size)\n",
    "        # convert to rgb\n",
    "        image = cv2.cvtColor(image, cv2.COLOR_BGR2RGB)\n",
    "        # black ink on white page. invert\n",
    "        image = 255 - image\n",
    "        # normalize\n",
    "        image = image / 255\n",
    "        # channel, height, width\n",
    "        image = image.transpose(2, 0, 1)\n",
    "        images.append(image)\n",
    "        if i == count:\n",
    "            break\n",
    "    return np.array(images)"
   ]
  },
  {
   "cell_type": "code",
   "execution_count": 62,
   "metadata": {},
   "outputs": [],
   "source": [
    "images = load_image('../Assignment4-Materials/NumtaDB_with_aug/training-a/', count=100)"
   ]
  },
  {
   "cell_type": "code",
   "execution_count": 63,
   "metadata": {},
   "outputs": [
    {
     "data": {
      "text/plain": [
       "101"
      ]
     },
     "execution_count": 63,
     "metadata": {},
     "output_type": "execute_result"
    }
   ],
   "source": [
    "len(images)"
   ]
  },
  {
   "cell_type": "code",
   "execution_count": 53,
   "metadata": {},
   "outputs": [],
   "source": [
    "import matplotlib.pyplot as plt"
   ]
  },
  {
   "cell_type": "code",
   "execution_count": 66,
   "metadata": {},
   "outputs": [
    {
     "data": {
      "text/plain": [
       "<matplotlib.image.AxesImage at 0x24c195b3940>"
      ]
     },
     "execution_count": 66,
     "metadata": {},
     "output_type": "execute_result"
    },
    {
     "data": {
      "image/png": "[encoded data removed]",
      "text/plain": [
       "<Figure size 432x288 with 1 Axes>"
      ]
     },
     "metadata": {
      "needs_background": "light"
     },
     "output_type": "display_data"
    }
   ],
   "source": [
    "plt.imshow(images[0].transpose(1,2,0))"
   ]
  },
  {
   "cell_type": "code",
   "execution_count": 60,
   "metadata": {},
   "outputs": [],
   "source": [
    "import pandas as pd"
   ]
  },
  {
   "cell_type": "code",
   "execution_count": 74,
   "metadata": {},
   "outputs": [],
   "source": [
    "# load label from csv\n",
    "csv_path = Path('../Assignment4-Materials/NumtaDB_with_aug/training-a.csv')\n",
    "dataframe = pd.read_csv(csv_path)"
   ]
  },
  {
   "cell_type": "code",
   "execution_count": 75,
   "metadata": {},
   "outputs": [],
   "source": [
    "# take first 100 digits\n",
    "datafram_head = dataframe[:100]"
   ]
  },
  {
   "cell_type": "code",
   "execution_count": 77,
   "metadata": {},
   "outputs": [],
   "source": [
    "y = np.array(datafram_head['digit'])"
   ]
  },
  {
   "cell_type": "code",
   "execution_count": 79,
   "metadata": {},
   "outputs": [
    {
     "data": {
      "text/plain": [
       "(100,)"
      ]
     },
     "execution_count": 79,
     "metadata": {},
     "output_type": "execute_result"
    }
   ],
   "source": [
    "y.shape"
   ]
  },
  {
   "cell_type": "code",
   "execution_count": 80,
   "metadata": {},
   "outputs": [
    {
     "data": {
      "text/plain": [
       "array([[0, 0, 0, 0, 0, 1, 0, 0, 0, 0],\n",
       "       [0, 0, 0, 1, 0, 0, 0, 0, 0, 0],\n",
       "       [0, 1, 0, 0, 0, 0, 0, 0, 0, 0],\n",
       "       [0, 0, 0, 0, 0, 0, 0, 1, 0, 0],\n",
       "       [1, 0, 0, 0, 0, 0, 0, 0, 0, 0],\n",
       "       [0, 0, 0, 0, 1, 0, 0, 0, 0, 0],\n",
       "       [0, 0, 0, 1, 0, 0, 0, 0, 0, 0],\n",
       "       [1, 0, 0, 0, 0, 0, 0, 0, 0, 0],\n",
       "       [0, 0, 0, 0, 1, 0, 0, 0, 0, 0],\n",
       "       [0, 0, 0, 0, 0, 0, 0, 0, 0, 1],\n",
       "       [0, 0, 0, 0, 0, 0, 0, 1, 0, 0],\n",
       "       [0, 0, 0, 1, 0, 0, 0, 0, 0, 0],\n",
       "       [0, 0, 0, 0, 0, 1, 0, 0, 0, 0],\n",
       "       [0, 0, 0, 0, 0, 0, 0, 0, 1, 0],\n",
       "       [0, 1, 0, 0, 0, 0, 0, 0, 0, 0],\n",
       "       [0, 0, 1, 0, 0, 0, 0, 0, 0, 0],\n",
       "       [0, 1, 0, 0, 0, 0, 0, 0, 0, 0],\n",
       "       [0, 0, 0, 0, 0, 0, 1, 0, 0, 0],\n",
       "       [0, 0, 0, 0, 1, 0, 0, 0, 0, 0],\n",
       "       [1, 0, 0, 0, 0, 0, 0, 0, 0, 0],\n",
       "       [0, 1, 0, 0, 0, 0, 0, 0, 0, 0],\n",
       "       [0, 0, 0, 0, 0, 0, 0, 0, 0, 1],\n",
       "       [0, 0, 0, 0, 0, 0, 1, 0, 0, 0],\n",
       "       [0, 0, 0, 0, 0, 1, 0, 0, 0, 0],\n",
       "       [0, 0, 0, 0, 0, 0, 0, 1, 0, 0],\n",
       "       [0, 0, 0, 0, 0, 0, 0, 1, 0, 0],\n",
       "       [0, 0, 0, 0, 0, 0, 0, 1, 0, 0],\n",
       "       [0, 0, 0, 0, 0, 0, 1, 0, 0, 0],\n",
       "       [0, 0, 0, 0, 0, 1, 0, 0, 0, 0],\n",
       "       [0, 0, 0, 0, 0, 0, 0, 0, 1, 0],\n",
       "       [0, 0, 0, 0, 0, 0, 0, 0, 0, 1],\n",
       "       [0, 0, 0, 0, 0, 0, 0, 1, 0, 0],\n",
       "       [0, 0, 1, 0, 0, 0, 0, 0, 0, 0],\n",
       "       [0, 0, 0, 1, 0, 0, 0, 0, 0, 0],\n",
       "       [0, 1, 0, 0, 0, 0, 0, 0, 0, 0],\n",
       "       [0, 0, 0, 0, 0, 0, 1, 0, 0, 0],\n",
       "       [0, 0, 0, 0, 0, 0, 0, 0, 0, 1],\n",
       "       [0, 0, 0, 0, 0, 0, 0, 1, 0, 0],\n",
       "       [1, 0, 0, 0, 0, 0, 0, 0, 0, 0],\n",
       "       [0, 0, 0, 0, 1, 0, 0, 0, 0, 0],\n",
       "       [0, 0, 0, 0, 0, 0, 0, 0, 0, 1],\n",
       "       [0, 0, 0, 0, 0, 1, 0, 0, 0, 0],\n",
       "       [0, 1, 0, 0, 0, 0, 0, 0, 0, 0],\n",
       "       [0, 0, 0, 0, 0, 0, 0, 0, 1, 0],\n",
       "       [0, 1, 0, 0, 0, 0, 0, 0, 0, 0],\n",
       "       [0, 1, 0, 0, 0, 0, 0, 0, 0, 0],\n",
       "       [0, 0, 0, 0, 1, 0, 0, 0, 0, 0],\n",
       "       [0, 0, 0, 0, 0, 0, 0, 1, 0, 0],\n",
       "       [0, 0, 0, 0, 0, 1, 0, 0, 0, 0],\n",
       "       [0, 1, 0, 0, 0, 0, 0, 0, 0, 0],\n",
       "       [0, 1, 0, 0, 0, 0, 0, 0, 0, 0],\n",
       "       [1, 0, 0, 0, 0, 0, 0, 0, 0, 0],\n",
       "       [0, 0, 0, 1, 0, 0, 0, 0, 0, 0],\n",
       "       [0, 0, 0, 0, 0, 0, 0, 1, 0, 0],\n",
       "       [0, 0, 0, 0, 0, 0, 0, 0, 0, 1],\n",
       "       [0, 0, 0, 0, 0, 0, 1, 0, 0, 0],\n",
       "       [0, 0, 0, 0, 0, 0, 1, 0, 0, 0],\n",
       "       [0, 0, 0, 0, 0, 0, 0, 0, 0, 1],\n",
       "       [0, 0, 0, 1, 0, 0, 0, 0, 0, 0],\n",
       "       [0, 0, 1, 0, 0, 0, 0, 0, 0, 0],\n",
       "       [0, 0, 0, 1, 0, 0, 0, 0, 0, 0],\n",
       "       [0, 0, 0, 0, 0, 0, 0, 1, 0, 0],\n",
       "       [0, 0, 0, 0, 0, 1, 0, 0, 0, 0],\n",
       "       [0, 0, 0, 0, 0, 0, 0, 1, 0, 0],\n",
       "       [0, 0, 1, 0, 0, 0, 0, 0, 0, 0],\n",
       "       [0, 0, 0, 0, 0, 1, 0, 0, 0, 0],\n",
       "       [0, 0, 0, 0, 0, 1, 0, 0, 0, 0],\n",
       "       [0, 1, 0, 0, 0, 0, 0, 0, 0, 0],\n",
       "       [0, 1, 0, 0, 0, 0, 0, 0, 0, 0],\n",
       "       [0, 0, 1, 0, 0, 0, 0, 0, 0, 0],\n",
       "       [0, 0, 0, 1, 0, 0, 0, 0, 0, 0],\n",
       "       [0, 0, 1, 0, 0, 0, 0, 0, 0, 0],\n",
       "       [0, 0, 0, 0, 1, 0, 0, 0, 0, 0],\n",
       "       [0, 0, 0, 0, 0, 1, 0, 0, 0, 0],\n",
       "       [0, 1, 0, 0, 0, 0, 0, 0, 0, 0],\n",
       "       [0, 0, 1, 0, 0, 0, 0, 0, 0, 0],\n",
       "       [0, 0, 0, 0, 0, 1, 0, 0, 0, 0],\n",
       "       [0, 0, 0, 0, 1, 0, 0, 0, 0, 0],\n",
       "       [0, 0, 0, 0, 0, 0, 0, 0, 1, 0],\n",
       "       [1, 0, 0, 0, 0, 0, 0, 0, 0, 0],\n",
       "       [0, 0, 0, 0, 1, 0, 0, 0, 0, 0],\n",
       "       [0, 0, 0, 0, 0, 0, 0, 1, 0, 0],\n",
       "       [0, 0, 0, 0, 1, 0, 0, 0, 0, 0],\n",
       "       [0, 0, 0, 0, 0, 0, 0, 0, 1, 0],\n",
       "       [0, 0, 0, 0, 0, 0, 0, 1, 0, 0],\n",
       "       [0, 0, 0, 0, 0, 0, 0, 0, 1, 0],\n",
       "       [1, 0, 0, 0, 0, 0, 0, 0, 0, 0],\n",
       "       [0, 0, 0, 0, 0, 1, 0, 0, 0, 0],\n",
       "       [0, 0, 0, 0, 1, 0, 0, 0, 0, 0],\n",
       "       [1, 0, 0, 0, 0, 0, 0, 0, 0, 0],\n",
       "       [0, 0, 0, 0, 1, 0, 0, 0, 0, 0],\n",
       "       [0, 0, 0, 1, 0, 0, 0, 0, 0, 0],\n",
       "       [0, 1, 0, 0, 0, 0, 0, 0, 0, 0],\n",
       "       [0, 0, 1, 0, 0, 0, 0, 0, 0, 0],\n",
       "       [0, 0, 0, 0, 0, 0, 1, 0, 0, 0],\n",
       "       [0, 0, 0, 0, 0, 0, 1, 0, 0, 0],\n",
       "       [0, 0, 0, 0, 0, 0, 0, 0, 1, 0],\n",
       "       [0, 0, 0, 0, 0, 1, 0, 0, 0, 0],\n",
       "       [0, 0, 0, 0, 0, 0, 1, 0, 0, 0],\n",
       "       [0, 1, 0, 0, 0, 0, 0, 0, 0, 0]])"
      ]
     },
     "execution_count": 80,
     "metadata": {},
     "output_type": "execute_result"
    }
   ],
   "source": [
    "np.eye(10)[y].astype(int)"
   ]
  }
 ],
 "metadata": {
  "kernelspec": {
   "display_name": "Python 3.10.5 64-bit",
   "language": "python",
   "name": "python3"
  },
  "language_info": {
   "codemirror_mode": {
    "name": "ipython",
    "version": 3
   },
   "file_extension": ".py",
   "mimetype": "text/x-python",
   "name": "python",
   "nbconvert_exporter": "python",
   "pygments_lexer": "ipython3",
   "version": "3.10.5"
  },
  "orig_nbformat": 4,
  "vscode": {
   "interpreter": {
    "hash": "df95319d8ce4e1d89f5365ae10992bc1f65da593082b1d264e8f529830ec2f02"
   }
  }
 },
 "nbformat": 4,
 "nbformat_minor": 2
}
