{
 "cells": [
  {
   "cell_type": "markdown",
   "metadata": {},
   "source": [
    "# imports"
   ]
  },
  {
   "cell_type": "code",
   "execution_count": 1,
   "metadata": {},
   "outputs": [],
   "source": [
    "import numpy as np"
   ]
  },
  {
   "cell_type": "markdown",
   "metadata": {},
   "source": [
    "# value initialization"
   ]
  },
  {
   "cell_type": "code",
   "execution_count": 2,
   "metadata": {},
   "outputs": [],
   "source": [
    "num_filters = 2\n",
    "num_channels = 3\n",
    "filter_height = 3\n",
    "filter_width = 3"
   ]
  },
  {
   "cell_type": "code",
   "execution_count": 3,
   "metadata": {},
   "outputs": [],
   "source": [
    "batch_size = 2\n",
    "height = 5\n",
    "width = 5"
   ]
  },
  {
   "cell_type": "code",
   "execution_count": 4,
   "metadata": {},
   "outputs": [],
   "source": [
    "filter_h = 3\n",
    "filter_w = 3\n",
    "stride = 2\n",
    "padding = 1"
   ]
  },
  {
   "cell_type": "code",
   "execution_count": 5,
   "metadata": {},
   "outputs": [],
   "source": [
    "output_height = int((height - filter_h + 2 * padding) / stride + 1)\n",
    "output_width = int((width - filter_w + 2 * padding) / stride + 1)"
   ]
  },
  {
   "cell_type": "markdown",
   "metadata": {},
   "source": [
    "# matrices initialization"
   ]
  },
  {
   "cell_type": "markdown",
   "metadata": {},
   "source": [
    "## weights"
   ]
  },
  {
   "cell_type": "code",
   "execution_count": 6,
   "metadata": {},
   "outputs": [],
   "source": [
    "weights = np.random.randint(0,10,(num_filters, num_channels, filter_height, filter_width))"
   ]
  },
  {
   "cell_type": "code",
   "execution_count": 7,
   "metadata": {},
   "outputs": [
    {
     "data": {
      "text/plain": [
       "array([[[[7, 3, 1],\n",
       "         [2, 6, 7],\n",
       "         [9, 8, 4]],\n",
       "\n",
       "        [[9, 5, 0],\n",
       "         [9, 1, 8],\n",
       "         [9, 8, 2]],\n",
       "\n",
       "        [[1, 4, 5],\n",
       "         [6, 7, 8],\n",
       "         [4, 6, 3]]],\n",
       "\n",
       "\n",
       "       [[[5, 1, 8],\n",
       "         [7, 6, 8],\n",
       "         [5, 4, 0]],\n",
       "\n",
       "        [[7, 0, 3],\n",
       "         [8, 7, 2],\n",
       "         [1, 8, 6]],\n",
       "\n",
       "        [[2, 5, 1],\n",
       "         [9, 2, 9],\n",
       "         [6, 8, 4]]]])"
      ]
     },
     "execution_count": 7,
     "metadata": {},
     "output_type": "execute_result"
    }
   ],
   "source": [
    "weights"
   ]
  },
  {
   "cell_type": "code",
   "execution_count": 8,
   "metadata": {},
   "outputs": [],
   "source": [
    "weights_col = weights.reshape((num_filters, -1))"
   ]
  },
  {
   "cell_type": "code",
   "execution_count": 9,
   "metadata": {},
   "outputs": [
    {
     "data": {
      "text/plain": [
       "array([[7, 3, 1, 2, 6, 7, 9, 8, 4, 9, 5, 0, 9, 1, 8, 9, 8, 2, 1, 4, 5, 6,\n",
       "        7, 8, 4, 6, 3],\n",
       "       [5, 1, 8, 7, 6, 8, 5, 4, 0, 7, 0, 3, 8, 7, 2, 1, 8, 6, 2, 5, 1, 9,\n",
       "        2, 9, 6, 8, 4]])"
      ]
     },
     "execution_count": 9,
     "metadata": {},
     "output_type": "execute_result"
    }
   ],
   "source": [
    "weights_col"
   ]
  },
  {
   "cell_type": "code",
   "execution_count": 10,
   "metadata": {},
   "outputs": [
    {
     "data": {
      "text/plain": [
       "(2, 27)"
      ]
     },
     "execution_count": 10,
     "metadata": {},
     "output_type": "execute_result"
    }
   ],
   "source": [
    "weights_col.shape"
   ]
  },
  {
   "cell_type": "markdown",
   "metadata": {},
   "source": [
    "## bias"
   ]
  },
  {
   "cell_type": "code",
   "execution_count": 11,
   "metadata": {},
   "outputs": [],
   "source": [
    "bias = np.random.randint(0,10,num_filters)"
   ]
  },
  {
   "cell_type": "code",
   "execution_count": 12,
   "metadata": {},
   "outputs": [
    {
     "data": {
      "text/plain": [
       "array([9, 4])"
      ]
     },
     "execution_count": 12,
     "metadata": {},
     "output_type": "execute_result"
    }
   ],
   "source": [
    "bias"
   ]
  },
  {
   "cell_type": "code",
   "execution_count": 13,
   "metadata": {},
   "outputs": [],
   "source": [
    "bias_col = bias.reshape(-1,1)"
   ]
  },
  {
   "cell_type": "code",
   "execution_count": 14,
   "metadata": {},
   "outputs": [
    {
     "data": {
      "text/plain": [
       "array([[9],\n",
       "       [4]])"
      ]
     },
     "execution_count": 14,
     "metadata": {},
     "output_type": "execute_result"
    }
   ],
   "source": [
    "bias_col"
   ]
  },
  {
   "cell_type": "markdown",
   "metadata": {},
   "source": [
    "## input"
   ]
  },
  {
   "cell_type": "code",
   "execution_count": 15,
   "metadata": {},
   "outputs": [
    {
     "data": {
      "text/plain": [
       "array([[[[4, 1, 1, 5, 9],\n",
       "         [1, 9, 9, 3, 9],\n",
       "         [8, 7, 3, 2, 3],\n",
       "         [1, 6, 2, 4, 9],\n",
       "         [7, 9, 4, 3, 7]],\n",
       "\n",
       "        [[4, 3, 9, 0, 9],\n",
       "         [9, 8, 6, 5, 3],\n",
       "         [5, 3, 5, 2, 9],\n",
       "         [1, 6, 9, 2, 0],\n",
       "         [5, 3, 1, 3, 2]],\n",
       "\n",
       "        [[1, 4, 7, 5, 6],\n",
       "         [3, 8, 9, 8, 4],\n",
       "         [8, 8, 3, 0, 4],\n",
       "         [6, 4, 8, 3, 1],\n",
       "         [1, 2, 2, 3, 9]]],\n",
       "\n",
       "\n",
       "       [[[7, 8, 7, 2, 2],\n",
       "         [5, 5, 1, 3, 8],\n",
       "         [7, 0, 7, 9, 3],\n",
       "         [0, 7, 4, 3, 2],\n",
       "         [6, 2, 6, 7, 8]],\n",
       "\n",
       "        [[7, 6, 6, 6, 0],\n",
       "         [1, 3, 1, 4, 3],\n",
       "         [9, 5, 2, 8, 9],\n",
       "         [7, 5, 5, 1, 3],\n",
       "         [8, 2, 5, 7, 6]],\n",
       "\n",
       "        [[4, 3, 5, 2, 1],\n",
       "         [0, 7, 8, 6, 1],\n",
       "         [1, 3, 8, 4, 1],\n",
       "         [7, 3, 6, 8, 9],\n",
       "         [1, 6, 5, 5, 2]]]])"
      ]
     },
     "execution_count": 15,
     "metadata": {},
     "output_type": "execute_result"
    }
   ],
   "source": [
    "X = np.random.randint(0, 10, (batch_size, num_channels, height, width))\n",
    "X"
   ]
  },
  {
   "cell_type": "markdown",
   "metadata": {},
   "source": [
    "# operations"
   ]
  },
  {
   "cell_type": "markdown",
   "metadata": {},
   "source": [
    "## convolve using im2col"
   ]
  },
  {
   "cell_type": "code",
   "execution_count": 16,
   "metadata": {},
   "outputs": [],
   "source": [
    "import utils"
   ]
  },
  {
   "cell_type": "code",
   "execution_count": 18,
   "metadata": {},
   "outputs": [],
   "source": [
    "X_cols = utils.im2col(X, filter_h, filter_w, stride, padding)"
   ]
  },
  {
   "cell_type": "code",
   "execution_count": 19,
   "metadata": {},
   "outputs": [
    {
     "data": {
      "text/plain": [
       "array([[0, 0, 0, 0, 0, 6, 0, 0, 7, 0, 0, 0, 0, 3, 9, 0, 0, 8],\n",
       "       [0, 0, 0, 5, 7, 1, 4, 0, 8, 0, 0, 0, 0, 9, 3, 5, 9, 0],\n",
       "       [0, 0, 0, 0, 6, 0, 0, 7, 0, 0, 0, 0, 3, 9, 0, 0, 8, 0],\n",
       "       [0, 0, 3, 0, 6, 9, 0, 1, 1, 0, 2, 0, 0, 4, 4, 0, 2, 0],\n",
       "       [6, 0, 4, 2, 0, 8, 8, 0, 8, 4, 8, 7, 8, 8, 1, 5, 6, 2],\n",
       "       [0, 3, 0, 6, 9, 0, 1, 1, 0, 2, 0, 0, 4, 4, 0, 2, 0, 0],\n",
       "       [0, 0, 6, 0, 0, 7, 0, 0, 0, 0, 3, 9, 0, 0, 8, 0, 0, 0],\n",
       "       [5, 7, 1, 4, 0, 8, 0, 0, 0, 0, 9, 3, 5, 9, 0, 0, 0, 0],\n",
       "       [0, 6, 0, 0, 7, 0, 0, 0, 0, 3, 9, 0, 0, 8, 0, 0, 0, 0],\n",
       "       [0, 0, 0, 0, 9, 1, 0, 4, 7, 0, 0, 0, 0, 0, 9, 0, 9, 9],\n",
       "       [0, 0, 0, 8, 2, 1, 9, 7, 4, 0, 0, 0, 8, 4, 6, 0, 6, 4],\n",
       "       [0, 0, 0, 9, 1, 0, 4, 7, 0, 0, 0, 0, 0, 9, 0, 9, 9, 0],\n",
       "       [0, 8, 0, 0, 6, 7, 0, 8, 6, 0, 7, 8, 0, 9, 3, 0, 6, 5],\n",
       "       [6, 7, 5, 1, 8, 0, 9, 9, 7, 3, 8, 8, 7, 4, 9, 5, 0, 2],\n",
       "       [8, 0, 0, 6, 7, 0, 8, 6, 0, 7, 8, 0, 9, 3, 0, 6, 5, 0],\n",
       "       [0, 9, 1, 0, 4, 7, 0, 0, 0, 0, 0, 9, 0, 9, 9, 0, 0, 0],\n",
       "       [8, 2, 1, 9, 7, 4, 0, 0, 0, 8, 4, 6, 0, 6, 4, 0, 0, 0],\n",
       "       [9, 1, 0, 4, 7, 0, 0, 0, 0, 0, 9, 0, 9, 9, 0, 0, 0, 0],\n",
       "       [0, 0, 0, 0, 9, 3, 0, 0, 4, 0, 0, 0, 0, 4, 5, 0, 8, 5],\n",
       "       [0, 0, 0, 8, 3, 0, 6, 7, 3, 0, 0, 0, 5, 6, 2, 4, 6, 6],\n",
       "       [0, 0, 0, 9, 3, 0, 0, 4, 0, 0, 0, 0, 4, 5, 0, 8, 5, 0],\n",
       "       [0, 8, 2, 0, 2, 6, 0, 0, 8, 0, 0, 1, 0, 9, 9, 0, 4, 1],\n",
       "       [5, 5, 6, 6, 4, 4, 0, 3, 4, 4, 2, 1, 4, 4, 5, 1, 5, 0],\n",
       "       [8, 2, 0, 2, 6, 0, 0, 8, 0, 0, 1, 0, 9, 9, 0, 4, 1, 0],\n",
       "       [0, 9, 3, 0, 0, 4, 0, 0, 0, 0, 4, 5, 0, 8, 5, 0, 0, 0],\n",
       "       [8, 3, 0, 6, 7, 3, 0, 0, 0, 5, 6, 2, 4, 6, 6, 0, 0, 0],\n",
       "       [9, 3, 0, 0, 4, 0, 0, 0, 0, 4, 5, 0, 8, 5, 0, 0, 0, 0]])"
      ]
     },
     "execution_count": 19,
     "metadata": {},
     "output_type": "execute_result"
    }
   ],
   "source": [
    "X_cols"
   ]
  },
  {
   "cell_type": "code",
   "execution_count": 20,
   "metadata": {},
   "outputs": [
    {
     "data": {
      "text/plain": [
       "(2, 27)"
      ]
     },
     "execution_count": 20,
     "metadata": {},
     "output_type": "execute_result"
    }
   ],
   "source": [
    "weights_col.shape"
   ]
  },
  {
   "cell_type": "code",
   "execution_count": 21,
   "metadata": {},
   "outputs": [
    {
     "data": {
      "text/plain": [
       "(27, 18)"
      ]
     },
     "execution_count": 21,
     "metadata": {},
     "output_type": "execute_result"
    }
   ],
   "source": [
    "X_cols.shape"
   ]
  },
  {
   "cell_type": "code",
   "execution_count": 22,
   "metadata": {},
   "outputs": [],
   "source": [
    "output_col = np.matmul(weights_col, X_cols) + bias_col"
   ]
  },
  {
   "cell_type": "code",
   "execution_count": 23,
   "metadata": {},
   "outputs": [
    {
     "data": {
      "text/plain": [
       "array([[260, 274, 177, 327, 514, 304, 177, 232, 267, 202, 324, 250, 267,\n",
       "        573, 388, 219, 345, 122],\n",
       "       [374, 318, 161, 415, 611, 288, 211, 336, 248, 238, 432, 210, 388,\n",
       "        668, 381, 272, 387, 168]])"
      ]
     },
     "execution_count": 23,
     "metadata": {},
     "output_type": "execute_result"
    }
   ],
   "source": [
    "output_col"
   ]
  },
  {
   "cell_type": "code",
   "execution_count": 30,
   "metadata": {},
   "outputs": [],
   "source": [
    "# output_im2col = output_col.reshape(batch_size, num_filters, output_height, output_width)"
   ]
  },
  {
   "cell_type": "code",
   "execution_count": 24,
   "metadata": {},
   "outputs": [],
   "source": [
    "output_im2col = np.array(np.hsplit(output_col, batch_size)).reshape(batch_size, num_filters, output_height, output_width)"
   ]
  },
  {
   "cell_type": "markdown",
   "metadata": {},
   "source": [
    "## convolve using loops"
   ]
  },
  {
   "cell_type": "code",
   "execution_count": 25,
   "metadata": {},
   "outputs": [],
   "source": [
    "batch_size, num_channels, height, width = X.shape"
   ]
  },
  {
   "cell_type": "code",
   "execution_count": 26,
   "metadata": {},
   "outputs": [],
   "source": [
    "num_filters, num_channels, filter_h, filter_w = weights.shape"
   ]
  },
  {
   "cell_type": "code",
   "execution_count": 28,
   "metadata": {},
   "outputs": [],
   "source": [
    "output = np.zeros((batch_size, num_filters, output_height, output_width))"
   ]
  },
  {
   "cell_type": "code",
   "execution_count": 16,
   "metadata": {},
   "outputs": [],
   "source": [
    "X_padded = np.pad(X, ((0, 0),\n",
    "                        (0, 0),\n",
    "                        (padding, padding),\n",
    "                        (padding, padding)\n",
    "                        ), 'constant')"
   ]
  },
  {
   "cell_type": "code",
   "execution_count": 17,
   "metadata": {},
   "outputs": [
    {
     "data": {
      "text/plain": [
       "array([[[[0, 0, 0, 0, 0, 0, 0],\n",
       "         [0, 4, 1, 1, 5, 9, 0],\n",
       "         [0, 1, 9, 9, 3, 9, 0],\n",
       "         [0, 8, 7, 3, 2, 3, 0],\n",
       "         [0, 1, 6, 2, 4, 9, 0],\n",
       "         [0, 7, 9, 4, 3, 7, 0],\n",
       "         [0, 0, 0, 0, 0, 0, 0]],\n",
       "\n",
       "        [[0, 0, 0, 0, 0, 0, 0],\n",
       "         [0, 4, 3, 9, 0, 9, 0],\n",
       "         [0, 9, 8, 6, 5, 3, 0],\n",
       "         [0, 5, 3, 5, 2, 9, 0],\n",
       "         [0, 1, 6, 9, 2, 0, 0],\n",
       "         [0, 5, 3, 1, 3, 2, 0],\n",
       "         [0, 0, 0, 0, 0, 0, 0]],\n",
       "\n",
       "        [[0, 0, 0, 0, 0, 0, 0],\n",
       "         [0, 1, 4, 7, 5, 6, 0],\n",
       "         [0, 3, 8, 9, 8, 4, 0],\n",
       "         [0, 8, 8, 3, 0, 4, 0],\n",
       "         [0, 6, 4, 8, 3, 1, 0],\n",
       "         [0, 1, 2, 2, 3, 9, 0],\n",
       "         [0, 0, 0, 0, 0, 0, 0]]],\n",
       "\n",
       "\n",
       "       [[[0, 0, 0, 0, 0, 0, 0],\n",
       "         [0, 7, 8, 7, 2, 2, 0],\n",
       "         [0, 5, 5, 1, 3, 8, 0],\n",
       "         [0, 7, 0, 7, 9, 3, 0],\n",
       "         [0, 0, 7, 4, 3, 2, 0],\n",
       "         [0, 6, 2, 6, 7, 8, 0],\n",
       "         [0, 0, 0, 0, 0, 0, 0]],\n",
       "\n",
       "        [[0, 0, 0, 0, 0, 0, 0],\n",
       "         [0, 7, 6, 6, 6, 0, 0],\n",
       "         [0, 1, 3, 1, 4, 3, 0],\n",
       "         [0, 9, 5, 2, 8, 9, 0],\n",
       "         [0, 7, 5, 5, 1, 3, 0],\n",
       "         [0, 8, 2, 5, 7, 6, 0],\n",
       "         [0, 0, 0, 0, 0, 0, 0]],\n",
       "\n",
       "        [[0, 0, 0, 0, 0, 0, 0],\n",
       "         [0, 4, 3, 5, 2, 1, 0],\n",
       "         [0, 0, 7, 8, 6, 1, 0],\n",
       "         [0, 1, 3, 8, 4, 1, 0],\n",
       "         [0, 7, 3, 6, 8, 9, 0],\n",
       "         [0, 1, 6, 5, 5, 2, 0],\n",
       "         [0, 0, 0, 0, 0, 0, 0]]]])"
      ]
     },
     "execution_count": 17,
     "metadata": {},
     "output_type": "execute_result"
    }
   ],
   "source": [
    "X_padded"
   ]
  },
  {
   "cell_type": "code",
   "execution_count": 18,
   "metadata": {},
   "outputs": [
    {
     "data": {
      "text/plain": [
       "(2, 3, 5, 5)"
      ]
     },
     "execution_count": 18,
     "metadata": {},
     "output_type": "execute_result"
    }
   ],
   "source": [
    "X.shape"
   ]
  },
  {
   "cell_type": "code",
   "execution_count": 19,
   "metadata": {},
   "outputs": [
    {
     "data": {
      "text/plain": [
       "(2, 3, 7, 7)"
      ]
     },
     "execution_count": 19,
     "metadata": {},
     "output_type": "execute_result"
    }
   ],
   "source": [
    "X_padded.shape"
   ]
  },
  {
   "cell_type": "code",
   "execution_count": 30,
   "metadata": {},
   "outputs": [
    {
     "data": {
      "text/plain": [
       "array([3, 2])"
      ]
     },
     "execution_count": 30,
     "metadata": {},
     "output_type": "execute_result"
    }
   ],
   "source": [
    "bias"
   ]
  },
  {
   "cell_type": "code",
   "execution_count": 25,
   "metadata": {},
   "outputs": [],
   "source": [
    "biases = bias"
   ]
  },
  {
   "cell_type": "code",
   "execution_count": 26,
   "metadata": {},
   "outputs": [
    {
     "data": {
      "text/plain": [
       "array([9, 4])"
      ]
     },
     "execution_count": 26,
     "metadata": {},
     "output_type": "execute_result"
    }
   ],
   "source": [
    "biases"
   ]
  },
  {
   "cell_type": "code",
   "execution_count": 29,
   "metadata": {},
   "outputs": [
    {
     "data": {
      "text/plain": [
       "(2, 2, 3, 3)"
      ]
     },
     "execution_count": 29,
     "metadata": {},
     "output_type": "execute_result"
    }
   ],
   "source": [
    "output.shape"
   ]
  },
  {
   "cell_type": "code",
   "execution_count": 30,
   "metadata": {},
   "outputs": [],
   "source": [
    "for sample_index in range(batch_size):\n",
    "            for filter_index in range(num_filters):\n",
    "                for h in range(output_height):\n",
    "                    for w in range(output_width):\n",
    "                        output[sample_index, filter_index, h, w] = np.sum(\n",
    "                            X_padded[sample_index,\n",
    "                                         :,\n",
    "                                         h * stride:h * stride + filter_height,\n",
    "                                         w * stride:w * stride + filter_width\n",
    "                                         ] * weights[filter_index]\n",
    "                        ) + biases[filter_index]"
   ]
  },
  {
   "cell_type": "code",
   "execution_count": 34,
   "metadata": {},
   "outputs": [
    {
     "data": {
      "text/plain": [
       "array([[[[260., 274., 177.],\n",
       "         [327., 514., 304.],\n",
       "         [177., 232., 267.]],\n",
       "\n",
       "        [[374., 318., 161.],\n",
       "         [415., 611., 288.],\n",
       "         [211., 336., 248.]]],\n",
       "\n",
       "\n",
       "       [[[202., 324., 250.],\n",
       "         [267., 573., 388.],\n",
       "         [219., 345., 122.]],\n",
       "\n",
       "        [[238., 432., 210.],\n",
       "         [388., 668., 381.],\n",
       "         [272., 387., 168.]]]])"
      ]
     },
     "execution_count": 34,
     "metadata": {},
     "output_type": "execute_result"
    }
   ],
   "source": [
    "output"
   ]
  },
  {
   "cell_type": "code",
   "execution_count": 35,
   "metadata": {},
   "outputs": [
    {
     "data": {
      "text/plain": [
       "(2, 2, 3, 3)"
      ]
     },
     "execution_count": 35,
     "metadata": {},
     "output_type": "execute_result"
    }
   ],
   "source": [
    "output.shape"
   ]
  },
  {
   "cell_type": "code",
   "execution_count": 36,
   "metadata": {},
   "outputs": [
    {
     "data": {
      "text/plain": [
       "(2, 2, 3, 3)"
      ]
     },
     "execution_count": 36,
     "metadata": {},
     "output_type": "execute_result"
    }
   ],
   "source": [
    "output_im2col.shape"
   ]
  },
  {
   "cell_type": "code",
   "execution_count": 37,
   "metadata": {},
   "outputs": [
    {
     "data": {
      "text/plain": [
       "array([[[[260, 274, 177],\n",
       "         [327, 514, 304],\n",
       "         [177, 232, 267]],\n",
       "\n",
       "        [[374, 318, 161],\n",
       "         [415, 611, 288],\n",
       "         [211, 336, 248]]],\n",
       "\n",
       "\n",
       "       [[[202, 324, 250],\n",
       "         [267, 573, 388],\n",
       "         [219, 345, 122]],\n",
       "\n",
       "        [[238, 432, 210],\n",
       "         [388, 668, 381],\n",
       "         [272, 387, 168]]]])"
      ]
     },
     "execution_count": 37,
     "metadata": {},
     "output_type": "execute_result"
    }
   ],
   "source": [
    "output_im2col"
   ]
  },
  {
   "cell_type": "code",
   "execution_count": 38,
   "metadata": {},
   "outputs": [
    {
     "data": {
      "text/plain": [
       "True"
      ]
     },
     "execution_count": 38,
     "metadata": {},
     "output_type": "execute_result"
    }
   ],
   "source": [
    "np.allclose(output, output_im2col)"
   ]
  },
  {
   "cell_type": "markdown",
   "metadata": {},
   "source": [
    "## convolve using as strided"
   ]
  },
  {
   "cell_type": "code",
   "execution_count": 20,
   "metadata": {},
   "outputs": [],
   "source": [
    "from numpy.lib.stride_tricks import as_strided"
   ]
  },
  {
   "cell_type": "code",
   "execution_count": 43,
   "metadata": {},
   "outputs": [],
   "source": [
    "\n",
    "arr = np.arange(1, 25).reshape(4, 6) % 10\n"
   ]
  },
  {
   "cell_type": "code",
   "execution_count": 44,
   "metadata": {},
   "outputs": [
    {
     "data": {
      "text/plain": [
       "array([[1, 2, 3, 4, 5, 6],\n",
       "       [7, 8, 9, 0, 1, 2],\n",
       "       [3, 4, 5, 6, 7, 8],\n",
       "       [9, 0, 1, 2, 3, 4]], dtype=int32)"
      ]
     },
     "execution_count": 44,
     "metadata": {},
     "output_type": "execute_result"
    }
   ],
   "source": [
    "arr"
   ]
  },
  {
   "cell_type": "code",
   "execution_count": 48,
   "metadata": {},
   "outputs": [
    {
     "data": {
      "text/plain": [
       "(4, 6)"
      ]
     },
     "execution_count": 48,
     "metadata": {},
     "output_type": "execute_result"
    }
   ],
   "source": [
    "arr.shape"
   ]
  },
  {
   "cell_type": "code",
   "execution_count": 45,
   "metadata": {},
   "outputs": [],
   "source": [
    "sub_shape = (3, 3)"
   ]
  },
  {
   "cell_type": "code",
   "execution_count": 46,
   "metadata": {},
   "outputs": [],
   "source": [
    "\n",
    "view_shape = tuple(np.subtract(arr.shape, sub_shape) + 1) + sub_shape"
   ]
  },
  {
   "cell_type": "code",
   "execution_count": 47,
   "metadata": {},
   "outputs": [
    {
     "data": {
      "text/plain": [
       "(2, 4, 3, 3)"
      ]
     },
     "execution_count": 47,
     "metadata": {},
     "output_type": "execute_result"
    }
   ],
   "source": [
    "view_shape"
   ]
  },
  {
   "cell_type": "code",
   "execution_count": 56,
   "metadata": {},
   "outputs": [
    {
     "data": {
      "text/plain": [
       "(2, 4, 3, 3)"
      ]
     },
     "execution_count": 56,
     "metadata": {},
     "output_type": "execute_result"
    }
   ],
   "source": [
    "as_strided(arr, view_shape, arr.strides * 2).shape"
   ]
  },
  {
   "cell_type": "code",
   "execution_count": 51,
   "metadata": {},
   "outputs": [],
   "source": [
    "arr_view = as_strided(arr, view_shape, arr.strides * 2)"
   ]
  },
  {
   "cell_type": "code",
   "execution_count": 52,
   "metadata": {},
   "outputs": [
    {
     "data": {
      "text/plain": [
       "array([[[[1, 2, 3],\n",
       "         [7, 8, 9],\n",
       "         [3, 4, 5]],\n",
       "\n",
       "        [[2, 3, 4],\n",
       "         [8, 9, 0],\n",
       "         [4, 5, 6]],\n",
       "\n",
       "        [[3, 4, 5],\n",
       "         [9, 0, 1],\n",
       "         [5, 6, 7]],\n",
       "\n",
       "        [[4, 5, 6],\n",
       "         [0, 1, 2],\n",
       "         [6, 7, 8]]],\n",
       "\n",
       "\n",
       "       [[[7, 8, 9],\n",
       "         [3, 4, 5],\n",
       "         [9, 0, 1]],\n",
       "\n",
       "        [[8, 9, 0],\n",
       "         [4, 5, 6],\n",
       "         [0, 1, 2]],\n",
       "\n",
       "        [[9, 0, 1],\n",
       "         [5, 6, 7],\n",
       "         [1, 2, 3]],\n",
       "\n",
       "        [[0, 1, 2],\n",
       "         [6, 7, 8],\n",
       "         [2, 3, 4]]]], dtype=int32)"
      ]
     },
     "execution_count": 52,
     "metadata": {},
     "output_type": "execute_result"
    }
   ],
   "source": [
    "arr_view"
   ]
  },
  {
   "cell_type": "code",
   "execution_count": 53,
   "metadata": {},
   "outputs": [],
   "source": [
    "\n",
    "arr_view = arr_view.reshape((-1,) + sub_shape)"
   ]
  },
  {
   "cell_type": "code",
   "execution_count": 54,
   "metadata": {},
   "outputs": [
    {
     "data": {
      "text/plain": [
       "array([[[1, 2, 3],\n",
       "        [7, 8, 9],\n",
       "        [3, 4, 5]],\n",
       "\n",
       "       [[2, 3, 4],\n",
       "        [8, 9, 0],\n",
       "        [4, 5, 6]],\n",
       "\n",
       "       [[3, 4, 5],\n",
       "        [9, 0, 1],\n",
       "        [5, 6, 7]],\n",
       "\n",
       "       [[4, 5, 6],\n",
       "        [0, 1, 2],\n",
       "        [6, 7, 8]],\n",
       "\n",
       "       [[7, 8, 9],\n",
       "        [3, 4, 5],\n",
       "        [9, 0, 1]],\n",
       "\n",
       "       [[8, 9, 0],\n",
       "        [4, 5, 6],\n",
       "        [0, 1, 2]],\n",
       "\n",
       "       [[9, 0, 1],\n",
       "        [5, 6, 7],\n",
       "        [1, 2, 3]],\n",
       "\n",
       "       [[0, 1, 2],\n",
       "        [6, 7, 8],\n",
       "        [2, 3, 4]]], dtype=int32)"
      ]
     },
     "execution_count": 54,
     "metadata": {},
     "output_type": "execute_result"
    }
   ],
   "source": [
    "arr_view"
   ]
  },
  {
   "cell_type": "code",
   "execution_count": 55,
   "metadata": {},
   "outputs": [
    {
     "data": {
      "text/plain": [
       "(8, 3, 3)"
      ]
     },
     "execution_count": 55,
     "metadata": {},
     "output_type": "execute_result"
    }
   ],
   "source": [
    "arr_view.shape"
   ]
  },
  {
   "cell_type": "code",
   "execution_count": 58,
   "metadata": {},
   "outputs": [],
   "source": [
    "arr = np.arange(1, 26).reshape(5, 5)"
   ]
  },
  {
   "cell_type": "code",
   "execution_count": 59,
   "metadata": {},
   "outputs": [
    {
     "data": {
      "text/plain": [
       "array([[ 1,  2,  3,  4,  5],\n",
       "       [ 6,  7,  8,  9, 10],\n",
       "       [11, 12, 13, 14, 15],\n",
       "       [16, 17, 18, 19, 20],\n",
       "       [21, 22, 23, 24, 25]])"
      ]
     },
     "execution_count": 59,
     "metadata": {},
     "output_type": "execute_result"
    }
   ],
   "source": [
    "arr"
   ]
  },
  {
   "cell_type": "code",
   "execution_count": 73,
   "metadata": {},
   "outputs": [],
   "source": [
    "stride_count = 3"
   ]
  },
  {
   "cell_type": "code",
   "execution_count": 74,
   "metadata": {},
   "outputs": [],
   "source": [
    "new_stride = (arr.strides[0] * stride_count,arr.strides[1] * stride_count,arr.strides[0],arr.strides[1])"
   ]
  },
  {
   "cell_type": "code",
   "execution_count": 68,
   "metadata": {},
   "outputs": [
    {
     "data": {
      "text/plain": [
       "(40, 8, 20, 4)"
      ]
     },
     "execution_count": 68,
     "metadata": {},
     "output_type": "execute_result"
    }
   ],
   "source": [
    "new_stride"
   ]
  },
  {
   "cell_type": "code",
   "execution_count": 75,
   "metadata": {},
   "outputs": [
    {
     "data": {
      "text/plain": [
       "array([[[[          1,           2,           3],\n",
       "         [          6,           7,           8],\n",
       "         [         11,          12,          13]],\n",
       "\n",
       "        [[          4,           5,           6],\n",
       "         [          9,          10,          11],\n",
       "         [         14,          15,          16]]],\n",
       "\n",
       "\n",
       "       [[[         16,          17,          18],\n",
       "         [         21,          22,          23],\n",
       "         [  859202354,  1116456951, -1879046912]],\n",
       "\n",
       "        [[         19,          20,          21],\n",
       "         [         24,          25,   859202354],\n",
       "         [ -563353952,       32764, -2023983936]]]])"
      ]
     },
     "execution_count": 75,
     "metadata": {},
     "output_type": "execute_result"
    }
   ],
   "source": [
    "as_strided(arr, shape=(2,2,3,3), strides=new_stride)"
   ]
  },
  {
   "cell_type": "code",
   "execution_count": 100,
   "metadata": {},
   "outputs": [],
   "source": [
    "arr = np.random.randint(0,100,(batch_size, num_channels, height, width))"
   ]
  },
  {
   "cell_type": "code",
   "execution_count": 101,
   "metadata": {},
   "outputs": [
    {
     "data": {
      "text/plain": [
       "array([[[[85, 17, 40, 10, 77],\n",
       "         [ 3, 91, 82, 19, 29],\n",
       "         [47, 45, 21, 35, 80],\n",
       "         [63, 33, 89, 43, 18],\n",
       "         [94, 73, 32, 71, 15]],\n",
       "\n",
       "        [[87, 78,  2, 99, 29],\n",
       "         [59, 22, 92, 96, 22],\n",
       "         [77, 97, 27, 67, 81],\n",
       "         [88, 49, 91, 45, 54],\n",
       "         [78, 42, 91, 60, 49]],\n",
       "\n",
       "        [[79, 77, 76, 67,  7],\n",
       "         [ 6, 13, 11, 54, 46],\n",
       "         [34, 86, 75, 87, 13],\n",
       "         [12, 31, 84, 10, 53],\n",
       "         [89, 38, 24,  7, 75]]],\n",
       "\n",
       "\n",
       "       [[[81, 81, 45, 38, 49],\n",
       "         [73, 68, 44, 78, 74],\n",
       "         [56, 82, 83, 84, 33],\n",
       "         [86, 65, 68,  8, 75],\n",
       "         [67, 72, 58, 85, 44]],\n",
       "\n",
       "        [[36,  6,  7, 16, 32],\n",
       "         [48, 55, 61, 91, 11],\n",
       "         [15, 91, 64, 49, 81],\n",
       "         [26, 43, 31, 54, 42],\n",
       "         [56, 93, 29, 45,  1]],\n",
       "\n",
       "        [[38,  9, 25, 59, 88],\n",
       "         [ 6, 75, 42, 15, 72],\n",
       "         [56, 91, 74, 19, 75],\n",
       "         [ 0, 62, 98, 74, 94],\n",
       "         [57, 88,  0, 30, 88]]]])"
      ]
     },
     "execution_count": 101,
     "metadata": {},
     "output_type": "execute_result"
    }
   ],
   "source": [
    "arr"
   ]
  },
  {
   "cell_type": "code",
   "execution_count": 105,
   "metadata": {},
   "outputs": [],
   "source": [
    "# flattened array\n",
    "out_arr = arr.reshape(batch_size, -1)"
   ]
  },
  {
   "cell_type": "code",
   "execution_count": 109,
   "metadata": {},
   "outputs": [
    {
     "data": {
      "text/plain": [
       "array([[[[85, 17, 40, 10, 77],\n",
       "         [ 3, 91, 82, 19, 29],\n",
       "         [47, 45, 21, 35, 80],\n",
       "         [63, 33, 89, 43, 18],\n",
       "         [94, 73, 32, 71, 15]],\n",
       "\n",
       "        [[87, 78,  2, 99, 29],\n",
       "         [59, 22, 92, 96, 22],\n",
       "         [77, 97, 27, 67, 81],\n",
       "         [88, 49, 91, 45, 54],\n",
       "         [78, 42, 91, 60, 49]],\n",
       "\n",
       "        [[79, 77, 76, 67,  7],\n",
       "         [ 6, 13, 11, 54, 46],\n",
       "         [34, 86, 75, 87, 13],\n",
       "         [12, 31, 84, 10, 53],\n",
       "         [89, 38, 24,  7, 75]]],\n",
       "\n",
       "\n",
       "       [[[81, 81, 45, 38, 49],\n",
       "         [73, 68, 44, 78, 74],\n",
       "         [56, 82, 83, 84, 33],\n",
       "         [86, 65, 68,  8, 75],\n",
       "         [67, 72, 58, 85, 44]],\n",
       "\n",
       "        [[36,  6,  7, 16, 32],\n",
       "         [48, 55, 61, 91, 11],\n",
       "         [15, 91, 64, 49, 81],\n",
       "         [26, 43, 31, 54, 42],\n",
       "         [56, 93, 29, 45,  1]],\n",
       "\n",
       "        [[38,  9, 25, 59, 88],\n",
       "         [ 6, 75, 42, 15, 72],\n",
       "         [56, 91, 74, 19, 75],\n",
       "         [ 0, 62, 98, 74, 94],\n",
       "         [57, 88,  0, 30, 88]]]])"
      ]
     },
     "execution_count": 109,
     "metadata": {},
     "output_type": "execute_result"
    }
   ],
   "source": [
    "arr"
   ]
  },
  {
   "cell_type": "code",
   "execution_count": 108,
   "metadata": {},
   "outputs": [
    {
     "data": {
      "text/plain": [
       "array([[85, 17, 40, 10, 77,  3, 91, 82, 19, 29, 47, 45, 21, 35, 80, 63,\n",
       "        33, 89, 43, 18, 94, 73, 32, 71, 15, 87, 78,  2, 99, 29, 59, 22,\n",
       "        92, 96, 22, 77, 97, 27, 67, 81, 88, 49, 91, 45, 54, 78, 42, 91,\n",
       "        60, 49, 79, 77, 76, 67,  7,  6, 13, 11, 54, 46, 34, 86, 75, 87,\n",
       "        13, 12, 31, 84, 10, 53, 89, 38, 24,  7, 75],\n",
       "       [81, 81, 45, 38, 49, 73, 68, 44, 78, 74, 56, 82, 83, 84, 33, 86,\n",
       "        65, 68,  8, 75, 67, 72, 58, 85, 44, 36,  6,  7, 16, 32, 48, 55,\n",
       "        61, 91, 11, 15, 91, 64, 49, 81, 26, 43, 31, 54, 42, 56, 93, 29,\n",
       "        45,  1, 38,  9, 25, 59, 88,  6, 75, 42, 15, 72, 56, 91, 74, 19,\n",
       "        75,  0, 62, 98, 74, 94, 57, 88,  0, 30, 88]])"
      ]
     },
     "execution_count": 108,
     "metadata": {},
     "output_type": "execute_result"
    }
   ],
   "source": [
    "np.reshape(arr, (batch_size, np.prod(arr.shape[1:])))"
   ]
  },
  {
   "cell_type": "code",
   "execution_count": 106,
   "metadata": {},
   "outputs": [
    {
     "data": {
      "text/plain": [
       "array([[85, 17, 40, 10, 77,  3, 91, 82, 19, 29, 47, 45, 21, 35, 80, 63,\n",
       "        33, 89, 43, 18, 94, 73, 32, 71, 15, 87, 78,  2, 99, 29, 59, 22,\n",
       "        92, 96, 22, 77, 97, 27, 67, 81, 88, 49, 91, 45, 54, 78, 42, 91,\n",
       "        60, 49, 79, 77, 76, 67,  7,  6, 13, 11, 54, 46, 34, 86, 75, 87,\n",
       "        13, 12, 31, 84, 10, 53, 89, 38, 24,  7, 75],\n",
       "       [81, 81, 45, 38, 49, 73, 68, 44, 78, 74, 56, 82, 83, 84, 33, 86,\n",
       "        65, 68,  8, 75, 67, 72, 58, 85, 44, 36,  6,  7, 16, 32, 48, 55,\n",
       "        61, 91, 11, 15, 91, 64, 49, 81, 26, 43, 31, 54, 42, 56, 93, 29,\n",
       "        45,  1, 38,  9, 25, 59, 88,  6, 75, 42, 15, 72, 56, 91, 74, 19,\n",
       "        75,  0, 62, 98, 74, 94, 57, 88,  0, 30, 88]])"
      ]
     },
     "execution_count": 106,
     "metadata": {},
     "output_type": "execute_result"
    }
   ],
   "source": [
    "out_arr"
   ]
  },
  {
   "cell_type": "code",
   "execution_count": 107,
   "metadata": {},
   "outputs": [
    {
     "data": {
      "text/plain": [
       "(2, 75)"
      ]
     },
     "execution_count": 107,
     "metadata": {},
     "output_type": "execute_result"
    }
   ],
   "source": [
    "out_arr.shape"
   ]
  },
  {
   "cell_type": "code",
   "execution_count": 110,
   "metadata": {},
   "outputs": [
    {
     "data": {
      "text/plain": [
       "array([[85, 81],\n",
       "       [17, 81],\n",
       "       [40, 45],\n",
       "       [10, 38],\n",
       "       [77, 49],\n",
       "       [ 3, 73],\n",
       "       [91, 68],\n",
       "       [82, 44],\n",
       "       [19, 78],\n",
       "       [29, 74],\n",
       "       [47, 56],\n",
       "       [45, 82],\n",
       "       [21, 83],\n",
       "       [35, 84],\n",
       "       [80, 33],\n",
       "       [63, 86],\n",
       "       [33, 65],\n",
       "       [89, 68],\n",
       "       [43,  8],\n",
       "       [18, 75],\n",
       "       [94, 67],\n",
       "       [73, 72],\n",
       "       [32, 58],\n",
       "       [71, 85],\n",
       "       [15, 44],\n",
       "       [87, 36],\n",
       "       [78,  6],\n",
       "       [ 2,  7],\n",
       "       [99, 16],\n",
       "       [29, 32],\n",
       "       [59, 48],\n",
       "       [22, 55],\n",
       "       [92, 61],\n",
       "       [96, 91],\n",
       "       [22, 11],\n",
       "       [77, 15],\n",
       "       [97, 91],\n",
       "       [27, 64],\n",
       "       [67, 49],\n",
       "       [81, 81],\n",
       "       [88, 26],\n",
       "       [49, 43],\n",
       "       [91, 31],\n",
       "       [45, 54],\n",
       "       [54, 42],\n",
       "       [78, 56],\n",
       "       [42, 93],\n",
       "       [91, 29],\n",
       "       [60, 45],\n",
       "       [49,  1],\n",
       "       [79, 38],\n",
       "       [77,  9],\n",
       "       [76, 25],\n",
       "       [67, 59],\n",
       "       [ 7, 88],\n",
       "       [ 6,  6],\n",
       "       [13, 75],\n",
       "       [11, 42],\n",
       "       [54, 15],\n",
       "       [46, 72],\n",
       "       [34, 56],\n",
       "       [86, 91],\n",
       "       [75, 74],\n",
       "       [87, 19],\n",
       "       [13, 75],\n",
       "       [12,  0],\n",
       "       [31, 62],\n",
       "       [84, 98],\n",
       "       [10, 74],\n",
       "       [53, 94],\n",
       "       [89, 57],\n",
       "       [38, 88],\n",
       "       [24,  0],\n",
       "       [ 7, 30],\n",
       "       [75, 88]])"
      ]
     },
     "execution_count": 110,
     "metadata": {},
     "output_type": "execute_result"
    }
   ],
   "source": [
    "out_arr.T"
   ]
  },
  {
   "cell_type": "code",
   "execution_count": 112,
   "metadata": {},
   "outputs": [
    {
     "data": {
      "text/plain": [
       "(2, 3, 5, 5)"
      ]
     },
     "execution_count": 112,
     "metadata": {},
     "output_type": "execute_result"
    }
   ],
   "source": [
    "arr.shape"
   ]
  },
  {
   "cell_type": "code",
   "execution_count": 21,
   "metadata": {},
   "outputs": [],
   "source": [
    "X_strided = as_strided(\n",
    "                    X_padded, shape=(\n",
    "                                    batch_size,\n",
    "                                    num_channels,\n",
    "                                    output_height,\n",
    "                                    output_width,\n",
    "                                    filter_h,\n",
    "                                    filter_w\n",
    "                                ), strides=(\n",
    "                                    X.strides[0],\n",
    "                                    X.strides[1],\n",
    "                                    X.strides[2] * stride,\n",
    "                                    X.strides[3] * stride,\n",
    "                                    X.strides[2],\n",
    "                                    X.strides[3]\n",
    "                                )\n",
    "                    )"
   ]
  },
  {
   "cell_type": "code",
   "execution_count": 22,
   "metadata": {},
   "outputs": [
    {
     "data": {
      "text/plain": [
       "(2, 3, 3, 3, 3, 3)"
      ]
     },
     "execution_count": 22,
     "metadata": {},
     "output_type": "execute_result"
    }
   ],
   "source": [
    "X_strided.shape"
   ]
  },
  {
   "cell_type": "code",
   "execution_count": 23,
   "metadata": {},
   "outputs": [],
   "source": [
    "output_strided = np.einsum('bcklmn,fcmn->bfkl', X_strided, weights)"
   ]
  },
  {
   "cell_type": "code",
   "execution_count": 24,
   "metadata": {},
   "outputs": [
    {
     "data": {
      "text/plain": [
       "(2, 2, 3, 3)"
      ]
     },
     "execution_count": 24,
     "metadata": {},
     "output_type": "execute_result"
    }
   ],
   "source": [
    "output_strided.shape"
   ]
  },
  {
   "cell_type": "code",
   "execution_count": 32,
   "metadata": {},
   "outputs": [
    {
     "data": {
      "text/plain": [
       "array([[[[281., 606., 378.],\n",
       "         [464., 740., 362.],\n",
       "         [224., 376., 247.]],\n",
       "\n",
       "        [[288., 558., 373.],\n",
       "         [469., 674., 302.],\n",
       "         [280., 364., 204.]]],\n",
       "\n",
       "\n",
       "       [[[309., 460., 279.],\n",
       "         [336., 739., 425.],\n",
       "         [223., 489., 279.]],\n",
       "\n",
       "        [[280., 469., 217.],\n",
       "         [363., 610., 486.],\n",
       "         [281., 429., 333.]]]])"
      ]
     },
     "execution_count": 32,
     "metadata": {},
     "output_type": "execute_result"
    }
   ],
   "source": [
    "output"
   ]
  },
  {
   "cell_type": "code",
   "execution_count": 33,
   "metadata": {},
   "outputs": [
    {
     "data": {
      "text/plain": [
       "array([[[[366, 420, 493],\n",
       "         [485, 547, 320],\n",
       "         [261, 361, 401]],\n",
       "\n",
       "        [[327, 393, 447],\n",
       "         [524, 464, 373],\n",
       "         [337, 306, 354]]],\n",
       "\n",
       "\n",
       "       [[[337, 309, 412],\n",
       "         [387, 143, 239],\n",
       "         [316, 309, 369]],\n",
       "\n",
       "        [[253, 368, 395],\n",
       "         [321, 158, 166],\n",
       "         [226, 245, 299]]]])"
      ]
     },
     "execution_count": 33,
     "metadata": {},
     "output_type": "execute_result"
    }
   ],
   "source": [
    "output_strided"
   ]
  },
  {
   "cell_type": "code",
   "execution_count": 31,
   "metadata": {},
   "outputs": [
    {
     "data": {
      "text/plain": [
       "False"
      ]
     },
     "execution_count": 31,
     "metadata": {},
     "output_type": "execute_result"
    }
   ],
   "source": [
    "np.allclose(output, output_strided)"
   ]
  },
  {
   "cell_type": "markdown",
   "metadata": {},
   "source": [
    "# outside codes"
   ]
  },
  {
   "cell_type": "code",
   "execution_count": 65,
   "metadata": {},
   "outputs": [],
   "source": [
    "import numpy as np\n",
    "import math\n",
    "class ConvolutionLayer():\n",
    "    def __init__(self, num_filters, kernel_size, stride=1, padding=0):\n",
    "        self.num_filters = num_filters\n",
    "        self.kernel_size = kernel_size\n",
    "        self.stride = stride\n",
    "        self.padding = padding\n",
    "        self.weights = weights.transpose(0,2,3,1)\n",
    "        self.biases = biases\n",
    "        self.weights_matrix = None\n",
    "        self.biases_vector = None\n",
    "        self.u_pad = None\n",
    "\n",
    "    def __str__(self):\n",
    "        return f'Conv(filter={self.num_filters}, kernel={self.kernel_size}, stride={self.stride}, padding={self.padding})'\n",
    "\n",
    "    def forward(self, u):\n",
    "        num_samples = u.shape[0]\n",
    "        input_dim = u.shape[1]\n",
    "        output_dim = math.floor(\n",
    "            (input_dim - self.kernel_size + 2 * self.padding) / self.stride) + 1\n",
    "        num_channels = u.shape[3]\n",
    "\n",
    "        if self.weights is None:\n",
    "            # ref: https://cs231n.github.io/neural-networks-2/#init\n",
    "            # ref: https://stats.stackexchange.com/questions/198840/cnn-xavier-weight-initialization\n",
    "            self.weights = np.random.randn(self.num_filters, self.kernel_size, self.kernel_size,\n",
    "                                           num_channels) * np.sqrt(2 / (self.kernel_size * self.kernel_size * num_channels))\n",
    "        if self.biases is None:\n",
    "            # ref: https://cs231n.github.io/neural-networks-2/#init\n",
    "            self.biases = np.zeros(self.num_filters)\n",
    "\n",
    "        self.u_pad = np.pad(\n",
    "            u, ((0,), (self.padding,), (self.padding,), (0,)), mode='constant')\n",
    "        v = np.zeros((num_samples, output_dim, output_dim, self.num_filters))\n",
    "\n",
    "        for k in range(num_samples):\n",
    "            for l in range(self.num_filters):\n",
    "                for i in range(output_dim):\n",
    "                    for j in range(output_dim):\n",
    "                        v[k, i, j, l] = np.sum(\n",
    "                            self.u_pad[k,\n",
    "                                       i * self.stride: i * self.stride + self.kernel_size,\n",
    "                                       j * self.stride: j * self.stride + self.kernel_size,\n",
    "                                       :\n",
    "                                       ] * self.weights[l]) + self.biases[l]\n",
    "\n",
    "        return v"
   ]
  },
  {
   "cell_type": "code",
   "execution_count": 66,
   "metadata": {},
   "outputs": [],
   "source": [
    "sahil_conv = ConvolutionLayer(num_filters=num_filters, kernel_size=filter_h, stride=stride, padding=padding)"
   ]
  },
  {
   "cell_type": "code",
   "execution_count": 67,
   "metadata": {},
   "outputs": [
    {
     "name": "stdout",
     "output_type": "stream",
     "text": [
      "Conv(filter=2, kernel=3, stride=2, padding=1)\n"
     ]
    }
   ],
   "source": [
    "print(sahil_conv)"
   ]
  },
  {
   "cell_type": "code",
   "execution_count": 68,
   "metadata": {},
   "outputs": [
    {
     "data": {
      "text/plain": [
       "(2, 3, 3, 3)"
      ]
     },
     "execution_count": 68,
     "metadata": {},
     "output_type": "execute_result"
    }
   ],
   "source": [
    "sahil_conv.weights.shape"
   ]
  },
  {
   "cell_type": "code",
   "execution_count": 59,
   "metadata": {},
   "outputs": [
    {
     "data": {
      "text/plain": [
       "array([[[[136., 143.],\n",
       "         [320., 233.],\n",
       "         [310., 289.]],\n",
       "\n",
       "        [[288., 279.],\n",
       "         [487., 487.],\n",
       "         [468., 453.]],\n",
       "\n",
       "        [[220., 193.],\n",
       "         [328., 281.],\n",
       "         [186., 188.]]],\n",
       "\n",
       "\n",
       "       [[[240., 385.],\n",
       "         [273., 272.],\n",
       "         [334., 326.]],\n",
       "\n",
       "        [[408., 349.],\n",
       "         [534., 508.],\n",
       "         [490., 537.]],\n",
       "\n",
       "        [[346., 266.],\n",
       "         [424., 308.],\n",
       "         [298., 293.]]]])"
      ]
     },
     "execution_count": 59,
     "metadata": {},
     "output_type": "execute_result"
    }
   ],
   "source": [
    "sahil_conv.forward(X.transpose(0,2,3,1))"
   ]
  },
  {
   "cell_type": "code",
   "execution_count": 73,
   "metadata": {},
   "outputs": [
    {
     "data": {
      "text/plain": [
       "array([[[[4, 1, 3],\n",
       "         [0, 7, 5],\n",
       "         [9, 5, 0],\n",
       "         [2, 5, 9],\n",
       "         [0, 9, 6]],\n",
       "\n",
       "        [[0, 0, 7],\n",
       "         [2, 5, 0],\n",
       "         [9, 0, 2],\n",
       "         [4, 9, 4],\n",
       "         [7, 5, 9]],\n",
       "\n",
       "        [[7, 8, 4],\n",
       "         [0, 3, 0],\n",
       "         [4, 7, 7],\n",
       "         [6, 7, 3],\n",
       "         [4, 8, 6]],\n",
       "\n",
       "        [[6, 5, 3],\n",
       "         [3, 4, 4],\n",
       "         [7, 2, 9],\n",
       "         [7, 6, 0],\n",
       "         [4, 2, 5]],\n",
       "\n",
       "        [[4, 6, 0],\n",
       "         [8, 5, 4],\n",
       "         [0, 3, 1],\n",
       "         [2, 8, 4],\n",
       "         [4, 3, 0]]],\n",
       "\n",
       "\n",
       "       [[[9, 9, 9],\n",
       "         [5, 6, 7],\n",
       "         [2, 0, 0],\n",
       "         [5, 4, 3],\n",
       "         [7, 5, 7]],\n",
       "\n",
       "        [[9, 8, 6],\n",
       "         [9, 0, 0],\n",
       "         [5, 3, 4],\n",
       "         [7, 7, 2],\n",
       "         [7, 8, 2]],\n",
       "\n",
       "        [[2, 6, 6],\n",
       "         [0, 1, 6],\n",
       "         [6, 7, 6],\n",
       "         [4, 3, 7],\n",
       "         [0, 9, 9]],\n",
       "\n",
       "        [[5, 7, 1],\n",
       "         [1, 4, 8],\n",
       "         [1, 3, 5],\n",
       "         [8, 6, 5],\n",
       "         [3, 8, 9]],\n",
       "\n",
       "        [[9, 5, 7],\n",
       "         [5, 9, 0],\n",
       "         [3, 6, 7],\n",
       "         [5, 6, 6],\n",
       "         [3, 6, 1]]]])"
      ]
     },
     "execution_count": 73,
     "metadata": {},
     "output_type": "execute_result"
    }
   ],
   "source": [
    "X.transpose(0,2,3,1).reshape(2,5,5,3)"
   ]
  },
  {
   "cell_type": "code",
   "execution_count": 60,
   "metadata": {},
   "outputs": [
    {
     "data": {
      "text/plain": [
       "array([[[[136., 320., 310.],\n",
       "         [288., 487., 468.],\n",
       "         [220., 328., 186.]],\n",
       "\n",
       "        [[143., 233., 289.],\n",
       "         [279., 487., 453.],\n",
       "         [193., 281., 188.]]],\n",
       "\n",
       "\n",
       "       [[[240., 273., 334.],\n",
       "         [408., 534., 490.],\n",
       "         [346., 424., 298.]],\n",
       "\n",
       "        [[385., 272., 326.],\n",
       "         [349., 508., 537.],\n",
       "         [266., 308., 293.]]]])"
      ]
     },
     "execution_count": 60,
     "metadata": {},
     "output_type": "execute_result"
    }
   ],
   "source": [
    "output"
   ]
  },
  {
   "cell_type": "code",
   "execution_count": 61,
   "metadata": {},
   "outputs": [
    {
     "data": {
      "text/plain": [
       "(2, 3, 5, 5)"
      ]
     },
     "execution_count": 61,
     "metadata": {},
     "output_type": "execute_result"
    }
   ],
   "source": [
    "X.shape"
   ]
  },
  {
   "cell_type": "code",
   "execution_count": 62,
   "metadata": {},
   "outputs": [
    {
     "data": {
      "text/plain": [
       "2"
      ]
     },
     "execution_count": 62,
     "metadata": {},
     "output_type": "execute_result"
    }
   ],
   "source": [
    "stride"
   ]
  },
  {
   "cell_type": "code",
   "execution_count": 63,
   "metadata": {},
   "outputs": [
    {
     "data": {
      "text/plain": [
       "(2, 3, 3, 3)"
      ]
     },
     "execution_count": 63,
     "metadata": {},
     "output_type": "execute_result"
    }
   ],
   "source": [
    "weights.shape"
   ]
  },
  {
   "cell_type": "code",
   "execution_count": 64,
   "metadata": {},
   "outputs": [
    {
     "data": {
      "text/plain": [
       "1"
      ]
     },
     "execution_count": 64,
     "metadata": {},
     "output_type": "execute_result"
    }
   ],
   "source": [
    "padding"
   ]
  },
  {
   "cell_type": "code",
   "execution_count": 87,
   "metadata": {},
   "outputs": [],
   "source": [
    "import numpy as np\n",
    "\n",
    "def get_indices_origin(X_shape, HF, WF, stride, pad):\n",
    "    \"\"\"\n",
    "        Returns index matrices in order to transform our input image into a matrix.\n",
    "\n",
    "        Parameters:\n",
    "        -X_shape: Input image shape.\n",
    "        -HF: filter height.\n",
    "        -WF: filter width.\n",
    "        -stride: stride value.\n",
    "        -pad: padding value.\n",
    "\n",
    "        Returns:\n",
    "        -i: matrix of index i.\n",
    "        -j: matrix of index j.\n",
    "        -d: matrix of index d. \n",
    "            (Use to mark delimitation for each channel\n",
    "            during multi-dimensional arrays indexing).\n",
    "    \"\"\"\n",
    "    # get input size\n",
    "    m, n_C, n_H, n_W = X_shape\n",
    "\n",
    "    # get output size\n",
    "    out_h = int((n_H + 2 * pad - HF) / stride) + 1\n",
    "    out_w = int((n_W + 2 * pad - WF) / stride) + 1\n",
    "\n",
    "    # ----Compute matrix of index i----\n",
    "\n",
    "    # Level 1 vector.\n",
    "    level1 = np.repeat(np.arange(HF), WF)\n",
    "    # Duplicate for the other channels.\n",
    "    level1 = np.tile(level1, n_C)\n",
    "    # Create a vector with an increase by 1 at each level.\n",
    "    everyLevels = stride * np.repeat(np.arange(out_h), out_w)\n",
    "    # Create matrix of index i at every levels for each channel.\n",
    "    i = level1.reshape(-1, 1) + everyLevels.reshape(1, -1)\n",
    "\n",
    "    # ----Compute matrix of index j----\n",
    "\n",
    "    # Slide 1 vector.\n",
    "    slide1 = np.tile(np.arange(WF), HF)\n",
    "    # Duplicate for the other channels.\n",
    "    slide1 = np.tile(slide1, n_C)\n",
    "    # Create a vector with an increase by 1 at each slide.\n",
    "    everySlides = stride * np.tile(np.arange(out_w), out_h)\n",
    "    # Create matrix of index j at every slides for each channel.\n",
    "    j = slide1.reshape(-1, 1) + everySlides.reshape(1, -1)\n",
    "\n",
    "    # ----Compute matrix of index d----\n",
    "\n",
    "    # This is to mark delimitation for each channel\n",
    "    # during multi-dimensional arrays indexing.\n",
    "    d = np.repeat(np.arange(n_C), HF * WF).reshape(-1, 1)\n",
    "\n",
    "    return i, j, d\n",
    "\n",
    "\n",
    "def im2col_origin(X, HF, WF, stride, pad):\n",
    "    \"\"\"\n",
    "        Transforms our input image into a matrix.\n",
    "\n",
    "        Parameters:\n",
    "        - X: input image.\n",
    "        - HF: filter height.\n",
    "        - WF: filter width.\n",
    "        - stride: stride value.\n",
    "        - pad: padding value.\n",
    "\n",
    "        Returns:\n",
    "        -cols: output matrix.\n",
    "    \"\"\"\n",
    "    # Padding\n",
    "    X_padded = np.pad(X, ((0, 0), (0, 0), (pad, pad),\n",
    "                      (pad, pad)), mode='constant')\n",
    "    i, j, d = get_indices(X.shape, HF, WF, stride, pad)\n",
    "    # Multi-dimensional arrays indexing.\n",
    "    cols = X_padded[:, d, i, j]\n",
    "    cols = np.concatenate(cols, axis=-1)\n",
    "    return cols"
   ]
  },
  {
   "cell_type": "code",
   "execution_count": 90,
   "metadata": {},
   "outputs": [],
   "source": [
    "import numpy as np\n",
    "\n",
    "\n",
    "def get_indices(X_shape, filter_h, filter_w, stride=1, padding=0):\n",
    "    # X_shape: (batch_size, num_channels, height, width)\n",
    "    # filter_h: int\n",
    "    # filter_w: int\n",
    "    # stride: int\n",
    "    # padding: int\n",
    "    # return:\n",
    "\n",
    "    batch_size, num_channels, height, width = X_shape\n",
    "\n",
    "    # output size\n",
    "    out_h = int((height - filter_h + 2 * padding) / stride + 1)\n",
    "    out_w = int((width - filter_w + 2 * padding) / stride + 1)\n",
    "\n",
    "    # indices\n",
    "\n",
    "    # h\n",
    "    # first level\n",
    "    h_indices = np.repeat(np.arange(filter_h), filter_w)\n",
    "    # duplicate for input channels\n",
    "    h_indices = np.tile(h_indices, num_channels)\n",
    "    # stride\n",
    "    h_init_points = stride * np.repeat(np.arange(out_h), out_w)\n",
    "\n",
    "    h = h_indices.reshape(-1, 1) + h_init_points.reshape(1, -1)\n",
    "\n",
    "    # w\n",
    "    # first level\n",
    "    w_indices = np.tile(np.arange(filter_w), filter_h)\n",
    "    # duplicate for input channels\n",
    "    w_indices = np.tile(w_indices, num_channels)\n",
    "    # stride\n",
    "    w_init_points = stride * np.tile(np.arange(out_w), out_h)\n",
    "\n",
    "    w = w_indices.reshape(-1, 1) + w_init_points.reshape(1, -1)\n",
    "\n",
    "    # d\n",
    "    d = np.repeat(np.arange(num_channels),\n",
    "                  filter_h * filter_w).reshape(-1, 1)\n",
    "\n",
    "    return h, w, d\n",
    "\n",
    "\n",
    "def im2col(X, filter_h, filter_w, stride=1, padding=0):\n",
    "    # X: (batch_size, num_channels, height, width)\n",
    "    # filter_h: int\n",
    "    # filter_w: int\n",
    "    # stride: int\n",
    "    # padding: int\n",
    "    # return:\n",
    "\n",
    "    # padding\n",
    "    X_padded = np.pad(X, ((0, 0),\n",
    "                          (0, 0),\n",
    "                          (padding, padding),\n",
    "                          (padding, padding)\n",
    "                          ), 'constant')\n",
    "    h, w, d = get_indices(X.shape, filter_h, filter_w, stride, padding)\n",
    "\n",
    "    X_cols = X_padded[:, d, h, w]\n",
    "    # X_cols = X_cols.transpose(1, 2, 0).reshape(\n",
    "    #     filter_h * filter_w * X.shape[1], -1)\n",
    "    X_cols = np.concatenate(X_cols, axis=-1)\n",
    "    return X_cols\n",
    "\n",
    "\n",
    "# def convolve(X, Y, stride=1, padding=0):\n",
    "#     # X: (batch_size, num_channels, height, width)\n",
    "#     # Y: (num_filters, num_channels, filter_height, filter_width)\n",
    "#     # stride: int\n",
    "#     # padding: int\n",
    "#     # return: (batch_size, num_filters, height, width)\n"
   ]
  },
  {
   "cell_type": "code",
   "execution_count": 91,
   "metadata": {},
   "outputs": [
    {
     "data": {
      "text/plain": [
       "array([[0, 0, 0, 0, 2, 4, 0, 3, 7, 0, 0, 0, 0, 9, 7, 0, 1, 8],\n",
       "       [0, 0, 0, 0, 9, 7, 6, 7, 4, 0, 0, 0, 9, 5, 7, 5, 1, 3],\n",
       "       [0, 0, 0, 2, 4, 0, 3, 7, 0, 0, 0, 0, 9, 7, 0, 1, 8, 0],\n",
       "       [0, 0, 2, 0, 0, 6, 0, 8, 2, 0, 5, 5, 0, 0, 4, 0, 5, 5],\n",
       "       [4, 9, 0, 7, 4, 4, 4, 0, 4, 9, 2, 7, 2, 6, 0, 9, 3, 3],\n",
       "       [0, 2, 0, 0, 6, 0, 8, 2, 0, 5, 5, 0, 0, 4, 0, 5, 5, 0],\n",
       "       [0, 2, 4, 0, 3, 7, 0, 0, 0, 0, 9, 7, 0, 1, 8, 0, 0, 0],\n",
       "       [0, 9, 7, 6, 7, 4, 0, 0, 0, 9, 5, 7, 5, 1, 3, 0, 0, 0],\n",
       "       [2, 4, 0, 3, 7, 0, 0, 0, 0, 9, 7, 0, 1, 8, 0, 0, 0, 0],\n",
       "       [0, 0, 0, 0, 5, 9, 0, 4, 6, 0, 0, 0, 0, 0, 7, 0, 4, 6],\n",
       "       [0, 0, 0, 0, 0, 5, 5, 2, 2, 0, 0, 0, 8, 3, 8, 7, 3, 8],\n",
       "       [0, 0, 0, 5, 9, 0, 4, 6, 0, 0, 0, 0, 0, 7, 0, 4, 6, 0],\n",
       "       [0, 7, 5, 0, 3, 7, 0, 5, 8, 0, 6, 4, 0, 1, 3, 0, 9, 6],\n",
       "       [1, 5, 9, 8, 7, 8, 6, 3, 3, 9, 0, 5, 6, 7, 9, 5, 6, 6],\n",
       "       [7, 5, 0, 3, 7, 0, 5, 8, 0, 6, 4, 0, 1, 3, 0, 9, 6, 0],\n",
       "       [0, 5, 9, 0, 4, 6, 0, 0, 0, 0, 0, 7, 0, 4, 6, 0, 0, 0],\n",
       "       [0, 0, 5, 5, 2, 2, 0, 0, 0, 8, 3, 8, 7, 3, 8, 0, 0, 0],\n",
       "       [5, 9, 0, 4, 6, 0, 0, 0, 0, 0, 7, 0, 4, 6, 0, 0, 0, 0],\n",
       "       [0, 0, 0, 0, 0, 4, 0, 4, 0, 0, 0, 0, 0, 0, 2, 0, 8, 5],\n",
       "       [0, 0, 0, 7, 2, 9, 3, 9, 5, 0, 0, 0, 6, 4, 2, 1, 5, 9],\n",
       "       [0, 0, 0, 0, 4, 0, 4, 0, 0, 0, 0, 0, 0, 2, 0, 8, 5, 0],\n",
       "       [0, 5, 9, 0, 0, 3, 0, 4, 4, 0, 7, 3, 0, 6, 7, 0, 0, 6],\n",
       "       [3, 0, 6, 4, 7, 6, 0, 1, 0, 9, 0, 7, 6, 6, 9, 7, 7, 1],\n",
       "       [5, 9, 0, 0, 3, 0, 4, 4, 0, 7, 3, 0, 6, 7, 0, 0, 6, 0],\n",
       "       [0, 0, 4, 0, 4, 0, 0, 0, 0, 0, 0, 2, 0, 8, 5, 0, 0, 0],\n",
       "       [7, 2, 9, 3, 9, 5, 0, 0, 0, 6, 4, 2, 1, 5, 9, 0, 0, 0],\n",
       "       [0, 4, 0, 4, 0, 0, 0, 0, 0, 0, 2, 0, 8, 5, 0, 0, 0, 0]])"
      ]
     },
     "execution_count": 91,
     "metadata": {},
     "output_type": "execute_result"
    }
   ],
   "source": [
    "im2col(X, filter_h, filter_w, stride, padding)"
   ]
  },
  {
   "cell_type": "code",
   "execution_count": 1,
   "metadata": {},
   "outputs": [],
   "source": [
    "from layer import Layer\n",
    "import numpy as np\n",
    "\n",
    "\n",
    "class FullyConnected(Layer):\n",
    "    def __init__(self, output_dim):\n",
    "        # self.output_dim = output dimension\n",
    "        self.output_dim = output_dim\n",
    "\n",
    "        # initialize weights and biases\n",
    "        # None, as we don't know the input shape yet\n",
    "        self.weights = None\n",
    "        self.bias = None\n",
    "\n",
    "    def forward(self, input):\n",
    "        # input: (batch_size, input_dim)\n",
    "        batch_size, input_dim = input.shape\n",
    "        self.input = input\n",
    "\n",
    "        # weights: (input_dim, output_dim)\n",
    "        # initialize weights xaiver initialization\n",
    "        if self.weights == None:\n",
    "            self.weights = np.random.randn(input_dim, self.output_dim) * (\n",
    "                np.sqrt(2 / (\n",
    "                    input_dim + self.output_dim\n",
    "                ))\n",
    "            )\n",
    "\n",
    "        # bias: (1, output_dim)\n",
    "        # initialize biases to 0\n",
    "        if self.bias == None:\n",
    "            self.bias = np.zeros((1, self.output_dim))\n",
    "\n",
    "        # output: (batch_size, output_dim)\n",
    "        output = np.matmul(input, self.weights) + self.bias\n",
    "        return output\n",
    "\n",
    "    def backward(self, output_error, learning_rate):\n",
    "        # output_error: (batch_size, output_dim)\n",
    "        # learning_rate: \n",
    "        # self.input: (batch_size, input_dim)\n",
    "        batch_size, output_dim = output_error.shape\n",
    "        \n",
    "        # weights: (input_dim, output_dim)\n",
    "        weights_error = np.matmul(self.input.T, output_error) * 1/batch_size\n",
    "        self.weights -= learning_rate * weights_error\n",
    "\n",
    "        # bias: (1, output_dim)\n",
    "        bias_error = np.sum(output_error, axis=0) * 1/batch_size\n",
    "        self.bias -= learning_rate * bias_error\n",
    "\n",
    "        # input_error: (batch_size, input_dim)\n",
    "        input_error = np.matmul(output_error, self.weights.T)\n",
    "        return input_error\n"
   ]
  },
  {
   "cell_type": "code",
   "execution_count": 2,
   "metadata": {},
   "outputs": [],
   "source": [
    "batch_size = 2\n",
    "input_dim = 10"
   ]
  },
  {
   "cell_type": "code",
   "execution_count": 3,
   "metadata": {},
   "outputs": [],
   "source": [
    "X = np.random.randint(1,100,(batch_size, input_dim))"
   ]
  },
  {
   "cell_type": "code",
   "execution_count": 4,
   "metadata": {},
   "outputs": [
    {
     "data": {
      "text/plain": [
       "array([[65, 83, 16, 94, 71,  3, 61, 90, 18, 40],\n",
       "       [ 7, 78, 93, 15, 50, 74, 44, 47, 75, 64]])"
      ]
     },
     "execution_count": 4,
     "metadata": {},
     "output_type": "execute_result"
    }
   ],
   "source": [
    "X"
   ]
  },
  {
   "cell_type": "code",
   "execution_count": 5,
   "metadata": {},
   "outputs": [],
   "source": [
    "fcl = FullyConnected(8)"
   ]
  },
  {
   "cell_type": "code",
   "execution_count": 6,
   "metadata": {},
   "outputs": [],
   "source": [
    "z = fcl.forward(X)"
   ]
  },
  {
   "cell_type": "code",
   "execution_count": 8,
   "metadata": {},
   "outputs": [
    {
     "data": {
      "text/plain": [
       "(2, 8)"
      ]
     },
     "execution_count": 8,
     "metadata": {},
     "output_type": "execute_result"
    }
   ],
   "source": [
    "z.shape"
   ]
  },
  {
   "cell_type": "code",
   "execution_count": 10,
   "metadata": {},
   "outputs": [],
   "source": [
    "dx = fcl.backward(z, 0.01)"
   ]
  },
  {
   "cell_type": "code",
   "execution_count": 12,
   "metadata": {},
   "outputs": [
    {
     "data": {
      "text/plain": [
       "(2, 10)"
      ]
     },
     "execution_count": 12,
     "metadata": {},
     "output_type": "execute_result"
    }
   ],
   "source": [
    "dx.shape"
   ]
  },
  {
   "cell_type": "code",
   "execution_count": 9,
   "metadata": {},
   "outputs": [
    {
     "data": {
      "text/plain": [
       "False"
      ]
     },
     "execution_count": 9,
     "metadata": {},
     "output_type": "execute_result"
    }
   ],
   "source": [
    "fcl.weights is None"
   ]
  },
  {
   "cell_type": "code",
   "execution_count": 13,
   "metadata": {},
   "outputs": [],
   "source": [
    "fcl2 = FullyConnected(10)"
   ]
  },
  {
   "cell_type": "code",
   "execution_count": 15,
   "metadata": {},
   "outputs": [],
   "source": [
    "z2 = fcl2.forward(z)"
   ]
  },
  {
   "cell_type": "code",
   "execution_count": 16,
   "metadata": {},
   "outputs": [
    {
     "data": {
      "text/plain": [
       "(2, 10)"
      ]
     },
     "execution_count": 16,
     "metadata": {},
     "output_type": "execute_result"
    }
   ],
   "source": [
    "z2.shape"
   ]
  },
  {
   "cell_type": "code",
   "execution_count": 17,
   "metadata": {},
   "outputs": [],
   "source": [
    "dx2 = fcl2.backward(z2, 0.01)"
   ]
  },
  {
   "cell_type": "code",
   "execution_count": 19,
   "metadata": {},
   "outputs": [],
   "source": [
    "dx1 = fcl.backward(dx2, 0.01)"
   ]
  },
  {
   "cell_type": "code",
   "execution_count": 20,
   "metadata": {},
   "outputs": [
    {
     "data": {
      "text/plain": [
       "(2, 10)"
      ]
     },
     "execution_count": 20,
     "metadata": {},
     "output_type": "execute_result"
    }
   ],
   "source": [
    "dx1.shape"
   ]
  },
  {
   "cell_type": "markdown",
   "metadata": {},
   "source": [
    "# max pool"
   ]
  },
  {
   "cell_type": "code",
   "execution_count": 21,
   "metadata": {},
   "outputs": [],
   "source": [
    "batch_size = 2\n",
    "num_channels = 3\n",
    "height = 5\n",
    "width = 5"
   ]
  },
  {
   "cell_type": "code",
   "execution_count": 22,
   "metadata": {},
   "outputs": [],
   "source": [
    "X = np.random.randint(1,100,(batch_size, num_channels, height, width))"
   ]
  },
  {
   "cell_type": "code",
   "execution_count": 23,
   "metadata": {},
   "outputs": [
    {
     "data": {
      "text/plain": [
       "array([[[[46, 39, 75, 29,  7],\n",
       "         [ 5, 65, 11, 38, 37],\n",
       "         [76, 97, 70, 22, 94],\n",
       "         [88, 94, 16,  3, 77],\n",
       "         [89, 16, 41, 47, 87]],\n",
       "\n",
       "        [[87, 71, 48, 17, 42],\n",
       "         [27, 98, 26, 80,  1],\n",
       "         [41, 94, 81, 44, 82],\n",
       "         [54,  2,  8, 45,  1],\n",
       "         [38, 98, 18, 42, 37]],\n",
       "\n",
       "        [[11, 30, 96, 91, 73],\n",
       "         [ 8, 69, 64,  5, 11],\n",
       "         [57, 29, 52, 93, 95],\n",
       "         [75, 38, 37, 30, 82],\n",
       "         [22, 70, 20, 44, 18]]],\n",
       "\n",
       "\n",
       "       [[[30, 53, 74, 71, 40],\n",
       "         [79, 86, 77, 80,  5],\n",
       "         [62, 85, 21, 45, 47],\n",
       "         [86, 86, 55, 73,  4],\n",
       "         [74, 48, 62, 66, 20]],\n",
       "\n",
       "        [[78, 60, 28, 71, 36],\n",
       "         [57, 59, 88, 32, 40],\n",
       "         [ 4, 29, 95, 17, 34],\n",
       "         [83, 78, 31,  3, 33],\n",
       "         [ 2,  7, 93, 68, 46]],\n",
       "\n",
       "        [[90, 24, 59, 54, 66],\n",
       "         [94, 29,  6, 30, 76],\n",
       "         [33, 26, 56, 38, 14],\n",
       "         [47, 68, 29, 30, 45],\n",
       "         [40, 63, 11, 48, 98]]]])"
      ]
     },
     "execution_count": 23,
     "metadata": {},
     "output_type": "execute_result"
    }
   ],
   "source": [
    "X"
   ]
  },
  {
   "cell_type": "code",
   "execution_count": 24,
   "metadata": {},
   "outputs": [
    {
     "data": {
      "text/plain": [
       "array([[[[46, 39],\n",
       "         [ 5, 65]],\n",
       "\n",
       "        [[87, 71],\n",
       "         [27, 98]],\n",
       "\n",
       "        [[11, 30],\n",
       "         [ 8, 69]]],\n",
       "\n",
       "\n",
       "       [[[30, 53],\n",
       "         [79, 86]],\n",
       "\n",
       "        [[78, 60],\n",
       "         [57, 59]],\n",
       "\n",
       "        [[90, 24],\n",
       "         [94, 29]]]])"
      ]
     },
     "execution_count": 24,
     "metadata": {},
     "output_type": "execute_result"
    }
   ],
   "source": [
    "X[:,:,:2,:2]"
   ]
  },
  {
   "cell_type": "code",
   "execution_count": 25,
   "metadata": {},
   "outputs": [],
   "source": [
    "sliced_X = X[:,:,:2,:2]"
   ]
  },
  {
   "cell_type": "code",
   "execution_count": 27,
   "metadata": {},
   "outputs": [],
   "source": [
    "max_pooled = np.max(sliced_X, axis=(2,3))"
   ]
  },
  {
   "cell_type": "code",
   "execution_count": 36,
   "metadata": {},
   "outputs": [
    {
     "data": {
      "text/plain": [
       "array([[[[ 3, 77],\n",
       "         [47, 87]],\n",
       "\n",
       "        [[45,  1],\n",
       "         [42, 37]],\n",
       "\n",
       "        [[30, 82],\n",
       "         [44, 18]]],\n",
       "\n",
       "\n",
       "       [[[73,  4],\n",
       "         [66, 20]],\n",
       "\n",
       "        [[ 3, 33],\n",
       "         [68, 46]],\n",
       "\n",
       "        [[30, 45],\n",
       "         [48, 98]]]])"
      ]
     },
     "execution_count": 36,
     "metadata": {},
     "output_type": "execute_result"
    }
   ],
   "source": [
    "sliced_X"
   ]
  },
  {
   "cell_type": "code",
   "execution_count": 38,
   "metadata": {},
   "outputs": [
    {
     "data": {
      "text/plain": [
       "(1, 2, 1, 1)"
      ]
     },
     "execution_count": 38,
     "metadata": {},
     "output_type": "execute_result"
    }
   ],
   "source": [
    "# np.argmax(sliced_X, axis=(2,3))\n",
    "np.unravel_index(sliced_X.argmax(), sliced_X.shape)"
   ]
  },
  {
   "cell_type": "code",
   "execution_count": 29,
   "metadata": {},
   "outputs": [
    {
     "data": {
      "text/plain": [
       "array([[[65],\n",
       "        [98],\n",
       "        [69]],\n",
       "\n",
       "       [[86],\n",
       "        [78],\n",
       "        [94]]])"
      ]
     },
     "execution_count": 29,
     "metadata": {},
     "output_type": "execute_result"
    }
   ],
   "source": [
    "max_pooled.reshape(2,3,1)"
   ]
  },
  {
   "cell_type": "code",
   "execution_count": 30,
   "metadata": {},
   "outputs": [],
   "source": [
    "stride = 3\n",
    "filter_h = 2\n",
    "filter_w = 2"
   ]
  },
  {
   "cell_type": "code",
   "execution_count": 31,
   "metadata": {},
   "outputs": [],
   "source": [
    "out_h = int((height - filter_h) / stride + 1)\n",
    "out_w = int((width - filter_w) / stride + 1)"
   ]
  },
  {
   "cell_type": "code",
   "execution_count": 32,
   "metadata": {},
   "outputs": [],
   "source": [
    "output = np.zeros((batch_size, num_channels, out_h, out_w))"
   ]
  },
  {
   "cell_type": "code",
   "execution_count": 33,
   "metadata": {},
   "outputs": [],
   "source": [
    "for h_index in range(out_h):\n",
    "    for w_index in range(out_w):\n",
    "        sliced_X = X[\n",
    "            :,\n",
    "            :,\n",
    "            h_index * stride:h_index * stride + filter_h,\n",
    "            w_index * stride:w_index * stride + filter_w\n",
    "        ]\n",
    "        output[:,:, h_index, w_index] = np.max(sliced_X, axis=(2,3))"
   ]
  },
  {
   "cell_type": "code",
   "execution_count": 34,
   "metadata": {},
   "outputs": [
    {
     "data": {
      "text/plain": [
       "(2, 3, 2, 2)"
      ]
     },
     "execution_count": 34,
     "metadata": {},
     "output_type": "execute_result"
    }
   ],
   "source": [
    "output.shape"
   ]
  },
  {
   "cell_type": "code",
   "execution_count": 35,
   "metadata": {},
   "outputs": [
    {
     "data": {
      "text/plain": [
       "array([[[[65., 38.],\n",
       "         [94., 87.]],\n",
       "\n",
       "        [[98., 80.],\n",
       "         [98., 45.]],\n",
       "\n",
       "        [[69., 91.],\n",
       "         [75., 82.]]],\n",
       "\n",
       "\n",
       "       [[[86., 80.],\n",
       "         [86., 73.]],\n",
       "\n",
       "        [[78., 71.],\n",
       "         [83., 68.]],\n",
       "\n",
       "        [[94., 76.],\n",
       "         [68., 98.]]]])"
      ]
     },
     "execution_count": 35,
     "metadata": {},
     "output_type": "execute_result"
    }
   ],
   "source": [
    "output"
   ]
  },
  {
   "cell_type": "code",
   "execution_count": null,
   "metadata": {},
   "outputs": [],
   "source": []
  },
  {
   "cell_type": "markdown",
   "metadata": {},
   "source": [
    "# convolution"
   ]
  },
  {
   "cell_type": "code",
   "execution_count": 10,
   "metadata": {},
   "outputs": [],
   "source": [
    "from layer import Layer\n",
    "from utils import *\n",
    "import numpy as np\n",
    "\n",
    "\n",
    "class Convolution(Layer):\n",
    "    def __init__(self, num_filters, filter_dim, stride=1, padding=0):\n",
    "        # num_filters: number of output channels\n",
    "        # filter_dim: filter dimension (height, width)\n",
    "        # stride: stride of the convolution. default: 1\n",
    "        # padding: padding of the input (assuming zero padding and square padding). default: 0\n",
    "\n",
    "        self.num_filters = num_filters\n",
    "        self.filter_height, self.filter_width = filter_dim\n",
    "        self.stride = stride\n",
    "        self.padding = padding\n",
    "\n",
    "        # initialize weights and biases\n",
    "        # None, as we don't know the input shape yet\n",
    "        self.weights = None\n",
    "        self.biases = None\n",
    "\n",
    "    def forward(self, input):\n",
    "        # input: (batch_size, num_channels, input_height, input_width)\n",
    "        batch_size, num_channels, input_height, input_width = input.shape\n",
    "\n",
    "        # weights: (num_filters, num_channels, filter_height, filter_width)\n",
    "        # initialize weights xaiver initialization\n",
    "        if self.weights is None:\n",
    "            self.weights = np.random.randn(self.num_filters, num_channels, self.filter_height, self.filter_width) * (\n",
    "                np.sqrt(2 / (\n",
    "                    self.filter_height * self.filter_width\n",
    "                ))\n",
    "            )\n",
    "\n",
    "        # biases: (num_filters, 1)\n",
    "        # initialize biases to 0\n",
    "        if self.biases is None:\n",
    "            self.biases = np.zeros(self.num_filters)\n",
    "\n",
    "        # output: (batch_size, num_filters, output_height, output_width)\n",
    "        output_height = int((input_height - self.filter_height +\n",
    "                            2 * self.padding) / self.stride + 1)\n",
    "        output_width = int((input_width - self.filter_width + 2 *\n",
    "                           self.padding) / self.stride + 1)\n",
    "\n",
    "        output = np.zeros((batch_size, self.num_filters,\n",
    "                          output_height, output_width))\n",
    "\n",
    "        # np.pad: Number of values padded to the edges of each axis.\n",
    "        # ((before_1, after_1), ... (before_N, after_N)) unique pad widths for each axis.\n",
    "        # pad with 'constant' values. default: 0\n",
    "        input_padded = np.pad(input, ((0, 0),\n",
    "                                      (0, 0),\n",
    "                                      (self.padding, self.padding),\n",
    "                                      (self.padding, self.padding)\n",
    "                                      ), 'constant')\n",
    "\n",
    "        for sample_index in range(batch_size):\n",
    "            for filter_index in range(self.num_filters):\n",
    "                for h in range(output_height):\n",
    "                    for w in range(output_width):\n",
    "                        output[sample_index, filter_index, h, w] = np.sum(\n",
    "                            input_padded[sample_index,\n",
    "                                         :,\n",
    "                                         h * self.stride:h * self.stride + self.filter_height,\n",
    "                                         w * self.stride:w * self.stride + self.filter_width\n",
    "                                         ] * self.weights[filter_index]\n",
    "                        ) + self.biases[filter_index]\n",
    "\n",
    "        # vectorized implementation\n",
    "        input_col = im2col(input, self.filter_height,\n",
    "                           self.filter_width, self.stride, self.padding)\n",
    "        weights_col = self.weights.reshape(self.num_filters, -1)\n",
    "        bias_col = self.biases.reshape(-1, 1)\n",
    "\n",
    "        output_col = np.matmul(weights_col, input_col) + bias_col\n",
    "\n",
    "        output_im2col = np.array(np.hsplit(output_col, batch_size)).reshape(\n",
    "            (batch_size, self.num_filters, output_height, output_width))\n",
    "        \n",
    "        # as strided\n",
    "        X_strided = np.lib.stride_tricks.as_strided(\n",
    "            input_padded,\n",
    "            shape=(\n",
    "                batch_size,\n",
    "                num_channels,\n",
    "                output_height,\n",
    "                output_width,\n",
    "                self.filter_height,\n",
    "                self.filter_width\n",
    "                ),\n",
    "            strides=(\n",
    "                input_padded.strides[0],\n",
    "                input_padded.strides[1],\n",
    "                input_padded.strides[2] * self.stride,\n",
    "                input_padded.strides[3] * self.stride,\n",
    "                input_padded.strides[2],\n",
    "                input_padded.strides[3]\n",
    "            )\n",
    "        )\n",
    "        # einsum\n",
    "        output_einsum = np.einsum(\n",
    "            'bcijkl,fckl->bfij',\n",
    "            X_strided, self.weights\n",
    "        )\n",
    "\n",
    "        return output, output_im2col, output_einsum"
   ]
  },
  {
   "cell_type": "code",
   "execution_count": 11,
   "metadata": {},
   "outputs": [],
   "source": [
    "batch_size = 2\n",
    "num_channels = 3\n",
    "height = 5\n",
    "width = 5\n",
    "num_filters = 2\n",
    "filter_dim = (3, 3)\n",
    "stride = 2\n",
    "padding = 1"
   ]
  },
  {
   "cell_type": "code",
   "execution_count": 12,
   "metadata": {},
   "outputs": [],
   "source": [
    "conv = Convolution(num_filters, filter_dim, stride, padding)"
   ]
  },
  {
   "cell_type": "code",
   "execution_count": 13,
   "metadata": {},
   "outputs": [],
   "source": [
    "X = np.random.randint(1,100,(batch_size, num_channels, height, width))"
   ]
  },
  {
   "cell_type": "code",
   "execution_count": 14,
   "metadata": {},
   "outputs": [
    {
     "data": {
      "text/plain": [
       "(2, 3, 5, 5)"
      ]
     },
     "execution_count": 14,
     "metadata": {},
     "output_type": "execute_result"
    }
   ],
   "source": [
    "X.shape"
   ]
  },
  {
   "cell_type": "code",
   "execution_count": 15,
   "metadata": {},
   "outputs": [],
   "source": [
    "output, output_im2col, output_einsum = conv.forward(X)"
   ]
  },
  {
   "cell_type": "code",
   "execution_count": 16,
   "metadata": {},
   "outputs": [
    {
     "data": {
      "text/plain": [
       "(2, 2, 3, 3)"
      ]
     },
     "execution_count": 16,
     "metadata": {},
     "output_type": "execute_result"
    }
   ],
   "source": [
    "output.shape"
   ]
  },
  {
   "cell_type": "code",
   "execution_count": 17,
   "metadata": {},
   "outputs": [
    {
     "data": {
      "text/plain": [
       "(2, 2, 3, 3)"
      ]
     },
     "execution_count": 17,
     "metadata": {},
     "output_type": "execute_result"
    }
   ],
   "source": [
    "output_im2col.shape"
   ]
  },
  {
   "cell_type": "code",
   "execution_count": 18,
   "metadata": {},
   "outputs": [
    {
     "data": {
      "text/plain": [
       "(2, 2, 3, 3)"
      ]
     },
     "execution_count": 18,
     "metadata": {},
     "output_type": "execute_result"
    }
   ],
   "source": [
    "output_einsum.shape"
   ]
  },
  {
   "cell_type": "code",
   "execution_count": 19,
   "metadata": {},
   "outputs": [
    {
     "data": {
      "text/plain": [
       "True"
      ]
     },
     "execution_count": 19,
     "metadata": {},
     "output_type": "execute_result"
    }
   ],
   "source": [
    "np.allclose(output, output_im2col)"
   ]
  },
  {
   "cell_type": "code",
   "execution_count": 20,
   "metadata": {},
   "outputs": [
    {
     "data": {
      "text/plain": [
       "True"
      ]
     },
     "execution_count": 20,
     "metadata": {},
     "output_type": "execute_result"
    }
   ],
   "source": [
    "np.allclose(output, output_einsum)"
   ]
  },
  {
   "cell_type": "code",
   "execution_count": 21,
   "metadata": {},
   "outputs": [
    {
     "data": {
      "text/plain": [
       "True"
      ]
     },
     "execution_count": 21,
     "metadata": {},
     "output_type": "execute_result"
    }
   ],
   "source": [
    "np.allclose(output_im2col, output_einsum)"
   ]
  },
  {
   "cell_type": "markdown",
   "metadata": {},
   "source": [
    "# read"
   ]
  },
  {
   "cell_type": "code",
   "execution_count": 23,
   "metadata": {},
   "outputs": [],
   "source": [
    "import cv2"
   ]
  },
  {
   "cell_type": "code",
   "execution_count": 24,
   "metadata": {},
   "outputs": [],
   "source": [
    "from pathlib import Path"
   ]
  },
  {
   "cell_type": "code",
   "execution_count": 26,
   "metadata": {},
   "outputs": [
    {
     "data": {
      "text/plain": [
       "[WindowsPath('basic_components.py'),\n",
       " WindowsPath('convolution.py'),\n",
       " WindowsPath('flattening.py'),\n",
       " WindowsPath('fullyconnected.py'),\n",
       " WindowsPath('layer.py'),\n",
       " WindowsPath('maxpooling.py'),\n",
       " WindowsPath('model.py'),\n",
       " WindowsPath('relu.py'),\n",
       " WindowsPath('softmax.py'),\n",
       " WindowsPath('testing.ipynb'),\n",
       " WindowsPath('testing.py'),\n",
       " WindowsPath('utils.py'),\n",
       " WindowsPath('__pycache__')]"
      ]
     },
     "execution_count": 26,
     "metadata": {},
     "output_type": "execute_result"
    }
   ],
   "source": [
    "list(Path('.').iterdir())"
   ]
  },
  {
   "cell_type": "code",
   "execution_count": 61,
   "metadata": {},
   "outputs": [],
   "source": [
    "def load_image(folder_path, count):\n",
    "    image_size = (28,28)\n",
    "    folder_path = Path(folder_path)\n",
    "    file_list = list(folder_path.iterdir())\n",
    "    # print(file_list)\n",
    "    images = []\n",
    "    for i, filename in enumerate(file_list):\n",
    "        # print(filename)\n",
    "        # read image\n",
    "        image = cv2.imread(str(filename))\n",
    "        # resize\n",
    "        image = cv2.resize(image, image_size)\n",
    "        # convert to rgb\n",
    "        image = cv2.cvtColor(image, cv2.COLOR_BGR2RGB)\n",
    "        # black ink on white page. invert\n",
    "        image = 255 - image\n",
    "        # normalize\n",
    "        image = image / 255\n",
    "        # channel, height, width\n",
    "        image = image.transpose(2, 0, 1)\n",
    "        images.append(image)\n",
    "        if i == count:\n",
    "            break\n",
    "    return np.array(images)"
   ]
  },
  {
   "cell_type": "code",
   "execution_count": 62,
   "metadata": {},
   "outputs": [],
   "source": [
    "images = load_image('../Assignment4-Materials/NumtaDB_with_aug/training-a/', count=100)"
   ]
  },
  {
   "cell_type": "code",
   "execution_count": 63,
   "metadata": {},
   "outputs": [
    {
     "data": {
      "text/plain": [
       "101"
      ]
     },
     "execution_count": 63,
     "metadata": {},
     "output_type": "execute_result"
    }
   ],
   "source": [
    "len(images)"
   ]
  },
  {
   "cell_type": "code",
   "execution_count": 53,
   "metadata": {},
   "outputs": [],
   "source": [
    "import matplotlib.pyplot as plt"
   ]
  },
  {
   "cell_type": "code",
   "execution_count": 66,
   "metadata": {},
   "outputs": [
    {
     "data": {
      "text/plain": [
       "<matplotlib.image.AxesImage at 0x24c195b3940>"
      ]
     },
     "execution_count": 66,
     "metadata": {},
     "output_type": "execute_result"
    },
    {
     "data": {
      "image/png": "[encoded data removed]",
      "text/plain": [
       "<Figure size 432x288 with 1 Axes>"
      ]
     },
     "metadata": {
      "needs_background": "light"
     },
     "output_type": "display_data"
    }
   ],
   "source": [
    "plt.imshow(images[0].transpose(1,2,0))"
   ]
  },
  {
   "cell_type": "code",
   "execution_count": 60,
   "metadata": {},
   "outputs": [],
   "source": [
    "import pandas as pd"
   ]
  },
  {
   "cell_type": "code",
   "execution_count": 74,
   "metadata": {},
   "outputs": [],
   "source": [
    "# load label from csv\n",
    "csv_path = Path('../Assignment4-Materials/NumtaDB_with_aug/training-a.csv')\n",
    "dataframe = pd.read_csv(csv_path)"
   ]
  },
  {
   "cell_type": "code",
   "execution_count": 75,
   "metadata": {},
   "outputs": [],
   "source": [
    "# take first 100 digits\n",
    "datafram_head = dataframe[:100]"
   ]
  },
  {
   "cell_type": "code",
   "execution_count": 77,
   "metadata": {},
   "outputs": [],
   "source": [
    "y = np.array(datafram_head['digit'])"
   ]
  },
  {
   "cell_type": "code",
   "execution_count": 79,
   "metadata": {},
   "outputs": [
    {
     "data": {
      "text/plain": [
       "(100,)"
      ]
     },
     "execution_count": 79,
     "metadata": {},
     "output_type": "execute_result"
    }
   ],
   "source": [
    "y.shape"
   ]
  },
  {
   "cell_type": "code",
   "execution_count": 80,
   "metadata": {},
   "outputs": [
    {
     "data": {
      "text/plain": [
       "array([[0, 0, 0, 0, 0, 1, 0, 0, 0, 0],\n",
       "       [0, 0, 0, 1, 0, 0, 0, 0, 0, 0],\n",
       "       [0, 1, 0, 0, 0, 0, 0, 0, 0, 0],\n",
       "       [0, 0, 0, 0, 0, 0, 0, 1, 0, 0],\n",
       "       [1, 0, 0, 0, 0, 0, 0, 0, 0, 0],\n",
       "       [0, 0, 0, 0, 1, 0, 0, 0, 0, 0],\n",
       "       [0, 0, 0, 1, 0, 0, 0, 0, 0, 0],\n",
       "       [1, 0, 0, 0, 0, 0, 0, 0, 0, 0],\n",
       "       [0, 0, 0, 0, 1, 0, 0, 0, 0, 0],\n",
       "       [0, 0, 0, 0, 0, 0, 0, 0, 0, 1],\n",
       "       [0, 0, 0, 0, 0, 0, 0, 1, 0, 0],\n",
       "       [0, 0, 0, 1, 0, 0, 0, 0, 0, 0],\n",
       "       [0, 0, 0, 0, 0, 1, 0, 0, 0, 0],\n",
       "       [0, 0, 0, 0, 0, 0, 0, 0, 1, 0],\n",
       "       [0, 1, 0, 0, 0, 0, 0, 0, 0, 0],\n",
       "       [0, 0, 1, 0, 0, 0, 0, 0, 0, 0],\n",
       "       [0, 1, 0, 0, 0, 0, 0, 0, 0, 0],\n",
       "       [0, 0, 0, 0, 0, 0, 1, 0, 0, 0],\n",
       "       [0, 0, 0, 0, 1, 0, 0, 0, 0, 0],\n",
       "       [1, 0, 0, 0, 0, 0, 0, 0, 0, 0],\n",
       "       [0, 1, 0, 0, 0, 0, 0, 0, 0, 0],\n",
       "       [0, 0, 0, 0, 0, 0, 0, 0, 0, 1],\n",
       "       [0, 0, 0, 0, 0, 0, 1, 0, 0, 0],\n",
       "       [0, 0, 0, 0, 0, 1, 0, 0, 0, 0],\n",
       "       [0, 0, 0, 0, 0, 0, 0, 1, 0, 0],\n",
       "       [0, 0, 0, 0, 0, 0, 0, 1, 0, 0],\n",
       "       [0, 0, 0, 0, 0, 0, 0, 1, 0, 0],\n",
       "       [0, 0, 0, 0, 0, 0, 1, 0, 0, 0],\n",
       "       [0, 0, 0, 0, 0, 1, 0, 0, 0, 0],\n",
       "       [0, 0, 0, 0, 0, 0, 0, 0, 1, 0],\n",
       "       [0, 0, 0, 0, 0, 0, 0, 0, 0, 1],\n",
       "       [0, 0, 0, 0, 0, 0, 0, 1, 0, 0],\n",
       "       [0, 0, 1, 0, 0, 0, 0, 0, 0, 0],\n",
       "       [0, 0, 0, 1, 0, 0, 0, 0, 0, 0],\n",
       "       [0, 1, 0, 0, 0, 0, 0, 0, 0, 0],\n",
       "       [0, 0, 0, 0, 0, 0, 1, 0, 0, 0],\n",
       "       [0, 0, 0, 0, 0, 0, 0, 0, 0, 1],\n",
       "       [0, 0, 0, 0, 0, 0, 0, 1, 0, 0],\n",
       "       [1, 0, 0, 0, 0, 0, 0, 0, 0, 0],\n",
       "       [0, 0, 0, 0, 1, 0, 0, 0, 0, 0],\n",
       "       [0, 0, 0, 0, 0, 0, 0, 0, 0, 1],\n",
       "       [0, 0, 0, 0, 0, 1, 0, 0, 0, 0],\n",
       "       [0, 1, 0, 0, 0, 0, 0, 0, 0, 0],\n",
       "       [0, 0, 0, 0, 0, 0, 0, 0, 1, 0],\n",
       "       [0, 1, 0, 0, 0, 0, 0, 0, 0, 0],\n",
       "       [0, 1, 0, 0, 0, 0, 0, 0, 0, 0],\n",
       "       [0, 0, 0, 0, 1, 0, 0, 0, 0, 0],\n",
       "       [0, 0, 0, 0, 0, 0, 0, 1, 0, 0],\n",
       "       [0, 0, 0, 0, 0, 1, 0, 0, 0, 0],\n",
       "       [0, 1, 0, 0, 0, 0, 0, 0, 0, 0],\n",
       "       [0, 1, 0, 0, 0, 0, 0, 0, 0, 0],\n",
       "       [1, 0, 0, 0, 0, 0, 0, 0, 0, 0],\n",
       "       [0, 0, 0, 1, 0, 0, 0, 0, 0, 0],\n",
       "       [0, 0, 0, 0, 0, 0, 0, 1, 0, 0],\n",
       "       [0, 0, 0, 0, 0, 0, 0, 0, 0, 1],\n",
       "       [0, 0, 0, 0, 0, 0, 1, 0, 0, 0],\n",
       "       [0, 0, 0, 0, 0, 0, 1, 0, 0, 0],\n",
       "       [0, 0, 0, 0, 0, 0, 0, 0, 0, 1],\n",
       "       [0, 0, 0, 1, 0, 0, 0, 0, 0, 0],\n",
       "       [0, 0, 1, 0, 0, 0, 0, 0, 0, 0],\n",
       "       [0, 0, 0, 1, 0, 0, 0, 0, 0, 0],\n",
       "       [0, 0, 0, 0, 0, 0, 0, 1, 0, 0],\n",
       "       [0, 0, 0, 0, 0, 1, 0, 0, 0, 0],\n",
       "       [0, 0, 0, 0, 0, 0, 0, 1, 0, 0],\n",
       "       [0, 0, 1, 0, 0, 0, 0, 0, 0, 0],\n",
       "       [0, 0, 0, 0, 0, 1, 0, 0, 0, 0],\n",
       "       [0, 0, 0, 0, 0, 1, 0, 0, 0, 0],\n",
       "       [0, 1, 0, 0, 0, 0, 0, 0, 0, 0],\n",
       "       [0, 1, 0, 0, 0, 0, 0, 0, 0, 0],\n",
       "       [0, 0, 1, 0, 0, 0, 0, 0, 0, 0],\n",
       "       [0, 0, 0, 1, 0, 0, 0, 0, 0, 0],\n",
       "       [0, 0, 1, 0, 0, 0, 0, 0, 0, 0],\n",
       "       [0, 0, 0, 0, 1, 0, 0, 0, 0, 0],\n",
       "       [0, 0, 0, 0, 0, 1, 0, 0, 0, 0],\n",
       "       [0, 1, 0, 0, 0, 0, 0, 0, 0, 0],\n",
       "       [0, 0, 1, 0, 0, 0, 0, 0, 0, 0],\n",
       "       [0, 0, 0, 0, 0, 1, 0, 0, 0, 0],\n",
       "       [0, 0, 0, 0, 1, 0, 0, 0, 0, 0],\n",
       "       [0, 0, 0, 0, 0, 0, 0, 0, 1, 0],\n",
       "       [1, 0, 0, 0, 0, 0, 0, 0, 0, 0],\n",
       "       [0, 0, 0, 0, 1, 0, 0, 0, 0, 0],\n",
       "       [0, 0, 0, 0, 0, 0, 0, 1, 0, 0],\n",
       "       [0, 0, 0, 0, 1, 0, 0, 0, 0, 0],\n",
       "       [0, 0, 0, 0, 0, 0, 0, 0, 1, 0],\n",
       "       [0, 0, 0, 0, 0, 0, 0, 1, 0, 0],\n",
       "       [0, 0, 0, 0, 0, 0, 0, 0, 1, 0],\n",
       "       [1, 0, 0, 0, 0, 0, 0, 0, 0, 0],\n",
       "       [0, 0, 0, 0, 0, 1, 0, 0, 0, 0],\n",
       "       [0, 0, 0, 0, 1, 0, 0, 0, 0, 0],\n",
       "       [1, 0, 0, 0, 0, 0, 0, 0, 0, 0],\n",
       "       [0, 0, 0, 0, 1, 0, 0, 0, 0, 0],\n",
       "       [0, 0, 0, 1, 0, 0, 0, 0, 0, 0],\n",
       "       [0, 1, 0, 0, 0, 0, 0, 0, 0, 0],\n",
       "       [0, 0, 1, 0, 0, 0, 0, 0, 0, 0],\n",
       "       [0, 0, 0, 0, 0, 0, 1, 0, 0, 0],\n",
       "       [0, 0, 0, 0, 0, 0, 1, 0, 0, 0],\n",
       "       [0, 0, 0, 0, 0, 0, 0, 0, 1, 0],\n",
       "       [0, 0, 0, 0, 0, 1, 0, 0, 0, 0],\n",
       "       [0, 0, 0, 0, 0, 0, 1, 0, 0, 0],\n",
       "       [0, 1, 0, 0, 0, 0, 0, 0, 0, 0]])"
      ]
     },
     "execution_count": 80,
     "metadata": {},
     "output_type": "execute_result"
    }
   ],
   "source": [
    "np.eye(10)[y].astype(int)"
   ]
  }
 ],
 "metadata": {
  "kernelspec": {
   "display_name": "Python 3.10.5 64-bit",
   "language": "python",
   "name": "python3"
  },
  "language_info": {
   "codemirror_mode": {
    "name": "ipython",
    "version": 3
   },
   "file_extension": ".py",
   "mimetype": "text/x-python",
   "name": "python",
   "nbconvert_exporter": "python",
   "pygments_lexer": "ipython3",
   "version": "3.10.5"
  },
  "orig_nbformat": 4,
  "vscode": {
   "interpreter": {
    "hash": "df95319d8ce4e1d89f5365ae10992bc1f65da593082b1d264e8f529830ec2f02"
   }
  }
 },
 "nbformat": 4,
 "nbformat_minor": 2
}
